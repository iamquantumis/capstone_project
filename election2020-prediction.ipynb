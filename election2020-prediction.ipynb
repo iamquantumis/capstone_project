{
 "cells": [
  {
   "cell_type": "markdown",
   "metadata": {},
   "source": [
    "## US Election 2020 Twitter Sentiment Analysis \n",
    "\n",
    "There are plenty of existing population polls trying to predict the outcome of a Presidential election. It would be of interest to perform ML sentiment analysis of a sample of past Twitter feeds (before it became X) to see how accurate it would be. Of course it begs the question if the sample population in Twitter has a diverse representation. On the other hand, the same can be said of the traditional polls and whether their samples are also diverse. \n",
    "\n",
    "#### Dataset \n",
    "I plan to use the [US Election 2020 Sample Dataset](https://www.kaggle.com/datasets/manchunhui/us-election-2020-tweets/data) from Kaggle for this analysis. It consists of two CSV files totaling about 1.7 million rows, one with Tweets focused on Joe Biden, and the other on Donald Trump. The dataset needs to be culled of Tweets originating outside of the US. While that doesn’t guarantee that non-US citizens in the US are Tweeting (or that citizens outside of the US are Tweeting) it helps narrow down any international opinions that would skew the results. The rest would be just data cleaning, for example, removing hashtags/mentions, URLs, and any extraneous text that is not generally readable and that may not convert to useful tokens. However, there some tools exist to help with data cleaning as well.\n",
    "\n",
    "#### Tools \n",
    "As of late there are several publicly available LLMs that can assist with sentiment analysis, specifically on Twitter/X data. I'd like to explore the use of Hugging Face's [Twitter roBERTa-base Sentiment Analysis module](https://huggingface.co/cardiffnlp/twitter-roberta-base-sentiment-latest)."
   ]
  },
  {
   "cell_type": "code",
   "execution_count": 10,
   "metadata": {},
   "outputs": [],
   "source": [
    "# Import Libraries \n",
    "import pandas as pd \n",
    "import numpy as np \n",
    "import matplotlib.pyplot as plt \n",
    "import plotly.express as px \n",
    "import tqdm     # Shows progress bar for long tasks\n",
    "\n",
    "# Hugging Face Transformer Import\n",
    "from transformers import pipeline"
   ]
  },
  {
   "cell_type": "markdown",
   "metadata": {},
   "source": [
    "---\n",
    "#### Reading in datasets"
   ]
  },
  {
   "cell_type": "code",
   "execution_count": null,
   "metadata": {},
   "outputs": [],
   "source": [
    "# Reading Trump Dataset \n",
    "trump = pd.read_csv(\"input/hashtag_donaldtrump.csv\", lineterminator='\\n')"
   ]
  },
  {
   "cell_type": "code",
   "execution_count": null,
   "metadata": {},
   "outputs": [],
   "source": [
    "# Reading Biden Dataset \n",
    "biden = pd.read_csv(\"input/hashtag_joebiden.csv\", lineterminator='\\n') "
   ]
  },
  {
   "cell_type": "markdown",
   "metadata": {},
   "source": [
    "---\n",
    "#### Exploratory Data Analysis"
   ]
  },
  {
   "cell_type": "code",
   "execution_count": 6,
   "metadata": {},
   "outputs": [
    {
     "data": {
      "text/html": [
       "<div>\n",
       "<style scoped>\n",
       "    .dataframe tbody tr th:only-of-type {\n",
       "        vertical-align: middle;\n",
       "    }\n",
       "\n",
       "    .dataframe tbody tr th {\n",
       "        vertical-align: top;\n",
       "    }\n",
       "\n",
       "    .dataframe thead th {\n",
       "        text-align: right;\n",
       "    }\n",
       "</style>\n",
       "<table border=\"1\" class=\"dataframe\">\n",
       "  <thead>\n",
       "    <tr style=\"text-align: right;\">\n",
       "      <th></th>\n",
       "      <th>created_at</th>\n",
       "      <th>tweet_id</th>\n",
       "      <th>tweet</th>\n",
       "      <th>likes</th>\n",
       "      <th>retweet_count</th>\n",
       "      <th>source</th>\n",
       "      <th>user_id</th>\n",
       "      <th>user_name</th>\n",
       "      <th>user_screen_name</th>\n",
       "      <th>user_description</th>\n",
       "      <th>...</th>\n",
       "      <th>user_followers_count</th>\n",
       "      <th>user_location</th>\n",
       "      <th>lat</th>\n",
       "      <th>long</th>\n",
       "      <th>city</th>\n",
       "      <th>country</th>\n",
       "      <th>continent</th>\n",
       "      <th>state</th>\n",
       "      <th>state_code</th>\n",
       "      <th>collected_at</th>\n",
       "    </tr>\n",
       "  </thead>\n",
       "  <tbody>\n",
       "    <tr>\n",
       "      <th>0</th>\n",
       "      <td>2020-10-15 00:00:01</td>\n",
       "      <td>1.316529e+18</td>\n",
       "      <td>#Elecciones2020 | En #Florida: #JoeBiden dice ...</td>\n",
       "      <td>0.0</td>\n",
       "      <td>0.0</td>\n",
       "      <td>TweetDeck</td>\n",
       "      <td>3.606665e+08</td>\n",
       "      <td>El Sol Latino News</td>\n",
       "      <td>elsollatinonews</td>\n",
       "      <td>🌐 Noticias de interés para latinos de la costa...</td>\n",
       "      <td>...</td>\n",
       "      <td>1860.0</td>\n",
       "      <td>Philadelphia, PA / Miami, FL</td>\n",
       "      <td>25.774270</td>\n",
       "      <td>-80.193660</td>\n",
       "      <td>NaN</td>\n",
       "      <td>United States of America</td>\n",
       "      <td>North America</td>\n",
       "      <td>Florida</td>\n",
       "      <td>FL</td>\n",
       "      <td>2020-10-21 00:00:00</td>\n",
       "    </tr>\n",
       "    <tr>\n",
       "      <th>1</th>\n",
       "      <td>2020-10-15 00:00:01</td>\n",
       "      <td>1.316529e+18</td>\n",
       "      <td>Usa 2020, Trump contro Facebook e Twitter: cop...</td>\n",
       "      <td>26.0</td>\n",
       "      <td>9.0</td>\n",
       "      <td>Social Mediaset</td>\n",
       "      <td>3.316176e+08</td>\n",
       "      <td>Tgcom24</td>\n",
       "      <td>MediasetTgcom24</td>\n",
       "      <td>Profilo ufficiale di Tgcom24: tutte le notizie...</td>\n",
       "      <td>...</td>\n",
       "      <td>1067661.0</td>\n",
       "      <td>NaN</td>\n",
       "      <td>NaN</td>\n",
       "      <td>NaN</td>\n",
       "      <td>NaN</td>\n",
       "      <td>NaN</td>\n",
       "      <td>NaN</td>\n",
       "      <td>NaN</td>\n",
       "      <td>NaN</td>\n",
       "      <td>2020-10-21 00:00:00.373216530</td>\n",
       "    </tr>\n",
       "    <tr>\n",
       "      <th>2</th>\n",
       "      <td>2020-10-15 00:00:02</td>\n",
       "      <td>1.316529e+18</td>\n",
       "      <td>#Trump: As a student I used to hear for years,...</td>\n",
       "      <td>2.0</td>\n",
       "      <td>1.0</td>\n",
       "      <td>Twitter Web App</td>\n",
       "      <td>8.436472e+06</td>\n",
       "      <td>snarke</td>\n",
       "      <td>snarke</td>\n",
       "      <td>Will mock for food! Freelance writer, blogger,...</td>\n",
       "      <td>...</td>\n",
       "      <td>1185.0</td>\n",
       "      <td>Portland</td>\n",
       "      <td>45.520247</td>\n",
       "      <td>-122.674195</td>\n",
       "      <td>Portland</td>\n",
       "      <td>United States of America</td>\n",
       "      <td>North America</td>\n",
       "      <td>Oregon</td>\n",
       "      <td>OR</td>\n",
       "      <td>2020-10-21 00:00:00.746433060</td>\n",
       "    </tr>\n",
       "    <tr>\n",
       "      <th>3</th>\n",
       "      <td>2020-10-15 00:00:02</td>\n",
       "      <td>1.316529e+18</td>\n",
       "      <td>2 hours since last tweet from #Trump! Maybe he...</td>\n",
       "      <td>0.0</td>\n",
       "      <td>0.0</td>\n",
       "      <td>Trumpytweeter</td>\n",
       "      <td>8.283556e+17</td>\n",
       "      <td>Trumpytweeter</td>\n",
       "      <td>trumpytweeter</td>\n",
       "      <td>If he doesn't tweet for some time, should we b...</td>\n",
       "      <td>...</td>\n",
       "      <td>32.0</td>\n",
       "      <td>NaN</td>\n",
       "      <td>NaN</td>\n",
       "      <td>NaN</td>\n",
       "      <td>NaN</td>\n",
       "      <td>NaN</td>\n",
       "      <td>NaN</td>\n",
       "      <td>NaN</td>\n",
       "      <td>NaN</td>\n",
       "      <td>2020-10-21 00:00:01.119649591</td>\n",
       "    </tr>\n",
       "    <tr>\n",
       "      <th>4</th>\n",
       "      <td>2020-10-15 00:00:08</td>\n",
       "      <td>1.316529e+18</td>\n",
       "      <td>You get a tie! And you get a tie! #Trump ‘s ra...</td>\n",
       "      <td>4.0</td>\n",
       "      <td>3.0</td>\n",
       "      <td>Twitter for iPhone</td>\n",
       "      <td>4.741380e+07</td>\n",
       "      <td>Rana Abtar - رنا أبتر</td>\n",
       "      <td>Ranaabtar</td>\n",
       "      <td>Washington Correspondent, Lebanese-American ,c...</td>\n",
       "      <td>...</td>\n",
       "      <td>5393.0</td>\n",
       "      <td>Washington DC</td>\n",
       "      <td>38.894992</td>\n",
       "      <td>-77.036558</td>\n",
       "      <td>Washington</td>\n",
       "      <td>United States of America</td>\n",
       "      <td>North America</td>\n",
       "      <td>District of Columbia</td>\n",
       "      <td>DC</td>\n",
       "      <td>2020-10-21 00:00:01.492866121</td>\n",
       "    </tr>\n",
       "  </tbody>\n",
       "</table>\n",
       "<p>5 rows × 21 columns</p>\n",
       "</div>"
      ],
      "text/plain": [
       "            created_at      tweet_id  \\\n",
       "0  2020-10-15 00:00:01  1.316529e+18   \n",
       "1  2020-10-15 00:00:01  1.316529e+18   \n",
       "2  2020-10-15 00:00:02  1.316529e+18   \n",
       "3  2020-10-15 00:00:02  1.316529e+18   \n",
       "4  2020-10-15 00:00:08  1.316529e+18   \n",
       "\n",
       "                                               tweet  likes  retweet_count  \\\n",
       "0  #Elecciones2020 | En #Florida: #JoeBiden dice ...    0.0            0.0   \n",
       "1  Usa 2020, Trump contro Facebook e Twitter: cop...   26.0            9.0   \n",
       "2  #Trump: As a student I used to hear for years,...    2.0            1.0   \n",
       "3  2 hours since last tweet from #Trump! Maybe he...    0.0            0.0   \n",
       "4  You get a tie! And you get a tie! #Trump ‘s ra...    4.0            3.0   \n",
       "\n",
       "               source       user_id              user_name user_screen_name  \\\n",
       "0           TweetDeck  3.606665e+08     El Sol Latino News  elsollatinonews   \n",
       "1    Social Mediaset   3.316176e+08                Tgcom24  MediasetTgcom24   \n",
       "2     Twitter Web App  8.436472e+06                 snarke           snarke   \n",
       "3       Trumpytweeter  8.283556e+17          Trumpytweeter    trumpytweeter   \n",
       "4  Twitter for iPhone  4.741380e+07  Rana Abtar - رنا أبتر        Ranaabtar   \n",
       "\n",
       "                                    user_description  ...  \\\n",
       "0  🌐 Noticias de interés para latinos de la costa...  ...   \n",
       "1  Profilo ufficiale di Tgcom24: tutte le notizie...  ...   \n",
       "2  Will mock for food! Freelance writer, blogger,...  ...   \n",
       "3  If he doesn't tweet for some time, should we b...  ...   \n",
       "4  Washington Correspondent, Lebanese-American ,c...  ...   \n",
       "\n",
       "  user_followers_count                 user_location        lat        long  \\\n",
       "0               1860.0  Philadelphia, PA / Miami, FL  25.774270  -80.193660   \n",
       "1            1067661.0                           NaN        NaN         NaN   \n",
       "2               1185.0                      Portland  45.520247 -122.674195   \n",
       "3                 32.0                           NaN        NaN         NaN   \n",
       "4               5393.0                 Washington DC  38.894992  -77.036558   \n",
       "\n",
       "         city                   country      continent                 state  \\\n",
       "0         NaN  United States of America  North America               Florida   \n",
       "1         NaN                       NaN            NaN                   NaN   \n",
       "2    Portland  United States of America  North America                Oregon   \n",
       "3         NaN                       NaN            NaN                   NaN   \n",
       "4  Washington  United States of America  North America  District of Columbia   \n",
       "\n",
       "  state_code                   collected_at  \n",
       "0         FL            2020-10-21 00:00:00  \n",
       "1        NaN  2020-10-21 00:00:00.373216530  \n",
       "2         OR  2020-10-21 00:00:00.746433060  \n",
       "3        NaN  2020-10-21 00:00:01.119649591  \n",
       "4         DC  2020-10-21 00:00:01.492866121  \n",
       "\n",
       "[5 rows x 21 columns]"
      ]
     },
     "execution_count": 6,
     "metadata": {},
     "output_type": "execute_result"
    }
   ],
   "source": [
    "trump.head()"
   ]
  },
  {
   "cell_type": "code",
   "execution_count": 133,
   "metadata": {},
   "outputs": [
    {
     "name": "stdout",
     "output_type": "stream",
     "text": [
      "(970919, 22)\n",
      "Index(['created_at', 'tweet_id', 'tweet', 'likes', 'retweet_count', 'source',\n",
      "       'user_id', 'user_name', 'user_screen_name', 'user_description',\n",
      "       'user_join_date', 'user_followers_count', 'user_location', 'lat',\n",
      "       'long', 'city', 'country', 'continent', 'state', 'state_code',\n",
      "       'collected_at', 'candidate'],\n",
      "      dtype='object')\n"
     ]
    }
   ],
   "source": [
    "# Show size of the Trump dataset\n",
    "print(trump.shape)\n",
    "\n",
    "# Display all the columns in the DataFrame \n",
    "print(trump.columns)"
   ]
  },
  {
   "cell_type": "code",
   "execution_count": null,
   "metadata": {},
   "outputs": [
    {
     "name": "stdout",
     "output_type": "stream",
     "text": [
      "<class 'pandas.core.frame.DataFrame'>\n",
      "RangeIndex: 970919 entries, 0 to 970918\n",
      "Data columns (total 21 columns):\n",
      " #   Column                Non-Null Count   Dtype  \n",
      "---  ------                --------------   -----  \n",
      " 0   created_at            970919 non-null  object \n",
      " 1   tweet_id              970919 non-null  float64\n",
      " 2   tweet                 970919 non-null  object \n",
      " 3   likes                 970919 non-null  float64\n",
      " 4   retweet_count         970919 non-null  float64\n",
      " 5   source                970043 non-null  object \n",
      " 6   user_id               970919 non-null  float64\n",
      " 7   user_name             970897 non-null  object \n",
      " 8   user_screen_name      970919 non-null  object \n",
      " 9   user_description      869651 non-null  object \n",
      " 10  user_join_date        970919 non-null  object \n",
      " 11  user_followers_count  970919 non-null  float64\n",
      " 12  user_location         675957 non-null  object \n",
      " 13  lat                   445719 non-null  float64\n",
      " 14  long                  445719 non-null  float64\n",
      " 15  city                  227187 non-null  object \n",
      " 16  country               442748 non-null  object \n",
      " 17  continent             442765 non-null  object \n",
      " 18  state                 320620 non-null  object \n",
      " 19  state_code            300425 non-null  object \n",
      " 20  collected_at          970919 non-null  object \n",
      "dtypes: float64(7), object(14)\n",
      "memory usage: 155.6+ MB\n"
     ]
    }
   ],
   "source": [
    "# Show distribution of non-null features\n",
    "trump.info()"
   ]
  },
  {
   "cell_type": "code",
   "execution_count": 12,
   "metadata": {},
   "outputs": [
    {
     "data": {
      "text/html": [
       "<div>\n",
       "<style scoped>\n",
       "    .dataframe tbody tr th:only-of-type {\n",
       "        vertical-align: middle;\n",
       "    }\n",
       "\n",
       "    .dataframe tbody tr th {\n",
       "        vertical-align: top;\n",
       "    }\n",
       "\n",
       "    .dataframe thead th {\n",
       "        text-align: right;\n",
       "    }\n",
       "</style>\n",
       "<table border=\"1\" class=\"dataframe\">\n",
       "  <thead>\n",
       "    <tr style=\"text-align: right;\">\n",
       "      <th></th>\n",
       "      <th>created_at</th>\n",
       "      <th>tweet_id</th>\n",
       "      <th>tweet</th>\n",
       "      <th>likes</th>\n",
       "      <th>retweet_count</th>\n",
       "      <th>source</th>\n",
       "      <th>user_id</th>\n",
       "      <th>user_name</th>\n",
       "      <th>user_screen_name</th>\n",
       "      <th>user_description</th>\n",
       "      <th>...</th>\n",
       "      <th>user_followers_count</th>\n",
       "      <th>user_location</th>\n",
       "      <th>lat</th>\n",
       "      <th>long</th>\n",
       "      <th>city</th>\n",
       "      <th>country</th>\n",
       "      <th>continent</th>\n",
       "      <th>state</th>\n",
       "      <th>state_code</th>\n",
       "      <th>collected_at</th>\n",
       "    </tr>\n",
       "  </thead>\n",
       "  <tbody>\n",
       "    <tr>\n",
       "      <th>0</th>\n",
       "      <td>2020-10-15 00:00:01</td>\n",
       "      <td>1.316529e+18</td>\n",
       "      <td>#Elecciones2020 | En #Florida: #JoeBiden dice ...</td>\n",
       "      <td>0.0</td>\n",
       "      <td>0.0</td>\n",
       "      <td>TweetDeck</td>\n",
       "      <td>3.606665e+08</td>\n",
       "      <td>El Sol Latino News</td>\n",
       "      <td>elsollatinonews</td>\n",
       "      <td>🌐 Noticias de interés para latinos de la costa...</td>\n",
       "      <td>...</td>\n",
       "      <td>1860.0</td>\n",
       "      <td>Philadelphia, PA / Miami, FL</td>\n",
       "      <td>25.774270</td>\n",
       "      <td>-80.193660</td>\n",
       "      <td>NaN</td>\n",
       "      <td>United States of America</td>\n",
       "      <td>North America</td>\n",
       "      <td>Florida</td>\n",
       "      <td>FL</td>\n",
       "      <td>2020-10-21 00:00:00</td>\n",
       "    </tr>\n",
       "    <tr>\n",
       "      <th>1</th>\n",
       "      <td>2020-10-15 00:00:18</td>\n",
       "      <td>1.316529e+18</td>\n",
       "      <td>#HunterBiden #HunterBidenEmails #JoeBiden #Joe...</td>\n",
       "      <td>0.0</td>\n",
       "      <td>0.0</td>\n",
       "      <td>Twitter for iPad</td>\n",
       "      <td>8.099044e+08</td>\n",
       "      <td>Cheri A. 🇺🇸</td>\n",
       "      <td>Biloximeemaw</td>\n",
       "      <td>Locked and loaded Meemaw. Love God, my family ...</td>\n",
       "      <td>...</td>\n",
       "      <td>6628.0</td>\n",
       "      <td>NaN</td>\n",
       "      <td>NaN</td>\n",
       "      <td>NaN</td>\n",
       "      <td>NaN</td>\n",
       "      <td>NaN</td>\n",
       "      <td>NaN</td>\n",
       "      <td>NaN</td>\n",
       "      <td>NaN</td>\n",
       "      <td>2020-10-21 00:00:00.517827283</td>\n",
       "    </tr>\n",
       "    <tr>\n",
       "      <th>2</th>\n",
       "      <td>2020-10-15 00:00:20</td>\n",
       "      <td>1.316529e+18</td>\n",
       "      <td>@IslandGirlPRV @BradBeauregardJ @MeidasTouch T...</td>\n",
       "      <td>0.0</td>\n",
       "      <td>0.0</td>\n",
       "      <td>Twitter Web App</td>\n",
       "      <td>3.494182e+09</td>\n",
       "      <td>Flag Waver</td>\n",
       "      <td>Flag_Wavers</td>\n",
       "      <td>NaN</td>\n",
       "      <td>...</td>\n",
       "      <td>1536.0</td>\n",
       "      <td>Golden Valley Arizona</td>\n",
       "      <td>46.304036</td>\n",
       "      <td>-109.171431</td>\n",
       "      <td>NaN</td>\n",
       "      <td>United States of America</td>\n",
       "      <td>North America</td>\n",
       "      <td>Montana</td>\n",
       "      <td>MT</td>\n",
       "      <td>2020-10-21 00:00:01.035654566</td>\n",
       "    </tr>\n",
       "    <tr>\n",
       "      <th>3</th>\n",
       "      <td>2020-10-15 00:00:21</td>\n",
       "      <td>1.316529e+18</td>\n",
       "      <td>@chrislongview Watching and setting dvr. Let’s...</td>\n",
       "      <td>0.0</td>\n",
       "      <td>0.0</td>\n",
       "      <td>Twitter for iPhone</td>\n",
       "      <td>8.242596e+17</td>\n",
       "      <td>Michelle Ferg</td>\n",
       "      <td>MichelleFerg4</td>\n",
       "      <td>NaN</td>\n",
       "      <td>...</td>\n",
       "      <td>27.0</td>\n",
       "      <td>NaN</td>\n",
       "      <td>NaN</td>\n",
       "      <td>NaN</td>\n",
       "      <td>NaN</td>\n",
       "      <td>NaN</td>\n",
       "      <td>NaN</td>\n",
       "      <td>NaN</td>\n",
       "      <td>NaN</td>\n",
       "      <td>2020-10-21 00:00:01.553481849</td>\n",
       "    </tr>\n",
       "    <tr>\n",
       "      <th>4</th>\n",
       "      <td>2020-10-15 00:00:22</td>\n",
       "      <td>1.316529e+18</td>\n",
       "      <td>#censorship #HunterBiden #Biden #BidenEmails #...</td>\n",
       "      <td>1.0</td>\n",
       "      <td>0.0</td>\n",
       "      <td>Twitter Web App</td>\n",
       "      <td>1.032807e+18</td>\n",
       "      <td>the Gold State</td>\n",
       "      <td>theegoldstate</td>\n",
       "      <td>A Silicon Valley #independent #News #Media #St...</td>\n",
       "      <td>...</td>\n",
       "      <td>390.0</td>\n",
       "      <td>California, USA</td>\n",
       "      <td>36.701463</td>\n",
       "      <td>-118.755997</td>\n",
       "      <td>NaN</td>\n",
       "      <td>United States of America</td>\n",
       "      <td>North America</td>\n",
       "      <td>California</td>\n",
       "      <td>CA</td>\n",
       "      <td>2020-10-21 00:00:02.071309132</td>\n",
       "    </tr>\n",
       "  </tbody>\n",
       "</table>\n",
       "<p>5 rows × 21 columns</p>\n",
       "</div>"
      ],
      "text/plain": [
       "            created_at      tweet_id  \\\n",
       "0  2020-10-15 00:00:01  1.316529e+18   \n",
       "1  2020-10-15 00:00:18  1.316529e+18   \n",
       "2  2020-10-15 00:00:20  1.316529e+18   \n",
       "3  2020-10-15 00:00:21  1.316529e+18   \n",
       "4  2020-10-15 00:00:22  1.316529e+18   \n",
       "\n",
       "                                               tweet  likes  retweet_count  \\\n",
       "0  #Elecciones2020 | En #Florida: #JoeBiden dice ...    0.0            0.0   \n",
       "1  #HunterBiden #HunterBidenEmails #JoeBiden #Joe...    0.0            0.0   \n",
       "2  @IslandGirlPRV @BradBeauregardJ @MeidasTouch T...    0.0            0.0   \n",
       "3  @chrislongview Watching and setting dvr. Let’s...    0.0            0.0   \n",
       "4  #censorship #HunterBiden #Biden #BidenEmails #...    1.0            0.0   \n",
       "\n",
       "               source       user_id           user_name user_screen_name  \\\n",
       "0           TweetDeck  3.606665e+08  El Sol Latino News  elsollatinonews   \n",
       "1    Twitter for iPad  8.099044e+08         Cheri A. 🇺🇸     Biloximeemaw   \n",
       "2     Twitter Web App  3.494182e+09          Flag Waver      Flag_Wavers   \n",
       "3  Twitter for iPhone  8.242596e+17       Michelle Ferg    MichelleFerg4   \n",
       "4     Twitter Web App  1.032807e+18      the Gold State    theegoldstate   \n",
       "\n",
       "                                    user_description  ...  \\\n",
       "0  🌐 Noticias de interés para latinos de la costa...  ...   \n",
       "1  Locked and loaded Meemaw. Love God, my family ...  ...   \n",
       "2                                                NaN  ...   \n",
       "3                                                NaN  ...   \n",
       "4  A Silicon Valley #independent #News #Media #St...  ...   \n",
       "\n",
       "  user_followers_count                 user_location        lat        long  \\\n",
       "0               1860.0  Philadelphia, PA / Miami, FL  25.774270  -80.193660   \n",
       "1               6628.0                           NaN        NaN         NaN   \n",
       "2               1536.0         Golden Valley Arizona  46.304036 -109.171431   \n",
       "3                 27.0                           NaN        NaN         NaN   \n",
       "4                390.0               California, USA  36.701463 -118.755997   \n",
       "\n",
       "   city                   country      continent       state state_code  \\\n",
       "0   NaN  United States of America  North America     Florida         FL   \n",
       "1   NaN                       NaN            NaN         NaN        NaN   \n",
       "2   NaN  United States of America  North America     Montana         MT   \n",
       "3   NaN                       NaN            NaN         NaN        NaN   \n",
       "4   NaN  United States of America  North America  California         CA   \n",
       "\n",
       "                    collected_at  \n",
       "0            2020-10-21 00:00:00  \n",
       "1  2020-10-21 00:00:00.517827283  \n",
       "2  2020-10-21 00:00:01.035654566  \n",
       "3  2020-10-21 00:00:01.553481849  \n",
       "4  2020-10-21 00:00:02.071309132  \n",
       "\n",
       "[5 rows x 21 columns]"
      ]
     },
     "execution_count": 12,
     "metadata": {},
     "output_type": "execute_result"
    }
   ],
   "source": [
    "biden.head()"
   ]
  },
  {
   "cell_type": "code",
   "execution_count": 49,
   "metadata": {},
   "outputs": [
    {
     "name": "stdout",
     "output_type": "stream",
     "text": [
      "(776886, 22)\n",
      "Index(['created_at', 'tweet_id', 'tweet', 'likes', 'retweet_count', 'source',\n",
      "       'user_id', 'user_name', 'user_screen_name', 'user_description',\n",
      "       'user_join_date', 'user_followers_count', 'user_location', 'lat',\n",
      "       'long', 'city', 'country', 'continent', 'state', 'state_code',\n",
      "       'collected_at', 'candidate'],\n",
      "      dtype='object')\n"
     ]
    }
   ],
   "source": [
    "# Show size of the Biden dataset\n",
    "print(biden.shape)\n",
    "\n",
    "# Display all the columns in the DataFrame \n",
    "print(biden.columns)"
   ]
  },
  {
   "cell_type": "markdown",
   "metadata": {},
   "source": [
    "Add a column to differentiate tweets from Trump and Biden datasets before we combine them."
   ]
  },
  {
   "cell_type": "code",
   "execution_count": 38,
   "metadata": {},
   "outputs": [
    {
     "name": "stdout",
     "output_type": "stream",
     "text": [
      "Final Data Shape : (1747805, 22)\n",
      "\n",
      "First few rows:\n",
      "            created_at      tweet_id  \\\n",
      "0  2020-10-15 00:00:01  1.316529e+18   \n",
      "1  2020-10-15 00:00:01  1.316529e+18   \n",
      "2  2020-10-15 00:00:02  1.316529e+18   \n",
      "\n",
      "                                               tweet  likes  retweet_count  \\\n",
      "0  #Elecciones2020 | En #Florida: #JoeBiden dice ...    0.0            0.0   \n",
      "1  Usa 2020, Trump contro Facebook e Twitter: cop...   26.0            9.0   \n",
      "2  #Trump: As a student I used to hear for years,...    2.0            1.0   \n",
      "\n",
      "             source      user_id           user_name user_screen_name  \\\n",
      "0         TweetDeck  360666534.0  El Sol Latino News  elsollatinonews   \n",
      "1  Social Mediaset   331617619.0             Tgcom24  MediasetTgcom24   \n",
      "2   Twitter Web App    8436472.0              snarke           snarke   \n",
      "\n",
      "                                    user_description  ...  \\\n",
      "0  🌐 Noticias de interés para latinos de la costa...  ...   \n",
      "1  Profilo ufficiale di Tgcom24: tutte le notizie...  ...   \n",
      "2  Will mock for food! Freelance writer, blogger,...  ...   \n",
      "\n",
      "                  user_location        lat        long      city  \\\n",
      "0  Philadelphia, PA / Miami, FL  25.774270  -80.193660       NaN   \n",
      "1                           NaN        NaN         NaN       NaN   \n",
      "2                      Portland  45.520247 -122.674195  Portland   \n",
      "\n",
      "                    country      continent    state state_code  \\\n",
      "0  United States of America  North America  Florida         FL   \n",
      "1                       NaN            NaN      NaN        NaN   \n",
      "2  United States of America  North America   Oregon         OR   \n",
      "\n",
      "                    collected_at candidate  \n",
      "0            2020-10-21 00:00:00     trump  \n",
      "1  2020-10-21 00:00:00.373216530     trump  \n",
      "2  2020-10-21 00:00:00.746433060     trump  \n",
      "\n",
      "[3 rows x 22 columns]\n"
     ]
    }
   ],
   "source": [
    "# Create a new column 'candidate' to differentiate \n",
    "# between tweets of Trump and Biden upon concatination \n",
    "trump['candidate'] = 'trump'\n",
    "\n",
    "# Biden dataframe \n",
    "biden['candidate'] = 'biden'\n",
    "\n",
    "# Combine the dataframes \n",
    "tweets_df = pd.concat([trump, biden]) \n",
    "tweets_df = tweets_df.reset_index(drop=True)\n",
    "\n",
    "# Final data shape \n",
    "print('Final Data Shape :', tweets_df.shape) \n",
    "\n",
    "# View the first few rows \n",
    "print(\"\\nFirst few rows:\") \n",
    "print(tweets_df.head(3)) "
   ]
  },
  {
   "cell_type": "code",
   "execution_count": 50,
   "metadata": {},
   "outputs": [
    {
     "name": "stdout",
     "output_type": "stream",
     "text": [
      "<class 'pandas.core.frame.DataFrame'>\n",
      "RangeIndex: 1747805 entries, 0 to 1747804\n",
      "Data columns (total 22 columns):\n",
      " #   Column                Non-Null Count    Dtype  \n",
      "---  ------                --------------    -----  \n",
      " 0   created_at            1747805 non-null  object \n",
      " 1   tweet_id              1747805 non-null  float64\n",
      " 2   tweet                 1747805 non-null  object \n",
      " 3   likes                 1747805 non-null  float64\n",
      " 4   retweet_count         1747805 non-null  float64\n",
      " 5   source                1746216 non-null  object \n",
      " 6   user_id               1747805 non-null  float64\n",
      " 7   user_name             1747758 non-null  object \n",
      " 8   user_screen_name      1747805 non-null  object \n",
      " 9   user_description      1564528 non-null  object \n",
      " 10  user_join_date        1747805 non-null  object \n",
      " 11  user_followers_count  1747805 non-null  float64\n",
      " 12  user_location         1219049 non-null  object \n",
      " 13  lat                   801012 non-null   float64\n",
      " 14  long                  801012 non-null   float64\n",
      " 15  city                  414059 non-null   object \n",
      " 16  country               796527 non-null   object \n",
      " 17  continent             796562 non-null   object \n",
      " 18  state                 580815 non-null   object \n",
      " 19  state_code            545034 non-null   object \n",
      " 20  collected_at          1747805 non-null  object \n",
      " 21  candidate             1747805 non-null  object \n",
      "dtypes: float64(7), object(15)\n",
      "memory usage: 293.4+ MB\n"
     ]
    }
   ],
   "source": [
    "# Show info on combined tweet dataset\n",
    "tweets_df.info(show_counts=True)"
   ]
  },
  {
   "cell_type": "code",
   "execution_count": 163,
   "metadata": {},
   "outputs": [
    {
     "data": {
      "text/html": [
       "<div>\n",
       "<style scoped>\n",
       "    .dataframe tbody tr th:only-of-type {\n",
       "        vertical-align: middle;\n",
       "    }\n",
       "\n",
       "    .dataframe tbody tr th {\n",
       "        vertical-align: top;\n",
       "    }\n",
       "\n",
       "    .dataframe thead th {\n",
       "        text-align: right;\n",
       "    }\n",
       "</style>\n",
       "<table border=\"1\" class=\"dataframe\">\n",
       "  <thead>\n",
       "    <tr style=\"text-align: right;\">\n",
       "      <th></th>\n",
       "      <th>created_at</th>\n",
       "      <th>tweet_id</th>\n",
       "      <th>tweet</th>\n",
       "      <th>likes</th>\n",
       "      <th>retweet_count</th>\n",
       "      <th>source</th>\n",
       "      <th>user_id</th>\n",
       "      <th>user_name</th>\n",
       "      <th>user_screen_name</th>\n",
       "      <th>user_description</th>\n",
       "      <th>...</th>\n",
       "      <th>user_location</th>\n",
       "      <th>lat</th>\n",
       "      <th>long</th>\n",
       "      <th>city</th>\n",
       "      <th>country</th>\n",
       "      <th>continent</th>\n",
       "      <th>state</th>\n",
       "      <th>state_code</th>\n",
       "      <th>collected_at</th>\n",
       "      <th>candidate</th>\n",
       "    </tr>\n",
       "  </thead>\n",
       "  <tbody>\n",
       "    <tr>\n",
       "      <th>0</th>\n",
       "      <td>2020-10-15 00:00:01</td>\n",
       "      <td>1.316529e+18</td>\n",
       "      <td>#Elecciones2020 | En #Florida: #JoeBiden dice ...</td>\n",
       "      <td>0.0</td>\n",
       "      <td>0.0</td>\n",
       "      <td>TweetDeck</td>\n",
       "      <td>3.606665e+08</td>\n",
       "      <td>El Sol Latino News</td>\n",
       "      <td>elsollatinonews</td>\n",
       "      <td>🌐 Noticias de interés para latinos de la costa...</td>\n",
       "      <td>...</td>\n",
       "      <td>Philadelphia, PA / Miami, FL</td>\n",
       "      <td>25.774270</td>\n",
       "      <td>-80.193660</td>\n",
       "      <td>NaN</td>\n",
       "      <td>US</td>\n",
       "      <td>North America</td>\n",
       "      <td>Florida</td>\n",
       "      <td>FL</td>\n",
       "      <td>2020-10-21 00:00:00</td>\n",
       "      <td>trump</td>\n",
       "    </tr>\n",
       "    <tr>\n",
       "      <th>2</th>\n",
       "      <td>2020-10-15 00:00:02</td>\n",
       "      <td>1.316529e+18</td>\n",
       "      <td>#Trump: As a student I used to hear for years,...</td>\n",
       "      <td>2.0</td>\n",
       "      <td>1.0</td>\n",
       "      <td>Twitter Web App</td>\n",
       "      <td>8.436472e+06</td>\n",
       "      <td>snarke</td>\n",
       "      <td>snarke</td>\n",
       "      <td>Will mock for food! Freelance writer, blogger,...</td>\n",
       "      <td>...</td>\n",
       "      <td>Portland</td>\n",
       "      <td>45.520247</td>\n",
       "      <td>-122.674195</td>\n",
       "      <td>Portland</td>\n",
       "      <td>US</td>\n",
       "      <td>North America</td>\n",
       "      <td>Oregon</td>\n",
       "      <td>OR</td>\n",
       "      <td>2020-10-21 00:00:00.746433060</td>\n",
       "      <td>trump</td>\n",
       "    </tr>\n",
       "    <tr>\n",
       "      <th>4</th>\n",
       "      <td>2020-10-15 00:00:08</td>\n",
       "      <td>1.316529e+18</td>\n",
       "      <td>You get a tie! And you get a tie! #Trump ‘s ra...</td>\n",
       "      <td>4.0</td>\n",
       "      <td>3.0</td>\n",
       "      <td>Twitter for iPhone</td>\n",
       "      <td>4.741380e+07</td>\n",
       "      <td>Rana Abtar - رنا أبتر</td>\n",
       "      <td>Ranaabtar</td>\n",
       "      <td>Washington Correspondent, Lebanese-American ,c...</td>\n",
       "      <td>...</td>\n",
       "      <td>Washington DC</td>\n",
       "      <td>38.894992</td>\n",
       "      <td>-77.036558</td>\n",
       "      <td>Washington</td>\n",
       "      <td>US</td>\n",
       "      <td>North America</td>\n",
       "      <td>District of Columbia</td>\n",
       "      <td>DC</td>\n",
       "      <td>2020-10-21 00:00:01.492866121</td>\n",
       "      <td>trump</td>\n",
       "    </tr>\n",
       "    <tr>\n",
       "      <th>5</th>\n",
       "      <td>2020-10-15 00:00:17</td>\n",
       "      <td>1.316529e+18</td>\n",
       "      <td>@CLady62 Her 15 minutes were over long time ag...</td>\n",
       "      <td>2.0</td>\n",
       "      <td>0.0</td>\n",
       "      <td>Twitter for Android</td>\n",
       "      <td>1.138416e+09</td>\n",
       "      <td>Farris Flagg</td>\n",
       "      <td>FarrisFlagg</td>\n",
       "      <td>#BidenHarris2020 #JoeBiden2020 #KamalaHarrisFo...</td>\n",
       "      <td>...</td>\n",
       "      <td>Perris,California</td>\n",
       "      <td>33.782519</td>\n",
       "      <td>-117.228648</td>\n",
       "      <td>NaN</td>\n",
       "      <td>US</td>\n",
       "      <td>North America</td>\n",
       "      <td>California</td>\n",
       "      <td>CA</td>\n",
       "      <td>2020-10-21 00:00:01.866082651</td>\n",
       "      <td>trump</td>\n",
       "    </tr>\n",
       "    <tr>\n",
       "      <th>6</th>\n",
       "      <td>2020-10-15 00:00:17</td>\n",
       "      <td>1.316529e+18</td>\n",
       "      <td>@richardmarx Glad u got out of the house! DICK...</td>\n",
       "      <td>0.0</td>\n",
       "      <td>0.0</td>\n",
       "      <td>Twitter for iPhone</td>\n",
       "      <td>7.674018e+17</td>\n",
       "      <td>Michael Wilson</td>\n",
       "      <td>wilsonfire9</td>\n",
       "      <td>NaN</td>\n",
       "      <td>...</td>\n",
       "      <td>Powell, TN</td>\n",
       "      <td>NaN</td>\n",
       "      <td>NaN</td>\n",
       "      <td>NaN</td>\n",
       "      <td>NaN</td>\n",
       "      <td>NaN</td>\n",
       "      <td>NaN</td>\n",
       "      <td>NaN</td>\n",
       "      <td>2020-10-21 00:00:02.239299182</td>\n",
       "      <td>trump</td>\n",
       "    </tr>\n",
       "  </tbody>\n",
       "</table>\n",
       "<p>5 rows × 22 columns</p>\n",
       "</div>"
      ],
      "text/plain": [
       "            created_at      tweet_id  \\\n",
       "0  2020-10-15 00:00:01  1.316529e+18   \n",
       "2  2020-10-15 00:00:02  1.316529e+18   \n",
       "4  2020-10-15 00:00:08  1.316529e+18   \n",
       "5  2020-10-15 00:00:17  1.316529e+18   \n",
       "6  2020-10-15 00:00:17  1.316529e+18   \n",
       "\n",
       "                                               tweet  likes  retweet_count  \\\n",
       "0  #Elecciones2020 | En #Florida: #JoeBiden dice ...    0.0            0.0   \n",
       "2  #Trump: As a student I used to hear for years,...    2.0            1.0   \n",
       "4  You get a tie! And you get a tie! #Trump ‘s ra...    4.0            3.0   \n",
       "5  @CLady62 Her 15 minutes were over long time ag...    2.0            0.0   \n",
       "6  @richardmarx Glad u got out of the house! DICK...    0.0            0.0   \n",
       "\n",
       "                source       user_id              user_name user_screen_name  \\\n",
       "0            TweetDeck  3.606665e+08     El Sol Latino News  elsollatinonews   \n",
       "2      Twitter Web App  8.436472e+06                 snarke           snarke   \n",
       "4   Twitter for iPhone  4.741380e+07  Rana Abtar - رنا أبتر        Ranaabtar   \n",
       "5  Twitter for Android  1.138416e+09           Farris Flagg      FarrisFlagg   \n",
       "6   Twitter for iPhone  7.674018e+17         Michael Wilson      wilsonfire9   \n",
       "\n",
       "                                    user_description  ...  \\\n",
       "0  🌐 Noticias de interés para latinos de la costa...  ...   \n",
       "2  Will mock for food! Freelance writer, blogger,...  ...   \n",
       "4  Washington Correspondent, Lebanese-American ,c...  ...   \n",
       "5  #BidenHarris2020 #JoeBiden2020 #KamalaHarrisFo...  ...   \n",
       "6                                                NaN  ...   \n",
       "\n",
       "                  user_location        lat        long        city  country  \\\n",
       "0  Philadelphia, PA / Miami, FL  25.774270  -80.193660         NaN       US   \n",
       "2                      Portland  45.520247 -122.674195    Portland       US   \n",
       "4                 Washington DC  38.894992  -77.036558  Washington       US   \n",
       "5             Perris,California  33.782519 -117.228648         NaN       US   \n",
       "6                    Powell, TN        NaN         NaN         NaN      NaN   \n",
       "\n",
       "       continent                 state state_code  \\\n",
       "0  North America               Florida         FL   \n",
       "2  North America                Oregon         OR   \n",
       "4  North America  District of Columbia         DC   \n",
       "5  North America            California         CA   \n",
       "6            NaN                   NaN        NaN   \n",
       "\n",
       "                    collected_at candidate  \n",
       "0            2020-10-21 00:00:00     trump  \n",
       "2  2020-10-21 00:00:00.746433060     trump  \n",
       "4  2020-10-21 00:00:01.492866121     trump  \n",
       "5  2020-10-21 00:00:01.866082651     trump  \n",
       "6  2020-10-21 00:00:02.239299182     trump  \n",
       "\n",
       "[5 rows x 22 columns]"
      ]
     },
     "execution_count": 163,
     "metadata": {},
     "output_type": "execute_result"
    }
   ],
   "source": [
    "# Validate we have the Trump column set properly\n",
    "tweets_df[tweets_df['candidate'] == 'trump'].head()"
   ]
  },
  {
   "cell_type": "code",
   "execution_count": 164,
   "metadata": {},
   "outputs": [
    {
     "data": {
      "text/html": [
       "<div>\n",
       "<style scoped>\n",
       "    .dataframe tbody tr th:only-of-type {\n",
       "        vertical-align: middle;\n",
       "    }\n",
       "\n",
       "    .dataframe tbody tr th {\n",
       "        vertical-align: top;\n",
       "    }\n",
       "\n",
       "    .dataframe thead th {\n",
       "        text-align: right;\n",
       "    }\n",
       "</style>\n",
       "<table border=\"1\" class=\"dataframe\">\n",
       "  <thead>\n",
       "    <tr style=\"text-align: right;\">\n",
       "      <th></th>\n",
       "      <th>created_at</th>\n",
       "      <th>tweet_id</th>\n",
       "      <th>tweet</th>\n",
       "      <th>likes</th>\n",
       "      <th>retweet_count</th>\n",
       "      <th>source</th>\n",
       "      <th>user_id</th>\n",
       "      <th>user_name</th>\n",
       "      <th>user_screen_name</th>\n",
       "      <th>user_description</th>\n",
       "      <th>...</th>\n",
       "      <th>user_location</th>\n",
       "      <th>lat</th>\n",
       "      <th>long</th>\n",
       "      <th>city</th>\n",
       "      <th>country</th>\n",
       "      <th>continent</th>\n",
       "      <th>state</th>\n",
       "      <th>state_code</th>\n",
       "      <th>collected_at</th>\n",
       "      <th>candidate</th>\n",
       "    </tr>\n",
       "  </thead>\n",
       "  <tbody>\n",
       "    <tr>\n",
       "      <th>970919</th>\n",
       "      <td>2020-10-15 00:00:01</td>\n",
       "      <td>1.316529e+18</td>\n",
       "      <td>#Elecciones2020 | En #Florida: #JoeBiden dice ...</td>\n",
       "      <td>0.0</td>\n",
       "      <td>0.0</td>\n",
       "      <td>TweetDeck</td>\n",
       "      <td>3.606665e+08</td>\n",
       "      <td>El Sol Latino News</td>\n",
       "      <td>elsollatinonews</td>\n",
       "      <td>🌐 Noticias de interés para latinos de la costa...</td>\n",
       "      <td>...</td>\n",
       "      <td>Philadelphia, PA / Miami, FL</td>\n",
       "      <td>25.774270</td>\n",
       "      <td>-80.193660</td>\n",
       "      <td>NaN</td>\n",
       "      <td>US</td>\n",
       "      <td>North America</td>\n",
       "      <td>Florida</td>\n",
       "      <td>FL</td>\n",
       "      <td>2020-10-21 00:00:00</td>\n",
       "      <td>biden</td>\n",
       "    </tr>\n",
       "    <tr>\n",
       "      <th>970921</th>\n",
       "      <td>2020-10-15 00:00:20</td>\n",
       "      <td>1.316529e+18</td>\n",
       "      <td>@IslandGirlPRV @BradBeauregardJ @MeidasTouch T...</td>\n",
       "      <td>0.0</td>\n",
       "      <td>0.0</td>\n",
       "      <td>Twitter Web App</td>\n",
       "      <td>3.494182e+09</td>\n",
       "      <td>Flag Waver</td>\n",
       "      <td>Flag_Wavers</td>\n",
       "      <td>NaN</td>\n",
       "      <td>...</td>\n",
       "      <td>Golden Valley Arizona</td>\n",
       "      <td>46.304036</td>\n",
       "      <td>-109.171431</td>\n",
       "      <td>NaN</td>\n",
       "      <td>US</td>\n",
       "      <td>North America</td>\n",
       "      <td>Montana</td>\n",
       "      <td>MT</td>\n",
       "      <td>2020-10-21 00:00:01.035654566</td>\n",
       "      <td>biden</td>\n",
       "    </tr>\n",
       "    <tr>\n",
       "      <th>970923</th>\n",
       "      <td>2020-10-15 00:00:22</td>\n",
       "      <td>1.316529e+18</td>\n",
       "      <td>#censorship #HunterBiden #Biden #BidenEmails #...</td>\n",
       "      <td>1.0</td>\n",
       "      <td>0.0</td>\n",
       "      <td>Twitter Web App</td>\n",
       "      <td>1.032807e+18</td>\n",
       "      <td>the Gold State</td>\n",
       "      <td>theegoldstate</td>\n",
       "      <td>A Silicon Valley #independent #News #Media #St...</td>\n",
       "      <td>...</td>\n",
       "      <td>California, USA</td>\n",
       "      <td>36.701463</td>\n",
       "      <td>-118.755997</td>\n",
       "      <td>NaN</td>\n",
       "      <td>US</td>\n",
       "      <td>North America</td>\n",
       "      <td>California</td>\n",
       "      <td>CA</td>\n",
       "      <td>2020-10-21 00:00:02.071309132</td>\n",
       "      <td>biden</td>\n",
       "    </tr>\n",
       "    <tr>\n",
       "      <th>970925</th>\n",
       "      <td>2020-10-15 00:00:25</td>\n",
       "      <td>1.316529e+18</td>\n",
       "      <td>In 2020, #NYPost is being #censorship #CENSORE...</td>\n",
       "      <td>0.0</td>\n",
       "      <td>0.0</td>\n",
       "      <td>Twitter for iPhone</td>\n",
       "      <td>1.994033e+07</td>\n",
       "      <td>Change Illinois | Biden will increase taxes by...</td>\n",
       "      <td>changeillinois</td>\n",
       "      <td>Illinois, home of Lincoln and Reagan, used to ...</td>\n",
       "      <td>...</td>\n",
       "      <td>Chicago, Illinois</td>\n",
       "      <td>41.875562</td>\n",
       "      <td>-87.624421</td>\n",
       "      <td>Chicago</td>\n",
       "      <td>US</td>\n",
       "      <td>North America</td>\n",
       "      <td>Illinois</td>\n",
       "      <td>IL</td>\n",
       "      <td>2020-10-21 00:00:03.106963698</td>\n",
       "      <td>biden</td>\n",
       "    </tr>\n",
       "    <tr>\n",
       "      <th>970926</th>\n",
       "      <td>2020-10-15 00:00:31</td>\n",
       "      <td>1.316529e+18</td>\n",
       "      <td>►► Tell Politicians to STICK IT with this FREE...</td>\n",
       "      <td>0.0</td>\n",
       "      <td>0.0</td>\n",
       "      <td>Freebie-Depot</td>\n",
       "      <td>1.030832e+08</td>\n",
       "      <td>🆓 Freebie Depot</td>\n",
       "      <td>FreebieDepot</td>\n",
       "      <td>Free Stuff - No Fluff!  Get all kinds of FREE ...</td>\n",
       "      <td>...</td>\n",
       "      <td>USA - Land of the FREE!</td>\n",
       "      <td>NaN</td>\n",
       "      <td>NaN</td>\n",
       "      <td>NaN</td>\n",
       "      <td>NaN</td>\n",
       "      <td>NaN</td>\n",
       "      <td>NaN</td>\n",
       "      <td>NaN</td>\n",
       "      <td>2020-10-21 00:00:03.624790981</td>\n",
       "      <td>biden</td>\n",
       "    </tr>\n",
       "  </tbody>\n",
       "</table>\n",
       "<p>5 rows × 22 columns</p>\n",
       "</div>"
      ],
      "text/plain": [
       "                 created_at      tweet_id  \\\n",
       "970919  2020-10-15 00:00:01  1.316529e+18   \n",
       "970921  2020-10-15 00:00:20  1.316529e+18   \n",
       "970923  2020-10-15 00:00:22  1.316529e+18   \n",
       "970925  2020-10-15 00:00:25  1.316529e+18   \n",
       "970926  2020-10-15 00:00:31  1.316529e+18   \n",
       "\n",
       "                                                    tweet  likes  \\\n",
       "970919  #Elecciones2020 | En #Florida: #JoeBiden dice ...    0.0   \n",
       "970921  @IslandGirlPRV @BradBeauregardJ @MeidasTouch T...    0.0   \n",
       "970923  #censorship #HunterBiden #Biden #BidenEmails #...    1.0   \n",
       "970925  In 2020, #NYPost is being #censorship #CENSORE...    0.0   \n",
       "970926  ►► Tell Politicians to STICK IT with this FREE...    0.0   \n",
       "\n",
       "        retweet_count              source       user_id  \\\n",
       "970919            0.0           TweetDeck  3.606665e+08   \n",
       "970921            0.0     Twitter Web App  3.494182e+09   \n",
       "970923            0.0     Twitter Web App  1.032807e+18   \n",
       "970925            0.0  Twitter for iPhone  1.994033e+07   \n",
       "970926            0.0       Freebie-Depot  1.030832e+08   \n",
       "\n",
       "                                                user_name user_screen_name  \\\n",
       "970919                                 El Sol Latino News  elsollatinonews   \n",
       "970921                                         Flag Waver      Flag_Wavers   \n",
       "970923                                     the Gold State    theegoldstate   \n",
       "970925  Change Illinois | Biden will increase taxes by...   changeillinois   \n",
       "970926                                    🆓 Freebie Depot     FreebieDepot   \n",
       "\n",
       "                                         user_description  ...  \\\n",
       "970919  🌐 Noticias de interés para latinos de la costa...  ...   \n",
       "970921                                                NaN  ...   \n",
       "970923  A Silicon Valley #independent #News #Media #St...  ...   \n",
       "970925  Illinois, home of Lincoln and Reagan, used to ...  ...   \n",
       "970926  Free Stuff - No Fluff!  Get all kinds of FREE ...  ...   \n",
       "\n",
       "                       user_location        lat        long     city  country  \\\n",
       "970919  Philadelphia, PA / Miami, FL  25.774270  -80.193660      NaN       US   \n",
       "970921         Golden Valley Arizona  46.304036 -109.171431      NaN       US   \n",
       "970923               California, USA  36.701463 -118.755997      NaN       US   \n",
       "970925             Chicago, Illinois  41.875562  -87.624421  Chicago       US   \n",
       "970926       USA - Land of the FREE!        NaN         NaN      NaN      NaN   \n",
       "\n",
       "            continent       state state_code                   collected_at  \\\n",
       "970919  North America     Florida         FL            2020-10-21 00:00:00   \n",
       "970921  North America     Montana         MT  2020-10-21 00:00:01.035654566   \n",
       "970923  North America  California         CA  2020-10-21 00:00:02.071309132   \n",
       "970925  North America    Illinois         IL  2020-10-21 00:00:03.106963698   \n",
       "970926            NaN         NaN        NaN  2020-10-21 00:00:03.624790981   \n",
       "\n",
       "       candidate  \n",
       "970919     biden  \n",
       "970921     biden  \n",
       "970923     biden  \n",
       "970925     biden  \n",
       "970926     biden  \n",
       "\n",
       "[5 rows x 22 columns]"
      ]
     },
     "execution_count": 164,
     "metadata": {},
     "output_type": "execute_result"
    }
   ],
   "source": [
    "# Validate we have the Biden column set properly\n",
    "tweets_df[tweets_df['candidate'] == 'biden'].head()"
   ]
  },
  {
   "cell_type": "markdown",
   "metadata": {},
   "source": [
    "Show distribution of tweets by `country` location."
   ]
  },
  {
   "cell_type": "code",
   "execution_count": 53,
   "metadata": {},
   "outputs": [
    {
     "name": "stdout",
     "output_type": "stream",
     "text": [
      "country\n",
      "United States of America            332495\n",
      "United States                        61905\n",
      "United Kingdom                       58051\n",
      "India                                40091\n",
      "Germany                              35379\n",
      "France                               35299\n",
      "Canada                               27805\n",
      "Italy                                20076\n",
      "Australia                            14899\n",
      "Mexico                               10903\n",
      "Turkey                               10368\n",
      "The Netherlands                       9587\n",
      "Brazil                                8735\n",
      "Pakistan                              8597\n",
      "Spain                                 7252\n",
      "Ireland                               5452\n",
      "Netherlands                           5279\n",
      "Colombia                              4425\n",
      "Argentina                             4404\n",
      "Venezuela                             4333\n",
      "Chile                                 3844\n",
      "Belgium                               3823\n",
      "Nigeria                               3810\n",
      "Bangladesh                            3507\n",
      "South Africa                          3248\n",
      "Georgia                               3107\n",
      "Switzerland                           3047\n",
      "Sweden                                2988\n",
      "China                                 2663\n",
      "Finland                               2376\n",
      "Egypt                                 2364\n",
      "Austria                               2151\n",
      "United Arab Emirates                  2140\n",
      "Greece                                2119\n",
      "Norway                                2036\n",
      "Indonesia                             1842\n",
      "Lebanon                               1834\n",
      "Ecuador                               1696\n",
      "Kenya                                 1693\n",
      "Peru                                  1689\n",
      "New Zealand                           1597\n",
      "Cuba                                  1437\n",
      "Israel                                1425\n",
      "Malaysia                              1398\n",
      "Iran                                  1388\n",
      "Singapore                             1378\n",
      "Portugal                              1263\n",
      "Saudi Arabia                          1246\n",
      "Costa Rica                            1233\n",
      "Japan                                 1171\n",
      "Dominican Republic                    1139\n",
      "Philippines                           1137\n",
      "Denmark                               1015\n",
      "Russia                                 876\n",
      "Azerbaijan                             807\n",
      "Honduras                               803\n",
      "Thailand                               758\n",
      "El Salvador                            698\n",
      "Poland                                 696\n",
      "Guatemala                              657\n",
      "Sri Lanka                              637\n",
      "Iraq                                   631\n",
      "Ghana                                  558\n",
      "Bosnia and Herzegovina                 532\n",
      "Ethiopia                               508\n",
      "Tunisia                                484\n",
      "Qatar                                  428\n",
      "Czech Republic                         422\n",
      "Taiwan                                 410\n",
      "Bahrain                                402\n",
      "Uganda                                 398\n",
      "Uruguay                                389\n",
      "South Korea                            374\n",
      "Bolivia                                373\n",
      "Hungary                                353\n",
      "Jamaika                                348\n",
      "Nicaragua                              343\n",
      "Jersey                                 342\n",
      "Nepal                                  338\n",
      "Cyprus                                 333\n",
      "Morocco                                296\n",
      "Serbia                                 295\n",
      "Luxembourg                             285\n",
      "Vietnam                                283\n",
      "Mongolia                               273\n",
      "Kuwait                                 269\n",
      "Bulgaria                               252\n",
      "Panama                                 246\n",
      "Haiti                                  230\n",
      "Ukraine                                226\n",
      "Afghanistan                            220\n",
      "Malta                                  216\n",
      "Lithuania                              211\n",
      "Paraguay                               210\n",
      "Senegal                                209\n",
      "Armenia                                197\n",
      "Libya                                  194\n",
      "Rwanda                                 169\n",
      "Cameroon                               168\n",
      "Oman                                   166\n",
      "Iceland                                159\n",
      "Estonia                                156\n",
      "Cambodia                               152\n",
      "Liberia                                142\n",
      "Albania                                135\n",
      "Trinidad and Tobago                    133\n",
      "Romania                                132\n",
      "Yemen                                  130\n",
      "Slovakia                               122\n",
      "Somalia                                122\n",
      "Zimbabwe                               119\n",
      "Palestinian Territory                  114\n",
      "Kosovo                                 110\n",
      "Syria                                  107\n",
      "Jordan                                  95\n",
      "Tanzania                                93\n",
      "Sudan                                   93\n",
      "Monaco                                  89\n",
      "Papua New Guinea                        87\n",
      "The Bahamas                             80\n",
      "Maldives                                78\n",
      "Angola                                  78\n",
      "Myanmar                                 75\n",
      "Algeria                                 73\n",
      "Zambia                                  71\n",
      "Latvia                                  64\n",
      "Slovenia                                58\n",
      "Sierra Leone                            53\n",
      "Greenland                               52\n",
      "Fiji                                    44\n",
      "Croatia                                 44\n",
      "The Gambia                              42\n",
      "Hong Kong                               42\n",
      "Barbados                                42\n",
      "Kazakhstan                              35\n",
      "Bahamas                                 32\n",
      "Grenada                                 31\n",
      "Côte d'Ivoire                           30\n",
      "Guyana                                  28\n",
      "Congo-Brazzaville                       26\n",
      "North Korea                             25\n",
      "Burkina Faso                            25\n",
      "Namibia                                 24\n",
      "Gibraltar                               23\n",
      "Vatican City                            22\n",
      "Uzbekistan                              22\n",
      "North Macedonia                         21\n",
      "Guinea                                  21\n",
      "Laos                                    21\n",
      "Falkland Islands                        19\n",
      "Suriname                                19\n",
      "Moldova                                 18\n",
      "Djibouti                                17\n",
      "Niger                                   17\n",
      "Mauritius                               16\n",
      "Belize                                  15\n",
      "Democratic Republic of the Congo        14\n",
      "Saint Kitts and Nevis                   13\n",
      "Montenegro                              11\n",
      "Belarus                                 11\n",
      "Seychelles                              11\n",
      "Faroe Islands                           10\n",
      "British Virgin Islands                  10\n",
      "Puerto Rico                              9\n",
      "Cayman Islands                           8\n",
      "Tajikistan                               7\n",
      "Liechtenstein                            6\n",
      "Isle of Man                              5\n",
      "Dominica                                 5\n",
      "Antigua and Barbuda                      5\n",
      "Madagascar                               5\n",
      "Federated States of Micronesia           5\n",
      "South Sudan                              5\n",
      "Anguilla                                 5\n",
      "Congo                                    5\n",
      "Turks and Caicos Islands                 4\n",
      "Republic of the Congo                    4\n",
      "Gabon                                    4\n",
      "Benin                                    3\n",
      "Vanuatu                                  3\n",
      "Cape Verde                               2\n",
      "Kiribati                                 2\n",
      "Tonga                                    2\n",
      "Samoa                                    2\n",
      "Mali                                     2\n",
      "Northern Mariana Islands                 1\n",
      "Saint Lucia                              1\n",
      "Lesotho                                  1\n",
      "East Timor                               1\n",
      "Name: count, dtype: int64\n"
     ]
    }
   ],
   "source": [
    "# Seeing the various countries of tweets\n",
    "pd.set_option('display.max_rows', 500)  # Display all rows\n",
    "print(tweets_df['country'].value_counts())"
   ]
  },
  {
   "cell_type": "markdown",
   "metadata": {},
   "source": [
    "---\n",
    "#### Data Cleaning and Wrangling"
   ]
  },
  {
   "cell_type": "markdown",
   "metadata": {},
   "source": [
    "While this dataset has quite a number of null values depending on the column, let's see if we can maximize the useful data without dropping ALL rows with null values. First let's update all USA country fields to show \"US\". Then, find where the `user_location` is specified, but the `country` is not (`state_code` also is missing in many rows). We will focus on users where stated location is somewhere in the USA with the assumption that this will be part of our voting and/or influence group (even though there's no way to tell whether any user is a US citizen or not, and some users aren't even necessarily individuals but represent organizations, or even bots). Sometimes users will input a city and state (or even 'USA') in the `user_location` field which we may be able to parse even if the `country` field is null."
   ]
  },
  {
   "cell_type": "markdown",
   "metadata": {},
   "source": [
    "For easier manipulation, we will change rows with various `country` names for USA to just \"US\". "
   ]
  },
  {
   "cell_type": "code",
   "execution_count": 87,
   "metadata": {},
   "outputs": [],
   "source": [
    "# Shorten any United States (/of America) to simply \"US\"\n",
    "tweets_df['country'] = tweets_df['country'].replace({'United States of America': \"US\",'United States': \"US\"}) "
   ]
  },
  {
   "cell_type": "markdown",
   "metadata": {},
   "source": [
    "Filter rows to show only tweets where country field is US."
   ]
  },
  {
   "cell_type": "code",
   "execution_count": 122,
   "metadata": {},
   "outputs": [
    {
     "data": {
      "text/html": [
       "<div>\n",
       "<style scoped>\n",
       "    .dataframe tbody tr th:only-of-type {\n",
       "        vertical-align: middle;\n",
       "    }\n",
       "\n",
       "    .dataframe tbody tr th {\n",
       "        vertical-align: top;\n",
       "    }\n",
       "\n",
       "    .dataframe thead th {\n",
       "        text-align: right;\n",
       "    }\n",
       "</style>\n",
       "<table border=\"1\" class=\"dataframe\">\n",
       "  <thead>\n",
       "    <tr style=\"text-align: right;\">\n",
       "      <th></th>\n",
       "      <th>created_at</th>\n",
       "      <th>tweet_id</th>\n",
       "      <th>tweet</th>\n",
       "      <th>likes</th>\n",
       "      <th>retweet_count</th>\n",
       "      <th>source</th>\n",
       "      <th>user_id</th>\n",
       "      <th>user_name</th>\n",
       "      <th>user_screen_name</th>\n",
       "      <th>user_description</th>\n",
       "      <th>...</th>\n",
       "      <th>user_location</th>\n",
       "      <th>lat</th>\n",
       "      <th>long</th>\n",
       "      <th>city</th>\n",
       "      <th>country</th>\n",
       "      <th>continent</th>\n",
       "      <th>state</th>\n",
       "      <th>state_code</th>\n",
       "      <th>collected_at</th>\n",
       "      <th>candidate</th>\n",
       "    </tr>\n",
       "  </thead>\n",
       "  <tbody>\n",
       "    <tr>\n",
       "      <th>0</th>\n",
       "      <td>2020-10-15 00:00:01</td>\n",
       "      <td>1.316529e+18</td>\n",
       "      <td>#Elecciones2020 | En #Florida: #JoeBiden dice ...</td>\n",
       "      <td>0.0</td>\n",
       "      <td>0.0</td>\n",
       "      <td>TweetDeck</td>\n",
       "      <td>3.606665e+08</td>\n",
       "      <td>El Sol Latino News</td>\n",
       "      <td>elsollatinonews</td>\n",
       "      <td>🌐 Noticias de interés para latinos de la costa...</td>\n",
       "      <td>...</td>\n",
       "      <td>Philadelphia, PA / Miami, FL</td>\n",
       "      <td>25.774270</td>\n",
       "      <td>-80.193660</td>\n",
       "      <td>NaN</td>\n",
       "      <td>US</td>\n",
       "      <td>North America</td>\n",
       "      <td>Florida</td>\n",
       "      <td>FL</td>\n",
       "      <td>2020-10-21 00:00:00</td>\n",
       "      <td>trump</td>\n",
       "    </tr>\n",
       "    <tr>\n",
       "      <th>2</th>\n",
       "      <td>2020-10-15 00:00:02</td>\n",
       "      <td>1.316529e+18</td>\n",
       "      <td>#Trump: As a student I used to hear for years,...</td>\n",
       "      <td>2.0</td>\n",
       "      <td>1.0</td>\n",
       "      <td>Twitter Web App</td>\n",
       "      <td>8.436472e+06</td>\n",
       "      <td>snarke</td>\n",
       "      <td>snarke</td>\n",
       "      <td>Will mock for food! Freelance writer, blogger,...</td>\n",
       "      <td>...</td>\n",
       "      <td>Portland</td>\n",
       "      <td>45.520247</td>\n",
       "      <td>-122.674195</td>\n",
       "      <td>Portland</td>\n",
       "      <td>US</td>\n",
       "      <td>North America</td>\n",
       "      <td>Oregon</td>\n",
       "      <td>OR</td>\n",
       "      <td>2020-10-21 00:00:00.746433060</td>\n",
       "      <td>trump</td>\n",
       "    </tr>\n",
       "    <tr>\n",
       "      <th>4</th>\n",
       "      <td>2020-10-15 00:00:08</td>\n",
       "      <td>1.316529e+18</td>\n",
       "      <td>You get a tie! And you get a tie! #Trump ‘s ra...</td>\n",
       "      <td>4.0</td>\n",
       "      <td>3.0</td>\n",
       "      <td>Twitter for iPhone</td>\n",
       "      <td>4.741380e+07</td>\n",
       "      <td>Rana Abtar - رنا أبتر</td>\n",
       "      <td>Ranaabtar</td>\n",
       "      <td>Washington Correspondent, Lebanese-American ,c...</td>\n",
       "      <td>...</td>\n",
       "      <td>Washington DC</td>\n",
       "      <td>38.894992</td>\n",
       "      <td>-77.036558</td>\n",
       "      <td>Washington</td>\n",
       "      <td>US</td>\n",
       "      <td>North America</td>\n",
       "      <td>District of Columbia</td>\n",
       "      <td>DC</td>\n",
       "      <td>2020-10-21 00:00:01.492866121</td>\n",
       "      <td>trump</td>\n",
       "    </tr>\n",
       "    <tr>\n",
       "      <th>5</th>\n",
       "      <td>2020-10-15 00:00:17</td>\n",
       "      <td>1.316529e+18</td>\n",
       "      <td>@CLady62 Her 15 minutes were over long time ag...</td>\n",
       "      <td>2.0</td>\n",
       "      <td>0.0</td>\n",
       "      <td>Twitter for Android</td>\n",
       "      <td>1.138416e+09</td>\n",
       "      <td>Farris Flagg</td>\n",
       "      <td>FarrisFlagg</td>\n",
       "      <td>#BidenHarris2020 #JoeBiden2020 #KamalaHarrisFo...</td>\n",
       "      <td>...</td>\n",
       "      <td>Perris,California</td>\n",
       "      <td>33.782519</td>\n",
       "      <td>-117.228648</td>\n",
       "      <td>NaN</td>\n",
       "      <td>US</td>\n",
       "      <td>North America</td>\n",
       "      <td>California</td>\n",
       "      <td>CA</td>\n",
       "      <td>2020-10-21 00:00:01.866082651</td>\n",
       "      <td>trump</td>\n",
       "    </tr>\n",
       "    <tr>\n",
       "      <th>7</th>\n",
       "      <td>2020-10-15 00:00:18</td>\n",
       "      <td>1.316529e+18</td>\n",
       "      <td>@DeeviousDenise @realDonaldTrump @nypost There...</td>\n",
       "      <td>0.0</td>\n",
       "      <td>0.0</td>\n",
       "      <td>Twitter for iPhone</td>\n",
       "      <td>9.007611e+17</td>\n",
       "      <td>Stacey Gulledge 🇺🇸 Patriot ♥️ KAG 🙏 👮‍♀️♥️</td>\n",
       "      <td>sm_gulledge</td>\n",
       "      <td>Patriot, Wife, “Shaken not Stirred” Mom of two...</td>\n",
       "      <td>...</td>\n",
       "      <td>Ohio, USA</td>\n",
       "      <td>40.225357</td>\n",
       "      <td>-82.688140</td>\n",
       "      <td>NaN</td>\n",
       "      <td>US</td>\n",
       "      <td>North America</td>\n",
       "      <td>Ohio</td>\n",
       "      <td>OH</td>\n",
       "      <td>2020-10-21 00:00:02.612515712</td>\n",
       "      <td>trump</td>\n",
       "    </tr>\n",
       "  </tbody>\n",
       "</table>\n",
       "<p>5 rows × 22 columns</p>\n",
       "</div>"
      ],
      "text/plain": [
       "            created_at      tweet_id  \\\n",
       "0  2020-10-15 00:00:01  1.316529e+18   \n",
       "2  2020-10-15 00:00:02  1.316529e+18   \n",
       "4  2020-10-15 00:00:08  1.316529e+18   \n",
       "5  2020-10-15 00:00:17  1.316529e+18   \n",
       "7  2020-10-15 00:00:18  1.316529e+18   \n",
       "\n",
       "                                               tweet  likes  retweet_count  \\\n",
       "0  #Elecciones2020 | En #Florida: #JoeBiden dice ...    0.0            0.0   \n",
       "2  #Trump: As a student I used to hear for years,...    2.0            1.0   \n",
       "4  You get a tie! And you get a tie! #Trump ‘s ra...    4.0            3.0   \n",
       "5  @CLady62 Her 15 minutes were over long time ag...    2.0            0.0   \n",
       "7  @DeeviousDenise @realDonaldTrump @nypost There...    0.0            0.0   \n",
       "\n",
       "                source       user_id  \\\n",
       "0            TweetDeck  3.606665e+08   \n",
       "2      Twitter Web App  8.436472e+06   \n",
       "4   Twitter for iPhone  4.741380e+07   \n",
       "5  Twitter for Android  1.138416e+09   \n",
       "7   Twitter for iPhone  9.007611e+17   \n",
       "\n",
       "                                    user_name user_screen_name  \\\n",
       "0                          El Sol Latino News  elsollatinonews   \n",
       "2                                      snarke           snarke   \n",
       "4                       Rana Abtar - رنا أبتر        Ranaabtar   \n",
       "5                                Farris Flagg      FarrisFlagg   \n",
       "7  Stacey Gulledge 🇺🇸 Patriot ♥️ KAG 🙏 👮‍♀️♥️      sm_gulledge   \n",
       "\n",
       "                                    user_description  ...  \\\n",
       "0  🌐 Noticias de interés para latinos de la costa...  ...   \n",
       "2  Will mock for food! Freelance writer, blogger,...  ...   \n",
       "4  Washington Correspondent, Lebanese-American ,c...  ...   \n",
       "5  #BidenHarris2020 #JoeBiden2020 #KamalaHarrisFo...  ...   \n",
       "7  Patriot, Wife, “Shaken not Stirred” Mom of two...  ...   \n",
       "\n",
       "                  user_location        lat        long        city  country  \\\n",
       "0  Philadelphia, PA / Miami, FL  25.774270  -80.193660         NaN       US   \n",
       "2                      Portland  45.520247 -122.674195    Portland       US   \n",
       "4                 Washington DC  38.894992  -77.036558  Washington       US   \n",
       "5             Perris,California  33.782519 -117.228648         NaN       US   \n",
       "7                     Ohio, USA  40.225357  -82.688140         NaN       US   \n",
       "\n",
       "       continent                 state state_code  \\\n",
       "0  North America               Florida         FL   \n",
       "2  North America                Oregon         OR   \n",
       "4  North America  District of Columbia         DC   \n",
       "5  North America            California         CA   \n",
       "7  North America                  Ohio         OH   \n",
       "\n",
       "                    collected_at candidate  \n",
       "0            2020-10-21 00:00:00     trump  \n",
       "2  2020-10-21 00:00:00.746433060     trump  \n",
       "4  2020-10-21 00:00:01.492866121     trump  \n",
       "5  2020-10-21 00:00:01.866082651     trump  \n",
       "7  2020-10-21 00:00:02.612515712     trump  \n",
       "\n",
       "[5 rows x 22 columns]"
      ]
     },
     "execution_count": 122,
     "metadata": {},
     "output_type": "execute_result"
    }
   ],
   "source": [
    "# Isolate tweets where `country` is \"US\"\n",
    "tweets_cntryUSA = tweets_df[tweets_df[\"country\"] == \"US\"]\n",
    "tweets_cntryUSA.head()"
   ]
  },
  {
   "cell_type": "markdown",
   "metadata": {},
   "source": [
    "Filter full tweet DF for rows where `country` is null but `user_location` is set. This way we can try to parse out tweet user locations that are still in the USA."
   ]
  },
  {
   "cell_type": "code",
   "execution_count": 158,
   "metadata": {},
   "outputs": [
    {
     "data": {
      "text/plain": [
       "6                     Powell, TN\n",
       "14       USA - Land of the FREE!\n",
       "21                  Mother Earth\n",
       "26                    Everywhere\n",
       "28                  WASherst, PA\n",
       "37                       Danmark\n",
       "47                  Mother Earth\n",
       "51           #BlueWave USA 🌊🌊🌊🌊🌊\n",
       "70    37°12'28.3\"N 115°57'25.9\"W\n",
       "82               Chula Vista, CA\n",
       "Name: user_location, dtype: object"
      ]
     },
     "execution_count": 158,
     "metadata": {},
     "output_type": "execute_result"
    }
   ],
   "source": [
    "# Check to see where user_location is available, but no country specified\n",
    "tweets_loconly = tweets_df[tweets_df['country'].isnull() & \n",
    "                           tweets_df['user_location'].notnull()]\n",
    "tweets_loconly['user_location'].head(10)"
   ]
  },
  {
   "cell_type": "markdown",
   "metadata": {},
   "source": [
    "Parse `user_location` (again, where `country` is null) for US state abbreviations at the end."
   ]
  },
  {
   "cell_type": "code",
   "execution_count": 92,
   "metadata": {},
   "outputs": [
    {
     "name": "stdout",
     "output_type": "stream",
     "text": [
      "['AL', 'AK', 'AZ', 'AR', 'CA', 'CO', 'CT', 'DE', 'DC', 'FL', 'GA', 'HI', 'ID', 'IL', 'IN', 'IA', 'KS', 'KY', 'LA', 'ME', 'MD', 'MA', 'MI', 'MN', 'MS', 'MO', 'MT', 'NE', 'NV', 'NH', 'NJ', 'NM', 'NY', 'NC', 'ND', 'OH', 'OK', 'OR', 'PA', 'RI', 'SC', 'SD', 'TN', 'TX', 'UT', 'VT', 'VA', 'WA', 'WV', 'WI', 'WY', 'USA']\n"
     ]
    }
   ],
   "source": [
    "# Read in list of US State abbreviations to parse user_location\n",
    "states = pd.read_csv(\"support/states.csv\", names=['states'])\n",
    "statelist = list(states['states'])\n",
    "print(statelist)"
   ]
  },
  {
   "cell_type": "code",
   "execution_count": null,
   "metadata": {},
   "outputs": [],
   "source": [
    "# Filter the rows that have country as null but location as filled for those\n",
    "# that have the last two characters matching a State abbreviation\n",
    "user_states = tweets_loconly[tweets_loconly['user_location'].\\\n",
    "                             str[-2:].isin(statelist)]"
   ]
  },
  {
   "cell_type": "code",
   "execution_count": 150,
   "metadata": {},
   "outputs": [
    {
     "data": {
      "text/plain": [
       "6             Powell, TN\n",
       "28          WASherst, PA\n",
       "82       Chula Vista, CA\n",
       "89        New Castle, IN\n",
       "124             Davie,FL\n",
       "148      Chula Vista, CA\n",
       "189    Olmsted Falls, OH\n",
       "218      Chula Vista, CA\n",
       "260         Lawrence, MA\n",
       "311      Chula Vista, CA\n",
       "Name: user_location, dtype: object"
      ]
     },
     "execution_count": 150,
     "metadata": {},
     "output_type": "execute_result"
    }
   ],
   "source": [
    "user_states['user_location'].head(10)"
   ]
  },
  {
   "cell_type": "markdown",
   "metadata": {},
   "source": [
    "Some `user_location` rows indicate \"USA\" so let's parse for that too."
   ]
  },
  {
   "cell_type": "code",
   "execution_count": 95,
   "metadata": {},
   "outputs": [],
   "source": [
    "# Check if user_location indicates \"USA\" if no state abbreviation at the end\n",
    "user_stateUSA = tweets_loconly[tweets_loconly['user_location'].\\\n",
    "                               str.contains(\"USA\", na=False)]"
   ]
  },
  {
   "cell_type": "code",
   "execution_count": 149,
   "metadata": {},
   "outputs": [
    {
     "data": {
      "text/plain": [
       "14        USA - Land of the FREE!\n",
       "51            #BlueWave USA 🌊🌊🌊🌊🌊\n",
       "83            #BlueWave USA 🌊🌊🌊🌊🌊\n",
       "101                 NorthWest USA\n",
       "102                 NorthWest USA\n",
       "133           #BlueWave USA 🌊🌊🌊🌊🌊\n",
       "170           #BlueWave USA 🌊🌊🌊🌊🌊\n",
       "177           #BlueWave USA 🌊🌊🌊🌊🌊\n",
       "255    USA, the GREATEST Country!\n",
       "274                   Chicago USA\n",
       "Name: user_location, dtype: object"
      ]
     },
     "execution_count": 149,
     "metadata": {},
     "output_type": "execute_result"
    }
   ],
   "source": [
    "user_stateUSA['user_location'].head(10)"
   ]
  },
  {
   "cell_type": "markdown",
   "metadata": {},
   "source": [
    "Show distribution of users across their stated \"USA\" location."
   ]
  },
  {
   "cell_type": "code",
   "execution_count": 97,
   "metadata": {},
   "outputs": [
    {
     "data": {
      "text/plain": [
       "user_location\n",
       "NorthWest USA                            764\n",
       "#BlueWave USA 🌊🌊🌊🌊🌊                      536\n",
       "California USA                           379\n",
       "N.E USA                                  276\n",
       "The South-USA                            223\n",
       "                                        ... \n",
       "Rochester, NH, USA                         1\n",
       "South Standing Rock, USA                   1\n",
       "La Plasha (USA)                            1\n",
       "Free Range, USA - Can't Follow             1\n",
       "420 Beech Ave, Madison, TN 37115, USA      1\n",
       "Name: count, Length: 2118, dtype: int64"
      ]
     },
     "execution_count": 97,
     "metadata": {},
     "output_type": "execute_result"
    }
   ],
   "source": [
    "user_stateUSA['user_location'].value_counts()"
   ]
  },
  {
   "cell_type": "markdown",
   "metadata": {},
   "source": [
    "Check if there are any rows that have `country` set but with null `user_location`."
   ]
  },
  {
   "cell_type": "code",
   "execution_count": 124,
   "metadata": {},
   "outputs": [
    {
     "data": {
      "text/html": [
       "<div>\n",
       "<style scoped>\n",
       "    .dataframe tbody tr th:only-of-type {\n",
       "        vertical-align: middle;\n",
       "    }\n",
       "\n",
       "    .dataframe tbody tr th {\n",
       "        vertical-align: top;\n",
       "    }\n",
       "\n",
       "    .dataframe thead th {\n",
       "        text-align: right;\n",
       "    }\n",
       "</style>\n",
       "<table border=\"1\" class=\"dataframe\">\n",
       "  <thead>\n",
       "    <tr style=\"text-align: right;\">\n",
       "      <th></th>\n",
       "      <th>created_at</th>\n",
       "      <th>tweet_id</th>\n",
       "      <th>tweet</th>\n",
       "      <th>likes</th>\n",
       "      <th>retweet_count</th>\n",
       "      <th>source</th>\n",
       "      <th>user_id</th>\n",
       "      <th>user_name</th>\n",
       "      <th>user_screen_name</th>\n",
       "      <th>user_description</th>\n",
       "      <th>...</th>\n",
       "      <th>user_location</th>\n",
       "      <th>lat</th>\n",
       "      <th>long</th>\n",
       "      <th>city</th>\n",
       "      <th>country</th>\n",
       "      <th>continent</th>\n",
       "      <th>state</th>\n",
       "      <th>state_code</th>\n",
       "      <th>collected_at</th>\n",
       "      <th>candidate</th>\n",
       "    </tr>\n",
       "  </thead>\n",
       "  <tbody>\n",
       "  </tbody>\n",
       "</table>\n",
       "<p>0 rows × 22 columns</p>\n",
       "</div>"
      ],
      "text/plain": [
       "Empty DataFrame\n",
       "Columns: [created_at, tweet_id, tweet, likes, retweet_count, source, user_id, user_name, user_screen_name, user_description, user_join_date, user_followers_count, user_location, lat, long, city, country, continent, state, state_code, collected_at, candidate]\n",
       "Index: []\n",
       "\n",
       "[0 rows x 22 columns]"
      ]
     },
     "execution_count": 124,
     "metadata": {},
     "output_type": "execute_result"
    }
   ],
   "source": [
    "# Check to see where country is available, but no user_location specified\n",
    "tweets_cntryonly = tweets_df[tweets_df['user_location'].isnull() & \n",
    "                             tweets_df['country'].notnull()]\n",
    "tweets_cntryonly.head()"
   ]
  },
  {
   "cell_type": "markdown",
   "metadata": {},
   "source": [
    "Seeing none, now let's combine `tweets_cntryUSA` with other parsed location-only tweets."
   ]
  },
  {
   "cell_type": "code",
   "execution_count": 129,
   "metadata": {},
   "outputs": [
    {
     "name": "stdout",
     "output_type": "stream",
     "text": [
      "New size of filtered DF: (435522, 22)\n"
     ]
    }
   ],
   "source": [
    "# Combine DFs with \"US\" country, and those with no country but US locations.\n",
    "user_USAonly = pd.concat([tweets_cntryUSA, user_states, user_stateUSA]) \n",
    "user_USAonly = user_USAonly.reset_index(drop=True)\n",
    "\n",
    "# Make sure to fill null 'country' fields with \"US\"\n",
    "user_USAonly['country'] = user_USAonly['country'].fillna(value=\"US\")\n",
    "print(f\"New size of filtered DF: {user_USAonly.shape}\")"
   ]
  },
  {
   "cell_type": "markdown",
   "metadata": {},
   "source": [
    "Now we have a bit over 435 thousand tweets for our final sentiment dataset which includes users with stated locations in the USA."
   ]
  },
  {
   "cell_type": "code",
   "execution_count": 126,
   "metadata": {},
   "outputs": [
    {
     "data": {
      "text/html": [
       "<div>\n",
       "<style scoped>\n",
       "    .dataframe tbody tr th:only-of-type {\n",
       "        vertical-align: middle;\n",
       "    }\n",
       "\n",
       "    .dataframe tbody tr th {\n",
       "        vertical-align: top;\n",
       "    }\n",
       "\n",
       "    .dataframe thead th {\n",
       "        text-align: right;\n",
       "    }\n",
       "</style>\n",
       "<table border=\"1\" class=\"dataframe\">\n",
       "  <thead>\n",
       "    <tr style=\"text-align: right;\">\n",
       "      <th></th>\n",
       "      <th>created_at</th>\n",
       "      <th>tweet_id</th>\n",
       "      <th>tweet</th>\n",
       "      <th>likes</th>\n",
       "      <th>retweet_count</th>\n",
       "      <th>source</th>\n",
       "      <th>user_id</th>\n",
       "      <th>user_name</th>\n",
       "      <th>user_screen_name</th>\n",
       "      <th>user_description</th>\n",
       "      <th>...</th>\n",
       "      <th>user_location</th>\n",
       "      <th>lat</th>\n",
       "      <th>long</th>\n",
       "      <th>city</th>\n",
       "      <th>country</th>\n",
       "      <th>continent</th>\n",
       "      <th>state</th>\n",
       "      <th>state_code</th>\n",
       "      <th>collected_at</th>\n",
       "      <th>candidate</th>\n",
       "    </tr>\n",
       "  </thead>\n",
       "  <tbody>\n",
       "    <tr>\n",
       "      <th>0</th>\n",
       "      <td>2020-10-15 00:00:01</td>\n",
       "      <td>1.316529e+18</td>\n",
       "      <td>#Elecciones2020 | En #Florida: #JoeBiden dice ...</td>\n",
       "      <td>0.0</td>\n",
       "      <td>0.0</td>\n",
       "      <td>TweetDeck</td>\n",
       "      <td>3.606665e+08</td>\n",
       "      <td>El Sol Latino News</td>\n",
       "      <td>elsollatinonews</td>\n",
       "      <td>🌐 Noticias de interés para latinos de la costa...</td>\n",
       "      <td>...</td>\n",
       "      <td>Philadelphia, PA / Miami, FL</td>\n",
       "      <td>25.774270</td>\n",
       "      <td>-80.193660</td>\n",
       "      <td>NaN</td>\n",
       "      <td>US</td>\n",
       "      <td>North America</td>\n",
       "      <td>Florida</td>\n",
       "      <td>FL</td>\n",
       "      <td>2020-10-21 00:00:00</td>\n",
       "      <td>trump</td>\n",
       "    </tr>\n",
       "    <tr>\n",
       "      <th>1</th>\n",
       "      <td>2020-10-15 00:00:02</td>\n",
       "      <td>1.316529e+18</td>\n",
       "      <td>#Trump: As a student I used to hear for years,...</td>\n",
       "      <td>2.0</td>\n",
       "      <td>1.0</td>\n",
       "      <td>Twitter Web App</td>\n",
       "      <td>8.436472e+06</td>\n",
       "      <td>snarke</td>\n",
       "      <td>snarke</td>\n",
       "      <td>Will mock for food! Freelance writer, blogger,...</td>\n",
       "      <td>...</td>\n",
       "      <td>Portland</td>\n",
       "      <td>45.520247</td>\n",
       "      <td>-122.674195</td>\n",
       "      <td>Portland</td>\n",
       "      <td>US</td>\n",
       "      <td>North America</td>\n",
       "      <td>Oregon</td>\n",
       "      <td>OR</td>\n",
       "      <td>2020-10-21 00:00:00.746433060</td>\n",
       "      <td>trump</td>\n",
       "    </tr>\n",
       "    <tr>\n",
       "      <th>2</th>\n",
       "      <td>2020-10-15 00:00:08</td>\n",
       "      <td>1.316529e+18</td>\n",
       "      <td>You get a tie! And you get a tie! #Trump ‘s ra...</td>\n",
       "      <td>4.0</td>\n",
       "      <td>3.0</td>\n",
       "      <td>Twitter for iPhone</td>\n",
       "      <td>4.741380e+07</td>\n",
       "      <td>Rana Abtar - رنا أبتر</td>\n",
       "      <td>Ranaabtar</td>\n",
       "      <td>Washington Correspondent, Lebanese-American ,c...</td>\n",
       "      <td>...</td>\n",
       "      <td>Washington DC</td>\n",
       "      <td>38.894992</td>\n",
       "      <td>-77.036558</td>\n",
       "      <td>Washington</td>\n",
       "      <td>US</td>\n",
       "      <td>North America</td>\n",
       "      <td>District of Columbia</td>\n",
       "      <td>DC</td>\n",
       "      <td>2020-10-21 00:00:01.492866121</td>\n",
       "      <td>trump</td>\n",
       "    </tr>\n",
       "    <tr>\n",
       "      <th>3</th>\n",
       "      <td>2020-10-15 00:00:17</td>\n",
       "      <td>1.316529e+18</td>\n",
       "      <td>@CLady62 Her 15 minutes were over long time ag...</td>\n",
       "      <td>2.0</td>\n",
       "      <td>0.0</td>\n",
       "      <td>Twitter for Android</td>\n",
       "      <td>1.138416e+09</td>\n",
       "      <td>Farris Flagg</td>\n",
       "      <td>FarrisFlagg</td>\n",
       "      <td>#BidenHarris2020 #JoeBiden2020 #KamalaHarrisFo...</td>\n",
       "      <td>...</td>\n",
       "      <td>Perris,California</td>\n",
       "      <td>33.782519</td>\n",
       "      <td>-117.228648</td>\n",
       "      <td>NaN</td>\n",
       "      <td>US</td>\n",
       "      <td>North America</td>\n",
       "      <td>California</td>\n",
       "      <td>CA</td>\n",
       "      <td>2020-10-21 00:00:01.866082651</td>\n",
       "      <td>trump</td>\n",
       "    </tr>\n",
       "    <tr>\n",
       "      <th>4</th>\n",
       "      <td>2020-10-15 00:00:18</td>\n",
       "      <td>1.316529e+18</td>\n",
       "      <td>@DeeviousDenise @realDonaldTrump @nypost There...</td>\n",
       "      <td>0.0</td>\n",
       "      <td>0.0</td>\n",
       "      <td>Twitter for iPhone</td>\n",
       "      <td>9.007611e+17</td>\n",
       "      <td>Stacey Gulledge 🇺🇸 Patriot ♥️ KAG 🙏 👮‍♀️♥️</td>\n",
       "      <td>sm_gulledge</td>\n",
       "      <td>Patriot, Wife, “Shaken not Stirred” Mom of two...</td>\n",
       "      <td>...</td>\n",
       "      <td>Ohio, USA</td>\n",
       "      <td>40.225357</td>\n",
       "      <td>-82.688140</td>\n",
       "      <td>NaN</td>\n",
       "      <td>US</td>\n",
       "      <td>North America</td>\n",
       "      <td>Ohio</td>\n",
       "      <td>OH</td>\n",
       "      <td>2020-10-21 00:00:02.612515712</td>\n",
       "      <td>trump</td>\n",
       "    </tr>\n",
       "    <tr>\n",
       "      <th>5</th>\n",
       "      <td>2020-10-15 00:00:20</td>\n",
       "      <td>1.316529e+18</td>\n",
       "      <td>One of the single most effective remedies to e...</td>\n",
       "      <td>0.0</td>\n",
       "      <td>0.0</td>\n",
       "      <td>Twitter Web App</td>\n",
       "      <td>5.404769e+08</td>\n",
       "      <td>Jamieo</td>\n",
       "      <td>jamieo33</td>\n",
       "      <td>Don't know what I am. Can lean left and right,...</td>\n",
       "      <td>...</td>\n",
       "      <td>Pennsylvania, USA</td>\n",
       "      <td>40.969989</td>\n",
       "      <td>-77.727883</td>\n",
       "      <td>NaN</td>\n",
       "      <td>US</td>\n",
       "      <td>North America</td>\n",
       "      <td>Pennsylvania</td>\n",
       "      <td>PA</td>\n",
       "      <td>2020-10-21 00:00:02.985732243</td>\n",
       "      <td>trump</td>\n",
       "    </tr>\n",
       "    <tr>\n",
       "      <th>6</th>\n",
       "      <td>2020-10-15 00:00:25</td>\n",
       "      <td>1.316529e+18</td>\n",
       "      <td>In 2020, #NYPost is being #censorship #CENSORE...</td>\n",
       "      <td>0.0</td>\n",
       "      <td>0.0</td>\n",
       "      <td>Twitter for iPhone</td>\n",
       "      <td>1.994033e+07</td>\n",
       "      <td>Change Illinois | Biden will increase taxes by...</td>\n",
       "      <td>changeillinois</td>\n",
       "      <td>Illinois, home of Lincoln and Reagan, used to ...</td>\n",
       "      <td>...</td>\n",
       "      <td>Chicago, Illinois</td>\n",
       "      <td>41.875562</td>\n",
       "      <td>-87.624421</td>\n",
       "      <td>Chicago</td>\n",
       "      <td>US</td>\n",
       "      <td>North America</td>\n",
       "      <td>Illinois</td>\n",
       "      <td>IL</td>\n",
       "      <td>2020-10-21 00:00:04.105381834</td>\n",
       "      <td>trump</td>\n",
       "    </tr>\n",
       "    <tr>\n",
       "      <th>7</th>\n",
       "      <td>2020-10-15 00:00:26</td>\n",
       "      <td>1.316529e+18</td>\n",
       "      <td>#Trump #PresidentTrump #Trump2020LandslideVict...</td>\n",
       "      <td>3.0</td>\n",
       "      <td>5.0</td>\n",
       "      <td>Twitter for Android</td>\n",
       "      <td>1.243315e+18</td>\n",
       "      <td>Ron Burgundy</td>\n",
       "      <td>Anchorman_USA</td>\n",
       "      <td>I'm kind of a Big Deal, People know me! I driv...</td>\n",
       "      <td>...</td>\n",
       "      <td>San Diego, CA</td>\n",
       "      <td>32.717421</td>\n",
       "      <td>-117.162771</td>\n",
       "      <td>San Diego</td>\n",
       "      <td>US</td>\n",
       "      <td>North America</td>\n",
       "      <td>California</td>\n",
       "      <td>CA</td>\n",
       "      <td>2020-10-21 00:00:04.478598364</td>\n",
       "      <td>trump</td>\n",
       "    </tr>\n",
       "    <tr>\n",
       "      <th>8</th>\n",
       "      <td>2020-10-15 00:01:08</td>\n",
       "      <td>1.316530e+18</td>\n",
       "      <td>@cnnbrk #Trump owes #RicardoAguirre $730,000 t...</td>\n",
       "      <td>3.0</td>\n",
       "      <td>2.0</td>\n",
       "      <td>Twitter for iPhone</td>\n",
       "      <td>1.946504e+08</td>\n",
       "      <td>MoClarker</td>\n",
       "      <td>MoClarker</td>\n",
       "      <td>Media Maven/Scientist/Fan O Fauci</td>\n",
       "      <td>...</td>\n",
       "      <td>Santa Monica Beach</td>\n",
       "      <td>47.005211</td>\n",
       "      <td>-88.962910</td>\n",
       "      <td>NaN</td>\n",
       "      <td>US</td>\n",
       "      <td>North America</td>\n",
       "      <td>Michigan</td>\n",
       "      <td>MI</td>\n",
       "      <td>2020-10-21 00:00:07.091114077</td>\n",
       "      <td>trump</td>\n",
       "    </tr>\n",
       "    <tr>\n",
       "      <th>9</th>\n",
       "      <td>2020-10-15 00:01:10</td>\n",
       "      <td>1.316530e+18</td>\n",
       "      <td>#Democrats have spent more #tax #payer #paid #...</td>\n",
       "      <td>0.0</td>\n",
       "      <td>0.0</td>\n",
       "      <td>Twitter Web App</td>\n",
       "      <td>3.773871e+07</td>\n",
       "      <td>E Turner</td>\n",
       "      <td>Webinfotech</td>\n",
       "      <td>Christian Veteran - My Oath to my Country, Fla...</td>\n",
       "      <td>...</td>\n",
       "      <td>United States</td>\n",
       "      <td>39.783730</td>\n",
       "      <td>-100.445882</td>\n",
       "      <td>NaN</td>\n",
       "      <td>US</td>\n",
       "      <td>North America</td>\n",
       "      <td>NaN</td>\n",
       "      <td>NaN</td>\n",
       "      <td>2020-10-21 00:00:07.837547138</td>\n",
       "      <td>trump</td>\n",
       "    </tr>\n",
       "  </tbody>\n",
       "</table>\n",
       "<p>10 rows × 22 columns</p>\n",
       "</div>"
      ],
      "text/plain": [
       "            created_at      tweet_id  \\\n",
       "0  2020-10-15 00:00:01  1.316529e+18   \n",
       "1  2020-10-15 00:00:02  1.316529e+18   \n",
       "2  2020-10-15 00:00:08  1.316529e+18   \n",
       "3  2020-10-15 00:00:17  1.316529e+18   \n",
       "4  2020-10-15 00:00:18  1.316529e+18   \n",
       "5  2020-10-15 00:00:20  1.316529e+18   \n",
       "6  2020-10-15 00:00:25  1.316529e+18   \n",
       "7  2020-10-15 00:00:26  1.316529e+18   \n",
       "8  2020-10-15 00:01:08  1.316530e+18   \n",
       "9  2020-10-15 00:01:10  1.316530e+18   \n",
       "\n",
       "                                               tweet  likes  retweet_count  \\\n",
       "0  #Elecciones2020 | En #Florida: #JoeBiden dice ...    0.0            0.0   \n",
       "1  #Trump: As a student I used to hear for years,...    2.0            1.0   \n",
       "2  You get a tie! And you get a tie! #Trump ‘s ra...    4.0            3.0   \n",
       "3  @CLady62 Her 15 minutes were over long time ag...    2.0            0.0   \n",
       "4  @DeeviousDenise @realDonaldTrump @nypost There...    0.0            0.0   \n",
       "5  One of the single most effective remedies to e...    0.0            0.0   \n",
       "6  In 2020, #NYPost is being #censorship #CENSORE...    0.0            0.0   \n",
       "7  #Trump #PresidentTrump #Trump2020LandslideVict...    3.0            5.0   \n",
       "8  @cnnbrk #Trump owes #RicardoAguirre $730,000 t...    3.0            2.0   \n",
       "9  #Democrats have spent more #tax #payer #paid #...    0.0            0.0   \n",
       "\n",
       "                source       user_id  \\\n",
       "0            TweetDeck  3.606665e+08   \n",
       "1      Twitter Web App  8.436472e+06   \n",
       "2   Twitter for iPhone  4.741380e+07   \n",
       "3  Twitter for Android  1.138416e+09   \n",
       "4   Twitter for iPhone  9.007611e+17   \n",
       "5      Twitter Web App  5.404769e+08   \n",
       "6   Twitter for iPhone  1.994033e+07   \n",
       "7  Twitter for Android  1.243315e+18   \n",
       "8   Twitter for iPhone  1.946504e+08   \n",
       "9      Twitter Web App  3.773871e+07   \n",
       "\n",
       "                                           user_name user_screen_name  \\\n",
       "0                                 El Sol Latino News  elsollatinonews   \n",
       "1                                             snarke           snarke   \n",
       "2                              Rana Abtar - رنا أبتر        Ranaabtar   \n",
       "3                                       Farris Flagg      FarrisFlagg   \n",
       "4         Stacey Gulledge 🇺🇸 Patriot ♥️ KAG 🙏 👮‍♀️♥️      sm_gulledge   \n",
       "5                                             Jamieo         jamieo33   \n",
       "6  Change Illinois | Biden will increase taxes by...   changeillinois   \n",
       "7                                       Ron Burgundy    Anchorman_USA   \n",
       "8                                          MoClarker        MoClarker   \n",
       "9                                           E Turner      Webinfotech   \n",
       "\n",
       "                                    user_description  ...  \\\n",
       "0  🌐 Noticias de interés para latinos de la costa...  ...   \n",
       "1  Will mock for food! Freelance writer, blogger,...  ...   \n",
       "2  Washington Correspondent, Lebanese-American ,c...  ...   \n",
       "3  #BidenHarris2020 #JoeBiden2020 #KamalaHarrisFo...  ...   \n",
       "4  Patriot, Wife, “Shaken not Stirred” Mom of two...  ...   \n",
       "5  Don't know what I am. Can lean left and right,...  ...   \n",
       "6  Illinois, home of Lincoln and Reagan, used to ...  ...   \n",
       "7  I'm kind of a Big Deal, People know me! I driv...  ...   \n",
       "8                  Media Maven/Scientist/Fan O Fauci  ...   \n",
       "9  Christian Veteran - My Oath to my Country, Fla...  ...   \n",
       "\n",
       "                  user_location        lat        long        city  country  \\\n",
       "0  Philadelphia, PA / Miami, FL  25.774270  -80.193660         NaN       US   \n",
       "1                      Portland  45.520247 -122.674195    Portland       US   \n",
       "2                 Washington DC  38.894992  -77.036558  Washington       US   \n",
       "3             Perris,California  33.782519 -117.228648         NaN       US   \n",
       "4                     Ohio, USA  40.225357  -82.688140         NaN       US   \n",
       "5             Pennsylvania, USA  40.969989  -77.727883         NaN       US   \n",
       "6             Chicago, Illinois  41.875562  -87.624421     Chicago       US   \n",
       "7                 San Diego, CA  32.717421 -117.162771   San Diego       US   \n",
       "8            Santa Monica Beach  47.005211  -88.962910         NaN       US   \n",
       "9                 United States  39.783730 -100.445882         NaN       US   \n",
       "\n",
       "       continent                 state state_code  \\\n",
       "0  North America               Florida         FL   \n",
       "1  North America                Oregon         OR   \n",
       "2  North America  District of Columbia         DC   \n",
       "3  North America            California         CA   \n",
       "4  North America                  Ohio         OH   \n",
       "5  North America          Pennsylvania         PA   \n",
       "6  North America              Illinois         IL   \n",
       "7  North America            California         CA   \n",
       "8  North America              Michigan         MI   \n",
       "9  North America                   NaN        NaN   \n",
       "\n",
       "                    collected_at candidate  \n",
       "0            2020-10-21 00:00:00     trump  \n",
       "1  2020-10-21 00:00:00.746433060     trump  \n",
       "2  2020-10-21 00:00:01.492866121     trump  \n",
       "3  2020-10-21 00:00:01.866082651     trump  \n",
       "4  2020-10-21 00:00:02.612515712     trump  \n",
       "5  2020-10-21 00:00:02.985732243     trump  \n",
       "6  2020-10-21 00:00:04.105381834     trump  \n",
       "7  2020-10-21 00:00:04.478598364     trump  \n",
       "8  2020-10-21 00:00:07.091114077     trump  \n",
       "9  2020-10-21 00:00:07.837547138     trump  \n",
       "\n",
       "[10 rows x 22 columns]"
      ]
     },
     "execution_count": 126,
     "metadata": {},
     "output_type": "execute_result"
    }
   ],
   "source": [
    "user_USAonly.head(10)"
   ]
  },
  {
   "cell_type": "markdown",
   "metadata": {},
   "source": [
    "Let's take a quick look the top users by tweet count, of which some do not appear to be particular individuals, but do contribute to sentiment."
   ]
  },
  {
   "cell_type": "code",
   "execution_count": 155,
   "metadata": {},
   "outputs": [
    {
     "data": {
      "text/plain": [
       "user_screen_name\n",
       "Hotpage_News       1843\n",
       "steveziegenbus2    1259\n",
       "JournalistJG       1082\n",
       "mcleod              980\n",
       "THCPetDoctor        913\n",
       "                   ... \n",
       "KahanYankee           1\n",
       "RonaldStanleyJr       1\n",
       "dmariemart            1\n",
       "DeplorableMan21       1\n",
       "riotrantrave          1\n",
       "Name: count, Length: 98928, dtype: int64"
      ]
     },
     "execution_count": 155,
     "metadata": {},
     "output_type": "execute_result"
    }
   ],
   "source": [
    "# Find counts of unique users where `country` is \"USA\"\\\n",
    "user_USAonly[\"user_screen_name\"].value_counts(sort=True)"
   ]
  },
  {
   "cell_type": "code",
   "execution_count": 156,
   "metadata": {},
   "outputs": [
    {
     "data": {
      "application/vnd.plotly.v1+json": {
       "config": {
        "plotlyServerURL": "https://plot.ly"
       },
       "data": [
        {
         "hovertemplate": "user_screen_name=%{x}<br>tweet=%{y}<extra></extra>",
         "legendgroup": "",
         "marker": {
          "color": "#316395",
          "pattern": {
           "shape": ""
          }
         },
         "name": "",
         "orientation": "v",
         "showlegend": false,
         "textposition": "auto",
         "type": "bar",
         "x": [
          "Hotpage_News",
          "steveziegenbus2",
          "JournalistJG",
          "mcleod",
          "THCPetDoctor",
          "lookforsun",
          "Starbright489",
          "KDWebster4",
          "Kegan05",
          "BrianAnthonyBo1"
         ],
         "xaxis": "x",
         "y": {
          "bdata": "MwfrBDoE1AORA14DUwMnA/wCywI=",
          "dtype": "i2"
         },
         "yaxis": "y"
        }
       ],
       "layout": {
        "barmode": "relative",
        "legend": {
         "tracegroupgap": 0
        },
        "template": {
         "data": {
          "bar": [
           {
            "error_x": {
             "color": "#f2f5fa"
            },
            "error_y": {
             "color": "#f2f5fa"
            },
            "marker": {
             "line": {
              "color": "rgb(17,17,17)",
              "width": 0.5
             },
             "pattern": {
              "fillmode": "overlay",
              "size": 10,
              "solidity": 0.2
             }
            },
            "type": "bar"
           }
          ],
          "barpolar": [
           {
            "marker": {
             "line": {
              "color": "rgb(17,17,17)",
              "width": 0.5
             },
             "pattern": {
              "fillmode": "overlay",
              "size": 10,
              "solidity": 0.2
             }
            },
            "type": "barpolar"
           }
          ],
          "carpet": [
           {
            "aaxis": {
             "endlinecolor": "#A2B1C6",
             "gridcolor": "#506784",
             "linecolor": "#506784",
             "minorgridcolor": "#506784",
             "startlinecolor": "#A2B1C6"
            },
            "baxis": {
             "endlinecolor": "#A2B1C6",
             "gridcolor": "#506784",
             "linecolor": "#506784",
             "minorgridcolor": "#506784",
             "startlinecolor": "#A2B1C6"
            },
            "type": "carpet"
           }
          ],
          "choropleth": [
           {
            "colorbar": {
             "outlinewidth": 0,
             "ticks": ""
            },
            "type": "choropleth"
           }
          ],
          "contour": [
           {
            "colorbar": {
             "outlinewidth": 0,
             "ticks": ""
            },
            "colorscale": [
             [
              0,
              "#0d0887"
             ],
             [
              0.1111111111111111,
              "#46039f"
             ],
             [
              0.2222222222222222,
              "#7201a8"
             ],
             [
              0.3333333333333333,
              "#9c179e"
             ],
             [
              0.4444444444444444,
              "#bd3786"
             ],
             [
              0.5555555555555556,
              "#d8576b"
             ],
             [
              0.6666666666666666,
              "#ed7953"
             ],
             [
              0.7777777777777778,
              "#fb9f3a"
             ],
             [
              0.8888888888888888,
              "#fdca26"
             ],
             [
              1,
              "#f0f921"
             ]
            ],
            "type": "contour"
           }
          ],
          "contourcarpet": [
           {
            "colorbar": {
             "outlinewidth": 0,
             "ticks": ""
            },
            "type": "contourcarpet"
           }
          ],
          "heatmap": [
           {
            "colorbar": {
             "outlinewidth": 0,
             "ticks": ""
            },
            "colorscale": [
             [
              0,
              "#0d0887"
             ],
             [
              0.1111111111111111,
              "#46039f"
             ],
             [
              0.2222222222222222,
              "#7201a8"
             ],
             [
              0.3333333333333333,
              "#9c179e"
             ],
             [
              0.4444444444444444,
              "#bd3786"
             ],
             [
              0.5555555555555556,
              "#d8576b"
             ],
             [
              0.6666666666666666,
              "#ed7953"
             ],
             [
              0.7777777777777778,
              "#fb9f3a"
             ],
             [
              0.8888888888888888,
              "#fdca26"
             ],
             [
              1,
              "#f0f921"
             ]
            ],
            "type": "heatmap"
           }
          ],
          "histogram": [
           {
            "marker": {
             "pattern": {
              "fillmode": "overlay",
              "size": 10,
              "solidity": 0.2
             }
            },
            "type": "histogram"
           }
          ],
          "histogram2d": [
           {
            "colorbar": {
             "outlinewidth": 0,
             "ticks": ""
            },
            "colorscale": [
             [
              0,
              "#0d0887"
             ],
             [
              0.1111111111111111,
              "#46039f"
             ],
             [
              0.2222222222222222,
              "#7201a8"
             ],
             [
              0.3333333333333333,
              "#9c179e"
             ],
             [
              0.4444444444444444,
              "#bd3786"
             ],
             [
              0.5555555555555556,
              "#d8576b"
             ],
             [
              0.6666666666666666,
              "#ed7953"
             ],
             [
              0.7777777777777778,
              "#fb9f3a"
             ],
             [
              0.8888888888888888,
              "#fdca26"
             ],
             [
              1,
              "#f0f921"
             ]
            ],
            "type": "histogram2d"
           }
          ],
          "histogram2dcontour": [
           {
            "colorbar": {
             "outlinewidth": 0,
             "ticks": ""
            },
            "colorscale": [
             [
              0,
              "#0d0887"
             ],
             [
              0.1111111111111111,
              "#46039f"
             ],
             [
              0.2222222222222222,
              "#7201a8"
             ],
             [
              0.3333333333333333,
              "#9c179e"
             ],
             [
              0.4444444444444444,
              "#bd3786"
             ],
             [
              0.5555555555555556,
              "#d8576b"
             ],
             [
              0.6666666666666666,
              "#ed7953"
             ],
             [
              0.7777777777777778,
              "#fb9f3a"
             ],
             [
              0.8888888888888888,
              "#fdca26"
             ],
             [
              1,
              "#f0f921"
             ]
            ],
            "type": "histogram2dcontour"
           }
          ],
          "mesh3d": [
           {
            "colorbar": {
             "outlinewidth": 0,
             "ticks": ""
            },
            "type": "mesh3d"
           }
          ],
          "parcoords": [
           {
            "line": {
             "colorbar": {
              "outlinewidth": 0,
              "ticks": ""
             }
            },
            "type": "parcoords"
           }
          ],
          "pie": [
           {
            "automargin": true,
            "type": "pie"
           }
          ],
          "scatter": [
           {
            "marker": {
             "line": {
              "color": "#283442"
             }
            },
            "type": "scatter"
           }
          ],
          "scatter3d": [
           {
            "line": {
             "colorbar": {
              "outlinewidth": 0,
              "ticks": ""
             }
            },
            "marker": {
             "colorbar": {
              "outlinewidth": 0,
              "ticks": ""
             }
            },
            "type": "scatter3d"
           }
          ],
          "scattercarpet": [
           {
            "marker": {
             "colorbar": {
              "outlinewidth": 0,
              "ticks": ""
             }
            },
            "type": "scattercarpet"
           }
          ],
          "scattergeo": [
           {
            "marker": {
             "colorbar": {
              "outlinewidth": 0,
              "ticks": ""
             }
            },
            "type": "scattergeo"
           }
          ],
          "scattergl": [
           {
            "marker": {
             "line": {
              "color": "#283442"
             }
            },
            "type": "scattergl"
           }
          ],
          "scattermap": [
           {
            "marker": {
             "colorbar": {
              "outlinewidth": 0,
              "ticks": ""
             }
            },
            "type": "scattermap"
           }
          ],
          "scattermapbox": [
           {
            "marker": {
             "colorbar": {
              "outlinewidth": 0,
              "ticks": ""
             }
            },
            "type": "scattermapbox"
           }
          ],
          "scatterpolar": [
           {
            "marker": {
             "colorbar": {
              "outlinewidth": 0,
              "ticks": ""
             }
            },
            "type": "scatterpolar"
           }
          ],
          "scatterpolargl": [
           {
            "marker": {
             "colorbar": {
              "outlinewidth": 0,
              "ticks": ""
             }
            },
            "type": "scatterpolargl"
           }
          ],
          "scatterternary": [
           {
            "marker": {
             "colorbar": {
              "outlinewidth": 0,
              "ticks": ""
             }
            },
            "type": "scatterternary"
           }
          ],
          "surface": [
           {
            "colorbar": {
             "outlinewidth": 0,
             "ticks": ""
            },
            "colorscale": [
             [
              0,
              "#0d0887"
             ],
             [
              0.1111111111111111,
              "#46039f"
             ],
             [
              0.2222222222222222,
              "#7201a8"
             ],
             [
              0.3333333333333333,
              "#9c179e"
             ],
             [
              0.4444444444444444,
              "#bd3786"
             ],
             [
              0.5555555555555556,
              "#d8576b"
             ],
             [
              0.6666666666666666,
              "#ed7953"
             ],
             [
              0.7777777777777778,
              "#fb9f3a"
             ],
             [
              0.8888888888888888,
              "#fdca26"
             ],
             [
              1,
              "#f0f921"
             ]
            ],
            "type": "surface"
           }
          ],
          "table": [
           {
            "cells": {
             "fill": {
              "color": "#506784"
             },
             "line": {
              "color": "rgb(17,17,17)"
             }
            },
            "header": {
             "fill": {
              "color": "#2a3f5f"
             },
             "line": {
              "color": "rgb(17,17,17)"
             }
            },
            "type": "table"
           }
          ]
         },
         "layout": {
          "annotationdefaults": {
           "arrowcolor": "#f2f5fa",
           "arrowhead": 0,
           "arrowwidth": 1
          },
          "autotypenumbers": "strict",
          "coloraxis": {
           "colorbar": {
            "outlinewidth": 0,
            "ticks": ""
           }
          },
          "colorscale": {
           "diverging": [
            [
             0,
             "#8e0152"
            ],
            [
             0.1,
             "#c51b7d"
            ],
            [
             0.2,
             "#de77ae"
            ],
            [
             0.3,
             "#f1b6da"
            ],
            [
             0.4,
             "#fde0ef"
            ],
            [
             0.5,
             "#f7f7f7"
            ],
            [
             0.6,
             "#e6f5d0"
            ],
            [
             0.7,
             "#b8e186"
            ],
            [
             0.8,
             "#7fbc41"
            ],
            [
             0.9,
             "#4d9221"
            ],
            [
             1,
             "#276419"
            ]
           ],
           "sequential": [
            [
             0,
             "#0d0887"
            ],
            [
             0.1111111111111111,
             "#46039f"
            ],
            [
             0.2222222222222222,
             "#7201a8"
            ],
            [
             0.3333333333333333,
             "#9c179e"
            ],
            [
             0.4444444444444444,
             "#bd3786"
            ],
            [
             0.5555555555555556,
             "#d8576b"
            ],
            [
             0.6666666666666666,
             "#ed7953"
            ],
            [
             0.7777777777777778,
             "#fb9f3a"
            ],
            [
             0.8888888888888888,
             "#fdca26"
            ],
            [
             1,
             "#f0f921"
            ]
           ],
           "sequentialminus": [
            [
             0,
             "#0d0887"
            ],
            [
             0.1111111111111111,
             "#46039f"
            ],
            [
             0.2222222222222222,
             "#7201a8"
            ],
            [
             0.3333333333333333,
             "#9c179e"
            ],
            [
             0.4444444444444444,
             "#bd3786"
            ],
            [
             0.5555555555555556,
             "#d8576b"
            ],
            [
             0.6666666666666666,
             "#ed7953"
            ],
            [
             0.7777777777777778,
             "#fb9f3a"
            ],
            [
             0.8888888888888888,
             "#fdca26"
            ],
            [
             1,
             "#f0f921"
            ]
           ]
          },
          "colorway": [
           "#636efa",
           "#EF553B",
           "#00cc96",
           "#ab63fa",
           "#FFA15A",
           "#19d3f3",
           "#FF6692",
           "#B6E880",
           "#FF97FF",
           "#FECB52"
          ],
          "font": {
           "color": "#f2f5fa"
          },
          "geo": {
           "bgcolor": "rgb(17,17,17)",
           "lakecolor": "rgb(17,17,17)",
           "landcolor": "rgb(17,17,17)",
           "showlakes": true,
           "showland": true,
           "subunitcolor": "#506784"
          },
          "hoverlabel": {
           "align": "left"
          },
          "hovermode": "closest",
          "mapbox": {
           "style": "dark"
          },
          "paper_bgcolor": "rgb(17,17,17)",
          "plot_bgcolor": "rgb(17,17,17)",
          "polar": {
           "angularaxis": {
            "gridcolor": "#506784",
            "linecolor": "#506784",
            "ticks": ""
           },
           "bgcolor": "rgb(17,17,17)",
           "radialaxis": {
            "gridcolor": "#506784",
            "linecolor": "#506784",
            "ticks": ""
           }
          },
          "scene": {
           "xaxis": {
            "backgroundcolor": "rgb(17,17,17)",
            "gridcolor": "#506784",
            "gridwidth": 2,
            "linecolor": "#506784",
            "showbackground": true,
            "ticks": "",
            "zerolinecolor": "#C8D4E3"
           },
           "yaxis": {
            "backgroundcolor": "rgb(17,17,17)",
            "gridcolor": "#506784",
            "gridwidth": 2,
            "linecolor": "#506784",
            "showbackground": true,
            "ticks": "",
            "zerolinecolor": "#C8D4E3"
           },
           "zaxis": {
            "backgroundcolor": "rgb(17,17,17)",
            "gridcolor": "#506784",
            "gridwidth": 2,
            "linecolor": "#506784",
            "showbackground": true,
            "ticks": "",
            "zerolinecolor": "#C8D4E3"
           }
          },
          "shapedefaults": {
           "line": {
            "color": "#f2f5fa"
           }
          },
          "sliderdefaults": {
           "bgcolor": "#C8D4E3",
           "bordercolor": "rgb(17,17,17)",
           "borderwidth": 1,
           "tickwidth": 0
          },
          "ternary": {
           "aaxis": {
            "gridcolor": "#506784",
            "linecolor": "#506784",
            "ticks": ""
           },
           "baxis": {
            "gridcolor": "#506784",
            "linecolor": "#506784",
            "ticks": ""
           },
           "bgcolor": "rgb(17,17,17)",
           "caxis": {
            "gridcolor": "#506784",
            "linecolor": "#506784",
            "ticks": ""
           }
          },
          "title": {
           "x": 0.05
          },
          "updatemenudefaults": {
           "bgcolor": "#506784",
           "borderwidth": 0
          },
          "xaxis": {
           "automargin": true,
           "gridcolor": "#283442",
           "linecolor": "#506784",
           "ticks": "",
           "title": {
            "standoff": 15
           },
           "zerolinecolor": "#283442",
           "zerolinewidth": 2
          },
          "yaxis": {
           "automargin": true,
           "gridcolor": "#283442",
           "linecolor": "#506784",
           "ticks": "",
           "title": {
            "standoff": 15
           },
           "zerolinecolor": "#283442",
           "zerolinewidth": 2
          }
         }
        },
        "title": {
         "text": "Top10 Users by Tweet Count"
        },
        "xaxis": {
         "anchor": "y",
         "domain": [
          0,
          1
         ],
         "title": {
          "text": "user_screen_name"
         }
        },
        "yaxis": {
         "anchor": "x",
         "domain": [
          0,
          1
         ],
         "title": {
          "text": "tweet"
         }
        }
       }
      }
     },
     "metadata": {},
     "output_type": "display_data"
    }
   ],
   "source": [
    "# Top10 users by tweet count\n",
    "top10users = user_USAonly.groupby('user_screen_name')['tweet'].count().sort_values(ascending=False).reset_index().head(10) \n",
    "\n",
    "# Interactive bar chart \n",
    "top10_bar = px.bar(top10users, x='user_screen_name', y='tweet', \n",
    "template='plotly_dark', \n",
    "color_discrete_sequence=px.colors.qualitative.G10_r, \n",
    "# color_discrete_sequence=px.colors.qualitative.Dark24_r, \n",
    "title='Top10 Users by Tweet Count') \n",
    "\n",
    "# To view the graph \n",
    "top10_bar.show() \n"
   ]
  },
  {
   "cell_type": "code",
   "execution_count": null,
   "metadata": {},
   "outputs": [
    {
     "data": {
      "application/vnd.plotly.v1+json": {
       "config": {
        "plotlyServerURL": "https://plot.ly"
       },
       "data": [
        {
         "hovertemplate": "candidate=%{x}<br>tweet=%{y}<extra></extra>",
         "legendgroup": "",
         "marker": {
          "color": "#AF0038",
          "pattern": {
           "shape": ""
          }
         },
         "name": "",
         "orientation": "v",
         "showlegend": false,
         "textposition": "auto",
         "type": "bar",
         "x": [
          "trump",
          "biden"
         ],
         "xaxis": "x",
         "y": {
          "bdata": "zZQDAHUQAwA=",
          "dtype": "i4"
         },
         "yaxis": "y"
        }
       ],
       "layout": {
        "barmode": "relative",
        "legend": {
         "tracegroupgap": 0
        },
        "template": {
         "data": {
          "bar": [
           {
            "error_x": {
             "color": "#f2f5fa"
            },
            "error_y": {
             "color": "#f2f5fa"
            },
            "marker": {
             "line": {
              "color": "rgb(17,17,17)",
              "width": 0.5
             },
             "pattern": {
              "fillmode": "overlay",
              "size": 10,
              "solidity": 0.2
             }
            },
            "type": "bar"
           }
          ],
          "barpolar": [
           {
            "marker": {
             "line": {
              "color": "rgb(17,17,17)",
              "width": 0.5
             },
             "pattern": {
              "fillmode": "overlay",
              "size": 10,
              "solidity": 0.2
             }
            },
            "type": "barpolar"
           }
          ],
          "carpet": [
           {
            "aaxis": {
             "endlinecolor": "#A2B1C6",
             "gridcolor": "#506784",
             "linecolor": "#506784",
             "minorgridcolor": "#506784",
             "startlinecolor": "#A2B1C6"
            },
            "baxis": {
             "endlinecolor": "#A2B1C6",
             "gridcolor": "#506784",
             "linecolor": "#506784",
             "minorgridcolor": "#506784",
             "startlinecolor": "#A2B1C6"
            },
            "type": "carpet"
           }
          ],
          "choropleth": [
           {
            "colorbar": {
             "outlinewidth": 0,
             "ticks": ""
            },
            "type": "choropleth"
           }
          ],
          "contour": [
           {
            "colorbar": {
             "outlinewidth": 0,
             "ticks": ""
            },
            "colorscale": [
             [
              0,
              "#0d0887"
             ],
             [
              0.1111111111111111,
              "#46039f"
             ],
             [
              0.2222222222222222,
              "#7201a8"
             ],
             [
              0.3333333333333333,
              "#9c179e"
             ],
             [
              0.4444444444444444,
              "#bd3786"
             ],
             [
              0.5555555555555556,
              "#d8576b"
             ],
             [
              0.6666666666666666,
              "#ed7953"
             ],
             [
              0.7777777777777778,
              "#fb9f3a"
             ],
             [
              0.8888888888888888,
              "#fdca26"
             ],
             [
              1,
              "#f0f921"
             ]
            ],
            "type": "contour"
           }
          ],
          "contourcarpet": [
           {
            "colorbar": {
             "outlinewidth": 0,
             "ticks": ""
            },
            "type": "contourcarpet"
           }
          ],
          "heatmap": [
           {
            "colorbar": {
             "outlinewidth": 0,
             "ticks": ""
            },
            "colorscale": [
             [
              0,
              "#0d0887"
             ],
             [
              0.1111111111111111,
              "#46039f"
             ],
             [
              0.2222222222222222,
              "#7201a8"
             ],
             [
              0.3333333333333333,
              "#9c179e"
             ],
             [
              0.4444444444444444,
              "#bd3786"
             ],
             [
              0.5555555555555556,
              "#d8576b"
             ],
             [
              0.6666666666666666,
              "#ed7953"
             ],
             [
              0.7777777777777778,
              "#fb9f3a"
             ],
             [
              0.8888888888888888,
              "#fdca26"
             ],
             [
              1,
              "#f0f921"
             ]
            ],
            "type": "heatmap"
           }
          ],
          "histogram": [
           {
            "marker": {
             "pattern": {
              "fillmode": "overlay",
              "size": 10,
              "solidity": 0.2
             }
            },
            "type": "histogram"
           }
          ],
          "histogram2d": [
           {
            "colorbar": {
             "outlinewidth": 0,
             "ticks": ""
            },
            "colorscale": [
             [
              0,
              "#0d0887"
             ],
             [
              0.1111111111111111,
              "#46039f"
             ],
             [
              0.2222222222222222,
              "#7201a8"
             ],
             [
              0.3333333333333333,
              "#9c179e"
             ],
             [
              0.4444444444444444,
              "#bd3786"
             ],
             [
              0.5555555555555556,
              "#d8576b"
             ],
             [
              0.6666666666666666,
              "#ed7953"
             ],
             [
              0.7777777777777778,
              "#fb9f3a"
             ],
             [
              0.8888888888888888,
              "#fdca26"
             ],
             [
              1,
              "#f0f921"
             ]
            ],
            "type": "histogram2d"
           }
          ],
          "histogram2dcontour": [
           {
            "colorbar": {
             "outlinewidth": 0,
             "ticks": ""
            },
            "colorscale": [
             [
              0,
              "#0d0887"
             ],
             [
              0.1111111111111111,
              "#46039f"
             ],
             [
              0.2222222222222222,
              "#7201a8"
             ],
             [
              0.3333333333333333,
              "#9c179e"
             ],
             [
              0.4444444444444444,
              "#bd3786"
             ],
             [
              0.5555555555555556,
              "#d8576b"
             ],
             [
              0.6666666666666666,
              "#ed7953"
             ],
             [
              0.7777777777777778,
              "#fb9f3a"
             ],
             [
              0.8888888888888888,
              "#fdca26"
             ],
             [
              1,
              "#f0f921"
             ]
            ],
            "type": "histogram2dcontour"
           }
          ],
          "mesh3d": [
           {
            "colorbar": {
             "outlinewidth": 0,
             "ticks": ""
            },
            "type": "mesh3d"
           }
          ],
          "parcoords": [
           {
            "line": {
             "colorbar": {
              "outlinewidth": 0,
              "ticks": ""
             }
            },
            "type": "parcoords"
           }
          ],
          "pie": [
           {
            "automargin": true,
            "type": "pie"
           }
          ],
          "scatter": [
           {
            "marker": {
             "line": {
              "color": "#283442"
             }
            },
            "type": "scatter"
           }
          ],
          "scatter3d": [
           {
            "line": {
             "colorbar": {
              "outlinewidth": 0,
              "ticks": ""
             }
            },
            "marker": {
             "colorbar": {
              "outlinewidth": 0,
              "ticks": ""
             }
            },
            "type": "scatter3d"
           }
          ],
          "scattercarpet": [
           {
            "marker": {
             "colorbar": {
              "outlinewidth": 0,
              "ticks": ""
             }
            },
            "type": "scattercarpet"
           }
          ],
          "scattergeo": [
           {
            "marker": {
             "colorbar": {
              "outlinewidth": 0,
              "ticks": ""
             }
            },
            "type": "scattergeo"
           }
          ],
          "scattergl": [
           {
            "marker": {
             "line": {
              "color": "#283442"
             }
            },
            "type": "scattergl"
           }
          ],
          "scattermap": [
           {
            "marker": {
             "colorbar": {
              "outlinewidth": 0,
              "ticks": ""
             }
            },
            "type": "scattermap"
           }
          ],
          "scattermapbox": [
           {
            "marker": {
             "colorbar": {
              "outlinewidth": 0,
              "ticks": ""
             }
            },
            "type": "scattermapbox"
           }
          ],
          "scatterpolar": [
           {
            "marker": {
             "colorbar": {
              "outlinewidth": 0,
              "ticks": ""
             }
            },
            "type": "scatterpolar"
           }
          ],
          "scatterpolargl": [
           {
            "marker": {
             "colorbar": {
              "outlinewidth": 0,
              "ticks": ""
             }
            },
            "type": "scatterpolargl"
           }
          ],
          "scatterternary": [
           {
            "marker": {
             "colorbar": {
              "outlinewidth": 0,
              "ticks": ""
             }
            },
            "type": "scatterternary"
           }
          ],
          "surface": [
           {
            "colorbar": {
             "outlinewidth": 0,
             "ticks": ""
            },
            "colorscale": [
             [
              0,
              "#0d0887"
             ],
             [
              0.1111111111111111,
              "#46039f"
             ],
             [
              0.2222222222222222,
              "#7201a8"
             ],
             [
              0.3333333333333333,
              "#9c179e"
             ],
             [
              0.4444444444444444,
              "#bd3786"
             ],
             [
              0.5555555555555556,
              "#d8576b"
             ],
             [
              0.6666666666666666,
              "#ed7953"
             ],
             [
              0.7777777777777778,
              "#fb9f3a"
             ],
             [
              0.8888888888888888,
              "#fdca26"
             ],
             [
              1,
              "#f0f921"
             ]
            ],
            "type": "surface"
           }
          ],
          "table": [
           {
            "cells": {
             "fill": {
              "color": "#506784"
             },
             "line": {
              "color": "rgb(17,17,17)"
             }
            },
            "header": {
             "fill": {
              "color": "#2a3f5f"
             },
             "line": {
              "color": "rgb(17,17,17)"
             }
            },
            "type": "table"
           }
          ]
         },
         "layout": {
          "annotationdefaults": {
           "arrowcolor": "#f2f5fa",
           "arrowhead": 0,
           "arrowwidth": 1
          },
          "autotypenumbers": "strict",
          "coloraxis": {
           "colorbar": {
            "outlinewidth": 0,
            "ticks": ""
           }
          },
          "colorscale": {
           "diverging": [
            [
             0,
             "#8e0152"
            ],
            [
             0.1,
             "#c51b7d"
            ],
            [
             0.2,
             "#de77ae"
            ],
            [
             0.3,
             "#f1b6da"
            ],
            [
             0.4,
             "#fde0ef"
            ],
            [
             0.5,
             "#f7f7f7"
            ],
            [
             0.6,
             "#e6f5d0"
            ],
            [
             0.7,
             "#b8e186"
            ],
            [
             0.8,
             "#7fbc41"
            ],
            [
             0.9,
             "#4d9221"
            ],
            [
             1,
             "#276419"
            ]
           ],
           "sequential": [
            [
             0,
             "#0d0887"
            ],
            [
             0.1111111111111111,
             "#46039f"
            ],
            [
             0.2222222222222222,
             "#7201a8"
            ],
            [
             0.3333333333333333,
             "#9c179e"
            ],
            [
             0.4444444444444444,
             "#bd3786"
            ],
            [
             0.5555555555555556,
             "#d8576b"
            ],
            [
             0.6666666666666666,
             "#ed7953"
            ],
            [
             0.7777777777777778,
             "#fb9f3a"
            ],
            [
             0.8888888888888888,
             "#fdca26"
            ],
            [
             1,
             "#f0f921"
            ]
           ],
           "sequentialminus": [
            [
             0,
             "#0d0887"
            ],
            [
             0.1111111111111111,
             "#46039f"
            ],
            [
             0.2222222222222222,
             "#7201a8"
            ],
            [
             0.3333333333333333,
             "#9c179e"
            ],
            [
             0.4444444444444444,
             "#bd3786"
            ],
            [
             0.5555555555555556,
             "#d8576b"
            ],
            [
             0.6666666666666666,
             "#ed7953"
            ],
            [
             0.7777777777777778,
             "#fb9f3a"
            ],
            [
             0.8888888888888888,
             "#fdca26"
            ],
            [
             1,
             "#f0f921"
            ]
           ]
          },
          "colorway": [
           "#636efa",
           "#EF553B",
           "#00cc96",
           "#ab63fa",
           "#FFA15A",
           "#19d3f3",
           "#FF6692",
           "#B6E880",
           "#FF97FF",
           "#FECB52"
          ],
          "font": {
           "color": "#f2f5fa"
          },
          "geo": {
           "bgcolor": "rgb(17,17,17)",
           "lakecolor": "rgb(17,17,17)",
           "landcolor": "rgb(17,17,17)",
           "showlakes": true,
           "showland": true,
           "subunitcolor": "#506784"
          },
          "hoverlabel": {
           "align": "left"
          },
          "hovermode": "closest",
          "mapbox": {
           "style": "dark"
          },
          "paper_bgcolor": "rgb(17,17,17)",
          "plot_bgcolor": "rgb(17,17,17)",
          "polar": {
           "angularaxis": {
            "gridcolor": "#506784",
            "linecolor": "#506784",
            "ticks": ""
           },
           "bgcolor": "rgb(17,17,17)",
           "radialaxis": {
            "gridcolor": "#506784",
            "linecolor": "#506784",
            "ticks": ""
           }
          },
          "scene": {
           "xaxis": {
            "backgroundcolor": "rgb(17,17,17)",
            "gridcolor": "#506784",
            "gridwidth": 2,
            "linecolor": "#506784",
            "showbackground": true,
            "ticks": "",
            "zerolinecolor": "#C8D4E3"
           },
           "yaxis": {
            "backgroundcolor": "rgb(17,17,17)",
            "gridcolor": "#506784",
            "gridwidth": 2,
            "linecolor": "#506784",
            "showbackground": true,
            "ticks": "",
            "zerolinecolor": "#C8D4E3"
           },
           "zaxis": {
            "backgroundcolor": "rgb(17,17,17)",
            "gridcolor": "#506784",
            "gridwidth": 2,
            "linecolor": "#506784",
            "showbackground": true,
            "ticks": "",
            "zerolinecolor": "#C8D4E3"
           }
          },
          "shapedefaults": {
           "line": {
            "color": "#f2f5fa"
           }
          },
          "sliderdefaults": {
           "bgcolor": "#C8D4E3",
           "bordercolor": "rgb(17,17,17)",
           "borderwidth": 1,
           "tickwidth": 0
          },
          "ternary": {
           "aaxis": {
            "gridcolor": "#506784",
            "linecolor": "#506784",
            "ticks": ""
           },
           "baxis": {
            "gridcolor": "#506784",
            "linecolor": "#506784",
            "ticks": ""
           },
           "bgcolor": "rgb(17,17,17)",
           "caxis": {
            "gridcolor": "#506784",
            "linecolor": "#506784",
            "ticks": ""
           }
          },
          "title": {
           "x": 0.05
          },
          "updatemenudefaults": {
           "bgcolor": "#506784",
           "borderwidth": 0
          },
          "xaxis": {
           "automargin": true,
           "gridcolor": "#283442",
           "linecolor": "#506784",
           "ticks": "",
           "title": {
            "standoff": 15
           },
           "zerolinecolor": "#283442",
           "zerolinewidth": 2
          },
          "yaxis": {
           "automargin": true,
           "gridcolor": "#283442",
           "linecolor": "#506784",
           "ticks": "",
           "title": {
            "standoff": 15
           },
           "zerolinecolor": "#283442",
           "zerolinewidth": 2
          }
         }
        },
        "title": {
         "text": "Tweet counts in the USA for Trump and Biden"
        },
        "xaxis": {
         "anchor": "y",
         "domain": [
          0,
          1
         ],
         "title": {
          "text": "candidate"
         }
        },
        "yaxis": {
         "anchor": "x",
         "domain": [
          0,
          1
         ],
         "title": {
          "text": "tweet"
         }
        }
       }
      }
     },
     "metadata": {},
     "output_type": "display_data"
    }
   ],
   "source": [
    "# Top10 users by tweet count\n",
    "tweets_candidate = user_USAonly.groupby('candidate')['tweet'].count().sort_values(ascending=False).reset_index().head(10) \n",
    "\n",
    "# Interactive bar chart \n",
    "top10_bar = px.bar(tweets_candidate, x='candidate', y='tweet', \n",
    "template='plotly_dark', \n",
    "color_discrete_sequence=px.colors.qualitative.Dark24_r, \n",
    "# color_discrete_sequence=px.colors.qualitative.Dark24_r, \n",
    "title='Tweet counts in the USA for Trump and Biden') \n",
    "\n",
    "# To view the graph \n",
    "top10_bar.show() "
   ]
  }
 ],
 "metadata": {
  "kernelspec": {
   "display_name": "Python 3",
   "language": "python",
   "name": "python3"
  },
  "language_info": {
   "codemirror_mode": {
    "name": "ipython",
    "version": 3
   },
   "file_extension": ".py",
   "mimetype": "text/x-python",
   "name": "python",
   "nbconvert_exporter": "python",
   "pygments_lexer": "ipython3",
   "version": "3.11.4"
  }
 },
 "nbformat": 4,
 "nbformat_minor": 2
}
