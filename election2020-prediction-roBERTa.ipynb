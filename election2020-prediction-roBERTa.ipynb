{
 "cells": [
  {
   "cell_type": "markdown",
   "metadata": {},
   "source": [
    "## US Election 2020 Twitter Sentiment Analysis \n",
    "\n",
    "There are plenty of existing population polls trying to predict the outcome of a Presidential election. It would be of interest to perform ML sentiment analysis of a sample of past Twitter feeds (before it became X) to see how accurate it would be. Of course it begs the question if the sample population in Twitter has a diverse representation. On the other hand, the same can be said of the traditional polls and whether their samples are also diverse. \n",
    "\n",
    "#### Dataset \n",
    "I am using the [US Election 2020 Sample Dataset](https://www.kaggle.com/datasets/manchunhui/us-election-2020-tweets/data) from Kaggle for this analysis. It consists of two CSV files totaling about 1.7 million rows, one with Tweets focused on Joe Biden, and the other on Donald Trump. The dataset needs to be culled of Tweets originating outside of the US. While that doesn’t guarantee that non-US citizens in the US are Tweeting (or that citizens outside of the US are Tweeting) it helps narrow down any international opinions that would skew the results. The rest would be just data cleaning, for example, removing hashtags/mentions, URLs, and any extraneous text that is not generally readable and that may not convert to useful tokens. However, there some tools exist to help with data cleaning as well.\n",
    "\n",
    "#### Tools \n",
    "As of late there are several publicly available LLMs that can assist with sentiment analysis, specifically on Twitter/X data. I'd like to explore the use of Hugging Face's [Twitter roBERTa-base Sentiment Analysis module](https://huggingface.co/cardiffnlp/twitter-roberta-base-sentiment-latest)."
   ]
  },
  {
   "cell_type": "code",
   "execution_count": null,
   "metadata": {},
   "outputs": [],
   "source": [
    "# Import Libraries \n",
    "import pandas as pd \n",
    "import numpy as np \n",
    "import matplotlib.pyplot as plt \n",
    "import plotly.express as px \n",
    "from tqdm import tqdm    # Shows progress bar for long tasks\n",
    "\n",
    "# Hugging Face Modules\n",
    "from transformers import pipeline\n",
    "\n",
    "# Allows for more efficent data processing\n",
    "# by converting from DataFrame to Dataset\n",
    "from datasets import Dataset    \n",
    "import torch"
   ]
  },
  {
   "cell_type": "markdown",
   "metadata": {},
   "source": [
    "---\n",
    "### Data Wrangling\n",
    "#### Reading in datasets"
   ]
  },
  {
   "cell_type": "code",
   "execution_count": 2,
   "metadata": {},
   "outputs": [],
   "source": [
    "# Reading Trump Dataset \n",
    "trump = pd.read_csv(\"input/hashtag_donaldtrump.csv\", lineterminator='\\n')"
   ]
  },
  {
   "cell_type": "code",
   "execution_count": 3,
   "metadata": {},
   "outputs": [],
   "source": [
    "# Reading Biden Dataset \n",
    "biden = pd.read_csv(\"input/hashtag_joebiden.csv\", lineterminator='\\n') "
   ]
  },
  {
   "cell_type": "markdown",
   "metadata": {},
   "source": [
    "---\n",
    "#### Exploratory Data Analysis"
   ]
  },
  {
   "cell_type": "code",
   "execution_count": 4,
   "metadata": {},
   "outputs": [
    {
     "data": {
      "text/html": [
       "<div>\n",
       "<style scoped>\n",
       "    .dataframe tbody tr th:only-of-type {\n",
       "        vertical-align: middle;\n",
       "    }\n",
       "\n",
       "    .dataframe tbody tr th {\n",
       "        vertical-align: top;\n",
       "    }\n",
       "\n",
       "    .dataframe thead th {\n",
       "        text-align: right;\n",
       "    }\n",
       "</style>\n",
       "<table border=\"1\" class=\"dataframe\">\n",
       "  <thead>\n",
       "    <tr style=\"text-align: right;\">\n",
       "      <th></th>\n",
       "      <th>created_at</th>\n",
       "      <th>tweet_id</th>\n",
       "      <th>tweet</th>\n",
       "      <th>likes</th>\n",
       "      <th>retweet_count</th>\n",
       "      <th>source</th>\n",
       "      <th>user_id</th>\n",
       "      <th>user_name</th>\n",
       "      <th>user_screen_name</th>\n",
       "      <th>user_description</th>\n",
       "      <th>...</th>\n",
       "      <th>user_followers_count</th>\n",
       "      <th>user_location</th>\n",
       "      <th>lat</th>\n",
       "      <th>long</th>\n",
       "      <th>city</th>\n",
       "      <th>country</th>\n",
       "      <th>continent</th>\n",
       "      <th>state</th>\n",
       "      <th>state_code</th>\n",
       "      <th>collected_at</th>\n",
       "    </tr>\n",
       "  </thead>\n",
       "  <tbody>\n",
       "    <tr>\n",
       "      <th>0</th>\n",
       "      <td>2020-10-15 00:00:01</td>\n",
       "      <td>1.316529e+18</td>\n",
       "      <td>#Elecciones2020 | En #Florida: #JoeBiden dice ...</td>\n",
       "      <td>0.0</td>\n",
       "      <td>0.0</td>\n",
       "      <td>TweetDeck</td>\n",
       "      <td>3.606665e+08</td>\n",
       "      <td>El Sol Latino News</td>\n",
       "      <td>elsollatinonews</td>\n",
       "      <td>🌐 Noticias de interés para latinos de la costa...</td>\n",
       "      <td>...</td>\n",
       "      <td>1860.0</td>\n",
       "      <td>Philadelphia, PA / Miami, FL</td>\n",
       "      <td>25.774270</td>\n",
       "      <td>-80.193660</td>\n",
       "      <td>NaN</td>\n",
       "      <td>United States of America</td>\n",
       "      <td>North America</td>\n",
       "      <td>Florida</td>\n",
       "      <td>FL</td>\n",
       "      <td>2020-10-21 00:00:00</td>\n",
       "    </tr>\n",
       "    <tr>\n",
       "      <th>1</th>\n",
       "      <td>2020-10-15 00:00:01</td>\n",
       "      <td>1.316529e+18</td>\n",
       "      <td>Usa 2020, Trump contro Facebook e Twitter: cop...</td>\n",
       "      <td>26.0</td>\n",
       "      <td>9.0</td>\n",
       "      <td>Social Mediaset</td>\n",
       "      <td>3.316176e+08</td>\n",
       "      <td>Tgcom24</td>\n",
       "      <td>MediasetTgcom24</td>\n",
       "      <td>Profilo ufficiale di Tgcom24: tutte le notizie...</td>\n",
       "      <td>...</td>\n",
       "      <td>1067661.0</td>\n",
       "      <td>NaN</td>\n",
       "      <td>NaN</td>\n",
       "      <td>NaN</td>\n",
       "      <td>NaN</td>\n",
       "      <td>NaN</td>\n",
       "      <td>NaN</td>\n",
       "      <td>NaN</td>\n",
       "      <td>NaN</td>\n",
       "      <td>2020-10-21 00:00:00.373216530</td>\n",
       "    </tr>\n",
       "    <tr>\n",
       "      <th>2</th>\n",
       "      <td>2020-10-15 00:00:02</td>\n",
       "      <td>1.316529e+18</td>\n",
       "      <td>#Trump: As a student I used to hear for years,...</td>\n",
       "      <td>2.0</td>\n",
       "      <td>1.0</td>\n",
       "      <td>Twitter Web App</td>\n",
       "      <td>8.436472e+06</td>\n",
       "      <td>snarke</td>\n",
       "      <td>snarke</td>\n",
       "      <td>Will mock for food! Freelance writer, blogger,...</td>\n",
       "      <td>...</td>\n",
       "      <td>1185.0</td>\n",
       "      <td>Portland</td>\n",
       "      <td>45.520247</td>\n",
       "      <td>-122.674195</td>\n",
       "      <td>Portland</td>\n",
       "      <td>United States of America</td>\n",
       "      <td>North America</td>\n",
       "      <td>Oregon</td>\n",
       "      <td>OR</td>\n",
       "      <td>2020-10-21 00:00:00.746433060</td>\n",
       "    </tr>\n",
       "    <tr>\n",
       "      <th>3</th>\n",
       "      <td>2020-10-15 00:00:02</td>\n",
       "      <td>1.316529e+18</td>\n",
       "      <td>2 hours since last tweet from #Trump! Maybe he...</td>\n",
       "      <td>0.0</td>\n",
       "      <td>0.0</td>\n",
       "      <td>Trumpytweeter</td>\n",
       "      <td>8.283556e+17</td>\n",
       "      <td>Trumpytweeter</td>\n",
       "      <td>trumpytweeter</td>\n",
       "      <td>If he doesn't tweet for some time, should we b...</td>\n",
       "      <td>...</td>\n",
       "      <td>32.0</td>\n",
       "      <td>NaN</td>\n",
       "      <td>NaN</td>\n",
       "      <td>NaN</td>\n",
       "      <td>NaN</td>\n",
       "      <td>NaN</td>\n",
       "      <td>NaN</td>\n",
       "      <td>NaN</td>\n",
       "      <td>NaN</td>\n",
       "      <td>2020-10-21 00:00:01.119649591</td>\n",
       "    </tr>\n",
       "    <tr>\n",
       "      <th>4</th>\n",
       "      <td>2020-10-15 00:00:08</td>\n",
       "      <td>1.316529e+18</td>\n",
       "      <td>You get a tie! And you get a tie! #Trump ‘s ra...</td>\n",
       "      <td>4.0</td>\n",
       "      <td>3.0</td>\n",
       "      <td>Twitter for iPhone</td>\n",
       "      <td>4.741380e+07</td>\n",
       "      <td>Rana Abtar - رنا أبتر</td>\n",
       "      <td>Ranaabtar</td>\n",
       "      <td>Washington Correspondent, Lebanese-American ,c...</td>\n",
       "      <td>...</td>\n",
       "      <td>5393.0</td>\n",
       "      <td>Washington DC</td>\n",
       "      <td>38.894992</td>\n",
       "      <td>-77.036558</td>\n",
       "      <td>Washington</td>\n",
       "      <td>United States of America</td>\n",
       "      <td>North America</td>\n",
       "      <td>District of Columbia</td>\n",
       "      <td>DC</td>\n",
       "      <td>2020-10-21 00:00:01.492866121</td>\n",
       "    </tr>\n",
       "  </tbody>\n",
       "</table>\n",
       "<p>5 rows × 21 columns</p>\n",
       "</div>"
      ],
      "text/plain": [
       "            created_at      tweet_id  \\\n",
       "0  2020-10-15 00:00:01  1.316529e+18   \n",
       "1  2020-10-15 00:00:01  1.316529e+18   \n",
       "2  2020-10-15 00:00:02  1.316529e+18   \n",
       "3  2020-10-15 00:00:02  1.316529e+18   \n",
       "4  2020-10-15 00:00:08  1.316529e+18   \n",
       "\n",
       "                                               tweet  likes  retweet_count  \\\n",
       "0  #Elecciones2020 | En #Florida: #JoeBiden dice ...    0.0            0.0   \n",
       "1  Usa 2020, Trump contro Facebook e Twitter: cop...   26.0            9.0   \n",
       "2  #Trump: As a student I used to hear for years,...    2.0            1.0   \n",
       "3  2 hours since last tweet from #Trump! Maybe he...    0.0            0.0   \n",
       "4  You get a tie! And you get a tie! #Trump ‘s ra...    4.0            3.0   \n",
       "\n",
       "               source       user_id              user_name user_screen_name  \\\n",
       "0           TweetDeck  3.606665e+08     El Sol Latino News  elsollatinonews   \n",
       "1    Social Mediaset   3.316176e+08                Tgcom24  MediasetTgcom24   \n",
       "2     Twitter Web App  8.436472e+06                 snarke           snarke   \n",
       "3       Trumpytweeter  8.283556e+17          Trumpytweeter    trumpytweeter   \n",
       "4  Twitter for iPhone  4.741380e+07  Rana Abtar - رنا أبتر        Ranaabtar   \n",
       "\n",
       "                                    user_description  ...  \\\n",
       "0  🌐 Noticias de interés para latinos de la costa...  ...   \n",
       "1  Profilo ufficiale di Tgcom24: tutte le notizie...  ...   \n",
       "2  Will mock for food! Freelance writer, blogger,...  ...   \n",
       "3  If he doesn't tweet for some time, should we b...  ...   \n",
       "4  Washington Correspondent, Lebanese-American ,c...  ...   \n",
       "\n",
       "  user_followers_count                 user_location        lat        long  \\\n",
       "0               1860.0  Philadelphia, PA / Miami, FL  25.774270  -80.193660   \n",
       "1            1067661.0                           NaN        NaN         NaN   \n",
       "2               1185.0                      Portland  45.520247 -122.674195   \n",
       "3                 32.0                           NaN        NaN         NaN   \n",
       "4               5393.0                 Washington DC  38.894992  -77.036558   \n",
       "\n",
       "         city                   country      continent                 state  \\\n",
       "0         NaN  United States of America  North America               Florida   \n",
       "1         NaN                       NaN            NaN                   NaN   \n",
       "2    Portland  United States of America  North America                Oregon   \n",
       "3         NaN                       NaN            NaN                   NaN   \n",
       "4  Washington  United States of America  North America  District of Columbia   \n",
       "\n",
       "  state_code                   collected_at  \n",
       "0         FL            2020-10-21 00:00:00  \n",
       "1        NaN  2020-10-21 00:00:00.373216530  \n",
       "2         OR  2020-10-21 00:00:00.746433060  \n",
       "3        NaN  2020-10-21 00:00:01.119649591  \n",
       "4         DC  2020-10-21 00:00:01.492866121  \n",
       "\n",
       "[5 rows x 21 columns]"
      ]
     },
     "execution_count": 4,
     "metadata": {},
     "output_type": "execute_result"
    }
   ],
   "source": [
    "trump.head()"
   ]
  },
  {
   "cell_type": "code",
   "execution_count": 5,
   "metadata": {},
   "outputs": [
    {
     "name": "stdout",
     "output_type": "stream",
     "text": [
      "(970919, 21)\n",
      "Index(['created_at', 'tweet_id', 'tweet', 'likes', 'retweet_count', 'source',\n",
      "       'user_id', 'user_name', 'user_screen_name', 'user_description',\n",
      "       'user_join_date', 'user_followers_count', 'user_location', 'lat',\n",
      "       'long', 'city', 'country', 'continent', 'state', 'state_code',\n",
      "       'collected_at'],\n",
      "      dtype='object')\n"
     ]
    }
   ],
   "source": [
    "# Show size of the Trump dataset\n",
    "print(trump.shape)\n",
    "\n",
    "# Display all the columns in the DataFrame \n",
    "print(trump.columns)"
   ]
  },
  {
   "cell_type": "code",
   "execution_count": 6,
   "metadata": {},
   "outputs": [
    {
     "name": "stdout",
     "output_type": "stream",
     "text": [
      "<class 'pandas.core.frame.DataFrame'>\n",
      "RangeIndex: 970919 entries, 0 to 970918\n",
      "Data columns (total 21 columns):\n",
      " #   Column                Non-Null Count   Dtype  \n",
      "---  ------                --------------   -----  \n",
      " 0   created_at            970919 non-null  object \n",
      " 1   tweet_id              970919 non-null  float64\n",
      " 2   tweet                 970919 non-null  object \n",
      " 3   likes                 970919 non-null  float64\n",
      " 4   retweet_count         970919 non-null  float64\n",
      " 5   source                970043 non-null  object \n",
      " 6   user_id               970919 non-null  float64\n",
      " 7   user_name             970897 non-null  object \n",
      " 8   user_screen_name      970919 non-null  object \n",
      " 9   user_description      869651 non-null  object \n",
      " 10  user_join_date        970919 non-null  object \n",
      " 11  user_followers_count  970919 non-null  float64\n",
      " 12  user_location         675957 non-null  object \n",
      " 13  lat                   445719 non-null  float64\n",
      " 14  long                  445719 non-null  float64\n",
      " 15  city                  227187 non-null  object \n",
      " 16  country               442748 non-null  object \n",
      " 17  continent             442765 non-null  object \n",
      " 18  state                 320620 non-null  object \n",
      " 19  state_code            300425 non-null  object \n",
      " 20  collected_at          970919 non-null  object \n",
      "dtypes: float64(7), object(14)\n",
      "memory usage: 155.6+ MB\n"
     ]
    }
   ],
   "source": [
    "# Show distribution of non-null features\n",
    "trump.info()"
   ]
  },
  {
   "cell_type": "code",
   "execution_count": 7,
   "metadata": {},
   "outputs": [
    {
     "data": {
      "text/html": [
       "<div>\n",
       "<style scoped>\n",
       "    .dataframe tbody tr th:only-of-type {\n",
       "        vertical-align: middle;\n",
       "    }\n",
       "\n",
       "    .dataframe tbody tr th {\n",
       "        vertical-align: top;\n",
       "    }\n",
       "\n",
       "    .dataframe thead th {\n",
       "        text-align: right;\n",
       "    }\n",
       "</style>\n",
       "<table border=\"1\" class=\"dataframe\">\n",
       "  <thead>\n",
       "    <tr style=\"text-align: right;\">\n",
       "      <th></th>\n",
       "      <th>created_at</th>\n",
       "      <th>tweet_id</th>\n",
       "      <th>tweet</th>\n",
       "      <th>likes</th>\n",
       "      <th>retweet_count</th>\n",
       "      <th>source</th>\n",
       "      <th>user_id</th>\n",
       "      <th>user_name</th>\n",
       "      <th>user_screen_name</th>\n",
       "      <th>user_description</th>\n",
       "      <th>...</th>\n",
       "      <th>user_followers_count</th>\n",
       "      <th>user_location</th>\n",
       "      <th>lat</th>\n",
       "      <th>long</th>\n",
       "      <th>city</th>\n",
       "      <th>country</th>\n",
       "      <th>continent</th>\n",
       "      <th>state</th>\n",
       "      <th>state_code</th>\n",
       "      <th>collected_at</th>\n",
       "    </tr>\n",
       "  </thead>\n",
       "  <tbody>\n",
       "    <tr>\n",
       "      <th>0</th>\n",
       "      <td>2020-10-15 00:00:01</td>\n",
       "      <td>1.316529e+18</td>\n",
       "      <td>#Elecciones2020 | En #Florida: #JoeBiden dice ...</td>\n",
       "      <td>0.0</td>\n",
       "      <td>0.0</td>\n",
       "      <td>TweetDeck</td>\n",
       "      <td>3.606665e+08</td>\n",
       "      <td>El Sol Latino News</td>\n",
       "      <td>elsollatinonews</td>\n",
       "      <td>🌐 Noticias de interés para latinos de la costa...</td>\n",
       "      <td>...</td>\n",
       "      <td>1860.0</td>\n",
       "      <td>Philadelphia, PA / Miami, FL</td>\n",
       "      <td>25.774270</td>\n",
       "      <td>-80.193660</td>\n",
       "      <td>NaN</td>\n",
       "      <td>United States of America</td>\n",
       "      <td>North America</td>\n",
       "      <td>Florida</td>\n",
       "      <td>FL</td>\n",
       "      <td>2020-10-21 00:00:00</td>\n",
       "    </tr>\n",
       "    <tr>\n",
       "      <th>1</th>\n",
       "      <td>2020-10-15 00:00:18</td>\n",
       "      <td>1.316529e+18</td>\n",
       "      <td>#HunterBiden #HunterBidenEmails #JoeBiden #Joe...</td>\n",
       "      <td>0.0</td>\n",
       "      <td>0.0</td>\n",
       "      <td>Twitter for iPad</td>\n",
       "      <td>8.099044e+08</td>\n",
       "      <td>Cheri A. 🇺🇸</td>\n",
       "      <td>Biloximeemaw</td>\n",
       "      <td>Locked and loaded Meemaw. Love God, my family ...</td>\n",
       "      <td>...</td>\n",
       "      <td>6628.0</td>\n",
       "      <td>NaN</td>\n",
       "      <td>NaN</td>\n",
       "      <td>NaN</td>\n",
       "      <td>NaN</td>\n",
       "      <td>NaN</td>\n",
       "      <td>NaN</td>\n",
       "      <td>NaN</td>\n",
       "      <td>NaN</td>\n",
       "      <td>2020-10-21 00:00:00.517827283</td>\n",
       "    </tr>\n",
       "    <tr>\n",
       "      <th>2</th>\n",
       "      <td>2020-10-15 00:00:20</td>\n",
       "      <td>1.316529e+18</td>\n",
       "      <td>@IslandGirlPRV @BradBeauregardJ @MeidasTouch T...</td>\n",
       "      <td>0.0</td>\n",
       "      <td>0.0</td>\n",
       "      <td>Twitter Web App</td>\n",
       "      <td>3.494182e+09</td>\n",
       "      <td>Flag Waver</td>\n",
       "      <td>Flag_Wavers</td>\n",
       "      <td>NaN</td>\n",
       "      <td>...</td>\n",
       "      <td>1536.0</td>\n",
       "      <td>Golden Valley Arizona</td>\n",
       "      <td>46.304036</td>\n",
       "      <td>-109.171431</td>\n",
       "      <td>NaN</td>\n",
       "      <td>United States of America</td>\n",
       "      <td>North America</td>\n",
       "      <td>Montana</td>\n",
       "      <td>MT</td>\n",
       "      <td>2020-10-21 00:00:01.035654566</td>\n",
       "    </tr>\n",
       "    <tr>\n",
       "      <th>3</th>\n",
       "      <td>2020-10-15 00:00:21</td>\n",
       "      <td>1.316529e+18</td>\n",
       "      <td>@chrislongview Watching and setting dvr. Let’s...</td>\n",
       "      <td>0.0</td>\n",
       "      <td>0.0</td>\n",
       "      <td>Twitter for iPhone</td>\n",
       "      <td>8.242596e+17</td>\n",
       "      <td>Michelle Ferg</td>\n",
       "      <td>MichelleFerg4</td>\n",
       "      <td>NaN</td>\n",
       "      <td>...</td>\n",
       "      <td>27.0</td>\n",
       "      <td>NaN</td>\n",
       "      <td>NaN</td>\n",
       "      <td>NaN</td>\n",
       "      <td>NaN</td>\n",
       "      <td>NaN</td>\n",
       "      <td>NaN</td>\n",
       "      <td>NaN</td>\n",
       "      <td>NaN</td>\n",
       "      <td>2020-10-21 00:00:01.553481849</td>\n",
       "    </tr>\n",
       "    <tr>\n",
       "      <th>4</th>\n",
       "      <td>2020-10-15 00:00:22</td>\n",
       "      <td>1.316529e+18</td>\n",
       "      <td>#censorship #HunterBiden #Biden #BidenEmails #...</td>\n",
       "      <td>1.0</td>\n",
       "      <td>0.0</td>\n",
       "      <td>Twitter Web App</td>\n",
       "      <td>1.032807e+18</td>\n",
       "      <td>the Gold State</td>\n",
       "      <td>theegoldstate</td>\n",
       "      <td>A Silicon Valley #independent #News #Media #St...</td>\n",
       "      <td>...</td>\n",
       "      <td>390.0</td>\n",
       "      <td>California, USA</td>\n",
       "      <td>36.701463</td>\n",
       "      <td>-118.755997</td>\n",
       "      <td>NaN</td>\n",
       "      <td>United States of America</td>\n",
       "      <td>North America</td>\n",
       "      <td>California</td>\n",
       "      <td>CA</td>\n",
       "      <td>2020-10-21 00:00:02.071309132</td>\n",
       "    </tr>\n",
       "  </tbody>\n",
       "</table>\n",
       "<p>5 rows × 21 columns</p>\n",
       "</div>"
      ],
      "text/plain": [
       "            created_at      tweet_id  \\\n",
       "0  2020-10-15 00:00:01  1.316529e+18   \n",
       "1  2020-10-15 00:00:18  1.316529e+18   \n",
       "2  2020-10-15 00:00:20  1.316529e+18   \n",
       "3  2020-10-15 00:00:21  1.316529e+18   \n",
       "4  2020-10-15 00:00:22  1.316529e+18   \n",
       "\n",
       "                                               tweet  likes  retweet_count  \\\n",
       "0  #Elecciones2020 | En #Florida: #JoeBiden dice ...    0.0            0.0   \n",
       "1  #HunterBiden #HunterBidenEmails #JoeBiden #Joe...    0.0            0.0   \n",
       "2  @IslandGirlPRV @BradBeauregardJ @MeidasTouch T...    0.0            0.0   \n",
       "3  @chrislongview Watching and setting dvr. Let’s...    0.0            0.0   \n",
       "4  #censorship #HunterBiden #Biden #BidenEmails #...    1.0            0.0   \n",
       "\n",
       "               source       user_id           user_name user_screen_name  \\\n",
       "0           TweetDeck  3.606665e+08  El Sol Latino News  elsollatinonews   \n",
       "1    Twitter for iPad  8.099044e+08         Cheri A. 🇺🇸     Biloximeemaw   \n",
       "2     Twitter Web App  3.494182e+09          Flag Waver      Flag_Wavers   \n",
       "3  Twitter for iPhone  8.242596e+17       Michelle Ferg    MichelleFerg4   \n",
       "4     Twitter Web App  1.032807e+18      the Gold State    theegoldstate   \n",
       "\n",
       "                                    user_description  ...  \\\n",
       "0  🌐 Noticias de interés para latinos de la costa...  ...   \n",
       "1  Locked and loaded Meemaw. Love God, my family ...  ...   \n",
       "2                                                NaN  ...   \n",
       "3                                                NaN  ...   \n",
       "4  A Silicon Valley #independent #News #Media #St...  ...   \n",
       "\n",
       "  user_followers_count                 user_location        lat        long  \\\n",
       "0               1860.0  Philadelphia, PA / Miami, FL  25.774270  -80.193660   \n",
       "1               6628.0                           NaN        NaN         NaN   \n",
       "2               1536.0         Golden Valley Arizona  46.304036 -109.171431   \n",
       "3                 27.0                           NaN        NaN         NaN   \n",
       "4                390.0               California, USA  36.701463 -118.755997   \n",
       "\n",
       "   city                   country      continent       state state_code  \\\n",
       "0   NaN  United States of America  North America     Florida         FL   \n",
       "1   NaN                       NaN            NaN         NaN        NaN   \n",
       "2   NaN  United States of America  North America     Montana         MT   \n",
       "3   NaN                       NaN            NaN         NaN        NaN   \n",
       "4   NaN  United States of America  North America  California         CA   \n",
       "\n",
       "                    collected_at  \n",
       "0            2020-10-21 00:00:00  \n",
       "1  2020-10-21 00:00:00.517827283  \n",
       "2  2020-10-21 00:00:01.035654566  \n",
       "3  2020-10-21 00:00:01.553481849  \n",
       "4  2020-10-21 00:00:02.071309132  \n",
       "\n",
       "[5 rows x 21 columns]"
      ]
     },
     "execution_count": 7,
     "metadata": {},
     "output_type": "execute_result"
    }
   ],
   "source": [
    "biden.head()"
   ]
  },
  {
   "cell_type": "code",
   "execution_count": 8,
   "metadata": {},
   "outputs": [
    {
     "name": "stdout",
     "output_type": "stream",
     "text": [
      "(776886, 21)\n",
      "Index(['created_at', 'tweet_id', 'tweet', 'likes', 'retweet_count', 'source',\n",
      "       'user_id', 'user_name', 'user_screen_name', 'user_description',\n",
      "       'user_join_date', 'user_followers_count', 'user_location', 'lat',\n",
      "       'long', 'city', 'country', 'continent', 'state', 'state_code',\n",
      "       'collected_at'],\n",
      "      dtype='object')\n"
     ]
    }
   ],
   "source": [
    "# Show size of the Biden dataset\n",
    "print(biden.shape)\n",
    "\n",
    "# Display all the columns in the DataFrame \n",
    "print(biden.columns)"
   ]
  },
  {
   "cell_type": "markdown",
   "metadata": {},
   "source": [
    "Add a column to differentiate tweets from Trump and Biden datasets before we combine them."
   ]
  },
  {
   "cell_type": "code",
   "execution_count": 9,
   "metadata": {},
   "outputs": [
    {
     "name": "stdout",
     "output_type": "stream",
     "text": [
      "Final Data Shape : (1747805, 22)\n",
      "\n",
      "First few rows:\n",
      "            created_at      tweet_id  \\\n",
      "0  2020-10-15 00:00:01  1.316529e+18   \n",
      "1  2020-10-15 00:00:01  1.316529e+18   \n",
      "2  2020-10-15 00:00:02  1.316529e+18   \n",
      "\n",
      "                                               tweet  likes  retweet_count  \\\n",
      "0  #Elecciones2020 | En #Florida: #JoeBiden dice ...    0.0            0.0   \n",
      "1  Usa 2020, Trump contro Facebook e Twitter: cop...   26.0            9.0   \n",
      "2  #Trump: As a student I used to hear for years,...    2.0            1.0   \n",
      "\n",
      "             source      user_id           user_name user_screen_name  \\\n",
      "0         TweetDeck  360666534.0  El Sol Latino News  elsollatinonews   \n",
      "1  Social Mediaset   331617619.0             Tgcom24  MediasetTgcom24   \n",
      "2   Twitter Web App    8436472.0              snarke           snarke   \n",
      "\n",
      "                                    user_description  ...  \\\n",
      "0  🌐 Noticias de interés para latinos de la costa...  ...   \n",
      "1  Profilo ufficiale di Tgcom24: tutte le notizie...  ...   \n",
      "2  Will mock for food! Freelance writer, blogger,...  ...   \n",
      "\n",
      "                  user_location        lat        long      city  \\\n",
      "0  Philadelphia, PA / Miami, FL  25.774270  -80.193660       NaN   \n",
      "1                           NaN        NaN         NaN       NaN   \n",
      "2                      Portland  45.520247 -122.674195  Portland   \n",
      "\n",
      "                    country      continent    state state_code  \\\n",
      "0  United States of America  North America  Florida         FL   \n",
      "1                       NaN            NaN      NaN        NaN   \n",
      "2  United States of America  North America   Oregon         OR   \n",
      "\n",
      "                    collected_at candidate  \n",
      "0            2020-10-21 00:00:00     trump  \n",
      "1  2020-10-21 00:00:00.373216530     trump  \n",
      "2  2020-10-21 00:00:00.746433060     trump  \n",
      "\n",
      "[3 rows x 22 columns]\n"
     ]
    }
   ],
   "source": [
    "# Create a new column 'candidate' to differentiate \n",
    "# between tweets of Trump and Biden upon concatination \n",
    "trump['candidate'] = 'trump'\n",
    "\n",
    "# Biden dataframe \n",
    "biden['candidate'] = 'biden'\n",
    "\n",
    "# Combine the dataframes \n",
    "tweets_df = pd.concat([trump, biden]) \n",
    "tweets_df = tweets_df.reset_index(drop=True)\n",
    "\n",
    "# Final data shape \n",
    "print('Final Data Shape :', tweets_df.shape) \n",
    "\n",
    "# View the first few rows \n",
    "print(\"\\nFirst few rows:\") \n",
    "print(tweets_df.head(3)) "
   ]
  },
  {
   "cell_type": "code",
   "execution_count": 10,
   "metadata": {},
   "outputs": [
    {
     "name": "stdout",
     "output_type": "stream",
     "text": [
      "<class 'pandas.core.frame.DataFrame'>\n",
      "RangeIndex: 1747805 entries, 0 to 1747804\n",
      "Data columns (total 22 columns):\n",
      " #   Column                Non-Null Count    Dtype  \n",
      "---  ------                --------------    -----  \n",
      " 0   created_at            1747805 non-null  object \n",
      " 1   tweet_id              1747805 non-null  float64\n",
      " 2   tweet                 1747805 non-null  object \n",
      " 3   likes                 1747805 non-null  float64\n",
      " 4   retweet_count         1747805 non-null  float64\n",
      " 5   source                1746216 non-null  object \n",
      " 6   user_id               1747805 non-null  float64\n",
      " 7   user_name             1747758 non-null  object \n",
      " 8   user_screen_name      1747805 non-null  object \n",
      " 9   user_description      1564528 non-null  object \n",
      " 10  user_join_date        1747805 non-null  object \n",
      " 11  user_followers_count  1747805 non-null  float64\n",
      " 12  user_location         1219049 non-null  object \n",
      " 13  lat                   801012 non-null   float64\n",
      " 14  long                  801012 non-null   float64\n",
      " 15  city                  414059 non-null   object \n",
      " 16  country               796527 non-null   object \n",
      " 17  continent             796562 non-null   object \n",
      " 18  state                 580815 non-null   object \n",
      " 19  state_code            545034 non-null   object \n",
      " 20  collected_at          1747805 non-null  object \n",
      " 21  candidate             1747805 non-null  object \n",
      "dtypes: float64(7), object(15)\n",
      "memory usage: 293.4+ MB\n"
     ]
    }
   ],
   "source": [
    "# Show info on combined tweet dataset\n",
    "tweets_df.info(show_counts=True)"
   ]
  },
  {
   "cell_type": "code",
   "execution_count": 11,
   "metadata": {},
   "outputs": [
    {
     "data": {
      "text/html": [
       "<div>\n",
       "<style scoped>\n",
       "    .dataframe tbody tr th:only-of-type {\n",
       "        vertical-align: middle;\n",
       "    }\n",
       "\n",
       "    .dataframe tbody tr th {\n",
       "        vertical-align: top;\n",
       "    }\n",
       "\n",
       "    .dataframe thead th {\n",
       "        text-align: right;\n",
       "    }\n",
       "</style>\n",
       "<table border=\"1\" class=\"dataframe\">\n",
       "  <thead>\n",
       "    <tr style=\"text-align: right;\">\n",
       "      <th></th>\n",
       "      <th>created_at</th>\n",
       "      <th>tweet_id</th>\n",
       "      <th>tweet</th>\n",
       "      <th>likes</th>\n",
       "      <th>retweet_count</th>\n",
       "      <th>source</th>\n",
       "      <th>user_id</th>\n",
       "      <th>user_name</th>\n",
       "      <th>user_screen_name</th>\n",
       "      <th>user_description</th>\n",
       "      <th>...</th>\n",
       "      <th>user_location</th>\n",
       "      <th>lat</th>\n",
       "      <th>long</th>\n",
       "      <th>city</th>\n",
       "      <th>country</th>\n",
       "      <th>continent</th>\n",
       "      <th>state</th>\n",
       "      <th>state_code</th>\n",
       "      <th>collected_at</th>\n",
       "      <th>candidate</th>\n",
       "    </tr>\n",
       "  </thead>\n",
       "  <tbody>\n",
       "    <tr>\n",
       "      <th>0</th>\n",
       "      <td>2020-10-15 00:00:01</td>\n",
       "      <td>1.316529e+18</td>\n",
       "      <td>#Elecciones2020 | En #Florida: #JoeBiden dice ...</td>\n",
       "      <td>0.0</td>\n",
       "      <td>0.0</td>\n",
       "      <td>TweetDeck</td>\n",
       "      <td>3.606665e+08</td>\n",
       "      <td>El Sol Latino News</td>\n",
       "      <td>elsollatinonews</td>\n",
       "      <td>🌐 Noticias de interés para latinos de la costa...</td>\n",
       "      <td>...</td>\n",
       "      <td>Philadelphia, PA / Miami, FL</td>\n",
       "      <td>25.774270</td>\n",
       "      <td>-80.193660</td>\n",
       "      <td>NaN</td>\n",
       "      <td>United States of America</td>\n",
       "      <td>North America</td>\n",
       "      <td>Florida</td>\n",
       "      <td>FL</td>\n",
       "      <td>2020-10-21 00:00:00</td>\n",
       "      <td>trump</td>\n",
       "    </tr>\n",
       "    <tr>\n",
       "      <th>1</th>\n",
       "      <td>2020-10-15 00:00:01</td>\n",
       "      <td>1.316529e+18</td>\n",
       "      <td>Usa 2020, Trump contro Facebook e Twitter: cop...</td>\n",
       "      <td>26.0</td>\n",
       "      <td>9.0</td>\n",
       "      <td>Social Mediaset</td>\n",
       "      <td>3.316176e+08</td>\n",
       "      <td>Tgcom24</td>\n",
       "      <td>MediasetTgcom24</td>\n",
       "      <td>Profilo ufficiale di Tgcom24: tutte le notizie...</td>\n",
       "      <td>...</td>\n",
       "      <td>NaN</td>\n",
       "      <td>NaN</td>\n",
       "      <td>NaN</td>\n",
       "      <td>NaN</td>\n",
       "      <td>NaN</td>\n",
       "      <td>NaN</td>\n",
       "      <td>NaN</td>\n",
       "      <td>NaN</td>\n",
       "      <td>2020-10-21 00:00:00.373216530</td>\n",
       "      <td>trump</td>\n",
       "    </tr>\n",
       "    <tr>\n",
       "      <th>2</th>\n",
       "      <td>2020-10-15 00:00:02</td>\n",
       "      <td>1.316529e+18</td>\n",
       "      <td>#Trump: As a student I used to hear for years,...</td>\n",
       "      <td>2.0</td>\n",
       "      <td>1.0</td>\n",
       "      <td>Twitter Web App</td>\n",
       "      <td>8.436472e+06</td>\n",
       "      <td>snarke</td>\n",
       "      <td>snarke</td>\n",
       "      <td>Will mock for food! Freelance writer, blogger,...</td>\n",
       "      <td>...</td>\n",
       "      <td>Portland</td>\n",
       "      <td>45.520247</td>\n",
       "      <td>-122.674195</td>\n",
       "      <td>Portland</td>\n",
       "      <td>United States of America</td>\n",
       "      <td>North America</td>\n",
       "      <td>Oregon</td>\n",
       "      <td>OR</td>\n",
       "      <td>2020-10-21 00:00:00.746433060</td>\n",
       "      <td>trump</td>\n",
       "    </tr>\n",
       "    <tr>\n",
       "      <th>3</th>\n",
       "      <td>2020-10-15 00:00:02</td>\n",
       "      <td>1.316529e+18</td>\n",
       "      <td>2 hours since last tweet from #Trump! Maybe he...</td>\n",
       "      <td>0.0</td>\n",
       "      <td>0.0</td>\n",
       "      <td>Trumpytweeter</td>\n",
       "      <td>8.283556e+17</td>\n",
       "      <td>Trumpytweeter</td>\n",
       "      <td>trumpytweeter</td>\n",
       "      <td>If he doesn't tweet for some time, should we b...</td>\n",
       "      <td>...</td>\n",
       "      <td>NaN</td>\n",
       "      <td>NaN</td>\n",
       "      <td>NaN</td>\n",
       "      <td>NaN</td>\n",
       "      <td>NaN</td>\n",
       "      <td>NaN</td>\n",
       "      <td>NaN</td>\n",
       "      <td>NaN</td>\n",
       "      <td>2020-10-21 00:00:01.119649591</td>\n",
       "      <td>trump</td>\n",
       "    </tr>\n",
       "    <tr>\n",
       "      <th>4</th>\n",
       "      <td>2020-10-15 00:00:08</td>\n",
       "      <td>1.316529e+18</td>\n",
       "      <td>You get a tie! And you get a tie! #Trump ‘s ra...</td>\n",
       "      <td>4.0</td>\n",
       "      <td>3.0</td>\n",
       "      <td>Twitter for iPhone</td>\n",
       "      <td>4.741380e+07</td>\n",
       "      <td>Rana Abtar - رنا أبتر</td>\n",
       "      <td>Ranaabtar</td>\n",
       "      <td>Washington Correspondent, Lebanese-American ,c...</td>\n",
       "      <td>...</td>\n",
       "      <td>Washington DC</td>\n",
       "      <td>38.894992</td>\n",
       "      <td>-77.036558</td>\n",
       "      <td>Washington</td>\n",
       "      <td>United States of America</td>\n",
       "      <td>North America</td>\n",
       "      <td>District of Columbia</td>\n",
       "      <td>DC</td>\n",
       "      <td>2020-10-21 00:00:01.492866121</td>\n",
       "      <td>trump</td>\n",
       "    </tr>\n",
       "  </tbody>\n",
       "</table>\n",
       "<p>5 rows × 22 columns</p>\n",
       "</div>"
      ],
      "text/plain": [
       "            created_at      tweet_id  \\\n",
       "0  2020-10-15 00:00:01  1.316529e+18   \n",
       "1  2020-10-15 00:00:01  1.316529e+18   \n",
       "2  2020-10-15 00:00:02  1.316529e+18   \n",
       "3  2020-10-15 00:00:02  1.316529e+18   \n",
       "4  2020-10-15 00:00:08  1.316529e+18   \n",
       "\n",
       "                                               tweet  likes  retweet_count  \\\n",
       "0  #Elecciones2020 | En #Florida: #JoeBiden dice ...    0.0            0.0   \n",
       "1  Usa 2020, Trump contro Facebook e Twitter: cop...   26.0            9.0   \n",
       "2  #Trump: As a student I used to hear for years,...    2.0            1.0   \n",
       "3  2 hours since last tweet from #Trump! Maybe he...    0.0            0.0   \n",
       "4  You get a tie! And you get a tie! #Trump ‘s ra...    4.0            3.0   \n",
       "\n",
       "               source       user_id              user_name user_screen_name  \\\n",
       "0           TweetDeck  3.606665e+08     El Sol Latino News  elsollatinonews   \n",
       "1    Social Mediaset   3.316176e+08                Tgcom24  MediasetTgcom24   \n",
       "2     Twitter Web App  8.436472e+06                 snarke           snarke   \n",
       "3       Trumpytweeter  8.283556e+17          Trumpytweeter    trumpytweeter   \n",
       "4  Twitter for iPhone  4.741380e+07  Rana Abtar - رنا أبتر        Ranaabtar   \n",
       "\n",
       "                                    user_description  ...  \\\n",
       "0  🌐 Noticias de interés para latinos de la costa...  ...   \n",
       "1  Profilo ufficiale di Tgcom24: tutte le notizie...  ...   \n",
       "2  Will mock for food! Freelance writer, blogger,...  ...   \n",
       "3  If he doesn't tweet for some time, should we b...  ...   \n",
       "4  Washington Correspondent, Lebanese-American ,c...  ...   \n",
       "\n",
       "                  user_location        lat        long        city  \\\n",
       "0  Philadelphia, PA / Miami, FL  25.774270  -80.193660         NaN   \n",
       "1                           NaN        NaN         NaN         NaN   \n",
       "2                      Portland  45.520247 -122.674195    Portland   \n",
       "3                           NaN        NaN         NaN         NaN   \n",
       "4                 Washington DC  38.894992  -77.036558  Washington   \n",
       "\n",
       "                    country      continent                 state state_code  \\\n",
       "0  United States of America  North America               Florida         FL   \n",
       "1                       NaN            NaN                   NaN        NaN   \n",
       "2  United States of America  North America                Oregon         OR   \n",
       "3                       NaN            NaN                   NaN        NaN   \n",
       "4  United States of America  North America  District of Columbia         DC   \n",
       "\n",
       "                    collected_at candidate  \n",
       "0            2020-10-21 00:00:00     trump  \n",
       "1  2020-10-21 00:00:00.373216530     trump  \n",
       "2  2020-10-21 00:00:00.746433060     trump  \n",
       "3  2020-10-21 00:00:01.119649591     trump  \n",
       "4  2020-10-21 00:00:01.492866121     trump  \n",
       "\n",
       "[5 rows x 22 columns]"
      ]
     },
     "execution_count": 11,
     "metadata": {},
     "output_type": "execute_result"
    }
   ],
   "source": [
    "# Validate we have the Trump column set properly\n",
    "tweets_df[tweets_df['candidate'] == 'trump'].head()"
   ]
  },
  {
   "cell_type": "code",
   "execution_count": 12,
   "metadata": {},
   "outputs": [
    {
     "data": {
      "text/html": [
       "<div>\n",
       "<style scoped>\n",
       "    .dataframe tbody tr th:only-of-type {\n",
       "        vertical-align: middle;\n",
       "    }\n",
       "\n",
       "    .dataframe tbody tr th {\n",
       "        vertical-align: top;\n",
       "    }\n",
       "\n",
       "    .dataframe thead th {\n",
       "        text-align: right;\n",
       "    }\n",
       "</style>\n",
       "<table border=\"1\" class=\"dataframe\">\n",
       "  <thead>\n",
       "    <tr style=\"text-align: right;\">\n",
       "      <th></th>\n",
       "      <th>created_at</th>\n",
       "      <th>tweet_id</th>\n",
       "      <th>tweet</th>\n",
       "      <th>likes</th>\n",
       "      <th>retweet_count</th>\n",
       "      <th>source</th>\n",
       "      <th>user_id</th>\n",
       "      <th>user_name</th>\n",
       "      <th>user_screen_name</th>\n",
       "      <th>user_description</th>\n",
       "      <th>...</th>\n",
       "      <th>user_location</th>\n",
       "      <th>lat</th>\n",
       "      <th>long</th>\n",
       "      <th>city</th>\n",
       "      <th>country</th>\n",
       "      <th>continent</th>\n",
       "      <th>state</th>\n",
       "      <th>state_code</th>\n",
       "      <th>collected_at</th>\n",
       "      <th>candidate</th>\n",
       "    </tr>\n",
       "  </thead>\n",
       "  <tbody>\n",
       "    <tr>\n",
       "      <th>970919</th>\n",
       "      <td>2020-10-15 00:00:01</td>\n",
       "      <td>1.316529e+18</td>\n",
       "      <td>#Elecciones2020 | En #Florida: #JoeBiden dice ...</td>\n",
       "      <td>0.0</td>\n",
       "      <td>0.0</td>\n",
       "      <td>TweetDeck</td>\n",
       "      <td>3.606665e+08</td>\n",
       "      <td>El Sol Latino News</td>\n",
       "      <td>elsollatinonews</td>\n",
       "      <td>🌐 Noticias de interés para latinos de la costa...</td>\n",
       "      <td>...</td>\n",
       "      <td>Philadelphia, PA / Miami, FL</td>\n",
       "      <td>25.774270</td>\n",
       "      <td>-80.193660</td>\n",
       "      <td>NaN</td>\n",
       "      <td>United States of America</td>\n",
       "      <td>North America</td>\n",
       "      <td>Florida</td>\n",
       "      <td>FL</td>\n",
       "      <td>2020-10-21 00:00:00</td>\n",
       "      <td>biden</td>\n",
       "    </tr>\n",
       "    <tr>\n",
       "      <th>970920</th>\n",
       "      <td>2020-10-15 00:00:18</td>\n",
       "      <td>1.316529e+18</td>\n",
       "      <td>#HunterBiden #HunterBidenEmails #JoeBiden #Joe...</td>\n",
       "      <td>0.0</td>\n",
       "      <td>0.0</td>\n",
       "      <td>Twitter for iPad</td>\n",
       "      <td>8.099044e+08</td>\n",
       "      <td>Cheri A. 🇺🇸</td>\n",
       "      <td>Biloximeemaw</td>\n",
       "      <td>Locked and loaded Meemaw. Love God, my family ...</td>\n",
       "      <td>...</td>\n",
       "      <td>NaN</td>\n",
       "      <td>NaN</td>\n",
       "      <td>NaN</td>\n",
       "      <td>NaN</td>\n",
       "      <td>NaN</td>\n",
       "      <td>NaN</td>\n",
       "      <td>NaN</td>\n",
       "      <td>NaN</td>\n",
       "      <td>2020-10-21 00:00:00.517827283</td>\n",
       "      <td>biden</td>\n",
       "    </tr>\n",
       "    <tr>\n",
       "      <th>970921</th>\n",
       "      <td>2020-10-15 00:00:20</td>\n",
       "      <td>1.316529e+18</td>\n",
       "      <td>@IslandGirlPRV @BradBeauregardJ @MeidasTouch T...</td>\n",
       "      <td>0.0</td>\n",
       "      <td>0.0</td>\n",
       "      <td>Twitter Web App</td>\n",
       "      <td>3.494182e+09</td>\n",
       "      <td>Flag Waver</td>\n",
       "      <td>Flag_Wavers</td>\n",
       "      <td>NaN</td>\n",
       "      <td>...</td>\n",
       "      <td>Golden Valley Arizona</td>\n",
       "      <td>46.304036</td>\n",
       "      <td>-109.171431</td>\n",
       "      <td>NaN</td>\n",
       "      <td>United States of America</td>\n",
       "      <td>North America</td>\n",
       "      <td>Montana</td>\n",
       "      <td>MT</td>\n",
       "      <td>2020-10-21 00:00:01.035654566</td>\n",
       "      <td>biden</td>\n",
       "    </tr>\n",
       "    <tr>\n",
       "      <th>970922</th>\n",
       "      <td>2020-10-15 00:00:21</td>\n",
       "      <td>1.316529e+18</td>\n",
       "      <td>@chrislongview Watching and setting dvr. Let’s...</td>\n",
       "      <td>0.0</td>\n",
       "      <td>0.0</td>\n",
       "      <td>Twitter for iPhone</td>\n",
       "      <td>8.242596e+17</td>\n",
       "      <td>Michelle Ferg</td>\n",
       "      <td>MichelleFerg4</td>\n",
       "      <td>NaN</td>\n",
       "      <td>...</td>\n",
       "      <td>NaN</td>\n",
       "      <td>NaN</td>\n",
       "      <td>NaN</td>\n",
       "      <td>NaN</td>\n",
       "      <td>NaN</td>\n",
       "      <td>NaN</td>\n",
       "      <td>NaN</td>\n",
       "      <td>NaN</td>\n",
       "      <td>2020-10-21 00:00:01.553481849</td>\n",
       "      <td>biden</td>\n",
       "    </tr>\n",
       "    <tr>\n",
       "      <th>970923</th>\n",
       "      <td>2020-10-15 00:00:22</td>\n",
       "      <td>1.316529e+18</td>\n",
       "      <td>#censorship #HunterBiden #Biden #BidenEmails #...</td>\n",
       "      <td>1.0</td>\n",
       "      <td>0.0</td>\n",
       "      <td>Twitter Web App</td>\n",
       "      <td>1.032807e+18</td>\n",
       "      <td>the Gold State</td>\n",
       "      <td>theegoldstate</td>\n",
       "      <td>A Silicon Valley #independent #News #Media #St...</td>\n",
       "      <td>...</td>\n",
       "      <td>California, USA</td>\n",
       "      <td>36.701463</td>\n",
       "      <td>-118.755997</td>\n",
       "      <td>NaN</td>\n",
       "      <td>United States of America</td>\n",
       "      <td>North America</td>\n",
       "      <td>California</td>\n",
       "      <td>CA</td>\n",
       "      <td>2020-10-21 00:00:02.071309132</td>\n",
       "      <td>biden</td>\n",
       "    </tr>\n",
       "  </tbody>\n",
       "</table>\n",
       "<p>5 rows × 22 columns</p>\n",
       "</div>"
      ],
      "text/plain": [
       "                 created_at      tweet_id  \\\n",
       "970919  2020-10-15 00:00:01  1.316529e+18   \n",
       "970920  2020-10-15 00:00:18  1.316529e+18   \n",
       "970921  2020-10-15 00:00:20  1.316529e+18   \n",
       "970922  2020-10-15 00:00:21  1.316529e+18   \n",
       "970923  2020-10-15 00:00:22  1.316529e+18   \n",
       "\n",
       "                                                    tweet  likes  \\\n",
       "970919  #Elecciones2020 | En #Florida: #JoeBiden dice ...    0.0   \n",
       "970920  #HunterBiden #HunterBidenEmails #JoeBiden #Joe...    0.0   \n",
       "970921  @IslandGirlPRV @BradBeauregardJ @MeidasTouch T...    0.0   \n",
       "970922  @chrislongview Watching and setting dvr. Let’s...    0.0   \n",
       "970923  #censorship #HunterBiden #Biden #BidenEmails #...    1.0   \n",
       "\n",
       "        retweet_count              source       user_id           user_name  \\\n",
       "970919            0.0           TweetDeck  3.606665e+08  El Sol Latino News   \n",
       "970920            0.0    Twitter for iPad  8.099044e+08         Cheri A. 🇺🇸   \n",
       "970921            0.0     Twitter Web App  3.494182e+09          Flag Waver   \n",
       "970922            0.0  Twitter for iPhone  8.242596e+17       Michelle Ferg   \n",
       "970923            0.0     Twitter Web App  1.032807e+18      the Gold State   \n",
       "\n",
       "       user_screen_name                                   user_description  \\\n",
       "970919  elsollatinonews  🌐 Noticias de interés para latinos de la costa...   \n",
       "970920     Biloximeemaw  Locked and loaded Meemaw. Love God, my family ...   \n",
       "970921      Flag_Wavers                                                NaN   \n",
       "970922    MichelleFerg4                                                NaN   \n",
       "970923    theegoldstate  A Silicon Valley #independent #News #Media #St...   \n",
       "\n",
       "        ...                 user_location        lat        long  city  \\\n",
       "970919  ...  Philadelphia, PA / Miami, FL  25.774270  -80.193660   NaN   \n",
       "970920  ...                           NaN        NaN         NaN   NaN   \n",
       "970921  ...         Golden Valley Arizona  46.304036 -109.171431   NaN   \n",
       "970922  ...                           NaN        NaN         NaN   NaN   \n",
       "970923  ...               California, USA  36.701463 -118.755997   NaN   \n",
       "\n",
       "                         country      continent       state state_code  \\\n",
       "970919  United States of America  North America     Florida         FL   \n",
       "970920                       NaN            NaN         NaN        NaN   \n",
       "970921  United States of America  North America     Montana         MT   \n",
       "970922                       NaN            NaN         NaN        NaN   \n",
       "970923  United States of America  North America  California         CA   \n",
       "\n",
       "                         collected_at candidate  \n",
       "970919            2020-10-21 00:00:00     biden  \n",
       "970920  2020-10-21 00:00:00.517827283     biden  \n",
       "970921  2020-10-21 00:00:01.035654566     biden  \n",
       "970922  2020-10-21 00:00:01.553481849     biden  \n",
       "970923  2020-10-21 00:00:02.071309132     biden  \n",
       "\n",
       "[5 rows x 22 columns]"
      ]
     },
     "execution_count": 12,
     "metadata": {},
     "output_type": "execute_result"
    }
   ],
   "source": [
    "# Validate we have the Biden column set properly\n",
    "tweets_df[tweets_df['candidate'] == 'biden'].head()"
   ]
  },
  {
   "cell_type": "markdown",
   "metadata": {},
   "source": [
    "Show distribution of tweets by `country` location."
   ]
  },
  {
   "cell_type": "code",
   "execution_count": 13,
   "metadata": {},
   "outputs": [
    {
     "name": "stdout",
     "output_type": "stream",
     "text": [
      "country\n",
      "United States of America            332495\n",
      "United States                        61905\n",
      "United Kingdom                       58051\n",
      "India                                40091\n",
      "Germany                              35379\n",
      "France                               35299\n",
      "Canada                               27805\n",
      "Italy                                20076\n",
      "Australia                            14899\n",
      "Mexico                               10903\n",
      "Turkey                               10368\n",
      "The Netherlands                       9587\n",
      "Brazil                                8735\n",
      "Pakistan                              8597\n",
      "Spain                                 7252\n",
      "Ireland                               5452\n",
      "Netherlands                           5279\n",
      "Colombia                              4425\n",
      "Argentina                             4404\n",
      "Venezuela                             4333\n",
      "Chile                                 3844\n",
      "Belgium                               3823\n",
      "Nigeria                               3810\n",
      "Bangladesh                            3507\n",
      "South Africa                          3248\n",
      "Georgia                               3107\n",
      "Switzerland                           3047\n",
      "Sweden                                2988\n",
      "China                                 2663\n",
      "Finland                               2376\n",
      "Egypt                                 2364\n",
      "Austria                               2151\n",
      "United Arab Emirates                  2140\n",
      "Greece                                2119\n",
      "Norway                                2036\n",
      "Indonesia                             1842\n",
      "Lebanon                               1834\n",
      "Ecuador                               1696\n",
      "Kenya                                 1693\n",
      "Peru                                  1689\n",
      "New Zealand                           1597\n",
      "Cuba                                  1437\n",
      "Israel                                1425\n",
      "Malaysia                              1398\n",
      "Iran                                  1388\n",
      "Singapore                             1378\n",
      "Portugal                              1263\n",
      "Saudi Arabia                          1246\n",
      "Costa Rica                            1233\n",
      "Japan                                 1171\n",
      "Dominican Republic                    1139\n",
      "Philippines                           1137\n",
      "Denmark                               1015\n",
      "Russia                                 876\n",
      "Azerbaijan                             807\n",
      "Honduras                               803\n",
      "Thailand                               758\n",
      "El Salvador                            698\n",
      "Poland                                 696\n",
      "Guatemala                              657\n",
      "Sri Lanka                              637\n",
      "Iraq                                   631\n",
      "Ghana                                  558\n",
      "Bosnia and Herzegovina                 532\n",
      "Ethiopia                               508\n",
      "Tunisia                                484\n",
      "Qatar                                  428\n",
      "Czech Republic                         422\n",
      "Taiwan                                 410\n",
      "Bahrain                                402\n",
      "Uganda                                 398\n",
      "Uruguay                                389\n",
      "South Korea                            374\n",
      "Bolivia                                373\n",
      "Hungary                                353\n",
      "Jamaika                                348\n",
      "Nicaragua                              343\n",
      "Jersey                                 342\n",
      "Nepal                                  338\n",
      "Cyprus                                 333\n",
      "Morocco                                296\n",
      "Serbia                                 295\n",
      "Luxembourg                             285\n",
      "Vietnam                                283\n",
      "Mongolia                               273\n",
      "Kuwait                                 269\n",
      "Bulgaria                               252\n",
      "Panama                                 246\n",
      "Haiti                                  230\n",
      "Ukraine                                226\n",
      "Afghanistan                            220\n",
      "Malta                                  216\n",
      "Lithuania                              211\n",
      "Paraguay                               210\n",
      "Senegal                                209\n",
      "Armenia                                197\n",
      "Libya                                  194\n",
      "Rwanda                                 169\n",
      "Cameroon                               168\n",
      "Oman                                   166\n",
      "Iceland                                159\n",
      "Estonia                                156\n",
      "Cambodia                               152\n",
      "Liberia                                142\n",
      "Albania                                135\n",
      "Trinidad and Tobago                    133\n",
      "Romania                                132\n",
      "Yemen                                  130\n",
      "Slovakia                               122\n",
      "Somalia                                122\n",
      "Zimbabwe                               119\n",
      "Palestinian Territory                  114\n",
      "Kosovo                                 110\n",
      "Syria                                  107\n",
      "Jordan                                  95\n",
      "Tanzania                                93\n",
      "Sudan                                   93\n",
      "Monaco                                  89\n",
      "Papua New Guinea                        87\n",
      "The Bahamas                             80\n",
      "Maldives                                78\n",
      "Angola                                  78\n",
      "Myanmar                                 75\n",
      "Algeria                                 73\n",
      "Zambia                                  71\n",
      "Latvia                                  64\n",
      "Slovenia                                58\n",
      "Sierra Leone                            53\n",
      "Greenland                               52\n",
      "Fiji                                    44\n",
      "Croatia                                 44\n",
      "The Gambia                              42\n",
      "Hong Kong                               42\n",
      "Barbados                                42\n",
      "Kazakhstan                              35\n",
      "Bahamas                                 32\n",
      "Grenada                                 31\n",
      "Côte d'Ivoire                           30\n",
      "Guyana                                  28\n",
      "Congo-Brazzaville                       26\n",
      "North Korea                             25\n",
      "Burkina Faso                            25\n",
      "Namibia                                 24\n",
      "Gibraltar                               23\n",
      "Vatican City                            22\n",
      "Uzbekistan                              22\n",
      "North Macedonia                         21\n",
      "Guinea                                  21\n",
      "Laos                                    21\n",
      "Falkland Islands                        19\n",
      "Suriname                                19\n",
      "Moldova                                 18\n",
      "Djibouti                                17\n",
      "Niger                                   17\n",
      "Mauritius                               16\n",
      "Belize                                  15\n",
      "Democratic Republic of the Congo        14\n",
      "Saint Kitts and Nevis                   13\n",
      "Montenegro                              11\n",
      "Belarus                                 11\n",
      "Seychelles                              11\n",
      "Faroe Islands                           10\n",
      "British Virgin Islands                  10\n",
      "Puerto Rico                              9\n",
      "Cayman Islands                           8\n",
      "Tajikistan                               7\n",
      "Liechtenstein                            6\n",
      "Isle of Man                              5\n",
      "Dominica                                 5\n",
      "Antigua and Barbuda                      5\n",
      "Madagascar                               5\n",
      "Federated States of Micronesia           5\n",
      "South Sudan                              5\n",
      "Anguilla                                 5\n",
      "Congo                                    5\n",
      "Turks and Caicos Islands                 4\n",
      "Republic of the Congo                    4\n",
      "Gabon                                    4\n",
      "Benin                                    3\n",
      "Vanuatu                                  3\n",
      "Cape Verde                               2\n",
      "Kiribati                                 2\n",
      "Tonga                                    2\n",
      "Samoa                                    2\n",
      "Mali                                     2\n",
      "Northern Mariana Islands                 1\n",
      "Saint Lucia                              1\n",
      "Lesotho                                  1\n",
      "East Timor                               1\n",
      "Name: count, dtype: int64\n"
     ]
    }
   ],
   "source": [
    "# Seeing the various countries of tweets\n",
    "pd.set_option('display.max_rows', 500)  # Display all rows\n",
    "print(tweets_df['country'].value_counts())"
   ]
  },
  {
   "cell_type": "markdown",
   "metadata": {},
   "source": [
    "---\n",
    "#### Data Cleaning and Wrangling"
   ]
  },
  {
   "cell_type": "markdown",
   "metadata": {},
   "source": [
    "While this dataset has quite a number of null values depending on the column, let's see if we can maximize the useful data without dropping ALL rows with null values. First let's update all USA country fields to show \"US\". Then, find where the `user_location` is specified, but the `country` is not (`state_code` also is missing in many rows). We will focus on users where stated location is somewhere in the USA with the assumption that this will be part of our voting and/or influence group (even though there's no way to tell whether any user is a US citizen or not, and some users aren't even necessarily individuals but represent organizations, or even bots). Sometimes users will input a city and state (or even 'USA') in the `user_location` field which we may be able to parse even if the `country` field is null."
   ]
  },
  {
   "cell_type": "markdown",
   "metadata": {},
   "source": [
    "For easier manipulation, we will change rows with various `country` names for USA to just \"US\". "
   ]
  },
  {
   "cell_type": "code",
   "execution_count": 14,
   "metadata": {},
   "outputs": [],
   "source": [
    "# Shorten any United States (/of America) to simply \"US\"\n",
    "tweets_df['country'] = tweets_df['country'].replace({'United States of America': \"US\",'United States': \"US\"}) "
   ]
  },
  {
   "cell_type": "markdown",
   "metadata": {},
   "source": [
    "Filter rows to show only tweets where country field is US."
   ]
  },
  {
   "cell_type": "code",
   "execution_count": 15,
   "metadata": {},
   "outputs": [
    {
     "data": {
      "text/html": [
       "<div>\n",
       "<style scoped>\n",
       "    .dataframe tbody tr th:only-of-type {\n",
       "        vertical-align: middle;\n",
       "    }\n",
       "\n",
       "    .dataframe tbody tr th {\n",
       "        vertical-align: top;\n",
       "    }\n",
       "\n",
       "    .dataframe thead th {\n",
       "        text-align: right;\n",
       "    }\n",
       "</style>\n",
       "<table border=\"1\" class=\"dataframe\">\n",
       "  <thead>\n",
       "    <tr style=\"text-align: right;\">\n",
       "      <th></th>\n",
       "      <th>created_at</th>\n",
       "      <th>tweet_id</th>\n",
       "      <th>tweet</th>\n",
       "      <th>likes</th>\n",
       "      <th>retweet_count</th>\n",
       "      <th>source</th>\n",
       "      <th>user_id</th>\n",
       "      <th>user_name</th>\n",
       "      <th>user_screen_name</th>\n",
       "      <th>user_description</th>\n",
       "      <th>...</th>\n",
       "      <th>user_location</th>\n",
       "      <th>lat</th>\n",
       "      <th>long</th>\n",
       "      <th>city</th>\n",
       "      <th>country</th>\n",
       "      <th>continent</th>\n",
       "      <th>state</th>\n",
       "      <th>state_code</th>\n",
       "      <th>collected_at</th>\n",
       "      <th>candidate</th>\n",
       "    </tr>\n",
       "  </thead>\n",
       "  <tbody>\n",
       "    <tr>\n",
       "      <th>0</th>\n",
       "      <td>2020-10-15 00:00:01</td>\n",
       "      <td>1.316529e+18</td>\n",
       "      <td>#Elecciones2020 | En #Florida: #JoeBiden dice ...</td>\n",
       "      <td>0.0</td>\n",
       "      <td>0.0</td>\n",
       "      <td>TweetDeck</td>\n",
       "      <td>3.606665e+08</td>\n",
       "      <td>El Sol Latino News</td>\n",
       "      <td>elsollatinonews</td>\n",
       "      <td>🌐 Noticias de interés para latinos de la costa...</td>\n",
       "      <td>...</td>\n",
       "      <td>Philadelphia, PA / Miami, FL</td>\n",
       "      <td>25.774270</td>\n",
       "      <td>-80.193660</td>\n",
       "      <td>NaN</td>\n",
       "      <td>US</td>\n",
       "      <td>North America</td>\n",
       "      <td>Florida</td>\n",
       "      <td>FL</td>\n",
       "      <td>2020-10-21 00:00:00</td>\n",
       "      <td>trump</td>\n",
       "    </tr>\n",
       "    <tr>\n",
       "      <th>2</th>\n",
       "      <td>2020-10-15 00:00:02</td>\n",
       "      <td>1.316529e+18</td>\n",
       "      <td>#Trump: As a student I used to hear for years,...</td>\n",
       "      <td>2.0</td>\n",
       "      <td>1.0</td>\n",
       "      <td>Twitter Web App</td>\n",
       "      <td>8.436472e+06</td>\n",
       "      <td>snarke</td>\n",
       "      <td>snarke</td>\n",
       "      <td>Will mock for food! Freelance writer, blogger,...</td>\n",
       "      <td>...</td>\n",
       "      <td>Portland</td>\n",
       "      <td>45.520247</td>\n",
       "      <td>-122.674195</td>\n",
       "      <td>Portland</td>\n",
       "      <td>US</td>\n",
       "      <td>North America</td>\n",
       "      <td>Oregon</td>\n",
       "      <td>OR</td>\n",
       "      <td>2020-10-21 00:00:00.746433060</td>\n",
       "      <td>trump</td>\n",
       "    </tr>\n",
       "    <tr>\n",
       "      <th>4</th>\n",
       "      <td>2020-10-15 00:00:08</td>\n",
       "      <td>1.316529e+18</td>\n",
       "      <td>You get a tie! And you get a tie! #Trump ‘s ra...</td>\n",
       "      <td>4.0</td>\n",
       "      <td>3.0</td>\n",
       "      <td>Twitter for iPhone</td>\n",
       "      <td>4.741380e+07</td>\n",
       "      <td>Rana Abtar - رنا أبتر</td>\n",
       "      <td>Ranaabtar</td>\n",
       "      <td>Washington Correspondent, Lebanese-American ,c...</td>\n",
       "      <td>...</td>\n",
       "      <td>Washington DC</td>\n",
       "      <td>38.894992</td>\n",
       "      <td>-77.036558</td>\n",
       "      <td>Washington</td>\n",
       "      <td>US</td>\n",
       "      <td>North America</td>\n",
       "      <td>District of Columbia</td>\n",
       "      <td>DC</td>\n",
       "      <td>2020-10-21 00:00:01.492866121</td>\n",
       "      <td>trump</td>\n",
       "    </tr>\n",
       "    <tr>\n",
       "      <th>5</th>\n",
       "      <td>2020-10-15 00:00:17</td>\n",
       "      <td>1.316529e+18</td>\n",
       "      <td>@CLady62 Her 15 minutes were over long time ag...</td>\n",
       "      <td>2.0</td>\n",
       "      <td>0.0</td>\n",
       "      <td>Twitter for Android</td>\n",
       "      <td>1.138416e+09</td>\n",
       "      <td>Farris Flagg</td>\n",
       "      <td>FarrisFlagg</td>\n",
       "      <td>#BidenHarris2020 #JoeBiden2020 #KamalaHarrisFo...</td>\n",
       "      <td>...</td>\n",
       "      <td>Perris,California</td>\n",
       "      <td>33.782519</td>\n",
       "      <td>-117.228648</td>\n",
       "      <td>NaN</td>\n",
       "      <td>US</td>\n",
       "      <td>North America</td>\n",
       "      <td>California</td>\n",
       "      <td>CA</td>\n",
       "      <td>2020-10-21 00:00:01.866082651</td>\n",
       "      <td>trump</td>\n",
       "    </tr>\n",
       "    <tr>\n",
       "      <th>7</th>\n",
       "      <td>2020-10-15 00:00:18</td>\n",
       "      <td>1.316529e+18</td>\n",
       "      <td>@DeeviousDenise @realDonaldTrump @nypost There...</td>\n",
       "      <td>0.0</td>\n",
       "      <td>0.0</td>\n",
       "      <td>Twitter for iPhone</td>\n",
       "      <td>9.007611e+17</td>\n",
       "      <td>Stacey Gulledge 🇺🇸 Patriot ♥️ KAG 🙏 👮‍♀️♥️</td>\n",
       "      <td>sm_gulledge</td>\n",
       "      <td>Patriot, Wife, “Shaken not Stirred” Mom of two...</td>\n",
       "      <td>...</td>\n",
       "      <td>Ohio, USA</td>\n",
       "      <td>40.225357</td>\n",
       "      <td>-82.688140</td>\n",
       "      <td>NaN</td>\n",
       "      <td>US</td>\n",
       "      <td>North America</td>\n",
       "      <td>Ohio</td>\n",
       "      <td>OH</td>\n",
       "      <td>2020-10-21 00:00:02.612515712</td>\n",
       "      <td>trump</td>\n",
       "    </tr>\n",
       "  </tbody>\n",
       "</table>\n",
       "<p>5 rows × 22 columns</p>\n",
       "</div>"
      ],
      "text/plain": [
       "            created_at      tweet_id  \\\n",
       "0  2020-10-15 00:00:01  1.316529e+18   \n",
       "2  2020-10-15 00:00:02  1.316529e+18   \n",
       "4  2020-10-15 00:00:08  1.316529e+18   \n",
       "5  2020-10-15 00:00:17  1.316529e+18   \n",
       "7  2020-10-15 00:00:18  1.316529e+18   \n",
       "\n",
       "                                               tweet  likes  retweet_count  \\\n",
       "0  #Elecciones2020 | En #Florida: #JoeBiden dice ...    0.0            0.0   \n",
       "2  #Trump: As a student I used to hear for years,...    2.0            1.0   \n",
       "4  You get a tie! And you get a tie! #Trump ‘s ra...    4.0            3.0   \n",
       "5  @CLady62 Her 15 minutes were over long time ag...    2.0            0.0   \n",
       "7  @DeeviousDenise @realDonaldTrump @nypost There...    0.0            0.0   \n",
       "\n",
       "                source       user_id  \\\n",
       "0            TweetDeck  3.606665e+08   \n",
       "2      Twitter Web App  8.436472e+06   \n",
       "4   Twitter for iPhone  4.741380e+07   \n",
       "5  Twitter for Android  1.138416e+09   \n",
       "7   Twitter for iPhone  9.007611e+17   \n",
       "\n",
       "                                    user_name user_screen_name  \\\n",
       "0                          El Sol Latino News  elsollatinonews   \n",
       "2                                      snarke           snarke   \n",
       "4                       Rana Abtar - رنا أبتر        Ranaabtar   \n",
       "5                                Farris Flagg      FarrisFlagg   \n",
       "7  Stacey Gulledge 🇺🇸 Patriot ♥️ KAG 🙏 👮‍♀️♥️      sm_gulledge   \n",
       "\n",
       "                                    user_description  ...  \\\n",
       "0  🌐 Noticias de interés para latinos de la costa...  ...   \n",
       "2  Will mock for food! Freelance writer, blogger,...  ...   \n",
       "4  Washington Correspondent, Lebanese-American ,c...  ...   \n",
       "5  #BidenHarris2020 #JoeBiden2020 #KamalaHarrisFo...  ...   \n",
       "7  Patriot, Wife, “Shaken not Stirred” Mom of two...  ...   \n",
       "\n",
       "                  user_location        lat        long        city  country  \\\n",
       "0  Philadelphia, PA / Miami, FL  25.774270  -80.193660         NaN       US   \n",
       "2                      Portland  45.520247 -122.674195    Portland       US   \n",
       "4                 Washington DC  38.894992  -77.036558  Washington       US   \n",
       "5             Perris,California  33.782519 -117.228648         NaN       US   \n",
       "7                     Ohio, USA  40.225357  -82.688140         NaN       US   \n",
       "\n",
       "       continent                 state state_code  \\\n",
       "0  North America               Florida         FL   \n",
       "2  North America                Oregon         OR   \n",
       "4  North America  District of Columbia         DC   \n",
       "5  North America            California         CA   \n",
       "7  North America                  Ohio         OH   \n",
       "\n",
       "                    collected_at candidate  \n",
       "0            2020-10-21 00:00:00     trump  \n",
       "2  2020-10-21 00:00:00.746433060     trump  \n",
       "4  2020-10-21 00:00:01.492866121     trump  \n",
       "5  2020-10-21 00:00:01.866082651     trump  \n",
       "7  2020-10-21 00:00:02.612515712     trump  \n",
       "\n",
       "[5 rows x 22 columns]"
      ]
     },
     "execution_count": 15,
     "metadata": {},
     "output_type": "execute_result"
    }
   ],
   "source": [
    "# Isolate tweets where `country` is \"US\"\n",
    "tweets_cntryUSA = tweets_df[tweets_df[\"country\"] == \"US\"]\n",
    "tweets_cntryUSA.head()"
   ]
  },
  {
   "cell_type": "markdown",
   "metadata": {},
   "source": [
    "Filter full tweet DF for rows where `country` is null but `user_location` is set. This way we can try to parse out tweet user locations that are still in the USA."
   ]
  },
  {
   "cell_type": "code",
   "execution_count": 16,
   "metadata": {},
   "outputs": [
    {
     "data": {
      "text/plain": [
       "6                     Powell, TN\n",
       "14       USA - Land of the FREE!\n",
       "21                  Mother Earth\n",
       "26                    Everywhere\n",
       "28                  WASherst, PA\n",
       "37                       Danmark\n",
       "47                  Mother Earth\n",
       "51           #BlueWave USA 🌊🌊🌊🌊🌊\n",
       "70    37°12'28.3\"N 115°57'25.9\"W\n",
       "82               Chula Vista, CA\n",
       "Name: user_location, dtype: object"
      ]
     },
     "execution_count": 16,
     "metadata": {},
     "output_type": "execute_result"
    }
   ],
   "source": [
    "# Check to see where user_location is available, but no country specified\n",
    "tweets_loconly = tweets_df[tweets_df['country'].isnull() & \n",
    "                           tweets_df['user_location'].notnull()]\n",
    "tweets_loconly['user_location'].head(10)"
   ]
  },
  {
   "cell_type": "markdown",
   "metadata": {},
   "source": [
    "Parse `user_location` (again, where `country` is null) for US state abbreviations at the end."
   ]
  },
  {
   "cell_type": "code",
   "execution_count": 40,
   "metadata": {},
   "outputs": [
    {
     "name": "stdout",
     "output_type": "stream",
     "text": [
      "['AL', 'AK', 'AZ', 'AR', 'CA', 'CO', 'CT', 'DE', 'DC', 'FL', 'GA', 'HI', 'ID', 'IL', 'IN', 'IA', 'KS', 'KY', 'LA', 'ME', 'MD', 'MA', 'MI', 'MN', 'MS', 'MO', 'MT', 'NE', 'NV', 'NH', 'NJ', 'NM', 'NY', 'NC', 'ND', 'OH', 'OK', 'OR', 'PA', 'RI', 'SC', 'SD', 'TN', 'TX', 'UT', 'VT', 'VA', 'WA', 'WV', 'WI', 'WY', 'USA']\n"
     ]
    }
   ],
   "source": [
    "# Read in list of US State abbreviations to parse user_location\n",
    "states = pd.read_csv(\"support/states.csv\", names=['states'])\n",
    "statelist = states['states'].tolist()\n",
    "print(statelist)"
   ]
  },
  {
   "cell_type": "code",
   "execution_count": 18,
   "metadata": {},
   "outputs": [],
   "source": [
    "# Filter the rows that have country as null but location as filled for those\n",
    "# that have the last two characters matching a State abbreviation\n",
    "user_states = tweets_loconly[tweets_loconly['user_location'].\\\n",
    "                             str[-2:].isin(statelist)]"
   ]
  },
  {
   "cell_type": "code",
   "execution_count": 19,
   "metadata": {},
   "outputs": [
    {
     "data": {
      "text/plain": [
       "6             Powell, TN\n",
       "28          WASherst, PA\n",
       "82       Chula Vista, CA\n",
       "89        New Castle, IN\n",
       "124             Davie,FL\n",
       "148      Chula Vista, CA\n",
       "189    Olmsted Falls, OH\n",
       "218      Chula Vista, CA\n",
       "260         Lawrence, MA\n",
       "311      Chula Vista, CA\n",
       "Name: user_location, dtype: object"
      ]
     },
     "execution_count": 19,
     "metadata": {},
     "output_type": "execute_result"
    }
   ],
   "source": [
    "user_states['user_location'].head(10)"
   ]
  },
  {
   "cell_type": "markdown",
   "metadata": {},
   "source": [
    "Some `user_location` rows indicate \"USA\" so let's parse for that too."
   ]
  },
  {
   "cell_type": "code",
   "execution_count": 20,
   "metadata": {},
   "outputs": [],
   "source": [
    "# Check if user_location indicates \"USA\" if no state abbreviation at the end\n",
    "user_stateUSA = tweets_loconly[tweets_loconly['user_location'].\\\n",
    "                               str.contains(\"USA\", na=False)]"
   ]
  },
  {
   "cell_type": "code",
   "execution_count": 21,
   "metadata": {},
   "outputs": [
    {
     "data": {
      "text/plain": [
       "14        USA - Land of the FREE!\n",
       "51            #BlueWave USA 🌊🌊🌊🌊🌊\n",
       "83            #BlueWave USA 🌊🌊🌊🌊🌊\n",
       "101                 NorthWest USA\n",
       "102                 NorthWest USA\n",
       "133           #BlueWave USA 🌊🌊🌊🌊🌊\n",
       "170           #BlueWave USA 🌊🌊🌊🌊🌊\n",
       "177           #BlueWave USA 🌊🌊🌊🌊🌊\n",
       "255    USA, the GREATEST Country!\n",
       "274                   Chicago USA\n",
       "Name: user_location, dtype: object"
      ]
     },
     "execution_count": 21,
     "metadata": {},
     "output_type": "execute_result"
    }
   ],
   "source": [
    "user_stateUSA['user_location'].head(10)"
   ]
  },
  {
   "cell_type": "markdown",
   "metadata": {},
   "source": [
    "Show distribution of users across their stated \"USA\" location."
   ]
  },
  {
   "cell_type": "code",
   "execution_count": 22,
   "metadata": {},
   "outputs": [
    {
     "data": {
      "text/plain": [
       "user_location\n",
       "NorthWest USA                            764\n",
       "#BlueWave USA 🌊🌊🌊🌊🌊                      536\n",
       "California USA                           379\n",
       "N.E USA                                  276\n",
       "The South-USA                            223\n",
       "                                        ... \n",
       "Rochester, NH, USA                         1\n",
       "South Standing Rock, USA                   1\n",
       "La Plasha (USA)                            1\n",
       "Free Range, USA - Can't Follow             1\n",
       "420 Beech Ave, Madison, TN 37115, USA      1\n",
       "Name: count, Length: 2118, dtype: int64"
      ]
     },
     "execution_count": 22,
     "metadata": {},
     "output_type": "execute_result"
    }
   ],
   "source": [
    "user_stateUSA['user_location'].value_counts()"
   ]
  },
  {
   "cell_type": "markdown",
   "metadata": {},
   "source": [
    "Check if there are any rows that have `country` set but with null `user_location`."
   ]
  },
  {
   "cell_type": "code",
   "execution_count": 23,
   "metadata": {},
   "outputs": [
    {
     "data": {
      "text/html": [
       "<div>\n",
       "<style scoped>\n",
       "    .dataframe tbody tr th:only-of-type {\n",
       "        vertical-align: middle;\n",
       "    }\n",
       "\n",
       "    .dataframe tbody tr th {\n",
       "        vertical-align: top;\n",
       "    }\n",
       "\n",
       "    .dataframe thead th {\n",
       "        text-align: right;\n",
       "    }\n",
       "</style>\n",
       "<table border=\"1\" class=\"dataframe\">\n",
       "  <thead>\n",
       "    <tr style=\"text-align: right;\">\n",
       "      <th></th>\n",
       "      <th>created_at</th>\n",
       "      <th>tweet_id</th>\n",
       "      <th>tweet</th>\n",
       "      <th>likes</th>\n",
       "      <th>retweet_count</th>\n",
       "      <th>source</th>\n",
       "      <th>user_id</th>\n",
       "      <th>user_name</th>\n",
       "      <th>user_screen_name</th>\n",
       "      <th>user_description</th>\n",
       "      <th>...</th>\n",
       "      <th>user_location</th>\n",
       "      <th>lat</th>\n",
       "      <th>long</th>\n",
       "      <th>city</th>\n",
       "      <th>country</th>\n",
       "      <th>continent</th>\n",
       "      <th>state</th>\n",
       "      <th>state_code</th>\n",
       "      <th>collected_at</th>\n",
       "      <th>candidate</th>\n",
       "    </tr>\n",
       "  </thead>\n",
       "  <tbody>\n",
       "  </tbody>\n",
       "</table>\n",
       "<p>0 rows × 22 columns</p>\n",
       "</div>"
      ],
      "text/plain": [
       "Empty DataFrame\n",
       "Columns: [created_at, tweet_id, tweet, likes, retweet_count, source, user_id, user_name, user_screen_name, user_description, user_join_date, user_followers_count, user_location, lat, long, city, country, continent, state, state_code, collected_at, candidate]\n",
       "Index: []\n",
       "\n",
       "[0 rows x 22 columns]"
      ]
     },
     "execution_count": 23,
     "metadata": {},
     "output_type": "execute_result"
    }
   ],
   "source": [
    "# Check to see where country is available, but no user_location specified\n",
    "tweets_cntryonly = tweets_df[tweets_df['user_location'].isnull() & \n",
    "                             tweets_df['country'].notnull()]\n",
    "tweets_cntryonly.head()"
   ]
  },
  {
   "cell_type": "markdown",
   "metadata": {},
   "source": [
    "Seeing none, now let's combine `tweets_cntryUSA` with other parsed location-only tweets."
   ]
  },
  {
   "cell_type": "code",
   "execution_count": null,
   "metadata": {},
   "outputs": [
    {
     "name": "stdout",
     "output_type": "stream",
     "text": [
      "New size of filtered DF: (435522, 22)\n"
     ]
    }
   ],
   "source": [
    "# Combine DFs with \"US\" country, and those with no country but US locations.\n",
    "user_USAonly = pd.concat([tweets_cntryUSA, user_states, user_stateUSA]) \n",
    "user_USAonly = user_USAonly.reset_index(drop=True)\n",
    "\n",
    "# Make sure to fill null 'country' fields with \"US\"\n",
    "user_USAonly['country'] = user_USAonly['country'].fillna(value=\"US\")\n",
    "print(f\"New size of filtered DF: {user_USAonly.shape}\")"
   ]
  },
  {
   "cell_type": "markdown",
   "metadata": {},
   "source": [
    "Now we have a bit over 435 thousand tweets for our final sentiment dataset which includes users with stated locations in the USA."
   ]
  },
  {
   "cell_type": "code",
   "execution_count": 25,
   "metadata": {},
   "outputs": [
    {
     "data": {
      "text/html": [
       "<div>\n",
       "<style scoped>\n",
       "    .dataframe tbody tr th:only-of-type {\n",
       "        vertical-align: middle;\n",
       "    }\n",
       "\n",
       "    .dataframe tbody tr th {\n",
       "        vertical-align: top;\n",
       "    }\n",
       "\n",
       "    .dataframe thead th {\n",
       "        text-align: right;\n",
       "    }\n",
       "</style>\n",
       "<table border=\"1\" class=\"dataframe\">\n",
       "  <thead>\n",
       "    <tr style=\"text-align: right;\">\n",
       "      <th></th>\n",
       "      <th>created_at</th>\n",
       "      <th>tweet_id</th>\n",
       "      <th>tweet</th>\n",
       "      <th>likes</th>\n",
       "      <th>retweet_count</th>\n",
       "      <th>source</th>\n",
       "      <th>user_id</th>\n",
       "      <th>user_name</th>\n",
       "      <th>user_screen_name</th>\n",
       "      <th>user_description</th>\n",
       "      <th>...</th>\n",
       "      <th>user_location</th>\n",
       "      <th>lat</th>\n",
       "      <th>long</th>\n",
       "      <th>city</th>\n",
       "      <th>country</th>\n",
       "      <th>continent</th>\n",
       "      <th>state</th>\n",
       "      <th>state_code</th>\n",
       "      <th>collected_at</th>\n",
       "      <th>candidate</th>\n",
       "    </tr>\n",
       "  </thead>\n",
       "  <tbody>\n",
       "    <tr>\n",
       "      <th>0</th>\n",
       "      <td>2020-10-15 00:00:01</td>\n",
       "      <td>1.316529e+18</td>\n",
       "      <td>#Elecciones2020 | En #Florida: #JoeBiden dice ...</td>\n",
       "      <td>0.0</td>\n",
       "      <td>0.0</td>\n",
       "      <td>TweetDeck</td>\n",
       "      <td>3.606665e+08</td>\n",
       "      <td>El Sol Latino News</td>\n",
       "      <td>elsollatinonews</td>\n",
       "      <td>🌐 Noticias de interés para latinos de la costa...</td>\n",
       "      <td>...</td>\n",
       "      <td>Philadelphia, PA / Miami, FL</td>\n",
       "      <td>25.774270</td>\n",
       "      <td>-80.193660</td>\n",
       "      <td>NaN</td>\n",
       "      <td>US</td>\n",
       "      <td>North America</td>\n",
       "      <td>Florida</td>\n",
       "      <td>FL</td>\n",
       "      <td>2020-10-21 00:00:00</td>\n",
       "      <td>trump</td>\n",
       "    </tr>\n",
       "    <tr>\n",
       "      <th>1</th>\n",
       "      <td>2020-10-15 00:00:02</td>\n",
       "      <td>1.316529e+18</td>\n",
       "      <td>#Trump: As a student I used to hear for years,...</td>\n",
       "      <td>2.0</td>\n",
       "      <td>1.0</td>\n",
       "      <td>Twitter Web App</td>\n",
       "      <td>8.436472e+06</td>\n",
       "      <td>snarke</td>\n",
       "      <td>snarke</td>\n",
       "      <td>Will mock for food! Freelance writer, blogger,...</td>\n",
       "      <td>...</td>\n",
       "      <td>Portland</td>\n",
       "      <td>45.520247</td>\n",
       "      <td>-122.674195</td>\n",
       "      <td>Portland</td>\n",
       "      <td>US</td>\n",
       "      <td>North America</td>\n",
       "      <td>Oregon</td>\n",
       "      <td>OR</td>\n",
       "      <td>2020-10-21 00:00:00.746433060</td>\n",
       "      <td>trump</td>\n",
       "    </tr>\n",
       "    <tr>\n",
       "      <th>2</th>\n",
       "      <td>2020-10-15 00:00:08</td>\n",
       "      <td>1.316529e+18</td>\n",
       "      <td>You get a tie! And you get a tie! #Trump ‘s ra...</td>\n",
       "      <td>4.0</td>\n",
       "      <td>3.0</td>\n",
       "      <td>Twitter for iPhone</td>\n",
       "      <td>4.741380e+07</td>\n",
       "      <td>Rana Abtar - رنا أبتر</td>\n",
       "      <td>Ranaabtar</td>\n",
       "      <td>Washington Correspondent, Lebanese-American ,c...</td>\n",
       "      <td>...</td>\n",
       "      <td>Washington DC</td>\n",
       "      <td>38.894992</td>\n",
       "      <td>-77.036558</td>\n",
       "      <td>Washington</td>\n",
       "      <td>US</td>\n",
       "      <td>North America</td>\n",
       "      <td>District of Columbia</td>\n",
       "      <td>DC</td>\n",
       "      <td>2020-10-21 00:00:01.492866121</td>\n",
       "      <td>trump</td>\n",
       "    </tr>\n",
       "    <tr>\n",
       "      <th>3</th>\n",
       "      <td>2020-10-15 00:00:17</td>\n",
       "      <td>1.316529e+18</td>\n",
       "      <td>@CLady62 Her 15 minutes were over long time ag...</td>\n",
       "      <td>2.0</td>\n",
       "      <td>0.0</td>\n",
       "      <td>Twitter for Android</td>\n",
       "      <td>1.138416e+09</td>\n",
       "      <td>Farris Flagg</td>\n",
       "      <td>FarrisFlagg</td>\n",
       "      <td>#BidenHarris2020 #JoeBiden2020 #KamalaHarrisFo...</td>\n",
       "      <td>...</td>\n",
       "      <td>Perris,California</td>\n",
       "      <td>33.782519</td>\n",
       "      <td>-117.228648</td>\n",
       "      <td>NaN</td>\n",
       "      <td>US</td>\n",
       "      <td>North America</td>\n",
       "      <td>California</td>\n",
       "      <td>CA</td>\n",
       "      <td>2020-10-21 00:00:01.866082651</td>\n",
       "      <td>trump</td>\n",
       "    </tr>\n",
       "    <tr>\n",
       "      <th>4</th>\n",
       "      <td>2020-10-15 00:00:18</td>\n",
       "      <td>1.316529e+18</td>\n",
       "      <td>@DeeviousDenise @realDonaldTrump @nypost There...</td>\n",
       "      <td>0.0</td>\n",
       "      <td>0.0</td>\n",
       "      <td>Twitter for iPhone</td>\n",
       "      <td>9.007611e+17</td>\n",
       "      <td>Stacey Gulledge 🇺🇸 Patriot ♥️ KAG 🙏 👮‍♀️♥️</td>\n",
       "      <td>sm_gulledge</td>\n",
       "      <td>Patriot, Wife, “Shaken not Stirred” Mom of two...</td>\n",
       "      <td>...</td>\n",
       "      <td>Ohio, USA</td>\n",
       "      <td>40.225357</td>\n",
       "      <td>-82.688140</td>\n",
       "      <td>NaN</td>\n",
       "      <td>US</td>\n",
       "      <td>North America</td>\n",
       "      <td>Ohio</td>\n",
       "      <td>OH</td>\n",
       "      <td>2020-10-21 00:00:02.612515712</td>\n",
       "      <td>trump</td>\n",
       "    </tr>\n",
       "    <tr>\n",
       "      <th>5</th>\n",
       "      <td>2020-10-15 00:00:20</td>\n",
       "      <td>1.316529e+18</td>\n",
       "      <td>One of the single most effective remedies to e...</td>\n",
       "      <td>0.0</td>\n",
       "      <td>0.0</td>\n",
       "      <td>Twitter Web App</td>\n",
       "      <td>5.404769e+08</td>\n",
       "      <td>Jamieo</td>\n",
       "      <td>jamieo33</td>\n",
       "      <td>Don't know what I am. Can lean left and right,...</td>\n",
       "      <td>...</td>\n",
       "      <td>Pennsylvania, USA</td>\n",
       "      <td>40.969989</td>\n",
       "      <td>-77.727883</td>\n",
       "      <td>NaN</td>\n",
       "      <td>US</td>\n",
       "      <td>North America</td>\n",
       "      <td>Pennsylvania</td>\n",
       "      <td>PA</td>\n",
       "      <td>2020-10-21 00:00:02.985732243</td>\n",
       "      <td>trump</td>\n",
       "    </tr>\n",
       "    <tr>\n",
       "      <th>6</th>\n",
       "      <td>2020-10-15 00:00:25</td>\n",
       "      <td>1.316529e+18</td>\n",
       "      <td>In 2020, #NYPost is being #censorship #CENSORE...</td>\n",
       "      <td>0.0</td>\n",
       "      <td>0.0</td>\n",
       "      <td>Twitter for iPhone</td>\n",
       "      <td>1.994033e+07</td>\n",
       "      <td>Change Illinois | Biden will increase taxes by...</td>\n",
       "      <td>changeillinois</td>\n",
       "      <td>Illinois, home of Lincoln and Reagan, used to ...</td>\n",
       "      <td>...</td>\n",
       "      <td>Chicago, Illinois</td>\n",
       "      <td>41.875562</td>\n",
       "      <td>-87.624421</td>\n",
       "      <td>Chicago</td>\n",
       "      <td>US</td>\n",
       "      <td>North America</td>\n",
       "      <td>Illinois</td>\n",
       "      <td>IL</td>\n",
       "      <td>2020-10-21 00:00:04.105381834</td>\n",
       "      <td>trump</td>\n",
       "    </tr>\n",
       "    <tr>\n",
       "      <th>7</th>\n",
       "      <td>2020-10-15 00:00:26</td>\n",
       "      <td>1.316529e+18</td>\n",
       "      <td>#Trump #PresidentTrump #Trump2020LandslideVict...</td>\n",
       "      <td>3.0</td>\n",
       "      <td>5.0</td>\n",
       "      <td>Twitter for Android</td>\n",
       "      <td>1.243315e+18</td>\n",
       "      <td>Ron Burgundy</td>\n",
       "      <td>Anchorman_USA</td>\n",
       "      <td>I'm kind of a Big Deal, People know me! I driv...</td>\n",
       "      <td>...</td>\n",
       "      <td>San Diego, CA</td>\n",
       "      <td>32.717421</td>\n",
       "      <td>-117.162771</td>\n",
       "      <td>San Diego</td>\n",
       "      <td>US</td>\n",
       "      <td>North America</td>\n",
       "      <td>California</td>\n",
       "      <td>CA</td>\n",
       "      <td>2020-10-21 00:00:04.478598364</td>\n",
       "      <td>trump</td>\n",
       "    </tr>\n",
       "    <tr>\n",
       "      <th>8</th>\n",
       "      <td>2020-10-15 00:01:08</td>\n",
       "      <td>1.316530e+18</td>\n",
       "      <td>@cnnbrk #Trump owes #RicardoAguirre $730,000 t...</td>\n",
       "      <td>3.0</td>\n",
       "      <td>2.0</td>\n",
       "      <td>Twitter for iPhone</td>\n",
       "      <td>1.946504e+08</td>\n",
       "      <td>MoClarker</td>\n",
       "      <td>MoClarker</td>\n",
       "      <td>Media Maven/Scientist/Fan O Fauci</td>\n",
       "      <td>...</td>\n",
       "      <td>Santa Monica Beach</td>\n",
       "      <td>47.005211</td>\n",
       "      <td>-88.962910</td>\n",
       "      <td>NaN</td>\n",
       "      <td>US</td>\n",
       "      <td>North America</td>\n",
       "      <td>Michigan</td>\n",
       "      <td>MI</td>\n",
       "      <td>2020-10-21 00:00:07.091114077</td>\n",
       "      <td>trump</td>\n",
       "    </tr>\n",
       "    <tr>\n",
       "      <th>9</th>\n",
       "      <td>2020-10-15 00:01:10</td>\n",
       "      <td>1.316530e+18</td>\n",
       "      <td>#Democrats have spent more #tax #payer #paid #...</td>\n",
       "      <td>0.0</td>\n",
       "      <td>0.0</td>\n",
       "      <td>Twitter Web App</td>\n",
       "      <td>3.773871e+07</td>\n",
       "      <td>E Turner</td>\n",
       "      <td>Webinfotech</td>\n",
       "      <td>Christian Veteran - My Oath to my Country, Fla...</td>\n",
       "      <td>...</td>\n",
       "      <td>United States</td>\n",
       "      <td>39.783730</td>\n",
       "      <td>-100.445882</td>\n",
       "      <td>NaN</td>\n",
       "      <td>US</td>\n",
       "      <td>North America</td>\n",
       "      <td>NaN</td>\n",
       "      <td>NaN</td>\n",
       "      <td>2020-10-21 00:00:07.837547138</td>\n",
       "      <td>trump</td>\n",
       "    </tr>\n",
       "  </tbody>\n",
       "</table>\n",
       "<p>10 rows × 22 columns</p>\n",
       "</div>"
      ],
      "text/plain": [
       "            created_at      tweet_id  \\\n",
       "0  2020-10-15 00:00:01  1.316529e+18   \n",
       "1  2020-10-15 00:00:02  1.316529e+18   \n",
       "2  2020-10-15 00:00:08  1.316529e+18   \n",
       "3  2020-10-15 00:00:17  1.316529e+18   \n",
       "4  2020-10-15 00:00:18  1.316529e+18   \n",
       "5  2020-10-15 00:00:20  1.316529e+18   \n",
       "6  2020-10-15 00:00:25  1.316529e+18   \n",
       "7  2020-10-15 00:00:26  1.316529e+18   \n",
       "8  2020-10-15 00:01:08  1.316530e+18   \n",
       "9  2020-10-15 00:01:10  1.316530e+18   \n",
       "\n",
       "                                               tweet  likes  retweet_count  \\\n",
       "0  #Elecciones2020 | En #Florida: #JoeBiden dice ...    0.0            0.0   \n",
       "1  #Trump: As a student I used to hear for years,...    2.0            1.0   \n",
       "2  You get a tie! And you get a tie! #Trump ‘s ra...    4.0            3.0   \n",
       "3  @CLady62 Her 15 minutes were over long time ag...    2.0            0.0   \n",
       "4  @DeeviousDenise @realDonaldTrump @nypost There...    0.0            0.0   \n",
       "5  One of the single most effective remedies to e...    0.0            0.0   \n",
       "6  In 2020, #NYPost is being #censorship #CENSORE...    0.0            0.0   \n",
       "7  #Trump #PresidentTrump #Trump2020LandslideVict...    3.0            5.0   \n",
       "8  @cnnbrk #Trump owes #RicardoAguirre $730,000 t...    3.0            2.0   \n",
       "9  #Democrats have spent more #tax #payer #paid #...    0.0            0.0   \n",
       "\n",
       "                source       user_id  \\\n",
       "0            TweetDeck  3.606665e+08   \n",
       "1      Twitter Web App  8.436472e+06   \n",
       "2   Twitter for iPhone  4.741380e+07   \n",
       "3  Twitter for Android  1.138416e+09   \n",
       "4   Twitter for iPhone  9.007611e+17   \n",
       "5      Twitter Web App  5.404769e+08   \n",
       "6   Twitter for iPhone  1.994033e+07   \n",
       "7  Twitter for Android  1.243315e+18   \n",
       "8   Twitter for iPhone  1.946504e+08   \n",
       "9      Twitter Web App  3.773871e+07   \n",
       "\n",
       "                                           user_name user_screen_name  \\\n",
       "0                                 El Sol Latino News  elsollatinonews   \n",
       "1                                             snarke           snarke   \n",
       "2                              Rana Abtar - رنا أبتر        Ranaabtar   \n",
       "3                                       Farris Flagg      FarrisFlagg   \n",
       "4         Stacey Gulledge 🇺🇸 Patriot ♥️ KAG 🙏 👮‍♀️♥️      sm_gulledge   \n",
       "5                                             Jamieo         jamieo33   \n",
       "6  Change Illinois | Biden will increase taxes by...   changeillinois   \n",
       "7                                       Ron Burgundy    Anchorman_USA   \n",
       "8                                          MoClarker        MoClarker   \n",
       "9                                           E Turner      Webinfotech   \n",
       "\n",
       "                                    user_description  ...  \\\n",
       "0  🌐 Noticias de interés para latinos de la costa...  ...   \n",
       "1  Will mock for food! Freelance writer, blogger,...  ...   \n",
       "2  Washington Correspondent, Lebanese-American ,c...  ...   \n",
       "3  #BidenHarris2020 #JoeBiden2020 #KamalaHarrisFo...  ...   \n",
       "4  Patriot, Wife, “Shaken not Stirred” Mom of two...  ...   \n",
       "5  Don't know what I am. Can lean left and right,...  ...   \n",
       "6  Illinois, home of Lincoln and Reagan, used to ...  ...   \n",
       "7  I'm kind of a Big Deal, People know me! I driv...  ...   \n",
       "8                  Media Maven/Scientist/Fan O Fauci  ...   \n",
       "9  Christian Veteran - My Oath to my Country, Fla...  ...   \n",
       "\n",
       "                  user_location        lat        long        city  country  \\\n",
       "0  Philadelphia, PA / Miami, FL  25.774270  -80.193660         NaN       US   \n",
       "1                      Portland  45.520247 -122.674195    Portland       US   \n",
       "2                 Washington DC  38.894992  -77.036558  Washington       US   \n",
       "3             Perris,California  33.782519 -117.228648         NaN       US   \n",
       "4                     Ohio, USA  40.225357  -82.688140         NaN       US   \n",
       "5             Pennsylvania, USA  40.969989  -77.727883         NaN       US   \n",
       "6             Chicago, Illinois  41.875562  -87.624421     Chicago       US   \n",
       "7                 San Diego, CA  32.717421 -117.162771   San Diego       US   \n",
       "8            Santa Monica Beach  47.005211  -88.962910         NaN       US   \n",
       "9                 United States  39.783730 -100.445882         NaN       US   \n",
       "\n",
       "       continent                 state state_code  \\\n",
       "0  North America               Florida         FL   \n",
       "1  North America                Oregon         OR   \n",
       "2  North America  District of Columbia         DC   \n",
       "3  North America            California         CA   \n",
       "4  North America                  Ohio         OH   \n",
       "5  North America          Pennsylvania         PA   \n",
       "6  North America              Illinois         IL   \n",
       "7  North America            California         CA   \n",
       "8  North America              Michigan         MI   \n",
       "9  North America                   NaN        NaN   \n",
       "\n",
       "                    collected_at candidate  \n",
       "0            2020-10-21 00:00:00     trump  \n",
       "1  2020-10-21 00:00:00.746433060     trump  \n",
       "2  2020-10-21 00:00:01.492866121     trump  \n",
       "3  2020-10-21 00:00:01.866082651     trump  \n",
       "4  2020-10-21 00:00:02.612515712     trump  \n",
       "5  2020-10-21 00:00:02.985732243     trump  \n",
       "6  2020-10-21 00:00:04.105381834     trump  \n",
       "7  2020-10-21 00:00:04.478598364     trump  \n",
       "8  2020-10-21 00:00:07.091114077     trump  \n",
       "9  2020-10-21 00:00:07.837547138     trump  \n",
       "\n",
       "[10 rows x 22 columns]"
      ]
     },
     "execution_count": 25,
     "metadata": {},
     "output_type": "execute_result"
    }
   ],
   "source": [
    "user_USAonly.head(10)"
   ]
  },
  {
   "cell_type": "markdown",
   "metadata": {},
   "source": [
    "---\n",
    "#### Visualizing input data\n",
    "\n",
    "Let's take a quick look the top users by tweet count, of which some do not appear to be particular individuals, but do contribute to sentiment."
   ]
  },
  {
   "cell_type": "code",
   "execution_count": 26,
   "metadata": {},
   "outputs": [
    {
     "data": {
      "text/plain": [
       "user_screen_name\n",
       "Hotpage_News       1843\n",
       "steveziegenbus2    1259\n",
       "JournalistJG       1082\n",
       "mcleod              980\n",
       "THCPetDoctor        913\n",
       "                   ... \n",
       "KahanYankee           1\n",
       "RonaldStanleyJr       1\n",
       "dmariemart            1\n",
       "DeplorableMan21       1\n",
       "riotrantrave          1\n",
       "Name: count, Length: 98928, dtype: int64"
      ]
     },
     "execution_count": 26,
     "metadata": {},
     "output_type": "execute_result"
    }
   ],
   "source": [
    "# Find counts of unique users where `country` is \"USA\"\\\n",
    "user_USAonly[\"user_screen_name\"].value_counts(sort=True)"
   ]
  },
  {
   "cell_type": "code",
   "execution_count": 27,
   "metadata": {},
   "outputs": [],
   "source": [
    "# Top10 users by tweet count\n",
    "top10users = user_USAonly.groupby('user_screen_name')['tweet'].count().sort_values(ascending=False).reset_index().head(10) \n",
    "\n",
    "# Interactive bar chart \n",
    "top10_bar = px.bar(top10users, x='user_screen_name', y='tweet', \n",
    "                   template='plotly_dark', \n",
    "                   color_discrete_sequence=px.colors.qualitative.G10_r, \n",
    "                   title='Top 10 Users by Tweet Count') \n",
    "\n",
    "# To view the graph \n",
    "# top10_bar.show()\n",
    "# Plotly charts don't show up in Github so generating image instead\n",
    "top10_bar.write_image('top10users.png')"
   ]
  },
  {
   "cell_type": "markdown",
   "metadata": {},
   "source": [
    "![Top 10 Users By Tweet Count](top10users.png)"
   ]
  },
  {
   "cell_type": "markdown",
   "metadata": {},
   "source": [
    "Show the count of tweets by candidate"
   ]
  },
  {
   "cell_type": "code",
   "execution_count": 28,
   "metadata": {},
   "outputs": [],
   "source": [
    "# Tweet count by candidate\n",
    "tweets_candidate = user_USAonly.groupby('candidate')['tweet'].count().\\\n",
    "    sort_values(ascending=False).reset_index().head(10) \n",
    "\n",
    "# Interactive bar chart \n",
    "tweet_bar = px.bar(tweets_candidate, x='candidate', y='tweet', \n",
    "                   template='plotly_dark', \n",
    "                   color_discrete_sequence=px.colors.qualitative.Dark24_r, \n",
    "                   title='Tweet counts in the USA for Trump and Biden') \n",
    "\n",
    "# To view the graph \n",
    "# tweet_bar.show()\n",
    "# Plotly charts don't show up in Github so generating image instead\n",
    "tweet_bar.write_image('tweetcount.png')\n"
   ]
  },
  {
   "cell_type": "markdown",
   "metadata": {},
   "source": [
    "![Tweet Count by Candidate](tweetcount.png)"
   ]
  },
  {
   "cell_type": "markdown",
   "metadata": {},
   "source": [
    "---\n",
    "### Sentiment Analysis"
   ]
  },
  {
   "cell_type": "markdown",
   "metadata": {},
   "source": [
    "#### Hugging Face: Using roBERTa Twitter Sentiment Analysis Library"
   ]
  },
  {
   "cell_type": "code",
   "execution_count": null,
   "metadata": {},
   "outputs": [
    {
     "name": "stderr",
     "output_type": "stream",
     "text": [
      "Some weights of the model checkpoint at cardiffnlp/twitter-roberta-base-sentiment-latest were not used when initializing RobertaForSequenceClassification: ['roberta.pooler.dense.bias', 'roberta.pooler.dense.weight']\n",
      "- This IS expected if you are initializing RobertaForSequenceClassification from the checkpoint of a model trained on another task or with another architecture (e.g. initializing a BertForSequenceClassification model from a BertForPreTraining model).\n",
      "- This IS NOT expected if you are initializing RobertaForSequenceClassification from the checkpoint of a model that you expect to be exactly identical (initializing a BertForSequenceClassification model from a BertForSequenceClassification model).\n",
      "Device set to use cuda:0\n"
     ]
    }
   ],
   "source": [
    "# Initialize model for Twitter-specific sentiment analysis\n",
    "sentiment_model = pipeline(\n",
    "    \"sentiment-analysis\",\n",
    "    model=\"cardiffnlp/twitter-roberta-base-sentiment-latest\",\n",
    "    tokenizer=\"cardiffnlp/twitter-roberta-base-sentiment-latest\",\n",
    "    device=0,             # GPU enabled\n",
    "    truncation=True,      # Automatically truncates to max allowed tokens\n",
    "    max_length=512        # Defaults to model's max tokens per tweet  \n",
    ")"
   ]
  },
  {
   "cell_type": "markdown",
   "metadata": {},
   "source": [
    "Perform simple sentiment test"
   ]
  },
  {
   "cell_type": "code",
   "execution_count": 51,
   "metadata": {},
   "outputs": [
    {
     "name": "stdout",
     "output_type": "stream",
     "text": [
      "[{'label': 'positive', 'score': 0.9870997071266174}]\n"
     ]
    }
   ],
   "source": [
    "# Example tweet\n",
    "tweet = \"I love using Hugging Face! 😍 #AI #Python\"\n",
    "\n",
    "result = sentiment_model(tweet)\n",
    "\n",
    "print(result)"
   ]
  },
  {
   "cell_type": "markdown",
   "metadata": {},
   "source": [
    "Test small-scale performance of serial-based analysis"
   ]
  },
  {
   "cell_type": "code",
   "execution_count": null,
   "metadata": {},
   "outputs": [
    {
     "name": "stderr",
     "output_type": "stream",
     "text": [
      "Some weights of the model checkpoint at cardiffnlp/twitter-roberta-base-sentiment-latest were not used when initializing RobertaForSequenceClassification: ['roberta.pooler.dense.bias', 'roberta.pooler.dense.weight']\n",
      "- This IS expected if you are initializing RobertaForSequenceClassification from the checkpoint of a model trained on another task or with another architecture (e.g. initializing a BertForSequenceClassification model from a BertForPreTraining model).\n",
      "- This IS NOT expected if you are initializing RobertaForSequenceClassification from the checkpoint of a model that you expect to be exactly identical (initializing a BertForSequenceClassification model from a BertForSequenceClassification model).\n",
      "Device set to use cuda:0\n",
      "100%|██████████| 32/32 [00:08<00:00,  3.65it/s]"
     ]
    },
    {
     "name": "stdout",
     "output_type": "stream",
     "text": [
      "Successfully processed with batch_size: 32\n"
     ]
    },
    {
     "name": "stderr",
     "output_type": "stream",
     "text": [
      "\n"
     ]
    }
   ],
   "source": [
    "# Sample dataframe\n",
    "df = pd.DataFrame({'tweet': [\"Tweet example\"] * 1000})\n",
    "\n",
    "sentiment_model = pipeline(\n",
    "    \"sentiment-analysis\",\n",
    "    model=\"cardiffnlp/twitter-roberta-base-sentiment-latest\",\n",
    "    device=0\n",
    ")\n",
    "\n",
    "tweets = df['tweet'].tolist()\n",
    "\n",
    "# Start from a safe batch size\n",
    "batch_size = 32  \n",
    "\n",
    "results = []\n",
    "try:\n",
    "    for i in tqdm(range(0, len(tweets), batch_size)):\n",
    "        batch = tweets[i:i + batch_size]\n",
    "        results.extend(sentiment_model(batch))\n",
    "except RuntimeError as e:\n",
    "    print(e)\n",
    "    print(\"Try lowering the batch_size.\")\n",
    "\n",
    "print(\"Successfully processed with batch_size:\", batch_size)"
   ]
  },
  {
   "cell_type": "markdown",
   "metadata": {},
   "source": [
    "The roBERTa module recommends converting our larger DataFrame directly to a Hugging Face Dataset for more efficient and native batch processing."
   ]
  },
  {
   "cell_type": "code",
   "execution_count": 92,
   "metadata": {},
   "outputs": [],
   "source": [
    "# Convert pandas DataFrame into Hugging Face Dataset\n",
    "tweetUSA_dataset = Dataset.from_pandas(user_USAonly)"
   ]
  },
  {
   "cell_type": "code",
   "execution_count": 54,
   "metadata": {},
   "outputs": [],
   "source": [
    "# Using batches is more efficient\n",
    "def analyze_sentiment(batch):\n",
    "    results = sentiment_model(batch[\"tweet\"])\n",
    "    return {\n",
    "        \"sentiment\": [res[\"label\"] for res in results],\n",
    "        \"sentiment_score\": [res[\"score\"] for res in results]\n",
    "    }"
   ]
  },
  {
   "cell_type": "code",
   "execution_count": 95,
   "metadata": {},
   "outputs": [
    {
     "data": {
      "application/vnd.jupyter.widget-view+json": {
       "model_id": "70763463d92b4eb4ba0c3bb4ee667adb",
       "version_major": 2,
       "version_minor": 0
      },
      "text/plain": [
       "Map:   0%|          | 0/435519 [00:00<?, ? examples/s]"
      ]
     },
     "metadata": {},
     "output_type": "display_data"
    }
   ],
   "source": [
    "# GPU-efficient batch inference (optimized by datasets)\n",
    "result_dataset = tweetUSA_dataset.map(\n",
    "    analyze_sentiment,\n",
    "    batched=True,\n",
    "    batch_size=32,  # adjust based on GPU memory\n",
    "    )\n",
    "\n"
   ]
  },
  {
   "cell_type": "markdown",
   "metadata": {},
   "source": [
    "Some tweets generate more than the maximum number of tokens for the model this causes errors downstream. This is a tiny subset of all tweets and we will find them and delete them from our dataset."
   ]
  },
  {
   "cell_type": "code",
   "execution_count": null,
   "metadata": {},
   "outputs": [
    {
     "name": "stderr",
     "output_type": "stream",
     "text": [
      " 23%|██▎       | 98436/435519 [00:46<02:28, 2267.92it/s]"
     ]
    },
    {
     "name": "stdout",
     "output_type": "stream",
     "text": [
      "Tweet token length: 508 at row 98194\n"
     ]
    },
    {
     "name": "stderr",
     "output_type": "stream",
     "text": [
      "100%|██████████| 435519/435519 [04:39<00:00, 1557.91it/s]\n"
     ]
    }
   ],
   "source": [
    "# Check for rows with tweets that exceed maximum tokens\n",
    "from transformers import AutoTokenizer\n",
    "\n",
    "tokenizer = AutoTokenizer.from_pretrained(\"cardiffnlp/twitter-roberta-base-sentiment-latest\")\n",
    "\n",
    "for i in tqdm(range(len(tweetUSA_dataset))):\n",
    "    tweet_text = tweetUSA_dataset[i]['tweet']\n",
    "    tokens = tokenizer(tweet_text)['input_ids']\n",
    "    if len(tokens) > 512:\n",
    "        print(f\"Tweet token length: {len(tokens)} at row {i}\")\n",
    "\n"
   ]
  },
  {
   "cell_type": "code",
   "execution_count": null,
   "metadata": {},
   "outputs": [],
   "source": [
    "# Convert back to pandas DataFrame for data analysis\n",
    "tweetUSA_sentiments = result_dataset.to_pandas()"
   ]
  },
  {
   "cell_type": "code",
   "execution_count": null,
   "metadata": {},
   "outputs": [
    {
     "data": {
      "text/html": [
       "<div>\n",
       "<style scoped>\n",
       "    .dataframe tbody tr th:only-of-type {\n",
       "        vertical-align: middle;\n",
       "    }\n",
       "\n",
       "    .dataframe tbody tr th {\n",
       "        vertical-align: top;\n",
       "    }\n",
       "\n",
       "    .dataframe thead th {\n",
       "        text-align: right;\n",
       "    }\n",
       "</style>\n",
       "<table border=\"1\" class=\"dataframe\">\n",
       "  <thead>\n",
       "    <tr style=\"text-align: right;\">\n",
       "      <th></th>\n",
       "      <th>created_at</th>\n",
       "      <th>tweet_id</th>\n",
       "      <th>tweet</th>\n",
       "      <th>likes</th>\n",
       "      <th>retweet_count</th>\n",
       "      <th>source</th>\n",
       "      <th>user_id</th>\n",
       "      <th>user_name</th>\n",
       "      <th>user_screen_name</th>\n",
       "      <th>user_description</th>\n",
       "      <th>...</th>\n",
       "      <th>city</th>\n",
       "      <th>country</th>\n",
       "      <th>continent</th>\n",
       "      <th>state</th>\n",
       "      <th>state_code</th>\n",
       "      <th>collected_at</th>\n",
       "      <th>candidate</th>\n",
       "      <th>__index_level_0__</th>\n",
       "      <th>sentiment</th>\n",
       "      <th>sentiment_score</th>\n",
       "    </tr>\n",
       "  </thead>\n",
       "  <tbody>\n",
       "    <tr>\n",
       "      <th>292876</th>\n",
       "      <td>2020-10-28 20:39:22</td>\n",
       "      <td>1.321552e+18</td>\n",
       "      <td>#BidenHarris2020 \\n\\nHow much can you ignore?!...</td>\n",
       "      <td>0.0</td>\n",
       "      <td>0.0</td>\n",
       "      <td>Twitter Web App</td>\n",
       "      <td>2.302227e+09</td>\n",
       "      <td>Usecommon Sentz</td>\n",
       "      <td>UsecommonSentz</td>\n",
       "      <td>Let us all Get out and Vote for Donald Trump. ...</td>\n",
       "      <td>...</td>\n",
       "      <td>None</td>\n",
       "      <td>US</td>\n",
       "      <td>North America</td>\n",
       "      <td>None</td>\n",
       "      <td>None</td>\n",
       "      <td>2020-10-29 16:07:39.574311</td>\n",
       "      <td>biden</td>\n",
       "      <td>292876</td>\n",
       "      <td>negative</td>\n",
       "      <td>0.753885</td>\n",
       "    </tr>\n",
       "    <tr>\n",
       "      <th>219610</th>\n",
       "      <td>2020-10-16 01:15:12</td>\n",
       "      <td>1.316911e+18</td>\n",
       "      <td>#JoeBiden might be a dumbass, he just said Tru...</td>\n",
       "      <td>0.0</td>\n",
       "      <td>0.0</td>\n",
       "      <td>Twitter for iPhone</td>\n",
       "      <td>1.311774e+18</td>\n",
       "      <td>Conashenegger</td>\n",
       "      <td>Conashenegger</td>\n",
       "      <td>Fed up with liberal b.s., so, I ride my bike s...</td>\n",
       "      <td>...</td>\n",
       "      <td>Fort Worth</td>\n",
       "      <td>US</td>\n",
       "      <td>North America</td>\n",
       "      <td>Texas</td>\n",
       "      <td>TX</td>\n",
       "      <td>2020-10-21 02:32:02.563245050</td>\n",
       "      <td>biden</td>\n",
       "      <td>219610</td>\n",
       "      <td>negative</td>\n",
       "      <td>0.851049</td>\n",
       "    </tr>\n",
       "    <tr>\n",
       "      <th>179500</th>\n",
       "      <td>2020-11-06 03:30:50</td>\n",
       "      <td>1.324555e+18</td>\n",
       "      <td>Cooking - OT: Karen Trump https://t.co/fNkHIpt...</td>\n",
       "      <td>1.0</td>\n",
       "      <td>0.0</td>\n",
       "      <td>Twitter Web App</td>\n",
       "      <td>5.069903e+07</td>\n",
       "      <td>JLA FORUMS</td>\n",
       "      <td>JLAFORUMS</td>\n",
       "      <td>JLA FORUMS - Tweets by the JLA Admin, Developm...</td>\n",
       "      <td>...</td>\n",
       "      <td>None</td>\n",
       "      <td>US</td>\n",
       "      <td>North America</td>\n",
       "      <td>None</td>\n",
       "      <td>None</td>\n",
       "      <td>2020-11-07 11:21:29.354208</td>\n",
       "      <td>trump</td>\n",
       "      <td>179500</td>\n",
       "      <td>neutral</td>\n",
       "      <td>0.904458</td>\n",
       "    </tr>\n",
       "    <tr>\n",
       "      <th>102974</th>\n",
       "      <td>2020-10-29 15:18:02</td>\n",
       "      <td>1.321834e+18</td>\n",
       "      <td>#JustAThought...seems to be some rumors circul...</td>\n",
       "      <td>6.0</td>\n",
       "      <td>1.0</td>\n",
       "      <td>Twitter Web App</td>\n",
       "      <td>7.994068e+08</td>\n",
       "      <td>John Michaels</td>\n",
       "      <td>TonerBuyer</td>\n",
       "      <td>World news sprinkled with sharp sarcastic comm...</td>\n",
       "      <td>...</td>\n",
       "      <td>Denver</td>\n",
       "      <td>US</td>\n",
       "      <td>North America</td>\n",
       "      <td>Colorado</td>\n",
       "      <td>CO</td>\n",
       "      <td>2020-10-30 14:49:12.531731</td>\n",
       "      <td>trump</td>\n",
       "      <td>102974</td>\n",
       "      <td>negative</td>\n",
       "      <td>0.803283</td>\n",
       "    </tr>\n",
       "    <tr>\n",
       "      <th>77473</th>\n",
       "      <td>2020-10-25 22:34:10</td>\n",
       "      <td>1.320494e+18</td>\n",
       "      <td>@realDonaldTrump Bruce Springsteen Calls #trum...</td>\n",
       "      <td>0.0</td>\n",
       "      <td>0.0</td>\n",
       "      <td>Twitter for Android</td>\n",
       "      <td>1.152075e+18</td>\n",
       "      <td>🇺🇸 Sara_Sala 🤙</td>\n",
       "      <td>Sara702Sala</td>\n",
       "      <td>Small town 🌊 tenacity, learning in a sin city ...</td>\n",
       "      <td>...</td>\n",
       "      <td>Las Vegas</td>\n",
       "      <td>US</td>\n",
       "      <td>North America</td>\n",
       "      <td>Nevada</td>\n",
       "      <td>NV</td>\n",
       "      <td>2020-10-27 17:38:44.272667</td>\n",
       "      <td>trump</td>\n",
       "      <td>77473</td>\n",
       "      <td>neutral</td>\n",
       "      <td>0.520242</td>\n",
       "    </tr>\n",
       "    <tr>\n",
       "      <th>428574</th>\n",
       "      <td>2020-11-06 11:35:41</td>\n",
       "      <td>1.324677e+18</td>\n",
       "      <td>Escucho a analistas de CNN seguros de que #Bid...</td>\n",
       "      <td>0.0</td>\n",
       "      <td>0.0</td>\n",
       "      <td>Twitter for iPhone</td>\n",
       "      <td>2.428775e+08</td>\n",
       "      <td>Belén Chiloeches</td>\n",
       "      <td>belenchilo</td>\n",
       "      <td>Madre. Periodista, former CNN correspondent. A...</td>\n",
       "      <td>...</td>\n",
       "      <td>None</td>\n",
       "      <td>US</td>\n",
       "      <td>None</td>\n",
       "      <td>None</td>\n",
       "      <td>None</td>\n",
       "      <td>2020-11-07 11:30:24.560582</td>\n",
       "      <td>trump</td>\n",
       "      <td>428577</td>\n",
       "      <td>neutral</td>\n",
       "      <td>0.875209</td>\n",
       "    </tr>\n",
       "    <tr>\n",
       "      <th>163648</th>\n",
       "      <td>2020-11-04 22:34:09</td>\n",
       "      <td>1.324118e+18</td>\n",
       "      <td>@realDonaldTrump Should pass the stimulus \\nSe...</td>\n",
       "      <td>0.0</td>\n",
       "      <td>0.0</td>\n",
       "      <td>Twitter Web App</td>\n",
       "      <td>1.873515e+08</td>\n",
       "      <td>Illmakeit</td>\n",
       "      <td>bxlife</td>\n",
       "      <td>Born and raised in Da https://t.co/u64iY0wnC4 ...</td>\n",
       "      <td>...</td>\n",
       "      <td>New York</td>\n",
       "      <td>US</td>\n",
       "      <td>North America</td>\n",
       "      <td>New York</td>\n",
       "      <td>NY</td>\n",
       "      <td>2020-11-05 12:00:10.511461</td>\n",
       "      <td>trump</td>\n",
       "      <td>163648</td>\n",
       "      <td>negative</td>\n",
       "      <td>0.844531</td>\n",
       "    </tr>\n",
       "    <tr>\n",
       "      <th>420505</th>\n",
       "      <td>2020-11-07 18:04:06</td>\n",
       "      <td>1.325137e+18</td>\n",
       "      <td>#Biden https://t.co/SibnlDc9nj</td>\n",
       "      <td>0.0</td>\n",
       "      <td>0.0</td>\n",
       "      <td>Twitter Web App</td>\n",
       "      <td>2.796239e+08</td>\n",
       "      <td>time blind</td>\n",
       "      <td>PlayingDevilish</td>\n",
       "      <td>Um twitter sobre lol, nude, biologia e choro. ...</td>\n",
       "      <td>...</td>\n",
       "      <td>None</td>\n",
       "      <td>US</td>\n",
       "      <td>None</td>\n",
       "      <td>None</td>\n",
       "      <td>None</td>\n",
       "      <td>2020-11-08 11:29:43.827835</td>\n",
       "      <td>biden</td>\n",
       "      <td>420508</td>\n",
       "      <td>neutral</td>\n",
       "      <td>0.832932</td>\n",
       "    </tr>\n",
       "    <tr>\n",
       "      <th>54056</th>\n",
       "      <td>2020-10-23 01:46:23</td>\n",
       "      <td>1.319455e+18</td>\n",
       "      <td>#trump we got to move on  #Debates2020</td>\n",
       "      <td>0.0</td>\n",
       "      <td>0.0</td>\n",
       "      <td>Twitter for iPhone</td>\n",
       "      <td>2.866802e+07</td>\n",
       "      <td>LaLa'sWorld™</td>\n",
       "      <td>LaLaZannell</td>\n",
       "      <td>♋️ Goddess, Bookings: LaLa.B.Zannell@gmail.com...</td>\n",
       "      <td>...</td>\n",
       "      <td>New York</td>\n",
       "      <td>US</td>\n",
       "      <td>North America</td>\n",
       "      <td>New York</td>\n",
       "      <td>NY</td>\n",
       "      <td>2020-10-27 17:52:12.028366</td>\n",
       "      <td>trump</td>\n",
       "      <td>54056</td>\n",
       "      <td>neutral</td>\n",
       "      <td>0.472596</td>\n",
       "    </tr>\n",
       "    <tr>\n",
       "      <th>394837</th>\n",
       "      <td>2020-10-16 04:22:12</td>\n",
       "      <td>1.316958e+18</td>\n",
       "      <td>What an A-hole! @realDonaldTrump #Trump admini...</td>\n",
       "      <td>0.0</td>\n",
       "      <td>0.0</td>\n",
       "      <td>Twitter for iPhone</td>\n",
       "      <td>2.497246e+07</td>\n",
       "      <td>Jolina Mitchell</td>\n",
       "      <td>jolinastar</td>\n",
       "      <td>Progressive #Climate Activist #CleanEnergy #Ba...</td>\n",
       "      <td>...</td>\n",
       "      <td>None</td>\n",
       "      <td>US</td>\n",
       "      <td>None</td>\n",
       "      <td>None</td>\n",
       "      <td>None</td>\n",
       "      <td>2020-10-21 02:39:04.639547993</td>\n",
       "      <td>trump</td>\n",
       "      <td>394840</td>\n",
       "      <td>negative</td>\n",
       "      <td>0.919246</td>\n",
       "    </tr>\n",
       "  </tbody>\n",
       "</table>\n",
       "<p>10 rows × 25 columns</p>\n",
       "</div>"
      ],
      "text/plain": [
       "                 created_at      tweet_id  \\\n",
       "292876  2020-10-28 20:39:22  1.321552e+18   \n",
       "219610  2020-10-16 01:15:12  1.316911e+18   \n",
       "179500  2020-11-06 03:30:50  1.324555e+18   \n",
       "102974  2020-10-29 15:18:02  1.321834e+18   \n",
       "77473   2020-10-25 22:34:10  1.320494e+18   \n",
       "428574  2020-11-06 11:35:41  1.324677e+18   \n",
       "163648  2020-11-04 22:34:09  1.324118e+18   \n",
       "420505  2020-11-07 18:04:06  1.325137e+18   \n",
       "54056   2020-10-23 01:46:23  1.319455e+18   \n",
       "394837  2020-10-16 04:22:12  1.316958e+18   \n",
       "\n",
       "                                                    tweet  likes  \\\n",
       "292876  #BidenHarris2020 \\n\\nHow much can you ignore?!...    0.0   \n",
       "219610  #JoeBiden might be a dumbass, he just said Tru...    0.0   \n",
       "179500  Cooking - OT: Karen Trump https://t.co/fNkHIpt...    1.0   \n",
       "102974  #JustAThought...seems to be some rumors circul...    6.0   \n",
       "77473   @realDonaldTrump Bruce Springsteen Calls #trum...    0.0   \n",
       "428574  Escucho a analistas de CNN seguros de que #Bid...    0.0   \n",
       "163648  @realDonaldTrump Should pass the stimulus \\nSe...    0.0   \n",
       "420505                     #Biden https://t.co/SibnlDc9nj    0.0   \n",
       "54056              #trump we got to move on  #Debates2020    0.0   \n",
       "394837  What an A-hole! @realDonaldTrump #Trump admini...    0.0   \n",
       "\n",
       "        retweet_count               source       user_id         user_name  \\\n",
       "292876            0.0      Twitter Web App  2.302227e+09   Usecommon Sentz   \n",
       "219610            0.0   Twitter for iPhone  1.311774e+18     Conashenegger   \n",
       "179500            0.0      Twitter Web App  5.069903e+07        JLA FORUMS   \n",
       "102974            1.0      Twitter Web App  7.994068e+08     John Michaels   \n",
       "77473             0.0  Twitter for Android  1.152075e+18    🇺🇸 Sara_Sala 🤙   \n",
       "428574            0.0   Twitter for iPhone  2.428775e+08  Belén Chiloeches   \n",
       "163648            0.0      Twitter Web App  1.873515e+08         Illmakeit   \n",
       "420505            0.0      Twitter Web App  2.796239e+08        time blind   \n",
       "54056             0.0   Twitter for iPhone  2.866802e+07      LaLa'sWorld™   \n",
       "394837            0.0   Twitter for iPhone  2.497246e+07   Jolina Mitchell   \n",
       "\n",
       "       user_screen_name                                   user_description  \\\n",
       "292876   UsecommonSentz  Let us all Get out and Vote for Donald Trump. ...   \n",
       "219610    Conashenegger  Fed up with liberal b.s., so, I ride my bike s...   \n",
       "179500        JLAFORUMS  JLA FORUMS - Tweets by the JLA Admin, Developm...   \n",
       "102974       TonerBuyer  World news sprinkled with sharp sarcastic comm...   \n",
       "77473       Sara702Sala  Small town 🌊 tenacity, learning in a sin city ...   \n",
       "428574       belenchilo  Madre. Periodista, former CNN correspondent. A...   \n",
       "163648           bxlife  Born and raised in Da https://t.co/u64iY0wnC4 ...   \n",
       "420505  PlayingDevilish  Um twitter sobre lol, nude, biologia e choro. ...   \n",
       "54056       LaLaZannell  ♋️ Goddess, Bookings: LaLa.B.Zannell@gmail.com...   \n",
       "394837       jolinastar  Progressive #Climate Activist #CleanEnergy #Ba...   \n",
       "\n",
       "        ...        city  country      continent     state  state_code  \\\n",
       "292876  ...        None       US  North America      None        None   \n",
       "219610  ...  Fort Worth       US  North America     Texas          TX   \n",
       "179500  ...        None       US  North America      None        None   \n",
       "102974  ...      Denver       US  North America  Colorado          CO   \n",
       "77473   ...   Las Vegas       US  North America    Nevada          NV   \n",
       "428574  ...        None       US           None      None        None   \n",
       "163648  ...    New York       US  North America  New York          NY   \n",
       "420505  ...        None       US           None      None        None   \n",
       "54056   ...    New York       US  North America  New York          NY   \n",
       "394837  ...        None       US           None      None        None   \n",
       "\n",
       "                         collected_at candidate __index_level_0__ sentiment  \\\n",
       "292876     2020-10-29 16:07:39.574311     biden            292876  negative   \n",
       "219610  2020-10-21 02:32:02.563245050     biden            219610  negative   \n",
       "179500     2020-11-07 11:21:29.354208     trump            179500   neutral   \n",
       "102974     2020-10-30 14:49:12.531731     trump            102974  negative   \n",
       "77473      2020-10-27 17:38:44.272667     trump             77473   neutral   \n",
       "428574     2020-11-07 11:30:24.560582     trump            428577   neutral   \n",
       "163648     2020-11-05 12:00:10.511461     trump            163648  negative   \n",
       "420505     2020-11-08 11:29:43.827835     biden            420508   neutral   \n",
       "54056      2020-10-27 17:52:12.028366     trump             54056   neutral   \n",
       "394837  2020-10-21 02:39:04.639547993     trump            394840  negative   \n",
       "\n",
       "       sentiment_score  \n",
       "292876        0.753885  \n",
       "219610        0.851049  \n",
       "179500        0.904458  \n",
       "102974        0.803283  \n",
       "77473         0.520242  \n",
       "428574        0.875209  \n",
       "163648        0.844531  \n",
       "420505        0.832932  \n",
       "54056         0.472596  \n",
       "394837        0.919246  \n",
       "\n",
       "[10 rows x 25 columns]"
      ]
     },
     "execution_count": 154,
     "metadata": {},
     "output_type": "execute_result"
    }
   ],
   "source": [
    "# Check a sample of our tweets and sentiment data.\n",
    "tweetUSA_sentiments.sample(10)"
   ]
  },
  {
   "cell_type": "markdown",
   "metadata": {},
   "source": [
    "---\n",
    "#### Plotting results\n",
    "\n",
    "Counts of overall sentiments for each candidate:"
   ]
  },
  {
   "cell_type": "code",
   "execution_count": 156,
   "metadata": {},
   "outputs": [
    {
     "name": "stdout",
     "output_type": "stream",
     "text": [
      "sentiment  negative  neutral  positive\n",
      "candidate                             \n",
      "biden         68995    80680     51143\n",
      "trump        128988    78245     27468\n"
     ]
    }
   ],
   "source": [
    "print(tweetUSA_sentiments\n",
    "      .groupby(['candidate'])['sentiment']\n",
    "      .value_counts()\n",
    "      .unstack(fill_value=0))"
   ]
  },
  {
   "cell_type": "markdown",
   "metadata": {},
   "source": [
    "Counts of overall sentiments for each candidate, but with >80% confidence score:"
   ]
  },
  {
   "cell_type": "code",
   "execution_count": 150,
   "metadata": {},
   "outputs": [
    {
     "name": "stdout",
     "output_type": "stream",
     "text": [
      "sentiment  negative  neutral  positive\n",
      "candidate                             \n",
      "biden         28936    24947     30778\n",
      "trump         62153    20937     12995\n"
     ]
    }
   ],
   "source": [
    "# Sentiment count with confidence > 80%\n",
    "print(\n",
    "    tweetUSA_sentiments[tweetUSA_sentiments['sentiment_score'] > 0.80]\n",
    "    .groupby('candidate')['sentiment']\n",
    "    .value_counts()\n",
    "    .unstack(fill_value=0)\n",
    ")"
   ]
  },
  {
   "cell_type": "code",
   "execution_count": 169,
   "metadata": {},
   "outputs": [
    {
     "data": {
      "image/png": "[encoded data removed]",
      "text/plain": [
       "<Figure size 1200x600 with 1 Axes>"
      ]
     },
     "metadata": {},
     "output_type": "display_data"
    }
   ],
   "source": [
    "# Let's chart the data by tweet count\n",
    "sentiment_counts = (tweetUSA_sentiments[tweetUSA_sentiments['sentiment_score'] > 0.80]\n",
    "                   .groupby('candidate')['sentiment']\n",
    "                   .value_counts()\n",
    "                   .unstack(fill_value=0))\n",
    "\n",
    "# Create the plot\n",
    "plt.figure(figsize=(12, 6))\n",
    "\n",
    "# Get the candidates and sentiments\n",
    "candidates = sentiment_counts.index\n",
    "sentiments = sentiment_counts.columns\n",
    "n_sentiments = len(sentiments)\n",
    "bar_width = 0.25  # Width of each bar\n",
    "\n",
    "# Set the positions of the bars\n",
    "x = np.arange(len(candidates))\n",
    "\n",
    "# Plot bars for each sentiment\n",
    "for i, sentiment in enumerate(sentiments):\n",
    "    plt.bar(x + i * bar_width, \n",
    "            sentiment_counts[sentiment], \n",
    "            bar_width, \n",
    "            label=sentiment)\n",
    "\n",
    "# Customize the plot\n",
    "plt.xlabel('Candidates')\n",
    "plt.ylabel('Number of Tweets')\n",
    "plt.title('Sentiment Distribution per Candidate (Confidence > 80%)')\n",
    "plt.xticks(x + bar_width * (n_sentiments-1)/2, candidates, rotation=45)\n",
    "plt.legend(title='Sentiment')\n",
    "plt.grid(True, alpha=0.3)\n",
    "\n",
    "# Adjust layout to prevent label cutoff\n",
    "plt.tight_layout()\n",
    "\n",
    "# Display the plot\n",
    "plt.show()"
   ]
  },
  {
   "cell_type": "markdown",
   "metadata": {},
   "source": [
    "Let's look at the normalized distribution for confidence >80%."
   ]
  },
  {
   "cell_type": "code",
   "execution_count": 170,
   "metadata": {},
   "outputs": [
    {
     "name": "stdout",
     "output_type": "stream",
     "text": [
      "sentiment   negative    neutral   positive\n",
      "candidate                                 \n",
      "biden      34.178666  29.466933  36.354402\n",
      "trump      64.685435  21.790082  13.524484\n"
     ]
    }
   ],
   "source": [
    "# Sentiment distribution with confidence > 80%\n",
    "print(\n",
    "    tweetUSA_sentiments[tweetUSA_sentiments['sentiment_score'] > 0.80]\n",
    "    .groupby('candidate')['sentiment']\n",
    "    .value_counts(normalize=True)\n",
    "    .unstack(fill_value=0) * 100\n",
    ")"
   ]
  },
  {
   "cell_type": "markdown",
   "metadata": {},
   "source": [
    "And the same for confidence >90%"
   ]
  },
  {
   "cell_type": "code",
   "execution_count": null,
   "metadata": {},
   "outputs": [
    {
     "name": "stdout",
     "output_type": "stream",
     "text": [
      "sentiment   negative    neutral   positive\n",
      "candidate                                 \n",
      "biden      24.163057  12.846037  62.990906\n",
      "trump      62.223835  13.271683  24.504482\n"
     ]
    }
   ],
   "source": [
    "# Sentiment distribution with confidence > 90%\n",
    "print(\n",
    "    tweetUSA_sentiments[tweetUSA_sentiments['sentiment_score'] > 0.90]\n",
    "    .groupby('candidate')['sentiment']\n",
    "    .value_counts(normalize=True)\n",
    "    .unstack(fill_value=0) * 100\n",
    ")"
   ]
  },
  {
   "cell_type": "code",
   "execution_count": 181,
   "metadata": {},
   "outputs": [
    {
     "data": {
      "image/png": "[encoded data removed]",
      "text/plain": [
       "<Figure size 1200x600 with 1 Axes>"
      ]
     },
     "metadata": {},
     "output_type": "display_data"
    }
   ],
   "source": [
    "# Let's chart the distribution with confidence > 80%\n",
    "confidence = 0.8\n",
    "sentiment_dist = (tweetUSA_sentiments[tweetUSA_sentiments['sentiment_score'] > confidence]\n",
    "                  .groupby('candidate')['sentiment']\n",
    "                  .value_counts(normalize=True)\n",
    "                  .unstack(fill_value=0) * 100)\n",
    "\n",
    "# Create the plot\n",
    "plt.figure(figsize=(12, 6))\n",
    "\n",
    "# Get the candidates and sentiments\n",
    "candidates = sentiment_dist.index\n",
    "sentiments = sentiment_dist.columns\n",
    "n_sentiments = len(sentiments)\n",
    "bar_width = 0.25  # Width of each bar\n",
    "\n",
    "# Set the positions of the bars\n",
    "x = np.arange(len(candidates))\n",
    "\n",
    "# Use a colormap\n",
    "colors = plt.get_cmap('tab10', n_sentiments)  # 'tab10' gives distinct, high-contrast colors\n",
    "\n",
    "# Plot bars for each sentiment with colormap colors\n",
    "for i, sentiment in enumerate(sentiments):\n",
    "    plt.bar(x + i * bar_width, \n",
    "            sentiment_dist[sentiment], \n",
    "            bar_width, \n",
    "            label=sentiment,\n",
    "            color=colors(i))  # Get color from colormap\n",
    "\n",
    "# Customize the plot\n",
    "plt.xlabel('Candidates')\n",
    "plt.ylabel('Percent Confidence')\n",
    "plt.title(f'Sentiment Distribution per Candidate (Confidence > {confidence * 100}%)')\n",
    "plt.xticks(x + bar_width * (n_sentiments-1)/2, candidates, rotation=45)\n",
    "plt.legend(title='Sentiment')\n",
    "plt.grid(True, alpha=0.3)\n",
    "\n",
    "# Adjust layout to prevent label cutoff\n",
    "plt.tight_layout()\n",
    "\n",
    "# Display the plot\n",
    "plt.show()"
   ]
  },
  {
   "cell_type": "code",
   "execution_count": 182,
   "metadata": {},
   "outputs": [
    {
     "data": {
      "image/png": "[encoded data removed]",
      "text/plain": [
       "<Figure size 1200x600 with 1 Axes>"
      ]
     },
     "metadata": {},
     "output_type": "display_data"
    }
   ],
   "source": [
    "# Let's chart the distribution with confidence > 90%\n",
    "confidence = 0.9\n",
    "sentiment_dist = (tweetUSA_sentiments[tweetUSA_sentiments['sentiment_score'] > confidence]\n",
    "                  .groupby('candidate')['sentiment']\n",
    "                  .value_counts(normalize=True)\n",
    "                  .unstack(fill_value=0) * 100)\n",
    "\n",
    "# Create the plot\n",
    "plt.figure(figsize=(12, 6))\n",
    "\n",
    "# Get the candidates and sentiments\n",
    "candidates = sentiment_dist.index\n",
    "sentiments = sentiment_dist.columns\n",
    "n_sentiments = len(sentiments)\n",
    "bar_width = 0.25  # Width of each bar\n",
    "\n",
    "# Set the positions of the bars\n",
    "x = np.arange(len(candidates))\n",
    "\n",
    "# Use a colormap\n",
    "colors = plt.get_cmap('tab10', n_sentiments)  # 'tab10' gives distinct, high-contrast colors\n",
    "\n",
    "# Plot bars for each sentiment with colormap colors\n",
    "for i, sentiment in enumerate(sentiments):\n",
    "    plt.bar(x + i * bar_width, \n",
    "            sentiment_dist[sentiment], \n",
    "            bar_width, \n",
    "            label=sentiment,\n",
    "            color=colors(i))  # Get color from colormap\n",
    "\n",
    "# Customize the plot\n",
    "plt.xlabel('Candidates')\n",
    "plt.ylabel('Percent Confidence')\n",
    "plt.title(f'Sentiment Distribution per Candidate (Confidence >= {confidence * 100}%)')\n",
    "plt.xticks(x + bar_width * (n_sentiments-1)/2, candidates, rotation=45)\n",
    "plt.legend(title='Sentiment')\n",
    "plt.grid(True, alpha=0.3)\n",
    "\n",
    "# Adjust layout to prevent label cutoff\n",
    "plt.tight_layout()\n",
    "\n",
    "# Display the plot\n",
    "plt.show()"
   ]
  },
  {
   "cell_type": "code",
   "execution_count": 152,
   "metadata": {},
   "outputs": [
    {
     "name": "stdout",
     "output_type": "stream",
     "text": [
      "              count                        mean                           std  \\\n",
      "sentiment  negative  neutral positive  negative   neutral  positive  negative   \n",
      "candidate                                                                       \n",
      "biden       68995.0  80680.0  51143.0  0.742165  0.701195  0.811217  0.137603   \n",
      "trump      128988.0  78245.0  27468.0  0.761421  0.683370  0.759276  0.134136   \n",
      "\n",
      "                                    min  ...       25%       50%            \\\n",
      "sentiment   neutral  positive  negative  ...  positive  negative   neutral   \n",
      "candidate                                ...                                 \n",
      "biden      0.139367  0.162244  0.336065  ...  0.685270  0.766376  0.709392   \n",
      "trump      0.141618  0.166314  0.337859  ...  0.617765  0.792752  0.679104   \n",
      "\n",
      "                          75%                           max            \\\n",
      "sentiment  positive  negative   neutral  positive  negative   neutral   \n",
      "candidate                                                               \n",
      "biden      0.864739  0.859115  0.823454  0.956005  0.965781  0.969812   \n",
      "trump      0.784188  0.874990  0.808349  0.913603  0.965502  0.967251   \n",
      "\n",
      "                     \n",
      "sentiment  positive  \n",
      "candidate            \n",
      "biden      0.992117  \n",
      "trump      0.990536  \n",
      "\n",
      "[2 rows x 24 columns]\n"
     ]
    }
   ],
   "source": [
    "print(\n",
    "    tweetUSA_sentiments\n",
    "    .groupby(['candidate', 'sentiment'])['sentiment_score']\n",
    "    .describe()\n",
    "    .unstack(fill_value=0)\n",
    ")"
   ]
  },
  {
   "cell_type": "code",
   "execution_count": 214,
   "metadata": {},
   "outputs": [
    {
     "data": {
      "image/png": "[encoded data removed]",
      "text/plain": [
       "<Figure size 1600x600 with 1 Axes>"
      ]
     },
     "metadata": {},
     "output_type": "display_data"
    }
   ],
   "source": [
    "# Sentiment stats\n",
    "sentiment_info = (tweetUSA_sentiments\n",
    "                 .groupby(['candidate', 'sentiment'])['sentiment_score']\n",
    "                 .describe()\n",
    "                 .unstack(fill_value=0) * 100)\n",
    "\n",
    "# Drop 'count' in place\n",
    "sentiment_info.drop('count', level=0, axis=1, inplace=True)\n",
    "\n",
    "# Get candidates, sentiments, and stats\n",
    "candidates = sentiment_info.index\n",
    "sentiments = sentiment_info.columns.levels[1]  # negative, neutral, positive\n",
    "stats_types = [col for col in sentiment_info.columns.levels[0] if col != 'count']  # Exclude 'count'\n",
    "n_sentiments = len(sentiments)\n",
    "n_stats = len(stats_types)\n",
    "n_candidates = len(candidates)\n",
    "bar_width = 0.2\n",
    "candidate_gap = 0.1  # Small gap between candidates within a stat\n",
    "stat_gap = 0.5  # Larger gap between statistic groups\n",
    "\n",
    "# Create the plot\n",
    "plt.figure(figsize=(16, 6))\n",
    "\n",
    "# Use colormaps: one for stats\n",
    "stat_colors = plt.get_cmap('tab10', n_stats)\n",
    "\n",
    "# Plot bars for each statistic, candidate, and sentiment\n",
    "for stat_idx, stat in enumerate(stats_types):\n",
    "    stat_base = stat_idx * (n_candidates * n_sentiments * bar_width + n_candidates * candidate_gap + stat_gap)\n",
    "    for cand_idx, candidate in enumerate(candidates):\n",
    "        cand_base = stat_base + cand_idx * (n_sentiments * bar_width + candidate_gap)\n",
    "        for i, sentiment in enumerate(sentiments):\n",
    "            pos = cand_base + i * bar_width\n",
    "            column_key = (stat, sentiment)\n",
    "            # Label all sentiments for the first candidate per stat\n",
    "            if cand_idx == 0:\n",
    "                label = f'{stat} - {sentiment}'\n",
    "            else:\n",
    "                label = None\n",
    "            plt.bar(pos,\n",
    "                    sentiment_info.loc[candidate, column_key],\n",
    "                    bar_width,\n",
    "                    label=label,\n",
    "                    color=stat_colors(stat_idx),\n",
    "                    alpha=0.5 + i * 0.2)\n",
    "\n",
    "# Customize the plot\n",
    "plt.xlabel('Statistics and Candidates')\n",
    "plt.ylabel('Sentiment Score (%)')\n",
    "plt.title('Sentiment Score Statistics by Candidate')\n",
    "\n",
    "# Create custom x-ticks centered under each candidate’s triplet\n",
    "tick_positions = []\n",
    "tick_labels = []\n",
    "for stat_idx, stat in enumerate(stats_types):\n",
    "    stat_base = stat_idx * (n_candidates * n_sentiments * bar_width + n_candidates * candidate_gap + stat_gap)\n",
    "    for cand_idx, candidate in enumerate(candidates):\n",
    "        cand_base = stat_base + cand_idx * (n_sentiments * bar_width + candidate_gap)\n",
    "        tick_pos = cand_base + (n_sentiments * bar_width) / 2 - bar_width / 2  # Center under triplet\n",
    "        tick_positions.append(tick_pos)\n",
    "        tick_labels.append(f'{stat}\\n{candidate}')\n",
    "\n",
    "plt.xticks(tick_positions, tick_labels, rotation=45, ha='right')\n",
    "plt.legend(title='Statistic - Sentiment', bbox_to_anchor=(1.05, 1), loc='upper left')\n",
    "plt.grid(True, alpha=0.3)\n",
    "\n",
    "# Adjust layout to prevent cutoff\n",
    "plt.tight_layout()\n",
    "\n",
    "# Display the plot\n",
    "plt.show()"
   ]
  },
  {
   "cell_type": "code",
   "execution_count": 147,
   "metadata": {},
   "outputs": [
    {
     "name": "stdout",
     "output_type": "stream",
     "text": [
      "sentiment  negative   neutral  positive\n",
      "candidate                              \n",
      "biden      0.742165  0.701195  0.811217\n",
      "trump      0.761421  0.683370  0.759276\n"
     ]
    }
   ],
   "source": [
    "# Mean confidence per sentiment\n",
    "mean_confidence = tweetUSA_sentiments.\\\n",
    "                  groupby(['candidate', 'sentiment'])['sentiment_score'].\\\n",
    "                  mean().unstack(fill_value=0)\n",
    "print(mean_confidence)"
   ]
  },
  {
   "cell_type": "markdown",
   "metadata": {},
   "source": [
    "---\n",
    "#### Compare sentiment results against full tweet dataset which includes all locations in the data."
   ]
  },
  {
   "cell_type": "code",
   "execution_count": null,
   "metadata": {},
   "outputs": [],
   "source": [
    "# Convert the ALL tweets dataframe into Hugging Face Dataset\n",
    "tweetALL_dataset = Dataset.from_pandas(tweets_df)"
   ]
  },
  {
   "cell_type": "code",
   "execution_count": null,
   "metadata": {},
   "outputs": [
    {
     "name": "stderr",
     "output_type": "stream",
     "text": [
      "  0%|          | 1281/1747805 [00:00<11:05, 2625.77it/s]"
     ]
    },
    {
     "name": "stdout",
     "output_type": "stream",
     "text": [
      "Tweet token length: 529 at row 993\n"
     ]
    },
    {
     "name": "stderr",
     "output_type": "stream",
     "text": [
      "  3%|▎         | 46543/1747805 [00:17<10:26, 2715.21it/s]"
     ]
    },
    {
     "name": "stdout",
     "output_type": "stream",
     "text": [
      "Tweet token length: 537 at row 46175\n"
     ]
    },
    {
     "name": "stderr",
     "output_type": "stream",
     "text": [
      "  5%|▍         | 80147/1747805 [00:30<11:27, 2427.27it/s]"
     ]
    },
    {
     "name": "stdout",
     "output_type": "stream",
     "text": [
      "Tweet token length: 524 at row 79721\n"
     ]
    },
    {
     "name": "stderr",
     "output_type": "stream",
     "text": [
      "  5%|▍         | 80878/1747805 [00:30<11:43, 2369.12it/s]"
     ]
    },
    {
     "name": "stdout",
     "output_type": "stream",
     "text": [
      "Tweet token length: 524 at row 80486\n"
     ]
    },
    {
     "name": "stderr",
     "output_type": "stream",
     "text": [
      "  5%|▍         | 84192/1747805 [00:32<10:55, 2538.63it/s]"
     ]
    },
    {
     "name": "stdout",
     "output_type": "stream",
     "text": [
      "Tweet token length: 562 at row 83867\n"
     ]
    },
    {
     "name": "stderr",
     "output_type": "stream",
     "text": [
      "  5%|▍         | 85781/1747805 [00:32<10:32, 2625.74it/s]"
     ]
    },
    {
     "name": "stdout",
     "output_type": "stream",
     "text": [
      "Tweet token length: 596 at row 85462\n"
     ]
    },
    {
     "name": "stderr",
     "output_type": "stream",
     "text": [
      "  6%|▌         | 102999/1747805 [00:39<10:36, 2586.13it/s]"
     ]
    },
    {
     "name": "stdout",
     "output_type": "stream",
     "text": [
      "Tweet token length: 570 at row 102563\n"
     ]
    },
    {
     "name": "stderr",
     "output_type": "stream",
     "text": [
      "  7%|▋         | 120840/1747805 [00:46<10:07, 2679.94it/s]"
     ]
    },
    {
     "name": "stdout",
     "output_type": "stream",
     "text": [
      "Tweet token length: 611 at row 120329\n"
     ]
    },
    {
     "name": "stderr",
     "output_type": "stream",
     "text": [
      "  7%|▋         | 122467/1747805 [00:46<10:17, 2631.92it/s]"
     ]
    },
    {
     "name": "stdout",
     "output_type": "stream",
     "text": [
      "Tweet token length: 717 at row 122043\n"
     ]
    },
    {
     "name": "stderr",
     "output_type": "stream",
     "text": [
      "  7%|▋         | 125881/1747805 [00:48<10:12, 2647.17it/s]"
     ]
    },
    {
     "name": "stdout",
     "output_type": "stream",
     "text": [
      "Tweet token length: 616 at row 125563\n"
     ]
    },
    {
     "name": "stderr",
     "output_type": "stream",
     "text": [
      "  8%|▊         | 140877/1747805 [00:53<09:45, 2744.59it/s]"
     ]
    },
    {
     "name": "stdout",
     "output_type": "stream",
     "text": [
      "Tweet token length: 562 at row 140638\n"
     ]
    },
    {
     "name": "stderr",
     "output_type": "stream",
     "text": [
      "  8%|▊         | 141706/1747805 [00:53<09:53, 2706.09it/s]"
     ]
    },
    {
     "name": "stdout",
     "output_type": "stream",
     "text": [
      "Tweet token length: 678 at row 141268\n"
     ]
    },
    {
     "name": "stderr",
     "output_type": "stream",
     "text": [
      "  8%|▊         | 145479/1747805 [00:55<10:00, 2668.19it/s]"
     ]
    },
    {
     "name": "stdout",
     "output_type": "stream",
     "text": [
      "Tweet token length: 623 at row 145130\n"
     ]
    },
    {
     "name": "stderr",
     "output_type": "stream",
     "text": [
      "  9%|▊         | 152521/1747805 [00:58<09:47, 2715.97it/s]"
     ]
    },
    {
     "name": "stdout",
     "output_type": "stream",
     "text": [
      "Tweet token length: 643 at row 152104\n"
     ]
    },
    {
     "name": "stderr",
     "output_type": "stream",
     "text": [
      "  9%|▉         | 163248/1747805 [01:01<08:40, 3044.77it/s]"
     ]
    },
    {
     "name": "stdout",
     "output_type": "stream",
     "text": [
      "Tweet token length: 568 at row 162930\n"
     ]
    },
    {
     "name": "stderr",
     "output_type": "stream",
     "text": [
      " 10%|█         | 177568/1747805 [01:07<08:56, 2925.39it/s]"
     ]
    },
    {
     "name": "stdout",
     "output_type": "stream",
     "text": [
      "Tweet token length: 671 at row 177315\n"
     ]
    },
    {
     "name": "stderr",
     "output_type": "stream",
     "text": [
      " 10%|█         | 179019/1747805 [01:07<09:54, 2637.60it/s]"
     ]
    },
    {
     "name": "stdout",
     "output_type": "stream",
     "text": [
      "Tweet token length: 550 at row 178622\n"
     ]
    },
    {
     "name": "stderr",
     "output_type": "stream",
     "text": [
      " 10%|█         | 179828/1747805 [01:07<10:05, 2587.68it/s]"
     ]
    },
    {
     "name": "stdout",
     "output_type": "stream",
     "text": [
      "Tweet token length: 518 at row 179630\n"
     ]
    },
    {
     "name": "stderr",
     "output_type": "stream",
     "text": [
      " 10%|█         | 180662/1747805 [01:08<09:48, 2661.24it/s]"
     ]
    },
    {
     "name": "stdout",
     "output_type": "stream",
     "text": [
      "Tweet token length: 557 at row 180141\n",
      "Tweet token length: 526 at row 180185\n"
     ]
    },
    {
     "name": "stderr",
     "output_type": "stream",
     "text": [
      " 10%|█         | 183150/1747805 [01:09<09:43, 2682.03it/s]"
     ]
    },
    {
     "name": "stdout",
     "output_type": "stream",
     "text": [
      "Tweet token length: 615 at row 182897\n"
     ]
    },
    {
     "name": "stderr",
     "output_type": "stream",
     "text": [
      " 11%|█         | 185327/1747805 [01:09<09:40, 2690.53it/s]"
     ]
    },
    {
     "name": "stdout",
     "output_type": "stream",
     "text": [
      "Tweet token length: 686 at row 184847\n",
      "Tweet token length: 583 at row 184889\n"
     ]
    },
    {
     "name": "stderr",
     "output_type": "stream",
     "text": [
      " 11%|█         | 186399/1747805 [01:10<10:02, 2591.50it/s]"
     ]
    },
    {
     "name": "stdout",
     "output_type": "stream",
     "text": [
      "Tweet token length: 535 at row 186077\n"
     ]
    },
    {
     "name": "stderr",
     "output_type": "stream",
     "text": [
      " 11%|█         | 196589/1747805 [01:14<09:40, 2670.44it/s]"
     ]
    },
    {
     "name": "stdout",
     "output_type": "stream",
     "text": [
      "Tweet token length: 627 at row 196305\n"
     ]
    },
    {
     "name": "stderr",
     "output_type": "stream",
     "text": [
      " 11%|█▏        | 200128/1747805 [01:15<09:27, 2725.11it/s]"
     ]
    },
    {
     "name": "stdout",
     "output_type": "stream",
     "text": [
      "Tweet token length: 580 at row 199702\n"
     ]
    },
    {
     "name": "stderr",
     "output_type": "stream",
     "text": [
      " 12%|█▏        | 213269/1747805 [01:20<10:22, 2465.19it/s]"
     ]
    },
    {
     "name": "stdout",
     "output_type": "stream",
     "text": [
      "Tweet token length: 525 at row 212907\n",
      "Tweet token length: 524 at row 213132\n"
     ]
    },
    {
     "name": "stderr",
     "output_type": "stream",
     "text": [
      " 12%|█▏        | 216715/1747805 [01:21<09:28, 2691.69it/s]"
     ]
    },
    {
     "name": "stdout",
     "output_type": "stream",
     "text": [
      "Tweet token length: 533 at row 216388\n"
     ]
    },
    {
     "name": "stderr",
     "output_type": "stream",
     "text": [
      " 12%|█▏        | 217802/1747805 [01:22<09:34, 2660.99it/s]"
     ]
    },
    {
     "name": "stdout",
     "output_type": "stream",
     "text": [
      "Tweet token length: 649 at row 217469\n"
     ]
    },
    {
     "name": "stderr",
     "output_type": "stream",
     "text": [
      " 13%|█▎        | 229358/1747805 [01:26<09:13, 2742.28it/s]"
     ]
    },
    {
     "name": "stdout",
     "output_type": "stream",
     "text": [
      "Tweet token length: 585 at row 228971\n"
     ]
    },
    {
     "name": "stderr",
     "output_type": "stream",
     "text": [
      " 13%|█▎        | 230723/1747805 [01:26<09:30, 2658.17it/s]"
     ]
    },
    {
     "name": "stdout",
     "output_type": "stream",
     "text": [
      "Tweet token length: 643 at row 230398\n"
     ]
    },
    {
     "name": "stderr",
     "output_type": "stream",
     "text": [
      " 13%|█▎        | 233113/1747805 [01:27<09:34, 2637.07it/s]"
     ]
    },
    {
     "name": "stdout",
     "output_type": "stream",
     "text": [
      "Tweet token length: 539 at row 232589\n"
     ]
    },
    {
     "name": "stderr",
     "output_type": "stream",
     "text": [
      " 13%|█▎        | 233637/1747805 [01:28<09:44, 2590.53it/s]"
     ]
    },
    {
     "name": "stdout",
     "output_type": "stream",
     "text": [
      "Tweet token length: 532 at row 233411\n"
     ]
    },
    {
     "name": "stderr",
     "output_type": "stream",
     "text": [
      " 14%|█▍        | 249612/1747805 [01:34<09:07, 2735.82it/s]"
     ]
    },
    {
     "name": "stdout",
     "output_type": "stream",
     "text": [
      "Tweet token length: 665 at row 249230\n"
     ]
    },
    {
     "name": "stderr",
     "output_type": "stream",
     "text": [
      " 16%|█▌        | 273661/1747805 [01:42<09:35, 2560.12it/s]"
     ]
    },
    {
     "name": "stdout",
     "output_type": "stream",
     "text": [
      "Tweet token length: 569 at row 273271\n"
     ]
    },
    {
     "name": "stderr",
     "output_type": "stream",
     "text": [
      " 16%|█▋        | 288296/1747805 [01:48<08:45, 2776.76it/s]"
     ]
    },
    {
     "name": "stdout",
     "output_type": "stream",
     "text": [
      "Tweet token length: 794 at row 287940\n"
     ]
    },
    {
     "name": "stderr",
     "output_type": "stream",
     "text": [
      " 17%|█▋        | 302036/1747805 [01:53<09:05, 2651.53it/s]"
     ]
    },
    {
     "name": "stdout",
     "output_type": "stream",
     "text": [
      "Tweet token length: 675 at row 301533\n"
     ]
    },
    {
     "name": "stderr",
     "output_type": "stream",
     "text": [
      " 18%|█▊        | 320498/1747805 [02:00<08:44, 2720.12it/s]"
     ]
    },
    {
     "name": "stdout",
     "output_type": "stream",
     "text": [
      "Tweet token length: 571 at row 320097\n"
     ]
    },
    {
     "name": "stderr",
     "output_type": "stream",
     "text": [
      " 19%|█▊        | 323469/1747805 [02:01<08:50, 2682.47it/s]"
     ]
    },
    {
     "name": "stdout",
     "output_type": "stream",
     "text": [
      "Tweet token length: 543 at row 323235\n"
     ]
    },
    {
     "name": "stderr",
     "output_type": "stream",
     "text": [
      " 19%|█▊        | 326200/1747805 [02:02<08:42, 2722.72it/s]"
     ]
    },
    {
     "name": "stdout",
     "output_type": "stream",
     "text": [
      "Tweet token length: 533 at row 325754\n"
     ]
    },
    {
     "name": "stderr",
     "output_type": "stream",
     "text": [
      " 23%|██▎       | 393798/1747805 [02:27<08:27, 2666.15it/s]"
     ]
    },
    {
     "name": "stdout",
     "output_type": "stream",
     "text": [
      "Tweet token length: 560 at row 393363\n"
     ]
    },
    {
     "name": "stderr",
     "output_type": "stream",
     "text": [
      " 23%|██▎       | 399226/1747805 [02:29<08:47, 2557.90it/s]"
     ]
    },
    {
     "name": "stdout",
     "output_type": "stream",
     "text": [
      "Tweet token length: 524 at row 398741\n"
     ]
    },
    {
     "name": "stderr",
     "output_type": "stream",
     "text": [
      " 24%|██▍       | 418799/1747805 [02:36<07:53, 2804.17it/s]"
     ]
    },
    {
     "name": "stdout",
     "output_type": "stream",
     "text": [
      "Tweet token length: 526 at row 418478\n"
     ]
    },
    {
     "name": "stderr",
     "output_type": "stream",
     "text": [
      " 24%|██▍       | 421327/1747805 [02:37<08:00, 2761.76it/s]"
     ]
    },
    {
     "name": "stdout",
     "output_type": "stream",
     "text": [
      "Tweet token length: 577 at row 420832\n",
      "Tweet token length: 617 at row 421240\n"
     ]
    },
    {
     "name": "stderr",
     "output_type": "stream",
     "text": [
      " 24%|██▍       | 425952/1747805 [02:39<08:11, 2687.24it/s]"
     ]
    },
    {
     "name": "stdout",
     "output_type": "stream",
     "text": [
      "Tweet token length: 593 at row 425440\n"
     ]
    },
    {
     "name": "stderr",
     "output_type": "stream",
     "text": [
      " 25%|██▍       | 430040/1747805 [02:40<08:00, 2740.47it/s]"
     ]
    },
    {
     "name": "stdout",
     "output_type": "stream",
     "text": [
      "Tweet token length: 526 at row 429561\n"
     ]
    },
    {
     "name": "stderr",
     "output_type": "stream",
     "text": [
      " 25%|██▍       | 430584/1747805 [02:41<08:15, 2659.25it/s]"
     ]
    },
    {
     "name": "stdout",
     "output_type": "stream",
     "text": [
      "Tweet token length: 557 at row 430218\n"
     ]
    },
    {
     "name": "stderr",
     "output_type": "stream",
     "text": [
      " 25%|██▍       | 433555/1747805 [02:42<08:15, 2654.51it/s]"
     ]
    },
    {
     "name": "stdout",
     "output_type": "stream",
     "text": [
      "Tweet token length: 538 at row 433034\n"
     ]
    },
    {
     "name": "stderr",
     "output_type": "stream",
     "text": [
      " 25%|██▍       | 433821/1747805 [02:42<08:26, 2592.65it/s]"
     ]
    },
    {
     "name": "stdout",
     "output_type": "stream",
     "text": [
      "Tweet token length: 527 at row 433572\n"
     ]
    },
    {
     "name": "stderr",
     "output_type": "stream",
     "text": [
      " 25%|██▌       | 437822/1747805 [02:43<08:14, 2650.94it/s]"
     ]
    },
    {
     "name": "stdout",
     "output_type": "stream",
     "text": [
      "Tweet token length: 660 at row 437535\n"
     ]
    },
    {
     "name": "stderr",
     "output_type": "stream",
     "text": [
      " 27%|██▋       | 470874/1747805 [02:55<07:43, 2753.33it/s]"
     ]
    },
    {
     "name": "stdout",
     "output_type": "stream",
     "text": [
      "Tweet token length: 578 at row 470393\n"
     ]
    },
    {
     "name": "stderr",
     "output_type": "stream",
     "text": [
      " 27%|██▋       | 476348/1747805 [02:57<08:49, 2401.53it/s]"
     ]
    },
    {
     "name": "stdout",
     "output_type": "stream",
     "text": [
      "Tweet token length: 588 at row 476200\n"
     ]
    },
    {
     "name": "stderr",
     "output_type": "stream",
     "text": [
      " 27%|██▋       | 480107/1747805 [02:59<08:52, 2382.08it/s]"
     ]
    },
    {
     "name": "stdout",
     "output_type": "stream",
     "text": [
      "Tweet token length: 758 at row 479884\n"
     ]
    },
    {
     "name": "stderr",
     "output_type": "stream",
     "text": [
      " 28%|██▊       | 486289/1747805 [03:02<08:23, 2506.06it/s]"
     ]
    },
    {
     "name": "stdout",
     "output_type": "stream",
     "text": [
      "Tweet token length: 574 at row 485838\n"
     ]
    },
    {
     "name": "stderr",
     "output_type": "stream",
     "text": [
      " 28%|██▊       | 488434/1747805 [03:03<08:53, 2361.57it/s]"
     ]
    },
    {
     "name": "stdout",
     "output_type": "stream",
     "text": [
      "Tweet token length: 597 at row 488127\n"
     ]
    },
    {
     "name": "stderr",
     "output_type": "stream",
     "text": [
      " 28%|██▊       | 490548/1747805 [03:04<07:56, 2636.93it/s]"
     ]
    },
    {
     "name": "stdout",
     "output_type": "stream",
     "text": [
      "Tweet token length: 601 at row 490178\n"
     ]
    },
    {
     "name": "stderr",
     "output_type": "stream",
     "text": [
      " 28%|██▊       | 491629/1747805 [03:04<07:46, 2690.98it/s]"
     ]
    },
    {
     "name": "stdout",
     "output_type": "stream",
     "text": [
      "Tweet token length: 620 at row 491147\n"
     ]
    },
    {
     "name": "stderr",
     "output_type": "stream",
     "text": [
      " 28%|██▊       | 492443/1747805 [03:04<07:48, 2682.32it/s]"
     ]
    },
    {
     "name": "stdout",
     "output_type": "stream",
     "text": [
      "Tweet token length: 531 at row 491986\n"
     ]
    },
    {
     "name": "stderr",
     "output_type": "stream",
     "text": [
      " 28%|██▊       | 494104/1747805 [03:05<08:17, 2519.51it/s]"
     ]
    },
    {
     "name": "stdout",
     "output_type": "stream",
     "text": [
      "Tweet token length: 573 at row 493762\n"
     ]
    },
    {
     "name": "stderr",
     "output_type": "stream",
     "text": [
      " 29%|██▊       | 500699/1747805 [03:08<07:32, 2756.06it/s]"
     ]
    },
    {
     "name": "stdout",
     "output_type": "stream",
     "text": [
      "Tweet token length: 636 at row 500253\n"
     ]
    },
    {
     "name": "stderr",
     "output_type": "stream",
     "text": [
      " 29%|██▉       | 504293/1747805 [03:09<07:26, 2784.64it/s]"
     ]
    },
    {
     "name": "stdout",
     "output_type": "stream",
     "text": [
      "Tweet token length: 579 at row 503808\n"
     ]
    },
    {
     "name": "stderr",
     "output_type": "stream",
     "text": [
      " 30%|██▉       | 516928/1747805 [03:13<07:45, 2642.58it/s]"
     ]
    },
    {
     "name": "stdout",
     "output_type": "stream",
     "text": [
      "Tweet token length: 679 at row 516683\n",
      "Tweet token length: 576 at row 516751\n"
     ]
    },
    {
     "name": "stderr",
     "output_type": "stream",
     "text": [
      " 30%|██▉       | 520579/1747805 [03:15<07:15, 2816.89it/s]"
     ]
    },
    {
     "name": "stdout",
     "output_type": "stream",
     "text": [
      "Tweet token length: 556 at row 520083\n"
     ]
    },
    {
     "name": "stderr",
     "output_type": "stream",
     "text": [
      " 30%|███       | 527706/1747805 [03:17<07:02, 2888.61it/s]"
     ]
    },
    {
     "name": "stdout",
     "output_type": "stream",
     "text": [
      "Tweet token length: 632 at row 527200\n"
     ]
    },
    {
     "name": "stderr",
     "output_type": "stream",
     "text": [
      " 31%|███       | 533229/1747805 [03:19<06:58, 2902.54it/s]"
     ]
    },
    {
     "name": "stdout",
     "output_type": "stream",
     "text": [
      "Tweet token length: 626 at row 532893\n"
     ]
    },
    {
     "name": "stderr",
     "output_type": "stream",
     "text": [
      " 31%|███       | 534400/1747805 [03:20<07:01, 2876.61it/s]"
     ]
    },
    {
     "name": "stdout",
     "output_type": "stream",
     "text": [
      "Tweet token length: 523 at row 534022\n"
     ]
    },
    {
     "name": "stderr",
     "output_type": "stream",
     "text": [
      " 31%|███       | 543095/1747805 [03:23<06:56, 2893.98it/s]"
     ]
    },
    {
     "name": "stdout",
     "output_type": "stream",
     "text": [
      "Tweet token length: 704 at row 542741\n"
     ]
    },
    {
     "name": "stderr",
     "output_type": "stream",
     "text": [
      " 31%|███▏      | 549406/1747805 [03:25<07:01, 2844.40it/s]"
     ]
    },
    {
     "name": "stdout",
     "output_type": "stream",
     "text": [
      "Tweet token length: 548 at row 548857\n",
      "Tweet token length: 567 at row 549149\n"
     ]
    },
    {
     "name": "stderr",
     "output_type": "stream",
     "text": [
      " 32%|███▏      | 551349/1747805 [03:26<07:23, 2697.35it/s]"
     ]
    },
    {
     "name": "stdout",
     "output_type": "stream",
     "text": [
      "Tweet token length: 519 at row 551041\n"
     ]
    },
    {
     "name": "stderr",
     "output_type": "stream",
     "text": [
      " 32%|███▏      | 559898/1747805 [03:29<06:58, 2836.85it/s]"
     ]
    },
    {
     "name": "stdout",
     "output_type": "stream",
     "text": [
      "Tweet token length: 550 at row 559586\n"
     ]
    },
    {
     "name": "stderr",
     "output_type": "stream",
     "text": [
      " 32%|███▏      | 561602/1747805 [03:29<07:09, 2760.93it/s]"
     ]
    },
    {
     "name": "stdout",
     "output_type": "stream",
     "text": [
      "Tweet token length: 667 at row 561254\n"
     ]
    },
    {
     "name": "stderr",
     "output_type": "stream",
     "text": [
      " 32%|███▏      | 564341/1747805 [03:30<08:21, 2357.72it/s]"
     ]
    },
    {
     "name": "stdout",
     "output_type": "stream",
     "text": [
      "Tweet token length: 551 at row 564029\n"
     ]
    },
    {
     "name": "stderr",
     "output_type": "stream",
     "text": [
      " 33%|███▎      | 571981/1747805 [03:33<06:45, 2901.66it/s]"
     ]
    },
    {
     "name": "stdout",
     "output_type": "stream",
     "text": [
      "Tweet token length: 626 at row 571526\n"
     ]
    },
    {
     "name": "stderr",
     "output_type": "stream",
     "text": [
      " 33%|███▎      | 572834/1747805 [03:33<07:10, 2729.34it/s]"
     ]
    },
    {
     "name": "stdout",
     "output_type": "stream",
     "text": [
      "Tweet token length: 609 at row 572416\n"
     ]
    },
    {
     "name": "stderr",
     "output_type": "stream",
     "text": [
      " 33%|███▎      | 573902/1747805 [03:34<07:29, 2611.18it/s]"
     ]
    },
    {
     "name": "stdout",
     "output_type": "stream",
     "text": [
      "Tweet token length: 513 at row 573534\n"
     ]
    },
    {
     "name": "stderr",
     "output_type": "stream",
     "text": [
      " 33%|███▎      | 575530/1747805 [03:35<07:15, 2692.82it/s]"
     ]
    },
    {
     "name": "stdout",
     "output_type": "stream",
     "text": [
      "Tweet token length: 586 at row 575060\n",
      "Tweet token length: 595 at row 575363\n",
      "Tweet token length: 590 at row 575478\n"
     ]
    },
    {
     "name": "stderr",
     "output_type": "stream",
     "text": [
      " 33%|███▎      | 576068/1747805 [03:35<07:49, 2496.39it/s]"
     ]
    },
    {
     "name": "stdout",
     "output_type": "stream",
     "text": [
      "Tweet token length: 513 at row 575752\n"
     ]
    },
    {
     "name": "stderr",
     "output_type": "stream",
     "text": [
      " 33%|███▎      | 578260/1747805 [03:36<07:14, 2691.90it/s]"
     ]
    },
    {
     "name": "stdout",
     "output_type": "stream",
     "text": [
      "Tweet token length: 669 at row 577980\n"
     ]
    },
    {
     "name": "stderr",
     "output_type": "stream",
     "text": [
      " 33%|███▎      | 579892/1747805 [03:36<07:16, 2676.50it/s]"
     ]
    },
    {
     "name": "stdout",
     "output_type": "stream",
     "text": [
      "Tweet token length: 516 at row 579543\n"
     ]
    },
    {
     "name": "stderr",
     "output_type": "stream",
     "text": [
      " 34%|███▍      | 592906/1747805 [03:41<07:09, 2689.67it/s]"
     ]
    },
    {
     "name": "stdout",
     "output_type": "stream",
     "text": [
      "Tweet token length: 521 at row 592510\n",
      "Tweet token length: 571 at row 592625\n"
     ]
    },
    {
     "name": "stderr",
     "output_type": "stream",
     "text": [
      " 34%|███▍      | 593714/1747805 [03:41<07:14, 2653.83it/s]"
     ]
    },
    {
     "name": "stdout",
     "output_type": "stream",
     "text": [
      "Tweet token length: 618 at row 593325\n"
     ]
    },
    {
     "name": "stderr",
     "output_type": "stream",
     "text": [
      " 34%|███▍      | 601590/1747805 [03:44<06:59, 2729.63it/s]"
     ]
    },
    {
     "name": "stdout",
     "output_type": "stream",
     "text": [
      "Tweet token length: 615 at row 601307\n"
     ]
    },
    {
     "name": "stderr",
     "output_type": "stream",
     "text": [
      " 34%|███▍      | 602681/1747805 [03:45<07:09, 2663.90it/s]"
     ]
    },
    {
     "name": "stdout",
     "output_type": "stream",
     "text": [
      "Tweet token length: 625 at row 602424\n"
     ]
    },
    {
     "name": "stderr",
     "output_type": "stream",
     "text": [
      " 35%|███▍      | 603756/1747805 [03:45<07:20, 2597.91it/s]"
     ]
    },
    {
     "name": "stdout",
     "output_type": "stream",
     "text": [
      "Tweet token length: 584 at row 603456\n"
     ]
    },
    {
     "name": "stderr",
     "output_type": "stream",
     "text": [
      " 35%|███▍      | 610060/1747805 [03:47<06:56, 2731.89it/s]"
     ]
    },
    {
     "name": "stdout",
     "output_type": "stream",
     "text": [
      "Tweet token length: 683 at row 609757\n"
     ]
    },
    {
     "name": "stderr",
     "output_type": "stream",
     "text": [
      " 36%|███▌      | 621675/1747805 [03:52<07:01, 2674.16it/s]"
     ]
    },
    {
     "name": "stdout",
     "output_type": "stream",
     "text": [
      "Tweet token length: 734 at row 621459\n"
     ]
    },
    {
     "name": "stderr",
     "output_type": "stream",
     "text": [
      " 37%|███▋      | 641257/1747805 [03:59<06:32, 2819.94it/s]"
     ]
    },
    {
     "name": "stdout",
     "output_type": "stream",
     "text": [
      "Tweet token length: 620 at row 640897\n",
      "Tweet token length: 611 at row 640898\n"
     ]
    },
    {
     "name": "stderr",
     "output_type": "stream",
     "text": [
      " 37%|███▋      | 654586/1747805 [04:04<06:33, 2774.84it/s]"
     ]
    },
    {
     "name": "stdout",
     "output_type": "stream",
     "text": [
      "Tweet token length: 600 at row 654330\n"
     ]
    },
    {
     "name": "stderr",
     "output_type": "stream",
     "text": [
      " 38%|███▊      | 656862/1747805 [04:05<06:25, 2830.09it/s]"
     ]
    },
    {
     "name": "stdout",
     "output_type": "stream",
     "text": [
      "Tweet token length: 621 at row 656491\n",
      "Tweet token length: 517 at row 656492\n",
      "Tweet token length: 519 at row 657088\n"
     ]
    },
    {
     "name": "stderr",
     "output_type": "stream",
     "text": [
      " 38%|███▊      | 659088/1747805 [04:05<06:39, 2727.20it/s]"
     ]
    },
    {
     "name": "stdout",
     "output_type": "stream",
     "text": [
      "Tweet token length: 540 at row 658787\n"
     ]
    },
    {
     "name": "stderr",
     "output_type": "stream",
     "text": [
      " 38%|███▊      | 662714/1747805 [04:07<06:33, 2760.21it/s]"
     ]
    },
    {
     "name": "stdout",
     "output_type": "stream",
     "text": [
      "Tweet token length: 587 at row 662208\n",
      "Tweet token length: 552 at row 662294\n"
     ]
    },
    {
     "name": "stderr",
     "output_type": "stream",
     "text": [
      " 38%|███▊      | 663265/1747805 [04:07<06:38, 2722.04it/s]"
     ]
    },
    {
     "name": "stdout",
     "output_type": "stream",
     "text": [
      "Tweet token length: 550 at row 662936\n"
     ]
    },
    {
     "name": "stderr",
     "output_type": "stream",
     "text": [
      " 38%|███▊      | 667683/1747805 [04:09<06:43, 2678.94it/s]"
     ]
    },
    {
     "name": "stdout",
     "output_type": "stream",
     "text": [
      "Tweet token length: 714 at row 667210\n"
     ]
    },
    {
     "name": "stderr",
     "output_type": "stream",
     "text": [
      " 38%|███▊      | 668501/1747805 [04:09<06:44, 2666.30it/s]"
     ]
    },
    {
     "name": "stdout",
     "output_type": "stream",
     "text": [
      "Tweet token length: 655 at row 668052\n"
     ]
    },
    {
     "name": "stderr",
     "output_type": "stream",
     "text": [
      " 38%|███▊      | 669034/1747805 [04:09<06:48, 2640.12it/s]"
     ]
    },
    {
     "name": "stdout",
     "output_type": "stream",
     "text": [
      "Tweet token length: 688 at row 668790\n"
     ]
    },
    {
     "name": "stderr",
     "output_type": "stream",
     "text": [
      " 38%|███▊      | 670114/1747805 [04:09<06:41, 2682.97it/s]"
     ]
    },
    {
     "name": "stdout",
     "output_type": "stream",
     "text": [
      "Tweet token length: 647 at row 669588\n"
     ]
    },
    {
     "name": "stderr",
     "output_type": "stream",
     "text": [
      " 39%|███▊      | 675290/1747805 [04:11<06:40, 2677.60it/s]"
     ]
    },
    {
     "name": "stdout",
     "output_type": "stream",
     "text": [
      "Tweet token length: 616 at row 675062\n"
     ]
    },
    {
     "name": "stderr",
     "output_type": "stream",
     "text": [
      " 39%|███▉      | 678528/1747805 [04:13<06:36, 2695.99it/s]"
     ]
    },
    {
     "name": "stdout",
     "output_type": "stream",
     "text": [
      "Tweet token length: 657 at row 678105\n"
     ]
    },
    {
     "name": "stderr",
     "output_type": "stream",
     "text": [
      " 39%|███▉      | 679874/1747805 [04:13<06:58, 2554.60it/s]"
     ]
    },
    {
     "name": "stdout",
     "output_type": "stream",
     "text": [
      "Tweet token length: 615 at row 679432\n"
     ]
    },
    {
     "name": "stderr",
     "output_type": "stream",
     "text": [
      " 39%|███▉      | 681477/1747805 [04:14<06:39, 2667.99it/s]"
     ]
    },
    {
     "name": "stdout",
     "output_type": "stream",
     "text": [
      "Tweet token length: 688 at row 681125\n"
     ]
    },
    {
     "name": "stderr",
     "output_type": "stream",
     "text": [
      " 39%|███▉      | 687233/1747805 [04:16<06:30, 2715.07it/s]"
     ]
    },
    {
     "name": "stdout",
     "output_type": "stream",
     "text": [
      "Tweet token length: 542 at row 686770\n",
      "Tweet token length: 527 at row 686942\n"
     ]
    },
    {
     "name": "stderr",
     "output_type": "stream",
     "text": [
      " 40%|███▉      | 694473/1747805 [04:19<06:24, 2740.80it/s]"
     ]
    },
    {
     "name": "stdout",
     "output_type": "stream",
     "text": [
      "Tweet token length: 678 at row 694131\n"
     ]
    },
    {
     "name": "stderr",
     "output_type": "stream",
     "text": [
      " 40%|███▉      | 698386/1747805 [04:20<06:17, 2776.29it/s]"
     ]
    },
    {
     "name": "stdout",
     "output_type": "stream",
     "text": [
      "Tweet token length: 582 at row 697886\n"
     ]
    },
    {
     "name": "stderr",
     "output_type": "stream",
     "text": [
      " 41%|████      | 712761/1747805 [04:25<06:07, 2813.24it/s]"
     ]
    },
    {
     "name": "stdout",
     "output_type": "stream",
     "text": [
      "Tweet token length: 684 at row 712443\n"
     ]
    },
    {
     "name": "stderr",
     "output_type": "stream",
     "text": [
      " 42%|████▏     | 732870/1747805 [04:32<06:01, 2809.35it/s]"
     ]
    },
    {
     "name": "stdout",
     "output_type": "stream",
     "text": [
      "Tweet token length: 630 at row 732360\n"
     ]
    },
    {
     "name": "stderr",
     "output_type": "stream",
     "text": [
      " 42%|████▏     | 736020/1747805 [04:33<05:55, 2843.81it/s]"
     ]
    },
    {
     "name": "stdout",
     "output_type": "stream",
     "text": [
      "Tweet token length: 518 at row 735502\n",
      "Tweet token length: 532 at row 735557\n"
     ]
    },
    {
     "name": "stderr",
     "output_type": "stream",
     "text": [
      " 42%|████▏     | 741106/1747805 [04:35<06:00, 2794.05it/s]"
     ]
    },
    {
     "name": "stdout",
     "output_type": "stream",
     "text": [
      "Tweet token length: 584 at row 740722\n"
     ]
    },
    {
     "name": "stderr",
     "output_type": "stream",
     "text": [
      " 42%|████▏     | 742503/1747805 [04:36<06:05, 2747.27it/s]"
     ]
    },
    {
     "name": "stdout",
     "output_type": "stream",
     "text": [
      "Tweet token length: 594 at row 742075\n"
     ]
    },
    {
     "name": "stderr",
     "output_type": "stream",
     "text": [
      " 43%|████▎     | 746163/1747805 [04:37<05:56, 2812.72it/s]"
     ]
    },
    {
     "name": "stdout",
     "output_type": "stream",
     "text": [
      "Tweet token length: 642 at row 745663\n"
     ]
    },
    {
     "name": "stderr",
     "output_type": "stream",
     "text": [
      " 43%|████▎     | 747829/1747805 [04:38<06:04, 2740.53it/s]"
     ]
    },
    {
     "name": "stdout",
     "output_type": "stream",
     "text": [
      "Tweet token length: 646 at row 747365\n"
     ]
    },
    {
     "name": "stderr",
     "output_type": "stream",
     "text": [
      " 43%|████▎     | 748644/1747805 [04:38<06:37, 2512.91it/s]"
     ]
    },
    {
     "name": "stdout",
     "output_type": "stream",
     "text": [
      "Tweet token length: 616 at row 748372\n"
     ]
    },
    {
     "name": "stderr",
     "output_type": "stream",
     "text": [
      " 43%|████▎     | 751646/1747805 [04:39<06:06, 2717.38it/s]"
     ]
    },
    {
     "name": "stdout",
     "output_type": "stream",
     "text": [
      "Tweet token length: 658 at row 751289\n"
     ]
    },
    {
     "name": "stderr",
     "output_type": "stream",
     "text": [
      " 43%|████▎     | 756068/1747805 [04:41<06:07, 2695.46it/s]"
     ]
    },
    {
     "name": "stdout",
     "output_type": "stream",
     "text": [
      "Tweet token length: 550 at row 755770\n"
     ]
    },
    {
     "name": "stderr",
     "output_type": "stream",
     "text": [
      " 44%|████▎     | 761041/1747805 [04:42<05:58, 2755.87it/s]"
     ]
    },
    {
     "name": "stdout",
     "output_type": "stream",
     "text": [
      "Tweet token length: 667 at row 760862\n"
     ]
    },
    {
     "name": "stderr",
     "output_type": "stream",
     "text": [
      " 44%|████▍     | 768699/1747805 [04:45<06:02, 2701.50it/s]"
     ]
    },
    {
     "name": "stdout",
     "output_type": "stream",
     "text": [
      "Tweet token length: 648 at row 768307\n"
     ]
    },
    {
     "name": "stderr",
     "output_type": "stream",
     "text": [
      " 44%|████▍     | 772006/1747805 [04:47<05:51, 2773.20it/s]"
     ]
    },
    {
     "name": "stdout",
     "output_type": "stream",
     "text": [
      "Tweet token length: 622 at row 771621\n"
     ]
    },
    {
     "name": "stderr",
     "output_type": "stream",
     "text": [
      " 44%|████▍     | 773388/1747805 [04:47<05:58, 2720.77it/s]"
     ]
    },
    {
     "name": "stdout",
     "output_type": "stream",
     "text": [
      "Tweet token length: 633 at row 773062\n"
     ]
    },
    {
     "name": "stderr",
     "output_type": "stream",
     "text": [
      " 45%|████▍     | 778696/1747805 [04:49<05:46, 2796.79it/s]"
     ]
    },
    {
     "name": "stdout",
     "output_type": "stream",
     "text": [
      "Tweet token length: 667 at row 778272\n"
     ]
    },
    {
     "name": "stderr",
     "output_type": "stream",
     "text": [
      " 45%|████▍     | 779535/1747805 [04:49<05:56, 2712.47it/s]"
     ]
    },
    {
     "name": "stdout",
     "output_type": "stream",
     "text": [
      "Tweet token length: 667 at row 779245\n"
     ]
    },
    {
     "name": "stderr",
     "output_type": "stream",
     "text": [
      " 45%|████▍     | 782327/1747805 [04:50<05:48, 2773.73it/s]"
     ]
    },
    {
     "name": "stdout",
     "output_type": "stream",
     "text": [
      "Tweet token length: 666 at row 781946\n"
     ]
    },
    {
     "name": "stderr",
     "output_type": "stream",
     "text": [
      " 45%|████▍     | 785107/1747805 [04:51<05:51, 2742.21it/s]"
     ]
    },
    {
     "name": "stdout",
     "output_type": "stream",
     "text": [
      "Tweet token length: 601 at row 784577\n"
     ]
    },
    {
     "name": "stderr",
     "output_type": "stream",
     "text": [
      " 45%|████▌     | 787028/1747805 [04:52<05:53, 2717.84it/s]"
     ]
    },
    {
     "name": "stdout",
     "output_type": "stream",
     "text": [
      "Tweet token length: 588 at row 786541\n"
     ]
    },
    {
     "name": "stderr",
     "output_type": "stream",
     "text": [
      " 47%|████▋     | 813994/1747805 [05:02<05:31, 2816.09it/s]"
     ]
    },
    {
     "name": "stdout",
     "output_type": "stream",
     "text": [
      "Tweet token length: 525 at row 813531\n",
      "Tweet token length: 656 at row 813771\n"
     ]
    },
    {
     "name": "stderr",
     "output_type": "stream",
     "text": [
      " 47%|████▋     | 814814/1747805 [05:02<05:50, 2659.36it/s]"
     ]
    },
    {
     "name": "stdout",
     "output_type": "stream",
     "text": [
      "Tweet token length: 531 at row 814518\n"
     ]
    },
    {
     "name": "stderr",
     "output_type": "stream",
     "text": [
      " 47%|████▋     | 816454/1747805 [05:03<05:50, 2653.98it/s]"
     ]
    },
    {
     "name": "stdout",
     "output_type": "stream",
     "text": [
      "Tweet token length: 532 at row 816172\n"
     ]
    },
    {
     "name": "stderr",
     "output_type": "stream",
     "text": [
      " 47%|████▋     | 817541/1747805 [05:03<06:07, 2529.77it/s]"
     ]
    },
    {
     "name": "stdout",
     "output_type": "stream",
     "text": [
      "Tweet token length: 701 at row 817010\n"
     ]
    },
    {
     "name": "stderr",
     "output_type": "stream",
     "text": [
      " 47%|████▋     | 818351/1747805 [05:03<05:50, 2651.95it/s]"
     ]
    },
    {
     "name": "stdout",
     "output_type": "stream",
     "text": [
      "Tweet token length: 669 at row 818066\n"
     ]
    },
    {
     "name": "stderr",
     "output_type": "stream",
     "text": [
      " 47%|████▋     | 819456/1747805 [05:04<05:42, 2710.43it/s]"
     ]
    },
    {
     "name": "stdout",
     "output_type": "stream",
     "text": [
      "Tweet token length: 587 at row 818967\n"
     ]
    },
    {
     "name": "stderr",
     "output_type": "stream",
     "text": [
      " 47%|████▋     | 825201/1747805 [05:06<05:51, 2628.06it/s]"
     ]
    },
    {
     "name": "stdout",
     "output_type": "stream",
     "text": [
      "Tweet token length: 593 at row 824933\n"
     ]
    },
    {
     "name": "stderr",
     "output_type": "stream",
     "text": [
      " 47%|████▋     | 827050/1747805 [05:07<05:51, 2618.59it/s]"
     ]
    },
    {
     "name": "stdout",
     "output_type": "stream",
     "text": [
      "Tweet token length: 658 at row 826769\n"
     ]
    },
    {
     "name": "stderr",
     "output_type": "stream",
     "text": [
      " 48%|████▊     | 831937/1747805 [05:09<05:37, 2712.30it/s]"
     ]
    },
    {
     "name": "stdout",
     "output_type": "stream",
     "text": [
      "Tweet token length: 519 at row 831528\n"
     ]
    },
    {
     "name": "stderr",
     "output_type": "stream",
     "text": [
      " 48%|████▊     | 832751/1747805 [05:09<05:40, 2685.79it/s]"
     ]
    },
    {
     "name": "stdout",
     "output_type": "stream",
     "text": [
      "Tweet token length: 530 at row 832498\n"
     ]
    },
    {
     "name": "stderr",
     "output_type": "stream",
     "text": [
      " 49%|████▉     | 861120/1747805 [05:19<05:10, 2853.97it/s]"
     ]
    },
    {
     "name": "stdout",
     "output_type": "stream",
     "text": [
      "Tweet token length: 517 at row 860728\n"
     ]
    },
    {
     "name": "stderr",
     "output_type": "stream",
     "text": [
      " 49%|████▉     | 861975/1747805 [05:19<05:43, 2577.82it/s]"
     ]
    },
    {
     "name": "stdout",
     "output_type": "stream",
     "text": [
      "Tweet token length: 550 at row 861638\n"
     ]
    },
    {
     "name": "stderr",
     "output_type": "stream",
     "text": [
      " 49%|████▉     | 863107/1747805 [05:20<05:18, 2779.82it/s]"
     ]
    },
    {
     "name": "stdout",
     "output_type": "stream",
     "text": [
      "Tweet token length: 612 at row 862580\n"
     ]
    },
    {
     "name": "stderr",
     "output_type": "stream",
     "text": [
      " 50%|████▉     | 865326/1747805 [05:20<05:20, 2752.76it/s]"
     ]
    },
    {
     "name": "stdout",
     "output_type": "stream",
     "text": [
      "Tweet token length: 652 at row 864804\n"
     ]
    },
    {
     "name": "stderr",
     "output_type": "stream",
     "text": [
      " 50%|█████     | 875223/1747805 [05:24<05:19, 2731.55it/s]"
     ]
    },
    {
     "name": "stdout",
     "output_type": "stream",
     "text": [
      "Tweet token length: 653 at row 874677\n",
      "Tweet token length: 520 at row 874953\n"
     ]
    },
    {
     "name": "stderr",
     "output_type": "stream",
     "text": [
      " 50%|█████     | 878387/1747805 [05:25<05:00, 2894.52it/s]"
     ]
    },
    {
     "name": "stdout",
     "output_type": "stream",
     "text": [
      "Tweet token length: 544 at row 877827\n"
     ]
    },
    {
     "name": "stderr",
     "output_type": "stream",
     "text": [
      " 50%|█████     | 878961/1747805 [05:25<05:13, 2775.12it/s]"
     ]
    },
    {
     "name": "stdout",
     "output_type": "stream",
     "text": [
      "Tweet token length: 520 at row 878507\n"
     ]
    },
    {
     "name": "stderr",
     "output_type": "stream",
     "text": [
      " 51%|█████     | 889861/1747805 [05:29<05:08, 2784.13it/s]"
     ]
    },
    {
     "name": "stdout",
     "output_type": "stream",
     "text": [
      "Tweet token length: 580 at row 889538\n"
     ]
    },
    {
     "name": "stderr",
     "output_type": "stream",
     "text": [
      " 51%|█████     | 891836/1747805 [05:30<05:06, 2791.10it/s]"
     ]
    },
    {
     "name": "stdout",
     "output_type": "stream",
     "text": [
      "Tweet token length: 642 at row 891505\n"
     ]
    },
    {
     "name": "stderr",
     "output_type": "stream",
     "text": [
      " 52%|█████▏    | 904488/1747805 [05:34<04:55, 2849.10it/s]"
     ]
    },
    {
     "name": "stdout",
     "output_type": "stream",
     "text": [
      "Tweet token length: 604 at row 903983\n"
     ]
    },
    {
     "name": "stderr",
     "output_type": "stream",
     "text": [
      " 52%|█████▏    | 914792/1747805 [05:38<04:54, 2830.58it/s]"
     ]
    },
    {
     "name": "stdout",
     "output_type": "stream",
     "text": [
      "Tweet token length: 536 at row 914363\n"
     ]
    },
    {
     "name": "stderr",
     "output_type": "stream",
     "text": [
      " 52%|█████▏    | 916447/1747805 [05:39<05:07, 2700.42it/s]"
     ]
    },
    {
     "name": "stdout",
     "output_type": "stream",
     "text": [
      "Tweet token length: 530 at row 916149\n"
     ]
    },
    {
     "name": "stderr",
     "output_type": "stream",
     "text": [
      " 53%|█████▎    | 918069/1747805 [05:39<05:14, 2636.16it/s]"
     ]
    },
    {
     "name": "stdout",
     "output_type": "stream",
     "text": [
      "Tweet token length: 653 at row 917716\n"
     ]
    },
    {
     "name": "stderr",
     "output_type": "stream",
     "text": [
      " 53%|█████▎    | 919135/1747805 [05:40<05:26, 2535.23it/s]"
     ]
    },
    {
     "name": "stdout",
     "output_type": "stream",
     "text": [
      "Tweet token length: 572 at row 918617\n"
     ]
    },
    {
     "name": "stderr",
     "output_type": "stream",
     "text": [
      " 53%|█████▎    | 920230/1747805 [05:40<05:07, 2692.28it/s]"
     ]
    },
    {
     "name": "stdout",
     "output_type": "stream",
     "text": [
      "Tweet token length: 625 at row 919905\n"
     ]
    },
    {
     "name": "stderr",
     "output_type": "stream",
     "text": [
      " 54%|█████▎    | 938937/1747805 [05:47<04:53, 2757.97it/s]"
     ]
    },
    {
     "name": "stdout",
     "output_type": "stream",
     "text": [
      "Tweet token length: 673 at row 938500\n"
     ]
    },
    {
     "name": "stderr",
     "output_type": "stream",
     "text": [
      " 54%|█████▍    | 941393/1747805 [05:48<04:55, 2730.08it/s]"
     ]
    },
    {
     "name": "stdout",
     "output_type": "stream",
     "text": [
      "Tweet token length: 645 at row 941108\n"
     ]
    },
    {
     "name": "stderr",
     "output_type": "stream",
     "text": [
      " 55%|█████▍    | 956997/1747805 [05:54<04:46, 2757.57it/s]"
     ]
    },
    {
     "name": "stdout",
     "output_type": "stream",
     "text": [
      "Tweet token length: 615 at row 956498\n"
     ]
    },
    {
     "name": "stderr",
     "output_type": "stream",
     "text": [
      " 56%|█████▌    | 970875/1747805 [05:59<04:39, 2780.45it/s]"
     ]
    },
    {
     "name": "stdout",
     "output_type": "stream",
     "text": [
      "Tweet token length: 696 at row 970371\n"
     ]
    },
    {
     "name": "stderr",
     "output_type": "stream",
     "text": [
      " 56%|█████▌    | 975961/1747805 [06:01<04:50, 2661.32it/s]"
     ]
    },
    {
     "name": "stdout",
     "output_type": "stream",
     "text": [
      "Tweet token length: 520 at row 975502\n"
     ]
    },
    {
     "name": "stderr",
     "output_type": "stream",
     "text": [
      " 58%|█████▊    | 1010569/1747805 [06:14<04:24, 2783.24it/s]"
     ]
    },
    {
     "name": "stdout",
     "output_type": "stream",
     "text": [
      "Tweet token length: 572 at row 1010147\n"
     ]
    },
    {
     "name": "stderr",
     "output_type": "stream",
     "text": [
      " 59%|█████▉    | 1027580/1747805 [06:20<04:15, 2819.82it/s]"
     ]
    },
    {
     "name": "stdout",
     "output_type": "stream",
     "text": [
      "Tweet token length: 524 at row 1027262\n",
      "Tweet token length: 524 at row 1027672\n"
     ]
    },
    {
     "name": "stderr",
     "output_type": "stream",
     "text": [
      " 60%|██████    | 1050616/1747805 [06:29<04:22, 2653.00it/s]"
     ]
    },
    {
     "name": "stdout",
     "output_type": "stream",
     "text": [
      "Tweet token length: 555 at row 1050316\n"
     ]
    },
    {
     "name": "stderr",
     "output_type": "stream",
     "text": [
      " 60%|██████    | 1056181/1747805 [06:31<04:23, 2629.32it/s]"
     ]
    },
    {
     "name": "stdout",
     "output_type": "stream",
     "text": [
      "Tweet token length: 564 at row 1055895\n"
     ]
    },
    {
     "name": "stderr",
     "output_type": "stream",
     "text": [
      " 62%|██████▏   | 1088951/1747805 [06:43<03:28, 3155.56it/s]"
     ]
    },
    {
     "name": "stdout",
     "output_type": "stream",
     "text": [
      "Tweet token length: 698 at row 1088605\n"
     ]
    },
    {
     "name": "stderr",
     "output_type": "stream",
     "text": [
      " 62%|██████▏   | 1089891/1747805 [06:43<03:32, 3093.57it/s]"
     ]
    },
    {
     "name": "stdout",
     "output_type": "stream",
     "text": [
      "Tweet token length: 596 at row 1089546\n"
     ]
    },
    {
     "name": "stderr",
     "output_type": "stream",
     "text": [
      " 62%|██████▏   | 1091104/1747805 [06:43<03:44, 2925.35it/s]"
     ]
    },
    {
     "name": "stdout",
     "output_type": "stream",
     "text": [
      "Tweet token length: 578 at row 1090706\n"
     ]
    },
    {
     "name": "stderr",
     "output_type": "stream",
     "text": [
      " 63%|██████▎   | 1095401/1747805 [06:45<03:34, 3042.86it/s]"
     ]
    },
    {
     "name": "stdout",
     "output_type": "stream",
     "text": [
      "Tweet token length: 618 at row 1095020\n"
     ]
    },
    {
     "name": "stderr",
     "output_type": "stream",
     "text": [
      " 63%|██████▎   | 1096950/1747805 [06:45<03:39, 2971.20it/s]"
     ]
    },
    {
     "name": "stdout",
     "output_type": "stream",
     "text": [
      "Tweet token length: 671 at row 1096769\n"
     ]
    },
    {
     "name": "stderr",
     "output_type": "stream",
     "text": [
      " 63%|██████▎   | 1100252/1747805 [06:47<03:36, 2996.19it/s]"
     ]
    },
    {
     "name": "stdout",
     "output_type": "stream",
     "text": [
      "Tweet token length: 518 at row 1099840\n",
      "Tweet token length: 557 at row 1100453\n"
     ]
    },
    {
     "name": "stderr",
     "output_type": "stream",
     "text": [
      " 63%|██████▎   | 1100851/1747805 [06:47<03:37, 2968.89it/s]"
     ]
    },
    {
     "name": "stdout",
     "output_type": "stream",
     "text": [
      "Tweet token length: 526 at row 1100500\n"
     ]
    },
    {
     "name": "stderr",
     "output_type": "stream",
     "text": [
      " 66%|██████▋   | 1162076/1747805 [07:08<03:30, 2784.41it/s]"
     ]
    },
    {
     "name": "stdout",
     "output_type": "stream",
     "text": [
      "Tweet token length: 545 at row 1161664\n"
     ]
    },
    {
     "name": "stderr",
     "output_type": "stream",
     "text": [
      " 69%|██████▉   | 1202017/1747805 [07:23<03:15, 2798.45it/s]"
     ]
    },
    {
     "name": "stdout",
     "output_type": "stream",
     "text": [
      "Tweet token length: 642 at row 1201530\n"
     ]
    },
    {
     "name": "stderr",
     "output_type": "stream",
     "text": [
      " 71%|███████▏  | 1248368/1747805 [07:40<02:58, 2802.11it/s]"
     ]
    },
    {
     "name": "stdout",
     "output_type": "stream",
     "text": [
      "Tweet token length: 524 at row 1247955\n"
     ]
    },
    {
     "name": "stderr",
     "output_type": "stream",
     "text": [
      " 72%|███████▏  | 1265667/1747805 [07:46<02:59, 2680.53it/s]"
     ]
    },
    {
     "name": "stdout",
     "output_type": "stream",
     "text": [
      "Tweet token length: 526 at row 1265325\n",
      "Tweet token length: 557 at row 1265680\n"
     ]
    },
    {
     "name": "stderr",
     "output_type": "stream",
     "text": [
      " 73%|███████▎  | 1270691/1747805 [07:48<02:48, 2827.40it/s]"
     ]
    },
    {
     "name": "stdout",
     "output_type": "stream",
     "text": [
      "Tweet token length: 660 at row 1270184\n"
     ]
    },
    {
     "name": "stderr",
     "output_type": "stream",
     "text": [
      " 74%|███████▍  | 1298761/1747805 [07:58<02:50, 2637.97it/s]"
     ]
    },
    {
     "name": "stdout",
     "output_type": "stream",
     "text": [
      "Tweet token length: 574 at row 1298514\n"
     ]
    },
    {
     "name": "stderr",
     "output_type": "stream",
     "text": [
      " 74%|███████▍  | 1300421/1747805 [07:59<02:43, 2741.80it/s]"
     ]
    },
    {
     "name": "stdout",
     "output_type": "stream",
     "text": [
      "Tweet token length: 645 at row 1299889\n"
     ]
    },
    {
     "name": "stderr",
     "output_type": "stream",
     "text": [
      " 75%|███████▍  | 1302363/1747805 [07:59<02:44, 2712.30it/s]"
     ]
    },
    {
     "name": "stdout",
     "output_type": "stream",
     "text": [
      "Tweet token length: 620 at row 1301912\n"
     ]
    },
    {
     "name": "stderr",
     "output_type": "stream",
     "text": [
      " 75%|███████▍  | 1302904/1747805 [07:59<02:50, 2607.32it/s]"
     ]
    },
    {
     "name": "stdout",
     "output_type": "stream",
     "text": [
      "Tweet token length: 531 at row 1302533\n"
     ]
    },
    {
     "name": "stderr",
     "output_type": "stream",
     "text": [
      " 75%|███████▌  | 1318602/1747805 [08:05<02:38, 2699.73it/s]"
     ]
    },
    {
     "name": "stdout",
     "output_type": "stream",
     "text": [
      "Tweet token length: 679 at row 1318153\n",
      "Tweet token length: 576 at row 1318190\n"
     ]
    },
    {
     "name": "stderr",
     "output_type": "stream",
     "text": [
      " 76%|███████▌  | 1325693/1747805 [08:08<02:25, 2891.83it/s]"
     ]
    },
    {
     "name": "stdout",
     "output_type": "stream",
     "text": [
      "Tweet token length: 654 at row 1325298\n"
     ]
    },
    {
     "name": "stderr",
     "output_type": "stream",
     "text": [
      " 76%|███████▌  | 1330634/1747805 [08:10<02:25, 2869.38it/s]"
     ]
    },
    {
     "name": "stdout",
     "output_type": "stream",
     "text": [
      "Tweet token length: 523 at row 1330141\n"
     ]
    },
    {
     "name": "stderr",
     "output_type": "stream",
     "text": [
      " 76%|███████▋  | 1335015/1747805 [08:11<02:24, 2860.49it/s]"
     ]
    },
    {
     "name": "stdout",
     "output_type": "stream",
     "text": [
      "Tweet token length: 637 at row 1334781\n",
      "Tweet token length: 622 at row 1335237\n"
     ]
    },
    {
     "name": "stderr",
     "output_type": "stream",
     "text": [
      " 77%|███████▋  | 1337281/1747805 [08:12<02:25, 2815.76it/s]"
     ]
    },
    {
     "name": "stdout",
     "output_type": "stream",
     "text": [
      "Tweet token length: 704 at row 1336860\n"
     ]
    },
    {
     "name": "stderr",
     "output_type": "stream",
     "text": [
      " 77%|███████▋  | 1341137/1747805 [08:13<02:31, 2688.73it/s]"
     ]
    },
    {
     "name": "stdout",
     "output_type": "stream",
     "text": [
      "Tweet token length: 548 at row 1340813\n"
     ]
    },
    {
     "name": "stderr",
     "output_type": "stream",
     "text": [
      " 77%|███████▋  | 1342828/1747805 [08:14<02:26, 2763.04it/s]"
     ]
    },
    {
     "name": "stdout",
     "output_type": "stream",
     "text": [
      "Tweet token length: 519 at row 1342505\n"
     ]
    },
    {
     "name": "stderr",
     "output_type": "stream",
     "text": [
      " 77%|███████▋  | 1344216/1747805 [08:14<02:29, 2695.08it/s]"
     ]
    },
    {
     "name": "stdout",
     "output_type": "stream",
     "text": [
      "Tweet token length: 627 at row 1343920\n"
     ]
    },
    {
     "name": "stderr",
     "output_type": "stream",
     "text": [
      " 77%|███████▋  | 1345054/1747805 [08:15<02:26, 2745.81it/s]"
     ]
    },
    {
     "name": "stdout",
     "output_type": "stream",
     "text": [
      "Tweet token length: 574 at row 1344612\n"
     ]
    },
    {
     "name": "stderr",
     "output_type": "stream",
     "text": [
      " 77%|███████▋  | 1346170/1747805 [08:15<02:26, 2745.59it/s]"
     ]
    },
    {
     "name": "stdout",
     "output_type": "stream",
     "text": [
      "Tweet token length: 574 at row 1345659\n"
     ]
    },
    {
     "name": "stderr",
     "output_type": "stream",
     "text": [
      " 77%|███████▋  | 1349994/1747805 [08:16<02:24, 2761.42it/s]"
     ]
    },
    {
     "name": "stdout",
     "output_type": "stream",
     "text": [
      "Tweet token length: 550 at row 1349696\n"
     ]
    },
    {
     "name": "stderr",
     "output_type": "stream",
     "text": [
      " 77%|███████▋  | 1353077/1747805 [08:18<02:21, 2786.11it/s]"
     ]
    },
    {
     "name": "stdout",
     "output_type": "stream",
     "text": [
      "Tweet token length: 619 at row 1352606\n",
      "Tweet token length: 551 at row 1353080\n"
     ]
    },
    {
     "name": "stderr",
     "output_type": "stream",
     "text": [
      " 78%|███████▊  | 1358071/1747805 [08:19<02:22, 2733.26it/s]"
     ]
    },
    {
     "name": "stdout",
     "output_type": "stream",
     "text": [
      "Tweet token length: 524 at row 1357605\n",
      "Tweet token length: 513 at row 1357673\n"
     ]
    },
    {
     "name": "stderr",
     "output_type": "stream",
     "text": [
      " 78%|███████▊  | 1358612/1747805 [08:20<02:26, 2650.82it/s]"
     ]
    },
    {
     "name": "stdout",
     "output_type": "stream",
     "text": [
      "Tweet token length: 595 at row 1358328\n",
      "Tweet token length: 590 at row 1358367\n",
      "Tweet token length: 513 at row 1358479\n"
     ]
    },
    {
     "name": "stderr",
     "output_type": "stream",
     "text": [
      " 78%|███████▊  | 1359957/1747805 [08:20<02:40, 2420.41it/s]"
     ]
    },
    {
     "name": "stdout",
     "output_type": "stream",
     "text": [
      "Tweet token length: 669 at row 1359549\n"
     ]
    },
    {
     "name": "stderr",
     "output_type": "stream",
     "text": [
      " 78%|███████▊  | 1360742/1747805 [08:21<02:32, 2538.08it/s]"
     ]
    },
    {
     "name": "stdout",
     "output_type": "stream",
     "text": [
      "Tweet token length: 516 at row 1360409\n",
      "Tweet token length: 577 at row 1360700\n"
     ]
    },
    {
     "name": "stderr",
     "output_type": "stream",
     "text": [
      " 78%|███████▊  | 1361819/1747805 [08:21<02:25, 2659.30it/s]"
     ]
    },
    {
     "name": "stdout",
     "output_type": "stream",
     "text": [
      "Tweet token length: 552 at row 1361281\n"
     ]
    },
    {
     "name": "stderr",
     "output_type": "stream",
     "text": [
      " 78%|███████▊  | 1366198/1747805 [08:23<02:17, 2766.30it/s]"
     ]
    },
    {
     "name": "stdout",
     "output_type": "stream",
     "text": [
      "Tweet token length: 623 at row 1365755\n"
     ]
    },
    {
     "name": "stderr",
     "output_type": "stream",
     "text": [
      " 78%|███████▊  | 1368105/1747805 [08:23<02:21, 2686.69it/s]"
     ]
    },
    {
     "name": "stdout",
     "output_type": "stream",
     "text": [
      "Tweet token length: 600 at row 1367672\n"
     ]
    },
    {
     "name": "stderr",
     "output_type": "stream",
     "text": [
      " 78%|███████▊  | 1369450/1747805 [08:24<02:25, 2609.05it/s]"
     ]
    },
    {
     "name": "stdout",
     "output_type": "stream",
     "text": [
      "Tweet token length: 521 at row 1369145\n",
      "Tweet token length: 618 at row 1369713\n"
     ]
    },
    {
     "name": "stderr",
     "output_type": "stream",
     "text": [
      " 79%|███████▊  | 1375752/1747805 [08:26<02:15, 2737.01it/s]"
     ]
    },
    {
     "name": "stdout",
     "output_type": "stream",
     "text": [
      "Tweet token length: 615 at row 1375282\n"
     ]
    },
    {
     "name": "stderr",
     "output_type": "stream",
     "text": [
      " 81%|████████▏ | 1424075/1747805 [08:43<01:56, 2781.17it/s]"
     ]
    },
    {
     "name": "stdout",
     "output_type": "stream",
     "text": [
      "Tweet token length: 600 at row 1423631\n"
     ]
    },
    {
     "name": "stderr",
     "output_type": "stream",
     "text": [
      " 82%|████████▏ | 1425215/1747805 [08:44<01:53, 2841.98it/s]"
     ]
    },
    {
     "name": "stdout",
     "output_type": "stream",
     "text": [
      "Tweet token length: 651 at row 1424707\n"
     ]
    },
    {
     "name": "stderr",
     "output_type": "stream",
     "text": [
      " 82%|████████▏ | 1425779/1747805 [08:44<01:58, 2710.82it/s]"
     ]
    },
    {
     "name": "stdout",
     "output_type": "stream",
     "text": [
      "Tweet token length: 517 at row 1425455\n",
      "Tweet token length: 621 at row 1425456\n",
      "Tweet token length: 519 at row 1425913\n"
     ]
    },
    {
     "name": "stderr",
     "output_type": "stream",
     "text": [
      " 82%|████████▏ | 1428023/1747805 [08:45<01:53, 2809.35it/s]"
     ]
    },
    {
     "name": "stdout",
     "output_type": "stream",
     "text": [
      "Tweet token length: 540 at row 1427556\n"
     ]
    },
    {
     "name": "stderr",
     "output_type": "stream",
     "text": [
      " 82%|████████▏ | 1430525/1747805 [08:46<01:54, 2776.33it/s]"
     ]
    },
    {
     "name": "stdout",
     "output_type": "stream",
     "text": [
      "Tweet token length: 577 at row 1429995\n"
     ]
    },
    {
     "name": "stderr",
     "output_type": "stream",
     "text": [
      " 82%|████████▏ | 1431084/1747805 [08:46<02:04, 2535.70it/s]"
     ]
    },
    {
     "name": "stdout",
     "output_type": "stream",
     "text": [
      "Tweet token length: 587 at row 1430779\n"
     ]
    },
    {
     "name": "stderr",
     "output_type": "stream",
     "text": [
      " 82%|████████▏ | 1431914/1747805 [08:46<01:57, 2684.08it/s]"
     ]
    },
    {
     "name": "stdout",
     "output_type": "stream",
     "text": [
      "Tweet token length: 550 at row 1431540\n"
     ]
    },
    {
     "name": "stderr",
     "output_type": "stream",
     "text": [
      " 82%|████████▏ | 1433018/1747805 [08:47<01:57, 2671.57it/s]"
     ]
    },
    {
     "name": "stdout",
     "output_type": "stream",
     "text": [
      "Tweet token length: 753 at row 1432705\n",
      "Tweet token length: 552 at row 1432814\n"
     ]
    },
    {
     "name": "stderr",
     "output_type": "stream",
     "text": [
      " 82%|████████▏ | 1435481/1747805 [08:48<01:56, 2679.95it/s]"
     ]
    },
    {
     "name": "stdout",
     "output_type": "stream",
     "text": [
      "Tweet token length: 714 at row 1435172\n",
      "Tweet token length: 655 at row 1435700\n"
     ]
    },
    {
     "name": "stderr",
     "output_type": "stream",
     "text": [
      " 82%|████████▏ | 1436028/1747805 [08:48<01:58, 2620.66it/s]"
     ]
    },
    {
     "name": "stdout",
     "output_type": "stream",
     "text": [
      "Tweet token length: 649 at row 1435788\n",
      "Tweet token length: 634 at row 1436032\n"
     ]
    },
    {
     "name": "stderr",
     "output_type": "stream",
     "text": [
      " 82%|████████▏ | 1437098/1747805 [08:48<01:58, 2631.35it/s]"
     ]
    },
    {
     "name": "stdout",
     "output_type": "stream",
     "text": [
      "Tweet token length: 647 at row 1436675\n"
     ]
    },
    {
     "name": "stderr",
     "output_type": "stream",
     "text": [
      " 82%|████████▏ | 1439184/1747805 [08:49<02:07, 2426.92it/s]"
     ]
    },
    {
     "name": "stdout",
     "output_type": "stream",
     "text": [
      "Tweet token length: 578 at row 1438909\n"
     ]
    },
    {
     "name": "stderr",
     "output_type": "stream",
     "text": [
      " 82%|████████▏ | 1440769/1747805 [08:50<01:58, 2583.48it/s]"
     ]
    },
    {
     "name": "stdout",
     "output_type": "stream",
     "text": [
      "Tweet token length: 616 at row 1440450\n"
     ]
    },
    {
     "name": "stderr",
     "output_type": "stream",
     "text": [
      " 83%|████████▎ | 1442934/1747805 [08:51<01:54, 2659.71it/s]"
     ]
    },
    {
     "name": "stdout",
     "output_type": "stream",
     "text": [
      "Tweet token length: 668 at row 1442468\n",
      "Tweet token length: 657 at row 1442599\n"
     ]
    },
    {
     "name": "stderr",
     "output_type": "stream",
     "text": [
      " 83%|████████▎ | 1444279/1747805 [08:51<01:54, 2639.88it/s]"
     ]
    },
    {
     "name": "stdout",
     "output_type": "stream",
     "text": [
      "Tweet token length: 532 at row 1443967\n",
      "Tweet token length: 583 at row 1444316\n"
     ]
    },
    {
     "name": "stderr",
     "output_type": "stream",
     "text": [
      " 83%|████████▎ | 1445081/1747805 [08:51<01:55, 2630.30it/s]"
     ]
    },
    {
     "name": "stdout",
     "output_type": "stream",
     "text": [
      "Tweet token length: 570 at row 1444586\n",
      "Tweet token length: 688 at row 1444706\n",
      "Tweet token length: 534 at row 1444789\n"
     ]
    },
    {
     "name": "stderr",
     "output_type": "stream",
     "text": [
      " 83%|████████▎ | 1448850/1747805 [08:53<01:54, 2621.59it/s]"
     ]
    },
    {
     "name": "stdout",
     "output_type": "stream",
     "text": [
      "Tweet token length: 527 at row 1448424\n"
     ]
    },
    {
     "name": "stderr",
     "output_type": "stream",
     "text": [
      " 83%|████████▎ | 1453468/1747805 [08:55<01:51, 2631.79it/s]"
     ]
    },
    {
     "name": "stdout",
     "output_type": "stream",
     "text": [
      "Tweet token length: 603 at row 1453248\n"
     ]
    },
    {
     "name": "stderr",
     "output_type": "stream",
     "text": [
      " 83%|████████▎ | 1455093/1747805 [08:55<01:49, 2663.50it/s]"
     ]
    },
    {
     "name": "stdout",
     "output_type": "stream",
     "text": [
      "Tweet token length: 567 at row 1454724\n"
     ]
    },
    {
     "name": "stderr",
     "output_type": "stream",
     "text": [
      " 83%|████████▎ | 1455890/1747805 [08:56<01:50, 2637.64it/s]"
     ]
    },
    {
     "name": "stdout",
     "output_type": "stream",
     "text": [
      "Tweet token length: 582 at row 1455429\n"
     ]
    },
    {
     "name": "stderr",
     "output_type": "stream",
     "text": [
      " 84%|████████▍ | 1469570/1747805 [09:01<01:39, 2787.59it/s]"
     ]
    },
    {
     "name": "stdout",
     "output_type": "stream",
     "text": [
      "Tweet token length: 648 at row 1469041\n"
     ]
    },
    {
     "name": "stderr",
     "output_type": "stream",
     "text": [
      " 84%|████████▍ | 1474047/1747805 [09:02<01:38, 2787.01it/s]"
     ]
    },
    {
     "name": "stdout",
     "output_type": "stream",
     "text": [
      "Tweet token length: 532 at row 1473493\n"
     ]
    },
    {
     "name": "stderr",
     "output_type": "stream",
     "text": [
      " 84%|████████▍ | 1474326/1747805 [09:02<01:49, 2488.45it/s]"
     ]
    },
    {
     "name": "stdout",
     "output_type": "stream",
     "text": [
      "Tweet token length: 659 at row 1474170\n"
     ]
    },
    {
     "name": "stderr",
     "output_type": "stream",
     "text": [
      " 84%|████████▍ | 1476526/1747805 [09:03<01:37, 2768.90it/s]"
     ]
    },
    {
     "name": "stdout",
     "output_type": "stream",
     "text": [
      "Tweet token length: 584 at row 1476055\n"
     ]
    },
    {
     "name": "stderr",
     "output_type": "stream",
     "text": [
      " 85%|████████▍ | 1478747/1747805 [09:04<01:37, 2753.10it/s]"
     ]
    },
    {
     "name": "stdout",
     "output_type": "stream",
     "text": [
      "Tweet token length: 565 at row 1478474\n"
     ]
    },
    {
     "name": "stderr",
     "output_type": "stream",
     "text": [
      " 85%|████████▍ | 1479846/1747805 [09:04<01:41, 2652.84it/s]"
     ]
    },
    {
     "name": "stdout",
     "output_type": "stream",
     "text": [
      "Tweet token length: 646 at row 1479515\n"
     ]
    },
    {
     "name": "stderr",
     "output_type": "stream",
     "text": [
      " 85%|████████▍ | 1484433/1747805 [09:06<01:50, 2389.47it/s]"
     ]
    },
    {
     "name": "stdout",
     "output_type": "stream",
     "text": [
      "Tweet token length: 598 at row 1484201\n"
     ]
    },
    {
     "name": "stderr",
     "output_type": "stream",
     "text": [
      " 85%|████████▌ | 1485791/1747805 [09:07<01:37, 2680.19it/s]"
     ]
    },
    {
     "name": "stdout",
     "output_type": "stream",
     "text": [
      "Tweet token length: 554 at row 1485316\n",
      "Tweet token length: 646 at row 1485443\n"
     ]
    },
    {
     "name": "stderr",
     "output_type": "stream",
     "text": [
      " 85%|████████▌ | 1492288/1747805 [09:09<01:33, 2736.32it/s]"
     ]
    },
    {
     "name": "stdout",
     "output_type": "stream",
     "text": [
      "Tweet token length: 648 at row 1492040\n"
     ]
    },
    {
     "name": "stderr",
     "output_type": "stream",
     "text": [
      " 85%|████████▌ | 1493913/1747805 [09:10<01:35, 2661.32it/s]"
     ]
    },
    {
     "name": "stdout",
     "output_type": "stream",
     "text": [
      "Tweet token length: 622 at row 1493567\n"
     ]
    },
    {
     "name": "stderr",
     "output_type": "stream",
     "text": [
      " 86%|████████▌ | 1494722/1747805 [09:10<01:35, 2643.29it/s]"
     ]
    },
    {
     "name": "stdout",
     "output_type": "stream",
     "text": [
      "Tweet token length: 633 at row 1494219\n",
      "Tweet token length: 622 at row 1494294\n"
     ]
    },
    {
     "name": "stderr",
     "output_type": "stream",
     "text": [
      " 86%|████████▌ | 1495292/1747805 [09:10<01:38, 2562.74it/s]"
     ]
    },
    {
     "name": "stdout",
     "output_type": "stream",
     "text": [
      "Tweet token length: 605 at row 1494843\n"
     ]
    },
    {
     "name": "stderr",
     "output_type": "stream",
     "text": [
      " 86%|████████▌ | 1500561/1747805 [09:12<01:25, 2896.32it/s]"
     ]
    },
    {
     "name": "stdout",
     "output_type": "stream",
     "text": [
      "Tweet token length: 667 at row 1500199\n"
     ]
    },
    {
     "name": "stderr",
     "output_type": "stream",
     "text": [
      " 86%|████████▌ | 1501429/1747805 [09:12<01:28, 2773.08it/s]"
     ]
    },
    {
     "name": "stdout",
     "output_type": "stream",
     "text": [
      "Tweet token length: 595 at row 1500978\n"
     ]
    },
    {
     "name": "stderr",
     "output_type": "stream",
     "text": [
      " 86%|████████▌ | 1503951/1747805 [09:13<01:28, 2762.43it/s]"
     ]
    },
    {
     "name": "stdout",
     "output_type": "stream",
     "text": [
      "Tweet token length: 769 at row 1503628\n",
      "Tweet token length: 666 at row 1503726\n"
     ]
    },
    {
     "name": "stderr",
     "output_type": "stream",
     "text": [
      " 86%|████████▋ | 1509014/1747805 [09:15<01:24, 2833.61it/s]"
     ]
    },
    {
     "name": "stdout",
     "output_type": "stream",
     "text": [
      "Tweet token length: 557 at row 1508772\n"
     ]
    },
    {
     "name": "stderr",
     "output_type": "stream",
     "text": [
      " 87%|████████▋ | 1523181/1747805 [09:20<01:23, 2687.57it/s]"
     ]
    },
    {
     "name": "stdout",
     "output_type": "stream",
     "text": [
      "Tweet token length: 523 at row 1522881\n"
     ]
    },
    {
     "name": "stderr",
     "output_type": "stream",
     "text": [
      " 87%|████████▋ | 1524517/1747805 [09:21<01:25, 2600.98it/s]"
     ]
    },
    {
     "name": "stdout",
     "output_type": "stream",
     "text": [
      "Tweet token length: 565 at row 1524040\n",
      "Tweet token length: 525 at row 1524058\n",
      "Tweet token length: 656 at row 1524206\n"
     ]
    },
    {
     "name": "stderr",
     "output_type": "stream",
     "text": [
      " 87%|████████▋ | 1525052/1747805 [09:21<01:24, 2631.31it/s]"
     ]
    },
    {
     "name": "stdout",
     "output_type": "stream",
     "text": [
      "Tweet token length: 531 at row 1524640\n"
     ]
    },
    {
     "name": "stderr",
     "output_type": "stream",
     "text": [
      " 87%|████████▋ | 1525585/1747805 [09:21<01:24, 2640.85it/s]"
     ]
    },
    {
     "name": "stdout",
     "output_type": "stream",
     "text": [
      "Tweet token length: 593 at row 1525282\n"
     ]
    },
    {
     "name": "stderr",
     "output_type": "stream",
     "text": [
      " 87%|████████▋ | 1529137/1747805 [09:22<01:16, 2848.86it/s]"
     ]
    },
    {
     "name": "stdout",
     "output_type": "stream",
     "text": [
      "Tweet token length: 669 at row 1528692\n",
      "Tweet token length: 534 at row 1528993\n"
     ]
    },
    {
     "name": "stderr",
     "output_type": "stream",
     "text": [
      " 88%|████████▊ | 1529699/1747805 [09:23<01:20, 2714.10it/s]"
     ]
    },
    {
     "name": "stdout",
     "output_type": "stream",
     "text": [
      "Tweet token length: 587 at row 1529452\n"
     ]
    },
    {
     "name": "stderr",
     "output_type": "stream",
     "text": [
      " 88%|████████▊ | 1531880/1747805 [09:23<01:20, 2698.16it/s]"
     ]
    },
    {
     "name": "stdout",
     "output_type": "stream",
     "text": [
      "Tweet token length: 594 at row 1531646\n",
      "Tweet token length: 564 at row 1532119\n"
     ]
    },
    {
     "name": "stderr",
     "output_type": "stream",
     "text": [
      " 88%|████████▊ | 1534022/1747805 [09:24<01:20, 2664.12it/s]"
     ]
    },
    {
     "name": "stdout",
     "output_type": "stream",
     "text": [
      "Tweet token length: 593 at row 1533635\n"
     ]
    },
    {
     "name": "stderr",
     "output_type": "stream",
     "text": [
      " 88%|████████▊ | 1535339/1747805 [09:25<01:23, 2550.39it/s]"
     ]
    },
    {
     "name": "stdout",
     "output_type": "stream",
     "text": [
      "Tweet token length: 658 at row 1534990\n"
     ]
    },
    {
     "name": "stderr",
     "output_type": "stream",
     "text": [
      " 88%|████████▊ | 1538282/1747805 [09:26<01:18, 2658.34it/s]"
     ]
    },
    {
     "name": "stdout",
     "output_type": "stream",
     "text": [
      "Tweet token length: 519 at row 1537966\n"
     ]
    },
    {
     "name": "stderr",
     "output_type": "stream",
     "text": [
      " 89%|████████▉ | 1551651/1747805 [09:30<01:01, 3181.89it/s]"
     ]
    },
    {
     "name": "stdout",
     "output_type": "stream",
     "text": [
      "Tweet token length: 606 at row 1551118\n"
     ]
    },
    {
     "name": "stderr",
     "output_type": "stream",
     "text": [
      " 89%|████████▉ | 1554156/1747805 [09:31<01:02, 3082.40it/s]"
     ]
    },
    {
     "name": "stdout",
     "output_type": "stream",
     "text": [
      "Tweet token length: 689 at row 1553699\n"
     ]
    },
    {
     "name": "stderr",
     "output_type": "stream",
     "text": [
      " 89%|████████▉ | 1557928/1747805 [09:32<01:00, 3118.80it/s]"
     ]
    },
    {
     "name": "stdout",
     "output_type": "stream",
     "text": [
      "Tweet token length: 557 at row 1557395\n"
     ]
    },
    {
     "name": "stderr",
     "output_type": "stream",
     "text": [
      " 90%|████████▉ | 1564414/1747805 [09:35<01:00, 3045.57it/s]"
     ]
    },
    {
     "name": "stdout",
     "output_type": "stream",
     "text": [
      "Tweet token length: 568 at row 1563927\n"
     ]
    },
    {
     "name": "stderr",
     "output_type": "stream",
     "text": [
      " 90%|████████▉ | 1568072/1747805 [09:36<00:59, 2997.75it/s]"
     ]
    },
    {
     "name": "stdout",
     "output_type": "stream",
     "text": [
      "Tweet token length: 560 at row 1567656\n",
      "Tweet token length: 642 at row 1567755\n"
     ]
    },
    {
     "name": "stderr",
     "output_type": "stream",
     "text": [
      " 90%|████████▉ | 1570166/1747805 [09:37<01:00, 2948.59it/s]"
     ]
    },
    {
     "name": "stdout",
     "output_type": "stream",
     "text": [
      "Tweet token length: 609 at row 1569921\n"
     ]
    },
    {
     "name": "stderr",
     "output_type": "stream",
     "text": [
      " 90%|████████▉ | 1571371/1747805 [09:37<01:00, 2896.94it/s]"
     ]
    },
    {
     "name": "stdout",
     "output_type": "stream",
     "text": [
      "Tweet token length: 624 at row 1571110\n"
     ]
    },
    {
     "name": "stderr",
     "output_type": "stream",
     "text": [
      " 90%|█████████ | 1575559/1747805 [09:38<00:57, 2995.35it/s]"
     ]
    },
    {
     "name": "stdout",
     "output_type": "stream",
     "text": [
      "Tweet token length: 611 at row 1575152\n"
     ]
    },
    {
     "name": "stderr",
     "output_type": "stream",
     "text": [
      " 91%|█████████ | 1585434/1747805 [09:42<00:55, 2936.99it/s]"
     ]
    },
    {
     "name": "stdout",
     "output_type": "stream",
     "text": [
      "Tweet token length: 710 at row 1585036\n"
     ]
    },
    {
     "name": "stderr",
     "output_type": "stream",
     "text": [
      " 91%|█████████ | 1586599/1747805 [09:42<00:56, 2829.31it/s]"
     ]
    },
    {
     "name": "stdout",
     "output_type": "stream",
     "text": [
      "Tweet token length: 777 at row 1586195\n"
     ]
    },
    {
     "name": "stderr",
     "output_type": "stream",
     "text": [
      " 91%|█████████ | 1591900/1747805 [09:44<00:56, 2755.69it/s]"
     ]
    },
    {
     "name": "stdout",
     "output_type": "stream",
     "text": [
      "Tweet token length: 583 at row 1591428\n"
     ]
    },
    {
     "name": "stderr",
     "output_type": "stream",
     "text": [
      " 91%|█████████ | 1594224/1747805 [09:45<00:53, 2878.11it/s]"
     ]
    },
    {
     "name": "stdout",
     "output_type": "stream",
     "text": [
      "Tweet token length: 517 at row 1593646\n"
     ]
    },
    {
     "name": "stderr",
     "output_type": "stream",
     "text": [
      " 91%|█████████▏| 1595985/1747805 [09:45<00:52, 2911.59it/s]"
     ]
    },
    {
     "name": "stdout",
     "output_type": "stream",
     "text": [
      "Tweet token length: 550 at row 1595485\n"
     ]
    },
    {
     "name": "stderr",
     "output_type": "stream",
     "text": [
      " 91%|█████████▏| 1597737/1747805 [09:46<00:51, 2905.85it/s]"
     ]
    },
    {
     "name": "stdout",
     "output_type": "stream",
     "text": [
      "Tweet token length: 612 at row 1597356\n"
     ]
    },
    {
     "name": "stderr",
     "output_type": "stream",
     "text": [
      " 92%|█████████▏| 1601924/1747805 [09:48<00:49, 2972.24it/s]"
     ]
    },
    {
     "name": "stdout",
     "output_type": "stream",
     "text": [
      "Tweet token length: 652 at row 1601454\n"
     ]
    },
    {
     "name": "stderr",
     "output_type": "stream",
     "text": [
      " 92%|█████████▏| 1602520/1747805 [09:48<00:52, 2755.22it/s]"
     ]
    },
    {
     "name": "stdout",
     "output_type": "stream",
     "text": [
      "Tweet token length: 565 at row 1602255\n",
      "Tweet token length: 552 at row 1602459\n"
     ]
    },
    {
     "name": "stderr",
     "output_type": "stream",
     "text": [
      " 92%|█████████▏| 1606658/1747805 [09:49<00:48, 2935.15it/s]"
     ]
    },
    {
     "name": "stdout",
     "output_type": "stream",
     "text": [
      "Tweet token length: 701 at row 1606334\n"
     ]
    },
    {
     "name": "stderr",
     "output_type": "stream",
     "text": [
      " 92%|█████████▏| 1609042/1747805 [09:50<00:47, 2930.89it/s]"
     ]
    },
    {
     "name": "stdout",
     "output_type": "stream",
     "text": [
      "Tweet token length: 599 at row 1608460\n"
     ]
    },
    {
     "name": "stderr",
     "output_type": "stream",
     "text": [
      " 92%|█████████▏| 1615212/1747805 [09:52<00:45, 2890.63it/s]"
     ]
    },
    {
     "name": "stdout",
     "output_type": "stream",
     "text": [
      "Tweet token length: 528 at row 1614934\n"
     ]
    },
    {
     "name": "stderr",
     "output_type": "stream",
     "text": [
      " 92%|█████████▏| 1616101/1747805 [09:52<00:44, 2929.93it/s]"
     ]
    },
    {
     "name": "stdout",
     "output_type": "stream",
     "text": [
      "Tweet token length: 551 at row 1615604\n"
     ]
    },
    {
     "name": "stderr",
     "output_type": "stream",
     "text": [
      " 93%|█████████▎| 1619352/1747805 [09:54<00:44, 2918.61it/s]"
     ]
    },
    {
     "name": "stdout",
     "output_type": "stream",
     "text": [
      "Tweet token length: 717 at row 1618865\n",
      "Tweet token length: 583 at row 1619357\n"
     ]
    },
    {
     "name": "stderr",
     "output_type": "stream",
     "text": [
      " 93%|█████████▎| 1619938/1747805 [09:54<00:43, 2908.13it/s]"
     ]
    },
    {
     "name": "stdout",
     "output_type": "stream",
     "text": [
      "Tweet token length: 653 at row 1619520\n",
      "Tweet token length: 729 at row 1619596\n",
      "Tweet token length: 520 at row 1620037\n"
     ]
    },
    {
     "name": "stderr",
     "output_type": "stream",
     "text": [
      " 93%|█████████▎| 1621107/1747805 [09:54<00:43, 2890.32it/s]"
     ]
    },
    {
     "name": "stdout",
     "output_type": "stream",
     "text": [
      "Tweet token length: 609 at row 1620593\n"
     ]
    },
    {
     "name": "stderr",
     "output_type": "stream",
     "text": [
      " 93%|█████████▎| 1622302/1747805 [09:55<00:42, 2951.89it/s]"
     ]
    },
    {
     "name": "stdout",
     "output_type": "stream",
     "text": [
      "Tweet token length: 701 at row 1621838\n",
      "Tweet token length: 571 at row 1622063\n"
     ]
    },
    {
     "name": "stderr",
     "output_type": "stream",
     "text": [
      " 93%|█████████▎| 1625828/1747805 [09:56<00:41, 2913.08it/s]"
     ]
    },
    {
     "name": "stdout",
     "output_type": "stream",
     "text": [
      "Tweet token length: 544 at row 1625493\n"
     ]
    },
    {
     "name": "stderr",
     "output_type": "stream",
     "text": [
      " 93%|█████████▎| 1629913/1747805 [09:57<00:41, 2864.35it/s]"
     ]
    },
    {
     "name": "stdout",
     "output_type": "stream",
     "text": [
      "Tweet token length: 521 at row 1629441\n"
     ]
    },
    {
     "name": "stderr",
     "output_type": "stream",
     "text": [
      " 93%|█████████▎| 1633687/1747805 [09:58<00:39, 2894.32it/s]"
     ]
    },
    {
     "name": "stdout",
     "output_type": "stream",
     "text": [
      "Tweet token length: 638 at row 1633157\n"
     ]
    },
    {
     "name": "stderr",
     "output_type": "stream",
     "text": [
      " 94%|█████████▎| 1634857/1747805 [09:59<00:39, 2879.56it/s]"
     ]
    },
    {
     "name": "stdout",
     "output_type": "stream",
     "text": [
      "Tweet token length: 687 at row 1634350\n"
     ]
    },
    {
     "name": "stderr",
     "output_type": "stream",
     "text": [
      " 94%|█████████▍| 1638624/1747805 [10:00<00:38, 2854.80it/s]"
     ]
    },
    {
     "name": "stdout",
     "output_type": "stream",
     "text": [
      "Tweet token length: 558 at row 1638342\n",
      "Tweet token length: 579 at row 1638586\n"
     ]
    },
    {
     "name": "stderr",
     "output_type": "stream",
     "text": [
      " 95%|█████████▌| 1662752/1747805 [10:09<00:29, 2868.27it/s]"
     ]
    },
    {
     "name": "stdout",
     "output_type": "stream",
     "text": [
      "Tweet token length: 604 at row 1662239\n"
     ]
    },
    {
     "name": "stderr",
     "output_type": "stream",
     "text": [
      " 96%|█████████▌| 1676049/1747805 [10:13<00:24, 2880.56it/s]"
     ]
    },
    {
     "name": "stdout",
     "output_type": "stream",
     "text": [
      "Tweet token length: 536 at row 1675646\n"
     ]
    },
    {
     "name": "stderr",
     "output_type": "stream",
     "text": [
      " 96%|█████████▌| 1677001/1747805 [10:14<00:22, 3083.05it/s]"
     ]
    },
    {
     "name": "stdout",
     "output_type": "stream",
     "text": [
      "Tweet token length: 552 at row 1676451\n"
     ]
    },
    {
     "name": "stderr",
     "output_type": "stream",
     "text": [
      " 96%|█████████▌| 1678864/1747805 [10:14<00:22, 3073.00it/s]"
     ]
    },
    {
     "name": "stdout",
     "output_type": "stream",
     "text": [
      "Tweet token length: 672 at row 1678407\n"
     ]
    },
    {
     "name": "stderr",
     "output_type": "stream",
     "text": [
      " 96%|█████████▌| 1681346/1747805 [10:15<00:22, 2993.15it/s]"
     ]
    },
    {
     "name": "stdout",
     "output_type": "stream",
     "text": [
      "Tweet token length: 521 at row 1680935\n"
     ]
    },
    {
     "name": "stderr",
     "output_type": "stream",
     "text": [
      " 96%|█████████▋| 1682501/1747805 [10:15<00:23, 2793.82it/s]"
     ]
    },
    {
     "name": "stdout",
     "output_type": "stream",
     "text": [
      "Tweet token length: 534 at row 1682091\n"
     ]
    },
    {
     "name": "stderr",
     "output_type": "stream",
     "text": [
      " 96%|█████████▋| 1684495/1747805 [10:16<00:22, 2766.24it/s]"
     ]
    },
    {
     "name": "stdout",
     "output_type": "stream",
     "text": [
      "Tweet token length: 565 at row 1684177\n",
      "Tweet token length: 582 at row 1684298\n"
     ]
    },
    {
     "name": "stderr",
     "output_type": "stream",
     "text": [
      " 96%|█████████▋| 1685047/1747805 [10:16<00:22, 2739.77it/s]"
     ]
    },
    {
     "name": "stdout",
     "output_type": "stream",
     "text": [
      "Tweet token length: 582 at row 1684757\n",
      "Tweet token length: 581 at row 1684903\n",
      "Tweet token length: 600 at row 1685028\n",
      "Tweet token length: 551 at row 1685072\n",
      "Tweet token length: 580 at row 1685271\n",
      "Tweet token length: 589 at row 1685311\n"
     ]
    },
    {
     "name": "stderr",
     "output_type": "stream",
     "text": [
      " 96%|█████████▋| 1685868/1747805 [10:17<00:22, 2702.25it/s]"
     ]
    },
    {
     "name": "stdout",
     "output_type": "stream",
     "text": [
      "Tweet token length: 574 at row 1685425\n",
      "Tweet token length: 575 at row 1685546\n"
     ]
    },
    {
     "name": "stderr",
     "output_type": "stream",
     "text": [
      " 96%|█████████▋| 1686411/1747805 [10:17<00:22, 2691.24it/s]"
     ]
    },
    {
     "name": "stdout",
     "output_type": "stream",
     "text": [
      "Tweet token length: 590 at row 1686070\n",
      "Tweet token length: 515 at row 1686142\n",
      "Tweet token length: 574 at row 1686152\n",
      "Tweet token length: 583 at row 1686594\n"
     ]
    },
    {
     "name": "stderr",
     "output_type": "stream",
     "text": [
      " 97%|█████████▋| 1687237/1747805 [10:17<00:22, 2728.74it/s]"
     ]
    },
    {
     "name": "stdout",
     "output_type": "stream",
     "text": [
      "Tweet token length: 531 at row 1686721\n"
     ]
    },
    {
     "name": "stderr",
     "output_type": "stream",
     "text": [
      " 97%|█████████▋| 1688061/1747805 [10:17<00:21, 2732.94it/s]"
     ]
    },
    {
     "name": "stdout",
     "output_type": "stream",
     "text": [
      "Tweet token length: 567 at row 1687795\n"
     ]
    },
    {
     "name": "stderr",
     "output_type": "stream",
     "text": [
      " 97%|█████████▋| 1688898/1747805 [10:18<00:21, 2758.77it/s]"
     ]
    },
    {
     "name": "stdout",
     "output_type": "stream",
     "text": [
      "Tweet token length: 560 at row 1688548\n",
      "Tweet token length: 623 at row 1688694\n",
      "Tweet token length: 529 at row 1689058\n"
     ]
    },
    {
     "name": "stderr",
     "output_type": "stream",
     "text": [
      " 97%|█████████▋| 1689449/1747805 [10:18<00:21, 2734.48it/s]"
     ]
    },
    {
     "name": "stdout",
     "output_type": "stream",
     "text": [
      "Tweet token length: 580 at row 1689227\n",
      "Tweet token length: 519 at row 1689681\n"
     ]
    },
    {
     "name": "stderr",
     "output_type": "stream",
     "text": [
      " 97%|█████████▋| 1691353/1747805 [10:19<00:21, 2631.16it/s]"
     ]
    },
    {
     "name": "stdout",
     "output_type": "stream",
     "text": [
      "Tweet token length: 673 at row 1690895\n",
      "Tweet token length: 584 at row 1690984\n",
      "Tweet token length: 584 at row 1691027\n",
      "Tweet token length: 577 at row 1691287\n"
     ]
    },
    {
     "name": "stderr",
     "output_type": "stream",
     "text": [
      " 97%|█████████▋| 1691894/1747805 [10:19<00:20, 2664.23it/s]"
     ]
    },
    {
     "name": "stdout",
     "output_type": "stream",
     "text": [
      "Tweet token length: 600 at row 1691527\n"
     ]
    },
    {
     "name": "stderr",
     "output_type": "stream",
     "text": [
      " 97%|█████████▋| 1693263/1747805 [10:19<00:20, 2719.66it/s]"
     ]
    },
    {
     "name": "stdout",
     "output_type": "stream",
     "text": [
      "Tweet token length: 656 at row 1692764\n"
     ]
    },
    {
     "name": "stderr",
     "output_type": "stream",
     "text": [
      " 97%|█████████▋| 1694342/1747805 [10:20<00:20, 2604.60it/s]"
     ]
    },
    {
     "name": "stdout",
     "output_type": "stream",
     "text": [
      "Tweet token length: 705 at row 1693970\n",
      "Tweet token length: 573 at row 1693982\n",
      "Tweet token length: 580 at row 1694025\n",
      "Tweet token length: 746 at row 1694457\n"
     ]
    },
    {
     "name": "stderr",
     "output_type": "stream",
     "text": [
      " 97%|█████████▋| 1694860/1747805 [10:20<00:21, 2497.36it/s]"
     ]
    },
    {
     "name": "stdout",
     "output_type": "stream",
     "text": [
      "Tweet token length: 535 at row 1694594\n"
     ]
    },
    {
     "name": "stderr",
     "output_type": "stream",
     "text": [
      " 97%|█████████▋| 1696760/1747805 [10:21<00:18, 2698.13it/s]"
     ]
    },
    {
     "name": "stdout",
     "output_type": "stream",
     "text": [
      "Tweet token length: 629 at row 1696480\n"
     ]
    },
    {
     "name": "stderr",
     "output_type": "stream",
     "text": [
      " 97%|█████████▋| 1697583/1747805 [10:21<00:18, 2673.88it/s]"
     ]
    },
    {
     "name": "stdout",
     "output_type": "stream",
     "text": [
      "Tweet token length: 664 at row 1697120\n",
      "Tweet token length: 664 at row 1697225\n",
      "Tweet token length: 565 at row 1697296\n",
      "Tweet token length: 517 at row 1697343\n",
      "Tweet token length: 515 at row 1697537\n"
     ]
    },
    {
     "name": "stderr",
     "output_type": "stream",
     "text": [
      " 97%|█████████▋| 1698707/1747805 [10:21<00:17, 2772.78it/s]"
     ]
    },
    {
     "name": "stdout",
     "output_type": "stream",
     "text": [
      "Tweet token length: 572 at row 1698419\n",
      "Tweet token length: 620 at row 1698614\n"
     ]
    },
    {
     "name": "stderr",
     "output_type": "stream",
     "text": [
      " 97%|█████████▋| 1699551/1747805 [10:22<00:17, 2802.61it/s]"
     ]
    },
    {
     "name": "stdout",
     "output_type": "stream",
     "text": [
      "Tweet token length: 547 at row 1699191\n",
      "Tweet token length: 698 at row 1699771\n"
     ]
    },
    {
     "name": "stderr",
     "output_type": "stream",
     "text": [
      " 97%|█████████▋| 1701788/1747805 [10:23<00:16, 2763.07it/s]"
     ]
    },
    {
     "name": "stdout",
     "output_type": "stream",
     "text": [
      "Tweet token length: 592 at row 1701306\n"
     ]
    },
    {
     "name": "stderr",
     "output_type": "stream",
     "text": [
      " 98%|█████████▊| 1705150/1747805 [10:24<00:15, 2779.22it/s]"
     ]
    },
    {
     "name": "stdout",
     "output_type": "stream",
     "text": [
      "Tweet token length: 540 at row 1704860\n"
     ]
    },
    {
     "name": "stderr",
     "output_type": "stream",
     "text": [
      " 98%|█████████▊| 1711737/1747805 [10:26<00:12, 2861.18it/s]"
     ]
    },
    {
     "name": "stdout",
     "output_type": "stream",
     "text": [
      "Tweet token length: 715 at row 1711187\n"
     ]
    },
    {
     "name": "stderr",
     "output_type": "stream",
     "text": [
      " 99%|█████████▉| 1726464/1747805 [10:31<00:07, 2723.85it/s]"
     ]
    },
    {
     "name": "stdout",
     "output_type": "stream",
     "text": [
      "Tweet token length: 645 at row 1726169\n"
     ]
    },
    {
     "name": "stderr",
     "output_type": "stream",
     "text": [
      "100%|██████████| 1747805/1747805 [10:39<00:00, 2732.43it/s]\n"
     ]
    }
   ],
   "source": [
    "# Identify all rows which generate more than the maximum 512 tokens\n",
    "rowlist = []\n",
    "\n",
    "for i in tqdm(range(len(tweetALL_dataset))):\n",
    "    tweet_text = tweetALL_dataset[i]['tweet']\n",
    "    tokens = tokenizer(tweet_text)['input_ids']\n",
    "    if len(tokens) > 512:\n",
    "        print(f\"Tweet token length: {len(tokens)} at row {i}\")\n",
    "        rowlist.append(i)"
   ]
  },
  {
   "cell_type": "code",
   "execution_count": 110,
   "metadata": {},
   "outputs": [
    {
     "name": "stdout",
     "output_type": "stream",
     "text": [
      "369\n"
     ]
    }
   ],
   "source": [
    "print(len(rowlist))"
   ]
  },
  {
   "cell_type": "code",
   "execution_count": null,
   "metadata": {},
   "outputs": [],
   "source": [
    "# Convert back to pandas DataFrame\n",
    "tweets_df = tweetALL_dataset.to_pandas()"
   ]
  },
  {
   "cell_type": "code",
   "execution_count": 117,
   "metadata": {},
   "outputs": [
    {
     "data": {
      "text/plain": [
       "(1747805, 22)"
      ]
     },
     "execution_count": 117,
     "metadata": {},
     "output_type": "execute_result"
    }
   ],
   "source": [
    "tweets_df.shape"
   ]
  },
  {
   "cell_type": "markdown",
   "metadata": {},
   "source": [
    "Again delete tweets exceeding maximum token count from dataset."
   ]
  },
  {
   "cell_type": "code",
   "execution_count": null,
   "metadata": {},
   "outputs": [],
   "source": [
    "# Remove rows with tweets that exceed maximum tokens\n",
    "tweets_df = tweets_df.drop(rowlist)"
   ]
  },
  {
   "cell_type": "code",
   "execution_count": 121,
   "metadata": {},
   "outputs": [
    {
     "data": {
      "text/plain": [
       "(1747436, 22)"
      ]
     },
     "execution_count": 121,
     "metadata": {},
     "output_type": "execute_result"
    }
   ],
   "source": [
    "tweets_df.shape"
   ]
  },
  {
   "cell_type": "code",
   "execution_count": 122,
   "metadata": {},
   "outputs": [
    {
     "data": {
      "application/vnd.jupyter.widget-view+json": {
       "model_id": "36670074497945a986cd4975a6f911e5",
       "version_major": 2,
       "version_minor": 0
      },
      "text/plain": [
       "Map:   0%|          | 0/1747805 [00:00<?, ? examples/s]"
      ]
     },
     "metadata": {},
     "output_type": "display_data"
    }
   ],
   "source": [
    "# GPU-efficient batch inference (optimized by datasets)\n",
    "result_ALLdataset = tweetALL_dataset.map(\n",
    "    analyze_sentiment,\n",
    "    batched=True,\n",
    "    batch_size=32,  # adjust based on GPU memory\n",
    "    )"
   ]
  },
  {
   "cell_type": "code",
   "execution_count": null,
   "metadata": {},
   "outputs": [],
   "source": [
    "# Convert back to pandas\n",
    "tweetALL_sentiments = result_ALLdataset.to_pandas()"
   ]
  },
  {
   "cell_type": "code",
   "execution_count": 124,
   "metadata": {},
   "outputs": [
    {
     "name": "stdout",
     "output_type": "stream",
     "text": [
      "sentiment  negative  neutral  positive\n",
      "candidate                             \n",
      "biden        198209   406574    172103\n",
      "trump        393778   475563    101578\n"
     ]
    }
   ],
   "source": [
    "print(tweetALL_sentiments.groupby(['candidate'])['sentiment']\n",
    "      .value_counts()\n",
    "      .unstack(fill_value=0))"
   ]
  },
  {
   "cell_type": "code",
   "execution_count": 218,
   "metadata": {},
   "outputs": [
    {
     "data": {
      "image/png": "[encoded data removed]",
      "text/plain": [
       "<Figure size 1200x600 with 1 Axes>"
      ]
     },
     "metadata": {},
     "output_type": "display_data"
    }
   ],
   "source": [
    "# Let's chart the data by normalized tweet count\n",
    "sentiment_counts = (tweetALL_sentiments[tweetALL_sentiments['sentiment_score'] > 0.80]\n",
    "                   .groupby('candidate')['sentiment']\n",
    "                   .value_counts(normalize=True)\n",
    "                   .unstack(fill_value=0))\n",
    "\n",
    "# Create the plot\n",
    "plt.figure(figsize=(12, 6))\n",
    "\n",
    "# Get the candidates and sentiments\n",
    "candidates = sentiment_counts.index\n",
    "sentiments = sentiment_counts.columns\n",
    "n_sentiments = len(sentiments)\n",
    "bar_width = 0.25  # Width of each bar\n",
    "\n",
    "# Set the positions of the bars\n",
    "x = np.arange(len(candidates))\n",
    "\n",
    "# Plot bars for each sentiment\n",
    "for i, sentiment in enumerate(sentiments):\n",
    "    plt.bar(x + i * bar_width, \n",
    "            sentiment_counts[sentiment], \n",
    "            bar_width, \n",
    "            label=sentiment)\n",
    "\n",
    "# Customize the plot\n",
    "plt.xlabel('Candidates')\n",
    "plt.ylabel('Number of Tweets')\n",
    "plt.title('Sentiment Distribution per Candidate (Confidence > 80%)')\n",
    "plt.xticks(x + bar_width * (n_sentiments-1)/2, candidates, rotation=45)\n",
    "plt.legend(title='Sentiment')\n",
    "plt.grid(True, alpha=0.3)\n",
    "\n",
    "# Adjust layout to prevent label cutoff\n",
    "plt.tight_layout()\n",
    "\n",
    "# Display the plot\n",
    "plt.show()"
   ]
  },
  {
   "cell_type": "code",
   "execution_count": 142,
   "metadata": {},
   "outputs": [
    {
     "name": "stdout",
     "output_type": "stream",
     "text": [
      "sentiment  negative  neutral  positive\n",
      "candidate                             \n",
      "biden         23461    23668     75177\n",
      "trump         55620    21712     27677\n"
     ]
    }
   ],
   "source": [
    "print(\n",
    "    tweetALL_sentiments[tweetALL_sentiments['sentiment_score'] > 0.9]\n",
    "    .groupby('candidate')['sentiment']\n",
    "    .value_counts()\n",
    "    .unstack(fill_value=0)\n",
    ")"
   ]
  },
  {
   "cell_type": "code",
   "execution_count": 217,
   "metadata": {},
   "outputs": [
    {
     "data": {
      "image/png": "[encoded data removed]",
      "text/plain": [
       "<Figure size 1200x600 with 1 Axes>"
      ]
     },
     "metadata": {},
     "output_type": "display_data"
    }
   ],
   "source": [
    "# Let's chart the data by tweet count\n",
    "sentiment_counts = (tweetALL_sentiments[tweetALL_sentiments['sentiment_score'] > 0.90]\n",
    "                   .groupby('candidate')['sentiment']\n",
    "                   .value_counts(normalize=True)\n",
    "                   .unstack(fill_value=0))\n",
    "\n",
    "# Create the plot\n",
    "plt.figure(figsize=(12, 6))\n",
    "\n",
    "# Get the candidates and sentiments\n",
    "candidates = sentiment_counts.index\n",
    "sentiments = sentiment_counts.columns\n",
    "n_sentiments = len(sentiments)\n",
    "bar_width = 0.25  # Width of each bar\n",
    "\n",
    "# Set the positions of the bars\n",
    "x = np.arange(len(candidates))\n",
    "\n",
    "# Plot bars for each sentiment\n",
    "for i, sentiment in enumerate(sentiments):\n",
    "    plt.bar(x + i * bar_width, \n",
    "            sentiment_counts[sentiment], \n",
    "            bar_width, \n",
    "            label=sentiment)\n",
    "\n",
    "# Customize the plot\n",
    "plt.xlabel('Candidates')\n",
    "plt.ylabel('Number of Tweets')\n",
    "plt.title('Sentiment Distribution per Candidate (Confidence > 90%)')\n",
    "plt.xticks(x + bar_width * (n_sentiments-1)/2, candidates, rotation=45)\n",
    "plt.legend(title='Sentiment')\n",
    "plt.grid(True, alpha=0.3)\n",
    "\n",
    "# Adjust layout to prevent label cutoff\n",
    "plt.tight_layout()\n",
    "\n",
    "# Display the plot\n",
    "plt.show()"
   ]
  },
  {
   "cell_type": "markdown",
   "metadata": {},
   "source": [
    "Since we are looking at the whole dataset here, let's see if there are any significant differences between which countries support either candidate more? We'll take the top ten for now."
   ]
  },
  {
   "cell_type": "code",
   "execution_count": 227,
   "metadata": {},
   "outputs": [],
   "source": [
    "# Sentiment by candidate and location\n",
    "sentimentbyloc_counts = (tweetALL_sentiments[tweetALL_sentiments['sentiment_score'] > 0.80]\n",
    "                         .groupby(['candidate', 'country'])['sentiment']\n",
    "                         .value_counts()\n",
    "                         .unstack(fill_value=0))"
   ]
  },
  {
   "cell_type": "code",
   "execution_count": 237,
   "metadata": {},
   "outputs": [
    {
     "name": "stdout",
     "output_type": "stream",
     "text": [
      "sentiment                                   negative  neutral  positive\n",
      "candidate country                                                      \n",
      "biden     Afghanistan                              2       28        14\n",
      "          Albania                                  7       17         1\n",
      "          Algeria                                  1        6         1\n",
      "          Angola                                   1       11         3\n",
      "          Anguilla                                 0        0         2\n",
      "          Antigua and Barbuda                      2        0         0\n",
      "          Argentina                               25     1267        65\n",
      "          Armenia                                  2       19         6\n",
      "          Australia                              918      687       870\n",
      "          Austria                                 30      300        70\n",
      "          Azerbaijan                              51       79        45\n",
      "          Bahamas                                  1        4         1\n",
      "          Bahrain                                  0       74        13\n",
      "          Bangladesh                              73      273       245\n",
      "          Barbados                                 1        1         2\n",
      "          Belarus                                  0        0         1\n",
      "          Belgium                                 50      657       177\n",
      "          Belize                                   0        0         3\n",
      "          Benin                                    0        0         1\n",
      "          Bolivia                                  0       87         1\n",
      "          Bosnia and Herzegovina                  11      173        13\n",
      "          Brazil                                  48     2091       368\n",
      "          Bulgaria                                 1      106         1\n",
      "          Burkina Faso                             0        5         1\n",
      "          Cambodia                                25        5         1\n",
      "          Cameroon                                 9       11         8\n",
      "          Canada                                1475     1572      1774\n",
      "          Cayman Islands                           1        0         0\n",
      "          Chile                                   33      826        58\n",
      "          China                                  131      205       106\n",
      "          Colombia                                69      916       153\n",
      "          Congo                                    2        0         0\n",
      "          Congo-Brazzaville                        1        6         1\n",
      "          Costa Rica                              10      195        36\n",
      "          Croatia                                  1        6         5\n",
      "          Cuba                                    21      237        17\n",
      "          Cyprus                                  16       52        12\n",
      "          Czech Republic                          12       40        28\n",
      "          Côte d'Ivoire                            0        7         1\n",
      "          Democratic Republic of the Congo         4        1         0\n",
      "          Denmark                                 19       62        69\n",
      "          Djibouti                                 0        1         1\n",
      "          Dominican Republic                      13      344        39\n",
      "          Ecuador                                 12      464        26\n",
      "          Egypt                                   89      141       115\n",
      "          El Salvador                              2      228        11\n",
      "          Estonia                                  5        7        19\n",
      "          Ethiopia                                 5       45        27\n",
      "          Falkland Islands                         4        0         2\n",
      "          Faroe Islands                            1        0         1\n",
      "          Fiji                                     3        3         8\n",
      "          Finland                                 36      416       103\n",
      "          France                                 361     7764       831\n",
      "          Gabon                                    0        0         1\n",
      "          Georgia                                176      110       242\n",
      "          Germany                                298     5353      1173\n",
      "          Ghana                                   13       45        78\n",
      "          Gibraltar                                1        1         3\n",
      "          Greece                                  40      541        85\n",
      "          Greenland                                4        3         2\n",
      "          Grenada                                  2        5         2\n",
      "          Guatemala                                4      135        13\n",
      "          Guinea                                   0        7         1\n",
      "          Guyana                                   0        1         2\n",
      "          Haiti                                    2       84         3\n",
      "          Honduras                                 0      274         6\n",
      "          Hong Kong                                4        5         1\n",
      "          Hungary                                  6       75        30\n",
      "          Iceland                                  6        6        12\n",
      "          India                                  508     5610      4191\n",
      "          Indonesia                               25      544        77\n",
      "          Iran                                    34      113        40\n",
      "          Iraq                                    10      134        15\n",
      "          Ireland                                248      257       602\n",
      "          Israel                                  49      162        33\n",
      "          Italy                                  160     4015       683\n",
      "          Jamaika                                  6       28        40\n",
      "          Japan                                   72      140        53\n",
      "          Jersey                                  51        9        23\n",
      "          Jordan                                   5        7         6\n",
      "          Kazakhstan                               0        1         0\n",
      "          Kenya                                   36      113       208\n",
      "          Kosovo                                   4       16        18\n",
      "          Kuwait                                   2       27        31\n",
      "          Laos                                     2        3         2\n",
      "          Latvia                                   4        7         4\n",
      "          Lebanon                                 21      325        53\n",
      "          Lesotho                                  0        0         1\n",
      "          Liberia                                  6       22         7\n",
      "          Libya                                    1       34        11\n",
      "          Liechtenstein                            0        1         1\n",
      "          Lithuania                                3        2         2\n",
      "          Luxembourg                               6       51        11\n",
      "          Madagascar                               0        1         1\n",
      "          Malaysia                                14       76        61\n",
      "          Maldives                                 0       11        23\n",
      "          Mali                                     0        2         0\n",
      "          Malta                                    7       12        14\n",
      "          Mauritius                                0        2         4\n",
      "          Mexico                                  43     3068       183\n",
      "          Moldova                                  0        2         1\n",
      "          Monaco                                   3        7         8\n",
      "          Mongolia                                11       30         3\n",
      "          Montenegro                               0        2         0\n",
      "          Morocco                                  5       60        26\n",
      "          Myanmar                                  1        4        13\n",
      "          Namibia                                  0        2         5\n",
      "          Nepal                                    1       42        49\n",
      "          Netherlands                            108      565       153\n",
      "          New Zealand                            103       62        97\n",
      "          Nicaragua                                5       59         0\n",
      "          Niger                                    1        0         4\n",
      "          Nigeria                                 66      256       511\n",
      "          North Korea                              0        1         1\n",
      "          North Macedonia                          1        3         0\n",
      "          Norway                                  73      233       146\n",
      "          Oman                                     0       18        26\n",
      "          Pakistan                                72     1095       938\n",
      "          Palestinian Territory                    4        7         4\n",
      "          Panama                                  18       30        13\n",
      "          Papua New Guinea                         2        5         6\n",
      "          Paraguay                                 0       49         1\n",
      "          Peru                                    17      392        34\n",
      "          Philippines                             33       63       184\n",
      "          Poland                                  16      155        25\n",
      "          Portugal                                21      207        77\n",
      "          Qatar                                    7       62        28\n",
      "          Republic of the Congo                    0        1         0\n",
      "          Romania                                  5       28         9\n",
      "          Russia                                  37      114        60\n",
      "          Rwanda                                   1       18        16\n",
      "          Saint Kitts and Nevis                    3        0         0\n",
      "          Saint Lucia                              1        0         0\n",
      "          Saudi Arabia                            27       98        49\n",
      "          Senegal                                  0       56        10\n",
      "          Serbia                                   8       17         7\n",
      "          Sierra Leone                             0        2         1\n",
      "          Singapore                               71       93       145\n",
      "          Slovakia                                 2       22         8\n",
      "          Slovenia                                 4        6         2\n",
      "          Somalia                                  1       13        14\n",
      "          South Africa                           143      248       243\n",
      "          South Korea                              8       54        14\n",
      "          Spain                                   70     1384       182\n",
      "          Sri Lanka                                5       64        71\n",
      "          Sudan                                    2       10         8\n",
      "          Suriname                                 4        0         1\n",
      "          Sweden                                 101      241       196\n",
      "          Switzerland                             47      577       106\n",
      "          Syria                                    2       12         7\n",
      "          Taiwan                                   8      106        11\n",
      "          Tanzania                                 0       13         8\n",
      "          Thailand                                15      166        36\n",
      "          The Bahamas                              4        5         8\n",
      "          The Gambia                               0        0         3\n",
      "          The Netherlands                        453      988       390\n",
      "          Trinidad and Tobago                      4        6        19\n",
      "          Tunisia                                 48       34        21\n",
      "          Turkey                                  60     2930       172\n",
      "          Turks and Caicos Islands                 0        0         1\n",
      "          US                                   25990    22355     27424\n",
      "          Uganda                                  14       21        44\n",
      "          Ukraine                                  5       35        12\n",
      "          United Arab Emirates                    37      287       191\n",
      "          United Kingdom                        2978     2973      4363\n",
      "          Uruguay                                  3       84         3\n",
      "          Uzbekistan                               0        0         2\n",
      "          Vatican City                             0        5         0\n",
      "          Venezuela                               23     1020        28\n",
      "          Vietnam                                 23       16        13\n",
      "          Yemen                                    4        5         5\n",
      "          Zambia                                   0        3        13\n",
      "          Zimbabwe                                 4        6        10\n",
      "trump     Afghanistan                              3       24         1\n",
      "          Albania                                 15       17         4\n",
      "          Algeria                                 11        8         0\n",
      "          Angola                                   5       14         1\n",
      "          Anguilla                                 2        0         0\n",
      "          Antigua and Barbuda                      1        0         0\n",
      "          Argentina                               50     1199        51\n",
      "          Armenia                                 17       26         5\n",
      "          Australia                             2555      646       470\n",
      "          Austria                                 84      427        42\n",
      "          Azerbaijan                              81       89        24\n",
      "          Bahamas                                  2        3         0\n",
      "          Bahrain                                  6       78         8\n",
      "          Bangladesh                             285      426       312\n",
      "          Barbados                                 4        3         2\n",
      "          Belarus                                  1        1         0\n",
      "          Belgium                                182      674        60\n",
      "          Belize                                   2        0         0\n",
      "          Benin                                    1        0         0\n",
      "          Bolivia                                 12      111         8\n",
      "          Bosnia and Herzegovina                  17      102         0\n",
      "          Brazil                                 105     1755       311\n",
      "          British Virgin Islands                   2        0         0\n",
      "          Bulgaria                                 1      105         0\n",
      "          Burkina Faso                             1        9         1\n",
      "          Cambodia                                21        6         2\n",
      "          Cameroon                                27        9         3\n",
      "          Canada                                4954     1398       677\n",
      "          Cape Verde                               0        1         0\n",
      "          Cayman Islands                           2        1         1\n",
      "          Chile                                  139      788        48\n",
      "          China                                  359      235        57\n",
      "          Colombia                               162      871        97\n",
      "          Congo                                    2        0         0\n",
      "          Congo-Brazzaville                        0        5         1\n",
      "          Costa Rica                              21      342        14\n",
      "          Croatia                                  2        4         3\n",
      "          Cuba                                    44      380        16\n",
      "          Cyprus                                   7       75         2\n",
      "          Czech Republic                          58       47        37\n",
      "          Côte d'Ivoire                            0        7         0\n",
      "          Democratic Republic of the Congo         4        2         0\n",
      "          Denmark                                165       85        37\n",
      "          Djibouti                                 2        0         1\n",
      "          Dominica                                 1        0         0\n",
      "          Dominican Republic                      10      368         7\n",
      "          Ecuador                                 18      459        16\n",
      "          Egypt                                  254      125       100\n",
      "          El Salvador                              6      238         4\n",
      "          Estonia                                 10        6         9\n",
      "          Ethiopia                                55       38         8\n",
      "          Falkland Islands                         3        0         0\n",
      "          Faroe Islands                            0        0         2\n",
      "          Federated States of Micronesia           1        0         0\n",
      "          Fiji                                    10        1         3\n",
      "          Finland                                147      466        27\n",
      "          France                                 962     7767       418\n",
      "          Georgia                                550      105       103\n",
      "          Germany                               1606     6897       628\n",
      "          Ghana                                   30       47        44\n",
      "          Gibraltar                                1        0         2\n",
      "          Greece                                 183      424        32\n",
      "          Greenland                               19        3         4\n",
      "          Grenada                                  1        6         3\n",
      "          Guatemala                               53      132         8\n",
      "          Guinea                                   1        9         1\n",
      "          Guyana                                   2        1         3\n",
      "          Haiti                                    5       62         1\n",
      "          Honduras                                 3      264         3\n",
      "          Hong Kong                                1        6         0\n",
      "          Hungary                                  8       64         5\n",
      "          Iceland                                 44        7         3\n",
      "          India                                  876     5039      1042\n",
      "          Indonesia                               74      561        15\n",
      "          Iran                                   101      107        58\n",
      "          Iraq                                    16      104        16\n",
      "          Ireland                                730      218       175\n",
      "          Isle of Man                              0        1         0\n",
      "          Israel                                  59      185        50\n",
      "          Italy                                  456     4094       212\n",
      "          Jamaika                                 23       27         5\n",
      "          Japan                                   82      170        35\n",
      "          Jersey                                  54        8        11\n",
      "          Jordan                                   4        3         1\n",
      "          Kazakhstan                               3        2         2\n",
      "          Kenya                                  103      141        62\n",
      "          Kosovo                                   4       11         2\n",
      "          Kuwait                                   4       20        15\n",
      "          Laos                                     2        1         0\n",
      "          Latvia                                   8        6         1\n",
      "          Lebanon                                 55      276        56\n",
      "          Liberia                                 16       22         1\n",
      "          Libya                                    4       35         7\n",
      "          Liechtenstein                            0        2         0\n",
      "          Lithuania                               21        6        16\n",
      "          Luxembourg                               4       44         7\n",
      "          Malaysia                               304       70        16\n",
      "          Maldives                                 1        5         0\n",
      "          Malta                                   11       14         8\n",
      "          Mauritius                                0        2         0\n",
      "          Mexico                                 103     3329        83\n",
      "          Moldova                                  0        4         2\n",
      "          Monaco                                   5       19         3\n",
      "          Mongolia                                16       22        17\n",
      "          Montenegro                               0        3         0\n",
      "          Morocco                                 19       54         4\n",
      "          Myanmar                                  2        4         8\n",
      "          Namibia                                  0        1         2\n",
      "          Nepal                                   12       38        20\n",
      "          Netherlands                            264      697       101\n",
      "          New Zealand                            273       66        53\n",
      "          Nicaragua                                2       98         2\n",
      "          Niger                                    3        0         0\n",
      "          Nigeria                                239      329       327\n",
      "          North Korea                              0        2         0\n",
      "          North Macedonia                          1        5         1\n",
      "          Northern Mariana Islands                 0        0         1\n",
      "          Norway                                 196      190        53\n",
      "          Oman                                     1       17         7\n",
      "          Pakistan                               208     1115       311\n",
      "          Palestinian Territory                   25        5         2\n",
      "          Panama                                  16       22         5\n",
      "          Papua New Guinea                         8        4         5\n",
      "          Paraguay                                 1       51         4\n",
      "          Peru                                    39      448        19\n",
      "          Philippines                            156       54        42\n",
      "          Poland                                  15      113        14\n",
      "          Portugal                                75      195        24\n",
      "          Puerto Rico                              4        0         0\n",
      "          Qatar                                   12       49         4\n",
      "          Republic of the Congo                    0        0         1\n",
      "          Romania                                  6       26         3\n",
      "          Russia                                  66       94        21\n",
      "          Rwanda                                   4       14         5\n",
      "          Saint Kitts and Nevis                    5        0         0\n",
      "          Saudi Arabia                            47      114       113\n",
      "          Senegal                                  3       36         3\n",
      "          Serbia                                   7       42        12\n",
      "          Seychelles                               0        0         2\n",
      "          Sierra Leone                             1        6         0\n",
      "          Singapore                              161       77        40\n",
      "          Slovakia                                 5       22         1\n",
      "          Slovenia                                 6        3         1\n",
      "          Somalia                                  6       15         5\n",
      "          South Africa                           328      279       136\n",
      "          South Korea                             29       49        10\n",
      "          South Sudan                              1        0         1\n",
      "          Spain                                  249     1695       122\n",
      "          Sri Lanka                               12       84        23\n",
      "          Sudan                                    6       14         3\n",
      "          Suriname                                 3        1         0\n",
      "          Sweden                                 515      277        50\n",
      "          Switzerland                            112      561        49\n",
      "          Syria                                    8       13         3\n",
      "          Taiwan                                  17      106         3\n",
      "          Tajikistan                               1        0         0\n",
      "          Tanzania                                 5        7         3\n",
      "          Thailand                                77      143         9\n",
      "          The Bahamas                             10        7         0\n",
      "          The Gambia                               7        3         1\n",
      "          The Netherlands                        877     1157       225\n",
      "          Tonga                                    1        0         0\n",
      "          Trinidad and Tobago                     24        2         4\n",
      "          Tunisia                                 44       21        15\n",
      "          Turkey                                 107     2745       117\n",
      "          Turks and Caicos Islands                 1        0         0\n",
      "          US                                   56557    18982     11661\n",
      "          Uganda                                  24       21        17\n",
      "          Ukraine                                  9       21         7\n",
      "          United Arab Emirates                    74      277        78\n",
      "          United Kingdom                        8014     3156      1976\n",
      "          Uruguay                                 21       89         4\n",
      "          Uzbekistan                               1        0         1\n",
      "          Vatican City                             4        3         0\n",
      "          Venezuela                               33     1217        75\n",
      "          Vietnam                                 28       15         4\n",
      "          Yemen                                   29        8         2\n",
      "          Zambia                                   3        0         2\n",
      "          Zimbabwe                                 5        5         2\n"
     ]
    }
   ],
   "source": [
    "print(sentimentbyloc_counts)"
   ]
  },
  {
   "cell_type": "code",
   "execution_count": 228,
   "metadata": {},
   "outputs": [
    {
     "name": "stdout",
     "output_type": "stream",
     "text": [
      "                         candidate  positive\n",
      "candidate country                           \n",
      "biden     US                 biden     27424\n",
      "          United Kingdom     biden      4363\n",
      "          India              biden      4191\n",
      "          Canada             biden      1774\n",
      "          Germany            biden      1173\n",
      "          Pakistan           biden       938\n",
      "          Australia          biden       870\n",
      "          France             biden       831\n",
      "          Italy              biden       683\n",
      "          Ireland            biden       602\n",
      "trump     US                 trump     11661\n",
      "          United Kingdom     trump      1976\n",
      "          India              trump      1042\n",
      "          Canada             trump       677\n",
      "          Germany            trump       628\n",
      "          Australia          trump       470\n",
      "          France             trump       418\n",
      "          Nigeria            trump       327\n",
      "          Bangladesh         trump       312\n",
      "          Brazil             trump       311\n"
     ]
    }
   ],
   "source": [
    "# Group by candidate and get top 10 countries\n",
    "top_countries_by_candidate = (sentimentbyloc_counts['positive']\n",
    "                            .groupby('candidate')\n",
    "                            .nlargest(10)\n",
    "                            .reset_index(level=1))  # level=1 keeps country\n",
    "\n",
    "print(top_countries_by_candidate)"
   ]
  },
  {
   "cell_type": "code",
   "execution_count": 234,
   "metadata": {},
   "outputs": [
    {
     "data": {
      "image/png": "[encoded data removed]",
      "text/plain": [
       "<Figure size 1000x600 with 1 Axes>"
      ]
     },
     "metadata": {},
     "output_type": "display_data"
    },
    {
     "data": {
      "image/png": "[encoded data removed]",
      "text/plain": [
       "<Figure size 1000x600 with 1 Axes>"
      ]
     },
     "metadata": {},
     "output_type": "display_data"
    }
   ],
   "source": [
    "# Get data for each candidate\n",
    "biden_data = top_countries_by_candidate.loc['biden']\n",
    "trump_data = top_countries_by_candidate.loc['trump']\n",
    "\n",
    "# Plot for biden with blue bars\n",
    "plt.figure(figsize=(10, 6))\n",
    "plt.bar(biden_data.index, biden_data['positive'], color='blue')  # Blue for Biden\n",
    "plt.title('Top 10 Countries by Positive Sentiment for biden')\n",
    "plt.xlabel('Countries')\n",
    "plt.ylabel('Proportion of Positive Sentiment')\n",
    "plt.xticks(rotation=45, ha='right')\n",
    "plt.tight_layout()\n",
    "plt.show()\n",
    "\n",
    "# Plot for trump with red bars\n",
    "plt.figure(figsize=(10, 6))\n",
    "plt.bar(trump_data.index, trump_data['positive'], color='red')  # Red for Trump\n",
    "plt.title('Top 10 Countries by Positive Sentiment for trump')\n",
    "plt.xlabel('Countries')\n",
    "plt.ylabel('Proportion of Positive Sentiment')\n",
    "plt.xticks(rotation=45, ha='right')\n",
    "plt.tight_layout()\n",
    "plt.show()"
   ]
  }
 ],
 "metadata": {
  "kernelspec": {
   "display_name": "Python 3",
   "language": "python",
   "name": "python3"
  },
  "language_info": {
   "codemirror_mode": {
    "name": "ipython",
    "version": 3
   },
   "file_extension": ".py",
   "mimetype": "text/x-python",
   "name": "python",
   "nbconvert_exporter": "python",
   "pygments_lexer": "ipython3",
   "version": "3.11.4"
  }
 },
 "nbformat": 4,
 "nbformat_minor": 2
}
